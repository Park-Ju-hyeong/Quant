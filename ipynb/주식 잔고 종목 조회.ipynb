{
 "cells": [
  {
   "cell_type": "code",
   "execution_count": null,
   "metadata": {},
   "outputs": [],
   "source": [
    "\"\"\"\n",
    "type: 입력데이터종류\n",
    "0 - (string) 계좌번호\n",
    "1 - (string) 상품관리구분코드\n",
    "2 - (long) 요청건수[default:14] - 최대 50개\n",
    "3 - (string) 수익률구분코드 - ( \"1\" : 100% 기준, \"2\": 0% 기준)\n",
    "value: 새로지정할값\n",
    "value = object.GetHeaderValue(type)\n",
    "type에해당하는헤더데이터를반환합니다\n",
    "type: 데이터종류\n",
    "0 - (string) 계좌명\n",
    "1 - (long) 결제잔고수량\n",
    "2 - (long)체결잔고수량\n",
    "3 - (longlong)평가금액(단위:원)\n",
    "4 - (longlong)평가손익(단위:원)\n",
    "5 - 사용하지않음\n",
    "6 - (longlong)대출금액(단위:원)\n",
    "7 - (long) 수신개수\n",
    "8 - (double) 수익율\n",
    "9 - (longlong) D+2 예상예수금\n",
    "10 - (longlong) 대주평가금액\n",
    "11 - (longlong) 잔고평가금액\n",
    "12 - (longlong) 대주금액\n",
    "\n",
    "반환값: 데이터종류에해당하는값\n",
    "value = object.GetDataValue(Type,Index)\n",
    "type에해당하는데이터를반환합니다\n",
    "type: 데이터종류\n",
    "\n",
    "0 - (string) 종목명\n",
    "1 - (char)신용구분\n",
    "    코드\n",
    "    내용\n",
    "    'Y'\n",
    "    'D'\n",
    "    'B'\n",
    "    'M'\n",
    "    'P'\n",
    "    'I'\n",
    "    신용융자/유통융자\n",
    "    신용대주/유통대주\n",
    "    담보대출\n",
    "    매입담보대출\n",
    "    플러스론대출\n",
    "    자기융자/유통융자\n",
    "2 - (string) 대출일\n",
    "3 - (long)결제잔고수량\n",
    "4 - (long)결제장부단가\n",
    "5 - (long)전일체결수량\n",
    "6 - (long)금일체결수량\n",
    "7 - (long)체결잔고수량\n",
    "9 - (longlong)평가금액(단위:원) - 천원미만은내림\n",
    "10 - (longlong)평가손익(단위:원) - 천원미만은내림\n",
    "11 - (double)수익률\n",
    "12 - (string) 종목코드\n",
    "13 - (char)주문구분\n",
    "15 - (long)매도가능수량\n",
    "16 - (string) 만기일\n",
    "17 - (double) 체결장부단가\n",
    "18 - (longlong) 손익단가\n",
    "반환값: 데이터종류의 index번째 data\n",
    "object.BlockRequest()\n",
    "계좌별잔고및주문체결평가현황관련데이터요청.Blocking Mode\n",
    "\"\"\""
   ]
  },
  {
   "cell_type": "code",
   "execution_count": null,
   "metadata": {},
   "outputs": [],
   "source": [
    "import sys\n",
    "from PyQt5.QtWidgets import *\n",
    "import win32com.client"
   ]
  },
  {
   "cell_type": "code",
   "execution_count": null,
   "metadata": {},
   "outputs": [],
   "source": [
    "# 설명: 주식 계좌잔고 종목(최대 200개)을 가져와 현재가  실시간 조회하는 샘플\n",
    "# CpEvent: 실시간 현재가 수신 클래스\n",
    "# CpStockCur : 현재가 실시간 통신 클래스\n",
    "# Cp6033 : 주식 잔고 조회\n",
    "# CpMarketEye: 복수 종목 조회 서비스 - 200 종목 현재가를 조회 함."
   ]
  },
  {
   "cell_type": "code",
   "execution_count": null,
   "metadata": {},
   "outputs": [],
   "source": [
    "# Cp6033 : 주식 잔고 조회\n",
    "class Cp6033:\n",
    "    def __init__(self):\n",
    "        # 통신 OBJECT 기본 세팅\n",
    "        self.objTrade = win32com.client.Dispatch(\"CpTrade.CpTdUtil\")\n",
    "        initCheck = self.objTrade.TradeInit(0)\n",
    "        if (initCheck != 0):\n",
    "            print(\"주문 초기화 실패\")\n",
    "            return\n",
    " \n",
    "        acc = self.objTrade.AccountNumber[0]  # 계좌번호\n",
    "        accFlag = self.objTrade.GoodsList(acc, 1)  # 주식상품 구분\n",
    "        print(acc, accFlag[0])\n",
    " \n",
    "        self.objRq = win32com.client.Dispatch(\"CpTrade.CpTd6033\")\n",
    "        self.objRq.SetInputValue(0, acc)  # 계좌번호\n",
    "        self.objRq.SetInputValue(1, accFlag[0])  # 상품구분 - 주식 상품 중 첫번째\n",
    "        self.objRq.SetInputValue(2, 50)  #  요청 건수(최대 50)\n",
    " \n",
    "    # 실제적인 6033 통신 처리\n",
    "    def rq6033(self, retcode):\n",
    "        self.objRq.BlockRequest()\n",
    " \n",
    "        # 통신 및 통신 에러 처리\n",
    "        rqStatus = self.objRq.GetDibStatus()\n",
    "        rqRet = self.objRq.GetDibMsg1()\n",
    "        print(\"통신상태\", rqStatus, rqRet)\n",
    "        if rqStatus != 0:\n",
    "            return False\n",
    "     \n",
    "    \n",
    "        # 종목 개수\n",
    "        vrrd = self.objRq.GetHeaderValue(3)\n",
    "        vrtd = self.objRq.GetHeaderValue(4)\n",
    "        cnt = self.objRq.GetHeaderValue(7)\n",
    "        tdf = self.objRq.GetHeaderValue(8)\n",
    "        \n",
    "        print(\"평가금액 : {} \\t 평가손익 : {} \\t 수익률 : {}\".format(vrrd, vrtd, tdf))\n",
    "    \n",
    "        asdf = []\n",
    "         \n",
    "        for i in range(cnt):\n",
    "        \n",
    "            name = self.objRq.GetDataValue(0, i)  # 종목명\n",
    "            cashFlag = self.objRq.GetDataValue(1, i)  # 신용구분\n",
    "            date = self.objRq.GetDataValue(2, i)  # 대출일\n",
    "            amount = self.objRq.GetDataValue(7, i) # 체결잔고수량\n",
    "            evalValue = self.objRq.GetDataValue(9, i) # 평가금액(천원미만은 절사 됨)\n",
    "            evalPerc = self.objRq.GetDataValue(11, i) # 평가손익\n",
    "            code = self.objRq.GetDataValue(12, i)  # 종목코드\n",
    "            buyPrice = self.objRq.GetDataValue(17, i) # 체결장부단가\n",
    "            \n",
    "            asdf.append([code, name, cashFlag, amount, buyPrice, evalValue, evalPerc])\n",
    "            retcode.append(code)\n",
    "    \n",
    "        return asdf\n",
    " \n",
    "    def Request(self, retCode):\n",
    "        \n",
    "        return self.rq6033(retCode)"
   ]
  },
  {
   "cell_type": "code",
   "execution_count": null,
   "metadata": {},
   "outputs": [],
   "source": [
    "codes = []\n",
    "obj6033 = Cp6033()\n",
    "tmp = obj6033.Request(codes)"
   ]
  },
  {
   "cell_type": "code",
   "execution_count": null,
   "metadata": {},
   "outputs": [],
   "source": [
    "import pandas as pd"
   ]
  },
  {
   "cell_type": "code",
   "execution_count": null,
   "metadata": {},
   "outputs": [],
   "source": [
    "DF = pd.DataFrame(tmp)\n",
    "DF.columns = \"종목코드 종목명 신용구분 체결잔고수량 체결장부단가 평가금액 평가손익\".split(\" \")"
   ]
  },
  {
   "cell_type": "code",
   "execution_count": null,
   "metadata": {},
   "outputs": [],
   "source": [
    "DF"
   ]
  }
 ],
 "metadata": {
  "kernelspec": {
   "display_name": "Python 3",
   "language": "python",
   "name": "python3"
  },
  "language_info": {
   "codemirror_mode": {
    "name": "ipython",
    "version": 3
   },
   "file_extension": ".py",
   "mimetype": "text/x-python",
   "name": "python",
   "nbconvert_exporter": "python",
   "pygments_lexer": "ipython3",
   "version": "3.7.4"
  }
 },
 "nbformat": 4,
 "nbformat_minor": 2
}
