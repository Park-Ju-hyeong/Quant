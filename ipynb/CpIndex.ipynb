{
 "cells": [
  {
   "cell_type": "code",
   "execution_count": 1,
   "metadata": {},
   "outputs": [],
   "source": [
    "import codecs\n",
    "import ctypes\n",
    "import os\n",
    "import subprocess\n",
    "import pandas as pd"
   ]
  },
  {
   "cell_type": "code",
   "execution_count": 2,
   "metadata": {},
   "outputs": [],
   "source": [
    "from tqdm import tqdm"
   ]
  },
  {
   "cell_type": "code",
   "execution_count": 3,
   "metadata": {},
   "outputs": [],
   "source": [
    "import codecs\n",
    "import time\n",
    "import logging, logging.config\n",
    "from datetime import datetime, timedelta"
   ]
  },
  {
   "cell_type": "code",
   "execution_count": 4,
   "metadata": {},
   "outputs": [],
   "source": [
    "import subprocess\n",
    "import time\n",
    "import win32com.client\n",
    "import pandas as pd"
   ]
  },
  {
   "cell_type": "code",
   "execution_count": 5,
   "metadata": {},
   "outputs": [],
   "source": [
    "import numpy as np\n",
    "import pandas as pd"
   ]
  },
  {
   "cell_type": "code",
   "execution_count": 6,
   "metadata": {},
   "outputs": [],
   "source": [
    "objCpCybos = win32com.client.Dispatch(\"CpUtil.CpCybos\")\n",
    "objStockOrder = win32com.client.Dispatch(\"CpTrade.CpTd0311\")\n",
    "objTrade =  win32com.client.Dispatch(\"CpTrade.CpTdUtil\")\n",
    "objRq = win32com.client.Dispatch(\"CpTrade.CpTd6033\")\n",
    "objTdNew = win32com.client.Dispatch('CpTrade.CpTdNew5331A') "
   ]
  },
  {
   "cell_type": "code",
   "execution_count": 7,
   "metadata": {},
   "outputs": [],
   "source": [
    "objSeries = win32com.client.Dispatch(\"CpIndexes.CpSeries\")\n",
    "objIndex = win32com.client.Dispatch(\"CpIndexes.CpIndex\")"
   ]
  },
  {
   "cell_type": "code",
   "execution_count": 8,
   "metadata": {},
   "outputs": [
    {
     "data": {
      "text/plain": [
       "'\\n0 - 가격지표\\n1 - 대신개발지표\\n2 - 추세지표\\n3 - 변동성지표\\n4 - 거래량지표\\n5 - 기간활용지표\\n6 - 투자자별지표\\n'"
      ]
     },
     "execution_count": 8,
     "metadata": {},
     "output_type": "execute_result"
    }
   ],
   "source": [
    "\"\"\"\n",
    "0 - 가격지표\n",
    "1 - 대신개발지표\n",
    "2 - 추세지표\n",
    "3 - 변동성지표\n",
    "4 - 거래량지표\n",
    "5 - 기간활용지표\n",
    "6 - 투자자별지표\n",
    "\"\"\""
   ]
  },
  {
   "cell_type": "code",
   "execution_count": 9,
   "metadata": {
    "scrolled": true
   },
   "outputs": [
    {
     "data": {
      "text/plain": [
       "('Binary Wave MACD',\n",
       " 'BPDL Hilo Index',\n",
       " 'BPDL Short Trend',\n",
       " 'BPDL Trend Filter',\n",
       " 'CCI',\n",
       " 'Elder-Ray',\n",
       " 'MACD',\n",
       " 'MACD(DEMA)',\n",
       " 'MACD(TEMA)',\n",
       " 'MACD Oscillator',\n",
       " 'MAO',\n",
       " 'McCellan Oscillator',\n",
       " 'McCellan Summation',\n",
       " 'Momentum',\n",
       " 'North Price Action Line',\n",
       " 'On Balance Price',\n",
       " 'Price Change Line',\n",
       " 'Price ROC',\n",
       " 'Relative Momentum Index',\n",
       " 'Relative Vigor Indicator',\n",
       " 'Slope of Price',\n",
       " 'Smoothed ROC',\n",
       " 'SONAR',\n",
       " 'TRIX',\n",
       " 'TSF',\n",
       " 'TSI',\n",
       " 'Ultimate Oscillator',\n",
       " 'Velocith Index',\n",
       " 'Williams Accumulation Distribution')"
      ]
     },
     "execution_count": 9,
     "metadata": {},
     "output_type": "execute_result"
    }
   ],
   "source": [
    "objIndex.GetChartIndexCodeListByIndex(2)"
   ]
  },
  {
   "cell_type": "code",
   "execution_count": 10,
   "metadata": {},
   "outputs": [],
   "source": [
    "IndexList = [\n",
    "#     '이격도',\n",
    "    'AB Ratio',\n",
    "#     'ADX',\n",
    "#     'ADXR',\n",
    "    'Aroon',\n",
    "    'Aroon Osillator',\n",
    "    'ATR',\n",
    "    'BB-RSI',\n",
    "    'BPDL RSI',\n",
    "    'BPDL Stochatic',\n",
    "    'Chande Momentum Oscillator',\n",
    "    \"Chaikin's Volatility\",\n",
    "    'CompuTrac Volatility',\n",
    "    'DMI',\n",
    "    'DMI(simple)',\n",
    "    'Energy',\n",
    "    'High Low Envelope',\n",
    "    'High Low Oscillator',\n",
    "    'Inertia',\n",
    "    'Klinger Oscillator',\n",
    "    'Linear Trend Oscillator',\n",
    "    'LRS',\n",
    "    'Mass Index',\n",
    "    'Morris Mixed Momentum',\n",
    "    'New BPDL HiLo Index MA',\n",
    "    'Open Difference',\n",
    "    'QStick',\n",
    "    'Random Walk Index',\n",
    "    'RCI',\n",
    "    'Relative Volatility Index',\n",
    "    'Reverse',\n",
    "    'RSI',\n",
    "    'RSI(simple)',\n",
    "#     'RSI(stochastic)',\n",
    "    'R-Squared',\n",
    "    'Sigma',\n",
    "    'SMI',\n",
    "    'Standard Deviation',\n",
    "    'Standard Error',\n",
    "    'Stochastic Fast',\n",
    "    'Stochastic Slow',\n",
    "    'Stochastic(simple)',\n",
    "    'Stochastic Oscillator',\n",
    "    'TRIX기울기',\n",
    "    'True Range',\n",
    "    'TSF Oscillator',\n",
    "    'VHF',\n",
    "    \"CCI\"\n",
    "]"
   ]
  },
  {
   "cell_type": "code",
   "execution_count": 11,
   "metadata": {},
   "outputs": [],
   "source": [
    "data = pd.read_table(\"/Users/jooh8/Documents/GitHub/Quant/data/A005930/DAY_A005930.txt\", delimiter=\" \")"
   ]
  },
  {
   "cell_type": "code",
   "execution_count": 12,
   "metadata": {
    "scrolled": true
   },
   "outputs": [],
   "source": [
    "tolist = data[\"종가 시가 고가 저가 거래량\".split(\" \")].values.tolist()"
   ]
  },
  {
   "cell_type": "code",
   "execution_count": 13,
   "metadata": {},
   "outputs": [
    {
     "name": "stdout",
     "output_type": "stream",
     "text": [
      "10594\n"
     ]
    }
   ],
   "source": [
    "print(len(tolist))"
   ]
  },
  {
   "cell_type": "code",
   "execution_count": 14,
   "metadata": {},
   "outputs": [],
   "source": [
    "for close, open, high, low, vol in tolist:\n",
    "\n",
    "    objSeries.Add(close, open, high, low, vol)\n",
    "    \n",
    "objIndex.series = objSeries"
   ]
  },
  {
   "cell_type": "code",
   "execution_count": 15,
   "metadata": {
    "scrolled": true
   },
   "outputs": [
    {
     "name": "stderr",
     "output_type": "stream",
     "text": [
      "\r",
      "  0%|                                                                                           | 0/44 [00:00<?, ?it/s]"
     ]
    },
    {
     "name": "stdout",
     "output_type": "stream",
     "text": [
      "AB Ratio\n",
      "################################################################################\n"
     ]
    },
    {
     "name": "stderr",
     "output_type": "stream",
     "text": [
      "\r",
      "  2%|█▉                                                                                 | 1/44 [00:00<00:05,  7.52it/s]"
     ]
    },
    {
     "name": "stdout",
     "output_type": "stream",
     "text": [
      "Aroon\n",
      "################################################################################\n"
     ]
    },
    {
     "name": "stderr",
     "output_type": "stream",
     "text": [
      "\r",
      "  5%|███▊                                                                               | 2/44 [00:00<00:05,  7.74it/s]"
     ]
    },
    {
     "name": "stdout",
     "output_type": "stream",
     "text": [
      "Aroon Osillator\n",
      "################################################################################\n",
      "ATR\n",
      "################################################################################\n"
     ]
    },
    {
     "name": "stderr",
     "output_type": "stream",
     "text": [
      "\r",
      "  9%|███████▌                                                                           | 4/44 [00:00<00:04,  8.19it/s]"
     ]
    },
    {
     "name": "stdout",
     "output_type": "stream",
     "text": [
      "BB-RSI\n",
      "################################################################################\n"
     ]
    },
    {
     "name": "stderr",
     "output_type": "stream",
     "text": [
      "\r",
      " 11%|█████████▍                                                                         | 5/44 [00:00<00:05,  7.61it/s]"
     ]
    },
    {
     "name": "stdout",
     "output_type": "stream",
     "text": [
      "BPDL RSI\n",
      "################################################################################\n"
     ]
    },
    {
     "name": "stderr",
     "output_type": "stream",
     "text": [
      "\r",
      " 14%|███████████▎                                                                       | 6/44 [00:00<00:04,  7.80it/s]"
     ]
    },
    {
     "name": "stdout",
     "output_type": "stream",
     "text": [
      "BPDL Stochatic\n",
      "################################################################################\n"
     ]
    },
    {
     "name": "stderr",
     "output_type": "stream",
     "text": [
      "\r",
      " 16%|█████████████▏                                                                     | 7/44 [00:00<00:04,  7.91it/s]"
     ]
    },
    {
     "name": "stdout",
     "output_type": "stream",
     "text": [
      "Chande Momentum Oscillator\n",
      "################################################################################\n",
      "Chaikin's Volatility\n",
      "################################################################################\n"
     ]
    },
    {
     "name": "stderr",
     "output_type": "stream",
     "text": [
      "\r",
      " 20%|████████████████▉                                                                  | 9/44 [00:01<00:04,  8.71it/s]"
     ]
    },
    {
     "name": "stdout",
     "output_type": "stream",
     "text": [
      "CompuTrac Volatility\n",
      "################################################################################\n",
      "DMI\n",
      "################################################################################\n"
     ]
    },
    {
     "name": "stderr",
     "output_type": "stream",
     "text": [
      "\r",
      " 25%|████████████████████▌                                                             | 11/44 [00:01<00:04,  8.20it/s]"
     ]
    },
    {
     "name": "stdout",
     "output_type": "stream",
     "text": [
      "DMI(simple)\n",
      "################################################################################\n"
     ]
    },
    {
     "name": "stderr",
     "output_type": "stream",
     "text": [
      "\r",
      " 27%|██████████████████████▎                                                           | 12/44 [00:01<00:04,  7.05it/s]"
     ]
    },
    {
     "name": "stdout",
     "output_type": "stream",
     "text": [
      "Energy\n",
      "################################################################################\n"
     ]
    },
    {
     "name": "stderr",
     "output_type": "stream",
     "text": [
      "\r",
      " 30%|████████████████████████▏                                                         | 13/44 [00:01<00:04,  7.41it/s]"
     ]
    },
    {
     "name": "stdout",
     "output_type": "stream",
     "text": [
      "High Low Envelope\n",
      "################################################################################\n",
      "High Low Oscillator\n",
      "################################################################################\n"
     ]
    },
    {
     "name": "stderr",
     "output_type": "stream",
     "text": [
      "\r",
      " 34%|███████████████████████████▉                                                      | 15/44 [00:01<00:03,  8.26it/s]"
     ]
    },
    {
     "name": "stdout",
     "output_type": "stream",
     "text": [
      "Inertia\n",
      "################################################################################\n"
     ]
    },
    {
     "name": "stderr",
     "output_type": "stream",
     "text": [
      "\r",
      " 36%|█████████████████████████████▊                                                    | 16/44 [00:01<00:03,  8.14it/s]"
     ]
    },
    {
     "name": "stdout",
     "output_type": "stream",
     "text": [
      "Klinger Oscillator\n",
      "################################################################################\n"
     ]
    },
    {
     "name": "stderr",
     "output_type": "stream",
     "text": [
      "\r",
      " 39%|███████████████████████████████▋                                                  | 17/44 [00:02<00:03,  8.14it/s]"
     ]
    },
    {
     "name": "stdout",
     "output_type": "stream",
     "text": [
      "Linear Trend Oscillator\n",
      "################################################################################\n",
      "LRS\n",
      "################################################################################\n"
     ]
    },
    {
     "name": "stderr",
     "output_type": "stream",
     "text": [
      "\r",
      " 43%|███████████████████████████████████▍                                              | 19/44 [00:02<00:02,  8.50it/s]"
     ]
    },
    {
     "name": "stdout",
     "output_type": "stream",
     "text": [
      "Mass Index\n",
      "################################################################################\n"
     ]
    },
    {
     "name": "stderr",
     "output_type": "stream",
     "text": [
      "\r",
      " 45%|█████████████████████████████████████▎                                            | 20/44 [00:02<00:02,  8.43it/s]"
     ]
    },
    {
     "name": "stdout",
     "output_type": "stream",
     "text": [
      "Morris Mixed Momentum\n",
      "################################################################################\n",
      "New BPDL HiLo Index MA\n",
      "################################################################################\n"
     ]
    },
    {
     "name": "stderr",
     "output_type": "stream",
     "text": [
      "\r",
      " 50%|█████████████████████████████████████████                                         | 22/44 [00:02<00:02,  9.13it/s]"
     ]
    },
    {
     "name": "stdout",
     "output_type": "stream",
     "text": [
      "Open Difference\n",
      "################################################################################\n",
      "QStick\n",
      "################################################################################\n"
     ]
    },
    {
     "name": "stderr",
     "output_type": "stream",
     "text": [
      "\r",
      " 55%|████████████████████████████████████████████▋                                     | 24/44 [00:02<00:02,  9.23it/s]"
     ]
    },
    {
     "name": "stdout",
     "output_type": "stream",
     "text": [
      "Random Walk Index\n",
      "################################################################################\n",
      "RCI\n",
      "################################################################################\n"
     ]
    },
    {
     "name": "stderr",
     "output_type": "stream",
     "text": [
      "\r",
      " 59%|████████████████████████████████████████████████▍                                 | 26/44 [00:03<00:02,  7.99it/s]"
     ]
    },
    {
     "name": "stdout",
     "output_type": "stream",
     "text": [
      "Relative Volatility Index\n",
      "################################################################################\n"
     ]
    },
    {
     "name": "stderr",
     "output_type": "stream",
     "text": [
      "\r",
      " 61%|██████████████████████████████████████████████████▎                               | 27/44 [00:03<00:02,  7.99it/s]"
     ]
    },
    {
     "name": "stdout",
     "output_type": "stream",
     "text": [
      "Reverse\n",
      "################################################################################\n"
     ]
    },
    {
     "name": "stderr",
     "output_type": "stream",
     "text": [
      "\r",
      " 64%|████████████████████████████████████████████████████▏                             | 28/44 [00:03<00:01,  8.05it/s]"
     ]
    },
    {
     "name": "stdout",
     "output_type": "stream",
     "text": [
      "RSI\n",
      "################################################################################\n"
     ]
    },
    {
     "name": "stderr",
     "output_type": "stream",
     "text": [
      "\r",
      " 66%|██████████████████████████████████████████████████████                            | 29/44 [00:03<00:01,  8.13it/s]"
     ]
    },
    {
     "name": "stdout",
     "output_type": "stream",
     "text": [
      "RSI(simple)\n",
      "################################################################################\n"
     ]
    },
    {
     "name": "stderr",
     "output_type": "stream",
     "text": [
      "\r",
      " 68%|███████████████████████████████████████████████████████▉                          | 30/44 [00:03<00:01,  8.19it/s]"
     ]
    },
    {
     "name": "stdout",
     "output_type": "stream",
     "text": [
      "R-Squared\n",
      "################################################################################\n",
      "Sigma\n",
      "################################################################################\n"
     ]
    },
    {
     "name": "stderr",
     "output_type": "stream",
     "text": [
      "\r",
      " 73%|███████████████████████████████████████████████████████████▋                      | 32/44 [00:03<00:01,  8.85it/s]"
     ]
    },
    {
     "name": "stdout",
     "output_type": "stream",
     "text": [
      "SMI\n",
      "################################################################################\n"
     ]
    },
    {
     "name": "stderr",
     "output_type": "stream",
     "text": [
      "\r",
      " 75%|█████████████████████████████████████████████████████████████▌                    | 33/44 [00:03<00:01,  8.66it/s]"
     ]
    },
    {
     "name": "stdout",
     "output_type": "stream",
     "text": [
      "Standard Deviation\n",
      "################################################################################\n"
     ]
    },
    {
     "name": "stderr",
     "output_type": "stream",
     "text": [
      "\r",
      " 77%|███████████████████████████████████████████████████████████████▎                  | 34/44 [00:04<00:01,  8.43it/s]"
     ]
    },
    {
     "name": "stdout",
     "output_type": "stream",
     "text": [
      "Standard Error\n",
      "################################################################################\n"
     ]
    },
    {
     "name": "stderr",
     "output_type": "stream",
     "text": [
      "\r",
      " 80%|█████████████████████████████████████████████████████████████████▏                | 35/44 [00:04<00:01,  8.34it/s]"
     ]
    },
    {
     "name": "stdout",
     "output_type": "stream",
     "text": [
      "Stochastic Fast\n",
      "################################################################################\n"
     ]
    },
    {
     "name": "stderr",
     "output_type": "stream",
     "text": [
      "\r",
      " 82%|███████████████████████████████████████████████████████████████████               | 36/44 [00:04<00:00,  8.36it/s]"
     ]
    },
    {
     "name": "stdout",
     "output_type": "stream",
     "text": [
      "Stochastic Slow\n",
      "################################################################################\n"
     ]
    },
    {
     "name": "stderr",
     "output_type": "stream",
     "text": [
      "\r",
      " 84%|████████████████████████████████████████████████████████████████████▉             | 37/44 [00:04<00:00,  8.37it/s]"
     ]
    },
    {
     "name": "stdout",
     "output_type": "stream",
     "text": [
      "Stochastic(simple)\n",
      "################################################################################\n"
     ]
    },
    {
     "name": "stderr",
     "output_type": "stream",
     "text": [
      "\r",
      " 86%|██████████████████████████████████████████████████████████████████████▊           | 38/44 [00:04<00:00,  8.34it/s]"
     ]
    },
    {
     "name": "stdout",
     "output_type": "stream",
     "text": [
      "Stochastic Oscillator\n",
      "################################################################################\n",
      "TRIX기울기\n",
      "################################################################################\n"
     ]
    },
    {
     "name": "stderr",
     "output_type": "stream",
     "text": [
      "\r",
      " 91%|██████████████████████████████████████████████████████████████████████████▌       | 40/44 [00:04<00:00,  8.68it/s]"
     ]
    },
    {
     "name": "stdout",
     "output_type": "stream",
     "text": [
      "True Range\n",
      "################################################################################\n",
      "TSF Oscillator\n",
      "################################################################################\n"
     ]
    },
    {
     "name": "stderr",
     "output_type": "stream",
     "text": [
      "\r",
      " 95%|██████████████████████████████████████████████████████████████████████████████▎   | 42/44 [00:04<00:00,  9.36it/s]"
     ]
    },
    {
     "name": "stdout",
     "output_type": "stream",
     "text": [
      "VHF\n",
      "################################################################################\n"
     ]
    },
    {
     "name": "stderr",
     "output_type": "stream",
     "text": [
      "\r",
      " 98%|████████████████████████████████████████████████████████████████████████████████▏ | 43/44 [00:05<00:00,  8.95it/s]"
     ]
    },
    {
     "name": "stdout",
     "output_type": "stream",
     "text": [
      "CCI\n",
      "################################################################################\n"
     ]
    },
    {
     "name": "stderr",
     "output_type": "stream",
     "text": [
      "100%|██████████████████████████████████████████████████████████████████████████████████| 44/44 [00:05<00:00,  8.30it/s]\n"
     ]
    }
   ],
   "source": [
    "for INDEXNAME in tqdm(IndexList):\n",
    "    \n",
    "    print(INDEXNAME)\n",
    "    print(\"#\"*80)\n",
    "    \n",
    "    objIndex.put_IndexKind(INDEXNAME)     # 계산할 지표: MACD\n",
    "    objIndex.put_IndexDefault(INDEXNAME)  # MACD 지표 기본 변수 자동 세팅\n",
    "\n",
    "    indexID = objIndex.GetChartIndexByName(INDEXNAME)\n",
    "    indexName = objIndex.GetLineResults(indexID)\n",
    "\n",
    "    # print(indexID)\n",
    "    # print(indexName)\n",
    "    # print(objIndex.get_Term1(), objIndex.get_Term2(), objIndex.get_Signal())\n",
    "\n",
    "    # 지표 데이터 계산 하기\n",
    "    objIndex.Calculate()\n",
    "    cntofIndex = objIndex.ItemCount\n",
    "\n",
    "    # print(cntofIndex)\n",
    "\n",
    "    creonIndex = {}\n",
    "    for index in range(cntofIndex):\n",
    "        cnt = objIndex.GetCount(index)\n",
    "        creonIndex[indexName[index]] = []\n",
    "        for j in range(cnt) :\n",
    "            value = objIndex.GetResult(index, j)\n",
    "            creonIndex[indexName[index]].append(value)\n",
    "\n",
    "    for k, v in creonIndex.items():\n",
    "        data[k] = v"
   ]
  },
  {
   "cell_type": "code",
   "execution_count": 16,
   "metadata": {},
   "outputs": [],
   "source": [
    "columns = [i for i in data.columns if \"Signal\" not in i]"
   ]
  },
  {
   "cell_type": "code",
   "execution_count": 17,
   "metadata": {},
   "outputs": [],
   "source": [
    "data = data[columns]"
   ]
  },
  {
   "cell_type": "code",
   "execution_count": 18,
   "metadata": {},
   "outputs": [
    {
     "data": {
      "text/html": [
       "<div>\n",
       "<style scoped>\n",
       "    .dataframe tbody tr th:only-of-type {\n",
       "        vertical-align: middle;\n",
       "    }\n",
       "\n",
       "    .dataframe tbody tr th {\n",
       "        vertical-align: top;\n",
       "    }\n",
       "\n",
       "    .dataframe thead th {\n",
       "        text-align: right;\n",
       "    }\n",
       "</style>\n",
       "<table border=\"1\" class=\"dataframe\">\n",
       "  <thead>\n",
       "    <tr style=\"text-align: right;\">\n",
       "      <th></th>\n",
       "      <th>날짜</th>\n",
       "      <th>시가</th>\n",
       "      <th>고가</th>\n",
       "      <th>저가</th>\n",
       "      <th>종가</th>\n",
       "      <th>거래량</th>\n",
       "      <th>거래대금</th>\n",
       "      <th>상장주식수</th>\n",
       "      <th>시가총액</th>\n",
       "      <th>외국인현보유수량</th>\n",
       "      <th>...</th>\n",
       "      <th>Slow %K_5,3</th>\n",
       "      <th>Slow %D_3</th>\n",
       "      <th>Slow(Simple) %K_5,3</th>\n",
       "      <th>Slow(Simple) %D_3</th>\n",
       "      <th>StochOsc_5,3</th>\n",
       "      <th>TRIX기울기_종가,14</th>\n",
       "      <th>True Range</th>\n",
       "      <th>TSF Oscillator_종가,14,28</th>\n",
       "      <th>VHF_14</th>\n",
       "      <th>CCI_14</th>\n",
       "    </tr>\n",
       "  </thead>\n",
       "  <tbody>\n",
       "    <tr>\n",
       "      <th>10589</th>\n",
       "      <td>20190509</td>\n",
       "      <td>43900</td>\n",
       "      <td>44250</td>\n",
       "      <td>42450</td>\n",
       "      <td>42450</td>\n",
       "      <td>23029718</td>\n",
       "      <td>993612000000</td>\n",
       "      <td>5969782000</td>\n",
       "      <td>253417245000000</td>\n",
       "      <td>3417828</td>\n",
       "      <td>...</td>\n",
       "      <td>6.493506</td>\n",
       "      <td>31.986130</td>\n",
       "      <td>12.274955</td>\n",
       "      <td>26.879208</td>\n",
       "      <td>-8.688388</td>\n",
       "      <td>-0.025350</td>\n",
       "      <td>1800.0</td>\n",
       "      <td>-435.012210</td>\n",
       "      <td>0.474359</td>\n",
       "      <td>-220.025349</td>\n",
       "    </tr>\n",
       "    <tr>\n",
       "      <th>10590</th>\n",
       "      <td>20190510</td>\n",
       "      <td>42600</td>\n",
       "      <td>43450</td>\n",
       "      <td>42450</td>\n",
       "      <td>42900</td>\n",
       "      <td>14579512</td>\n",
       "      <td>624673000000</td>\n",
       "      <td>5969782000</td>\n",
       "      <td>256103671000000</td>\n",
       "      <td>3415182</td>\n",
       "      <td>...</td>\n",
       "      <td>5.319149</td>\n",
       "      <td>14.193962</td>\n",
       "      <td>12.387477</td>\n",
       "      <td>19.633343</td>\n",
       "      <td>7.539683</td>\n",
       "      <td>-0.029019</td>\n",
       "      <td>1000.0</td>\n",
       "      <td>-451.892552</td>\n",
       "      <td>0.544118</td>\n",
       "      <td>-183.472920</td>\n",
       "    </tr>\n",
       "    <tr>\n",
       "      <th>10591</th>\n",
       "      <td>20190513</td>\n",
       "      <td>42500</td>\n",
       "      <td>43200</td>\n",
       "      <td>42350</td>\n",
       "      <td>42650</td>\n",
       "      <td>7635079</td>\n",
       "      <td>326874000000</td>\n",
       "      <td>5969782000</td>\n",
       "      <td>254611225000000</td>\n",
       "      <td>3414755</td>\n",
       "      <td>...</td>\n",
       "      <td>7.317073</td>\n",
       "      <td>6.376576</td>\n",
       "      <td>11.278484</td>\n",
       "      <td>15.455913</td>\n",
       "      <td>2.612994</td>\n",
       "      <td>-0.031157</td>\n",
       "      <td>850.0</td>\n",
       "      <td>-513.858364</td>\n",
       "      <td>0.548148</td>\n",
       "      <td>-155.871597</td>\n",
       "    </tr>\n",
       "    <tr>\n",
       "      <th>10592</th>\n",
       "      <td>20190514</td>\n",
       "      <td>41300</td>\n",
       "      <td>43100</td>\n",
       "      <td>41300</td>\n",
       "      <td>42650</td>\n",
       "      <td>11563730</td>\n",
       "      <td>491110000000</td>\n",
       "      <td>5969782000</td>\n",
       "      <td>254611225000000</td>\n",
       "      <td>3412493</td>\n",
       "      <td>...</td>\n",
       "      <td>20.792079</td>\n",
       "      <td>11.142767</td>\n",
       "      <td>24.653327</td>\n",
       "      <td>20.054620</td>\n",
       "      <td>17.795616</td>\n",
       "      <td>-0.030837</td>\n",
       "      <td>1800.0</td>\n",
       "      <td>-554.273504</td>\n",
       "      <td>0.552239</td>\n",
       "      <td>-144.463768</td>\n",
       "    </tr>\n",
       "    <tr>\n",
       "      <th>10593</th>\n",
       "      <td>20190515</td>\n",
       "      <td>42700</td>\n",
       "      <td>43050</td>\n",
       "      <td>42550</td>\n",
       "      <td>42550</td>\n",
       "      <td>7670185</td>\n",
       "      <td>327974000000</td>\n",
       "      <td>5969782000</td>\n",
       "      <td>254014247000000</td>\n",
       "      <td>3411551</td>\n",
       "      <td>...</td>\n",
       "      <td>30.687831</td>\n",
       "      <td>19.598994</td>\n",
       "      <td>33.513104</td>\n",
       "      <td>26.783862</td>\n",
       "      <td>12.182701</td>\n",
       "      <td>-0.029388</td>\n",
       "      <td>500.0</td>\n",
       "      <td>-638.400488</td>\n",
       "      <td>0.556391</td>\n",
       "      <td>-95.769251</td>\n",
       "    </tr>\n",
       "  </tbody>\n",
       "</table>\n",
       "<p>5 rows × 72 columns</p>\n",
       "</div>"
      ],
      "text/plain": [
       "             날짜     시가     고가     저가     종가       거래량          거래대금  \\\n",
       "10589  20190509  43900  44250  42450  42450  23029718  993612000000   \n",
       "10590  20190510  42600  43450  42450  42900  14579512  624673000000   \n",
       "10591  20190513  42500  43200  42350  42650   7635079  326874000000   \n",
       "10592  20190514  41300  43100  41300  42650  11563730  491110000000   \n",
       "10593  20190515  42700  43050  42550  42550   7670185  327974000000   \n",
       "\n",
       "            상장주식수             시가총액  외국인현보유수량     ...      Slow %K_5,3  \\\n",
       "10589  5969782000  253417245000000   3417828     ...         6.493506   \n",
       "10590  5969782000  256103671000000   3415182     ...         5.319149   \n",
       "10591  5969782000  254611225000000   3414755     ...         7.317073   \n",
       "10592  5969782000  254611225000000   3412493     ...        20.792079   \n",
       "10593  5969782000  254014247000000   3411551     ...        30.687831   \n",
       "\n",
       "       Slow %D_3  Slow(Simple) %K_5,3  Slow(Simple) %D_3  StochOsc_5,3  \\\n",
       "10589  31.986130            12.274955          26.879208     -8.688388   \n",
       "10590  14.193962            12.387477          19.633343      7.539683   \n",
       "10591   6.376576            11.278484          15.455913      2.612994   \n",
       "10592  11.142767            24.653327          20.054620     17.795616   \n",
       "10593  19.598994            33.513104          26.783862     12.182701   \n",
       "\n",
       "       TRIX기울기_종가,14  True Range  TSF Oscillator_종가,14,28    VHF_14  \\\n",
       "10589      -0.025350      1800.0              -435.012210  0.474359   \n",
       "10590      -0.029019      1000.0              -451.892552  0.544118   \n",
       "10591      -0.031157       850.0              -513.858364  0.548148   \n",
       "10592      -0.030837      1800.0              -554.273504  0.552239   \n",
       "10593      -0.029388       500.0              -638.400488  0.556391   \n",
       "\n",
       "           CCI_14  \n",
       "10589 -220.025349  \n",
       "10590 -183.472920  \n",
       "10591 -155.871597  \n",
       "10592 -144.463768  \n",
       "10593  -95.769251  \n",
       "\n",
       "[5 rows x 72 columns]"
      ]
     },
     "execution_count": 18,
     "metadata": {},
     "output_type": "execute_result"
    }
   ],
   "source": [
    "data.tail()"
   ]
  }
 ],
 "metadata": {
  "kernelspec": {
   "display_name": "Python 3",
   "language": "python",
   "name": "python3"
  },
  "language_info": {
   "codemirror_mode": {
    "name": "ipython",
    "version": 3
   },
   "file_extension": ".py",
   "mimetype": "text/x-python",
   "name": "python",
   "nbconvert_exporter": "python",
   "pygments_lexer": "ipython3",
   "version": "3.7.4"
  }
 },
 "nbformat": 4,
 "nbformat_minor": 2
}
