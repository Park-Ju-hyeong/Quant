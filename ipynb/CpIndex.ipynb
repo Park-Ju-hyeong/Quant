{
 "cells": [
  {
   "cell_type": "code",
   "execution_count": 1,
   "metadata": {},
   "outputs": [],
   "source": [
    "import codecs\n",
    "import ctypes\n",
    "import os\n",
    "import subprocess\n",
    "import pandas as pd"
   ]
  },
  {
   "cell_type": "code",
   "execution_count": 2,
   "metadata": {},
   "outputs": [],
   "source": [
    "from tqdm import tqdm"
   ]
  },
  {
   "cell_type": "code",
   "execution_count": 3,
   "metadata": {},
   "outputs": [],
   "source": [
    "import codecs\n",
    "import time\n",
    "import logging, logging.config\n",
    "from datetime import datetime, timedelta"
   ]
  },
  {
   "cell_type": "code",
   "execution_count": 4,
   "metadata": {},
   "outputs": [],
   "source": [
    "import subprocess\n",
    "import time\n",
    "import win32com.client\n",
    "import pandas as pd"
   ]
  },
  {
   "cell_type": "code",
   "execution_count": 5,
   "metadata": {},
   "outputs": [],
   "source": [
    "import numpy as np\n",
    "import pandas as pd"
   ]
  },
  {
   "cell_type": "code",
   "execution_count": 6,
   "metadata": {},
   "outputs": [],
   "source": [
    "objCpCybos = win32com.client.Dispatch(\"CpUtil.CpCybos\")\n",
    "objStockOrder = win32com.client.Dispatch(\"CpTrade.CpTd0311\")\n",
    "objTrade =  win32com.client.Dispatch(\"CpTrade.CpTdUtil\")\n",
    "objRq = win32com.client.Dispatch(\"CpTrade.CpTd6033\")\n",
    "objTdNew = win32com.client.Dispatch('CpTrade.CpTdNew5331A') "
   ]
  },
  {
   "cell_type": "code",
   "execution_count": 7,
   "metadata": {},
   "outputs": [],
   "source": [
    "objSeries = win32com.client.Dispatch(\"CpIndexes.CpSeries\")\n",
    "objIndex = win32com.client.Dispatch(\"CpIndexes.CpIndex\")"
   ]
  },
  {
   "cell_type": "code",
   "execution_count": 8,
   "metadata": {},
   "outputs": [
    {
     "data": {
      "text/plain": [
       "'\\n0 - 가격지표\\n1 - 대신개발지표\\n2 - 추세지표\\n3 - 변동성지표\\n4 - 거래량지표\\n5 - 기간활용지표\\n6 - 투자자별지표\\n'"
      ]
     },
     "execution_count": 8,
     "metadata": {},
     "output_type": "execute_result"
    }
   ],
   "source": [
    "\"\"\"\n",
    "0 - 가격지표\n",
    "1 - 대신개발지표\n",
    "2 - 추세지표\n",
    "3 - 변동성지표\n",
    "4 - 거래량지표\n",
    "5 - 기간활용지표\n",
    "6 - 투자자별지표\n",
    "\"\"\""
   ]
  },
  {
   "cell_type": "code",
   "execution_count": 9,
   "metadata": {
    "scrolled": true
   },
   "outputs": [
    {
     "data": {
      "text/plain": [
       "('Binary Wave MACD',\n",
       " 'BPDL Hilo Index',\n",
       " 'BPDL Short Trend',\n",
       " 'BPDL Trend Filter',\n",
       " 'CCI',\n",
       " 'Elder-Ray',\n",
       " 'MACD',\n",
       " 'MACD(DEMA)',\n",
       " 'MACD(TEMA)',\n",
       " 'MACD Oscillator',\n",
       " 'MAO',\n",
       " 'McCellan Oscillator',\n",
       " 'McCellan Summation',\n",
       " 'Momentum',\n",
       " 'North Price Action Line',\n",
       " 'On Balance Price',\n",
       " 'Price Change Line',\n",
       " 'Price ROC',\n",
       " 'Relative Momentum Index',\n",
       " 'Relative Vigor Indicator',\n",
       " 'Slope of Price',\n",
       " 'Smoothed ROC',\n",
       " 'SONAR',\n",
       " 'TRIX',\n",
       " 'TSF',\n",
       " 'TSI',\n",
       " 'Ultimate Oscillator',\n",
       " 'Velocith Index',\n",
       " 'Williams Accumulation Distribution')"
      ]
     },
     "execution_count": 9,
     "metadata": {},
     "output_type": "execute_result"
    }
   ],
   "source": [
    "objIndex.GetChartIndexCodeListByIndex(2)"
   ]
  },
  {
   "cell_type": "code",
   "execution_count": 10,
   "metadata": {},
   "outputs": [],
   "source": [
    "IndexList = [\n",
    "#     '이격도',\n",
    "    'AB Ratio',\n",
    "#     'ADX',\n",
    "#     'ADXR',\n",
    "    'Aroon',\n",
    "    'Aroon Osillator',\n",
    "    'ATR',\n",
    "    'BB-RSI',\n",
    "    'BPDL RSI',\n",
    "    'BPDL Stochatic',\n",
    "    'Chande Momentum Oscillator',\n",
    "    \"Chaikin's Volatility\",\n",
    "    'CompuTrac Volatility',\n",
    "    'DMI',\n",
    "    'DMI(simple)',\n",
    "    'Energy',\n",
    "    'High Low Envelope',\n",
    "    'High Low Oscillator',\n",
    "    'Inertia',\n",
    "    'Klinger Oscillator',\n",
    "    'Linear Trend Oscillator',\n",
    "    'LRS',\n",
    "    'Mass Index',\n",
    "    'Morris Mixed Momentum',\n",
    "    'New BPDL HiLo Index MA',\n",
    "    'Open Difference',\n",
    "    'QStick',\n",
    "    'Random Walk Index',\n",
    "    'RCI',\n",
    "    'Relative Volatility Index',\n",
    "    'Reverse',\n",
    "    'RSI',\n",
    "    'RSI(simple)',\n",
    "#     'RSI(stochastic)',\n",
    "    'R-Squared',\n",
    "    'Sigma',\n",
    "    'SMI',\n",
    "    'Standard Deviation',\n",
    "    'Standard Error',\n",
    "    'Stochastic Fast',\n",
    "    'Stochastic Slow',\n",
    "    'Stochastic(simple)',\n",
    "    'Stochastic Oscillator',\n",
    "    'TRIX기울기',\n",
    "    'True Range',\n",
    "    'TSF Oscillator',\n",
    "    'VHF',\n",
    "    \"CCI\"\n",
    "]"
   ]
  },
  {
   "cell_type": "code",
   "execution_count": 11,
   "metadata": {},
   "outputs": [],
   "source": [
    "data = pd.read_table(\"/Users/jooh8/Documents/GitHub/Quant/data/A005930/DAY_A005930.txt\", delimiter=\" \")"
   ]
  },
  {
   "cell_type": "code",
   "execution_count": 12,
   "metadata": {
    "scrolled": true
   },
   "outputs": [],
   "source": [
    "tolist = data[\"종가 시가 고가 저가 거래량\".split(\" \")].values.tolist()"
   ]
  },
  {
   "cell_type": "code",
   "execution_count": 13,
   "metadata": {},
   "outputs": [
    {
     "name": "stdout",
     "output_type": "stream",
     "text": [
      "10592\n"
     ]
    }
   ],
   "source": [
    "print(len(tolist))"
   ]
  },
  {
   "cell_type": "code",
   "execution_count": 14,
   "metadata": {},
   "outputs": [],
   "source": [
    "for close, open, high, low, vol in tolist:\n",
    "\n",
    "    objSeries.Add(close, open, high, low, vol)\n",
    "    \n",
    "objIndex.series = objSeries"
   ]
  },
  {
   "cell_type": "code",
   "execution_count": 15,
   "metadata": {
    "scrolled": true
   },
   "outputs": [
    {
     "name": "stderr",
     "output_type": "stream",
     "text": [
      "\r",
      "  0%|                                         | 0/44 [00:00<?, ?it/s]"
     ]
    },
    {
     "name": "stdout",
     "output_type": "stream",
     "text": [
      "AB Ratio\n",
      "################################################################################\n"
     ]
    },
    {
     "name": "stderr",
     "output_type": "stream",
     "text": [
      "\r",
      "  2%|▊                                | 1/44 [00:00<00:05,  7.57it/s]"
     ]
    },
    {
     "name": "stdout",
     "output_type": "stream",
     "text": [
      "Aroon\n",
      "################################################################################\n"
     ]
    },
    {
     "name": "stderr",
     "output_type": "stream",
     "text": [
      "\r",
      "  5%|█▌                               | 2/44 [00:00<00:05,  7.79it/s]"
     ]
    },
    {
     "name": "stdout",
     "output_type": "stream",
     "text": [
      "Aroon Osillator\n",
      "################################################################################\n",
      "ATR\n",
      "################################################################################\n"
     ]
    },
    {
     "name": "stderr",
     "output_type": "stream",
     "text": [
      "\r",
      "  9%|███                              | 4/44 [00:00<00:04,  8.23it/s]"
     ]
    },
    {
     "name": "stdout",
     "output_type": "stream",
     "text": [
      "BB-RSI\n",
      "################################################################################\n"
     ]
    },
    {
     "name": "stderr",
     "output_type": "stream",
     "text": [
      "\r",
      " 11%|███▊                             | 5/44 [00:00<00:05,  7.62it/s]"
     ]
    },
    {
     "name": "stdout",
     "output_type": "stream",
     "text": [
      "BPDL RSI\n",
      "################################################################################\n"
     ]
    },
    {
     "name": "stderr",
     "output_type": "stream",
     "text": [
      "\r",
      " 14%|████▌                            | 6/44 [00:00<00:04,  7.80it/s]"
     ]
    },
    {
     "name": "stdout",
     "output_type": "stream",
     "text": [
      "BPDL Stochatic\n",
      "################################################################################\n"
     ]
    },
    {
     "name": "stderr",
     "output_type": "stream",
     "text": [
      "\r",
      " 16%|█████▎                           | 7/44 [00:00<00:04,  7.97it/s]"
     ]
    },
    {
     "name": "stdout",
     "output_type": "stream",
     "text": [
      "Chande Momentum Oscillator\n",
      "################################################################################\n",
      "Chaikin's Volatility\n",
      "################################################################################\n"
     ]
    },
    {
     "name": "stderr",
     "output_type": "stream",
     "text": [
      "\r",
      " 20%|██████▊                          | 9/44 [00:01<00:04,  8.63it/s]"
     ]
    },
    {
     "name": "stdout",
     "output_type": "stream",
     "text": [
      "CompuTrac Volatility\n",
      "################################################################################\n",
      "DMI\n",
      "################################################################################\n"
     ]
    },
    {
     "name": "stderr",
     "output_type": "stream",
     "text": [
      "\r",
      " 25%|████████                        | 11/44 [00:01<00:04,  8.15it/s]"
     ]
    },
    {
     "name": "stdout",
     "output_type": "stream",
     "text": [
      "DMI(simple)\n",
      "################################################################################\n"
     ]
    },
    {
     "name": "stderr",
     "output_type": "stream",
     "text": [
      "\r",
      " 27%|████████▋                       | 12/44 [00:01<00:04,  7.03it/s]"
     ]
    },
    {
     "name": "stdout",
     "output_type": "stream",
     "text": [
      "Energy\n",
      "################################################################################\n"
     ]
    },
    {
     "name": "stderr",
     "output_type": "stream",
     "text": [
      "\r",
      " 30%|█████████▍                      | 13/44 [00:01<00:04,  7.41it/s]"
     ]
    },
    {
     "name": "stdout",
     "output_type": "stream",
     "text": [
      "High Low Envelope\n",
      "################################################################################\n",
      "High Low Oscillator\n",
      "################################################################################\n"
     ]
    },
    {
     "name": "stderr",
     "output_type": "stream",
     "text": [
      "\r",
      " 34%|██████████▉                     | 15/44 [00:01<00:03,  8.28it/s]"
     ]
    },
    {
     "name": "stdout",
     "output_type": "stream",
     "text": [
      "Inertia\n",
      "################################################################################\n"
     ]
    },
    {
     "name": "stderr",
     "output_type": "stream",
     "text": [
      "\r",
      " 36%|███████████▋                    | 16/44 [00:01<00:03,  8.13it/s]"
     ]
    },
    {
     "name": "stdout",
     "output_type": "stream",
     "text": [
      "Klinger Oscillator\n",
      "################################################################################\n"
     ]
    },
    {
     "name": "stderr",
     "output_type": "stream",
     "text": [
      "\r",
      " 39%|████████████▎                   | 17/44 [00:02<00:03,  8.17it/s]"
     ]
    },
    {
     "name": "stdout",
     "output_type": "stream",
     "text": [
      "Linear Trend Oscillator\n",
      "################################################################################\n",
      "LRS\n",
      "################################################################################\n"
     ]
    },
    {
     "name": "stderr",
     "output_type": "stream",
     "text": [
      "\r",
      " 43%|█████████████▊                  | 19/44 [00:02<00:02,  8.54it/s]"
     ]
    },
    {
     "name": "stdout",
     "output_type": "stream",
     "text": [
      "Mass Index\n",
      "################################################################################\n"
     ]
    },
    {
     "name": "stderr",
     "output_type": "stream",
     "text": [
      "\r",
      " 45%|██████████████▌                 | 20/44 [00:02<00:02,  8.45it/s]"
     ]
    },
    {
     "name": "stdout",
     "output_type": "stream",
     "text": [
      "Morris Mixed Momentum\n",
      "################################################################################\n",
      "New BPDL HiLo Index MA\n",
      "################################################################################\n"
     ]
    },
    {
     "name": "stderr",
     "output_type": "stream",
     "text": [
      "\r",
      " 50%|████████████████                | 22/44 [00:02<00:02,  9.17it/s]"
     ]
    },
    {
     "name": "stdout",
     "output_type": "stream",
     "text": [
      "Open Difference\n",
      "################################################################################\n",
      "QStick\n",
      "################################################################################\n"
     ]
    },
    {
     "name": "stderr",
     "output_type": "stream",
     "text": [
      "\r",
      " 55%|█████████████████▍              | 24/44 [00:02<00:02,  9.26it/s]"
     ]
    },
    {
     "name": "stdout",
     "output_type": "stream",
     "text": [
      "Random Walk Index\n",
      "################################################################################\n",
      "RCI\n",
      "################################################################################\n"
     ]
    },
    {
     "name": "stderr",
     "output_type": "stream",
     "text": [
      "\r",
      " 59%|██████████████████▉             | 26/44 [00:03<00:02,  8.01it/s]"
     ]
    },
    {
     "name": "stdout",
     "output_type": "stream",
     "text": [
      "Relative Volatility Index\n",
      "################################################################################\n"
     ]
    },
    {
     "name": "stderr",
     "output_type": "stream",
     "text": [
      "\r",
      " 61%|███████████████████▋            | 27/44 [00:03<00:02,  8.03it/s]"
     ]
    },
    {
     "name": "stdout",
     "output_type": "stream",
     "text": [
      "Reverse\n",
      "################################################################################\n"
     ]
    },
    {
     "name": "stderr",
     "output_type": "stream",
     "text": [
      "\r",
      " 64%|████████████████████▎           | 28/44 [00:03<00:01,  8.14it/s]"
     ]
    },
    {
     "name": "stdout",
     "output_type": "stream",
     "text": [
      "RSI\n",
      "################################################################################\n"
     ]
    },
    {
     "name": "stderr",
     "output_type": "stream",
     "text": [
      "\r",
      " 66%|█████████████████████           | 29/44 [00:03<00:01,  8.21it/s]"
     ]
    },
    {
     "name": "stdout",
     "output_type": "stream",
     "text": [
      "RSI(simple)\n",
      "################################################################################\n"
     ]
    },
    {
     "name": "stderr",
     "output_type": "stream",
     "text": [
      "\r",
      " 68%|█████████████████████▊          | 30/44 [00:03<00:01,  8.25it/s]"
     ]
    },
    {
     "name": "stdout",
     "output_type": "stream",
     "text": [
      "R-Squared\n",
      "################################################################################\n",
      "Sigma\n",
      "################################################################################\n"
     ]
    },
    {
     "name": "stderr",
     "output_type": "stream",
     "text": [
      "\r",
      " 73%|███████████████████████▎        | 32/44 [00:03<00:01,  8.93it/s]"
     ]
    },
    {
     "name": "stdout",
     "output_type": "stream",
     "text": [
      "SMI\n",
      "################################################################################\n"
     ]
    },
    {
     "name": "stderr",
     "output_type": "stream",
     "text": [
      "\r",
      " 75%|████████████████████████        | 33/44 [00:03<00:01,  8.74it/s]"
     ]
    },
    {
     "name": "stdout",
     "output_type": "stream",
     "text": [
      "Standard Deviation\n",
      "################################################################################\n"
     ]
    },
    {
     "name": "stderr",
     "output_type": "stream",
     "text": [
      "\r",
      " 77%|████████████████████████▋       | 34/44 [00:04<00:01,  8.46it/s]"
     ]
    },
    {
     "name": "stdout",
     "output_type": "stream",
     "text": [
      "Standard Error\n",
      "################################################################################\n"
     ]
    },
    {
     "name": "stderr",
     "output_type": "stream",
     "text": [
      "\r",
      " 80%|█████████████████████████▍      | 35/44 [00:04<00:01,  8.36it/s]"
     ]
    },
    {
     "name": "stdout",
     "output_type": "stream",
     "text": [
      "Stochastic Fast\n",
      "################################################################################\n"
     ]
    },
    {
     "name": "stderr",
     "output_type": "stream",
     "text": [
      "\r",
      " 82%|██████████████████████████▏     | 36/44 [00:04<00:00,  8.35it/s]"
     ]
    },
    {
     "name": "stdout",
     "output_type": "stream",
     "text": [
      "Stochastic Slow\n",
      "################################################################################\n"
     ]
    },
    {
     "name": "stderr",
     "output_type": "stream",
     "text": [
      "\r",
      " 84%|██████████████████████████▉     | 37/44 [00:04<00:00,  8.37it/s]"
     ]
    },
    {
     "name": "stdout",
     "output_type": "stream",
     "text": [
      "Stochastic(simple)\n",
      "################################################################################\n"
     ]
    },
    {
     "name": "stderr",
     "output_type": "stream",
     "text": [
      "\r",
      " 86%|███████████████████████████▋    | 38/44 [00:04<00:00,  8.38it/s]"
     ]
    },
    {
     "name": "stdout",
     "output_type": "stream",
     "text": [
      "Stochastic Oscillator\n",
      "################################################################################\n",
      "TRIX기울기\n",
      "################################################################################\n"
     ]
    },
    {
     "name": "stderr",
     "output_type": "stream",
     "text": [
      "\r",
      " 91%|█████████████████████████████   | 40/44 [00:04<00:00,  8.75it/s]"
     ]
    },
    {
     "name": "stdout",
     "output_type": "stream",
     "text": [
      "True Range\n",
      "################################################################################\n",
      "TSF Oscillator\n",
      "################################################################################\n"
     ]
    },
    {
     "name": "stderr",
     "output_type": "stream",
     "text": [
      "\r",
      " 95%|██████████████████████████████▌ | 42/44 [00:04<00:00,  9.41it/s]"
     ]
    },
    {
     "name": "stdout",
     "output_type": "stream",
     "text": [
      "VHF\n",
      "################################################################################\n"
     ]
    },
    {
     "name": "stderr",
     "output_type": "stream",
     "text": [
      "\r",
      " 98%|███████████████████████████████▎| 43/44 [00:04<00:00,  9.01it/s]"
     ]
    },
    {
     "name": "stdout",
     "output_type": "stream",
     "text": [
      "CCI\n",
      "################################################################################\n"
     ]
    },
    {
     "name": "stderr",
     "output_type": "stream",
     "text": [
      "100%|████████████████████████████████| 44/44 [00:05<00:00,  8.33it/s]\n"
     ]
    }
   ],
   "source": [
    "for INDEXNAME in tqdm(IndexList):\n",
    "    \n",
    "    print(INDEXNAME)\n",
    "    print(\"#\"*80)\n",
    "    \n",
    "    objIndex.put_IndexKind(INDEXNAME)     # 계산할 지표: MACD\n",
    "    objIndex.put_IndexDefault(INDEXNAME)  # MACD 지표 기본 변수 자동 세팅\n",
    "\n",
    "    indexID = objIndex.GetChartIndexByName(INDEXNAME)\n",
    "    indexName = objIndex.GetLineResults(indexID)\n",
    "\n",
    "    # print(indexID)\n",
    "    # print(indexName)\n",
    "    # print(objIndex.get_Term1(), objIndex.get_Term2(), objIndex.get_Signal())\n",
    "\n",
    "    # 지표 데이터 계산 하기\n",
    "    objIndex.Calculate()\n",
    "    cntofIndex = objIndex.ItemCount\n",
    "\n",
    "    # print(cntofIndex)\n",
    "\n",
    "    creonIndex = {}\n",
    "    for index in range(cntofIndex):\n",
    "        cnt = objIndex.GetCount(index)\n",
    "        creonIndex[indexName[index]] = []\n",
    "        for j in range(cnt) :\n",
    "            value = objIndex.GetResult(index, j)\n",
    "            creonIndex[indexName[index]].append(value)\n",
    "\n",
    "    for k, v in creonIndex.items():\n",
    "        data[k] = v"
   ]
  },
  {
   "cell_type": "code",
   "execution_count": 16,
   "metadata": {},
   "outputs": [],
   "source": [
    "columns = [i for i in data.columns if \"Signal\" not in i]"
   ]
  },
  {
   "cell_type": "code",
   "execution_count": 17,
   "metadata": {},
   "outputs": [],
   "source": [
    "data = data[columns]"
   ]
  },
  {
   "cell_type": "code",
   "execution_count": 18,
   "metadata": {},
   "outputs": [
    {
     "data": {
      "text/html": [
       "<div>\n",
       "<style scoped>\n",
       "    .dataframe tbody tr th:only-of-type {\n",
       "        vertical-align: middle;\n",
       "    }\n",
       "\n",
       "    .dataframe tbody tr th {\n",
       "        vertical-align: top;\n",
       "    }\n",
       "\n",
       "    .dataframe thead th {\n",
       "        text-align: right;\n",
       "    }\n",
       "</style>\n",
       "<table border=\"1\" class=\"dataframe\">\n",
       "  <thead>\n",
       "    <tr style=\"text-align: right;\">\n",
       "      <th></th>\n",
       "      <th>날짜</th>\n",
       "      <th>시가</th>\n",
       "      <th>고가</th>\n",
       "      <th>저가</th>\n",
       "      <th>종가</th>\n",
       "      <th>거래량</th>\n",
       "      <th>거래대금</th>\n",
       "      <th>상장주식수</th>\n",
       "      <th>시가총액</th>\n",
       "      <th>외국인현보유수량</th>\n",
       "      <th>...</th>\n",
       "      <th>Slow %K_5,3</th>\n",
       "      <th>Slow %D_3</th>\n",
       "      <th>Slow(Simple) %K_5,3</th>\n",
       "      <th>Slow(Simple) %D_3</th>\n",
       "      <th>StochOsc_5,3</th>\n",
       "      <th>TRIX기울기_종가,14</th>\n",
       "      <th>True Range</th>\n",
       "      <th>TSF Oscillator_종가,14,28</th>\n",
       "      <th>VHF_14</th>\n",
       "      <th>CCI_14</th>\n",
       "    </tr>\n",
       "  </thead>\n",
       "  <tbody>\n",
       "    <tr>\n",
       "      <th>10587</th>\n",
       "      <td>20190507</td>\n",
       "      <td>45250</td>\n",
       "      <td>45300</td>\n",
       "      <td>44400</td>\n",
       "      <td>44850</td>\n",
       "      <td>12014907</td>\n",
       "      <td>538125000000</td>\n",
       "      <td>5969782000</td>\n",
       "      <td>267744722000000</td>\n",
       "      <td>3420515</td>\n",
       "      <td>...</td>\n",
       "      <td>58.695652</td>\n",
       "      <td>74.154787</td>\n",
       "      <td>46.718866</td>\n",
       "      <td>58.417012</td>\n",
       "      <td>-32.210526</td>\n",
       "      <td>-0.010055</td>\n",
       "      <td>900.0</td>\n",
       "      <td>-648.076923</td>\n",
       "      <td>0.448276</td>\n",
       "      <td>-82.619974</td>\n",
       "    </tr>\n",
       "    <tr>\n",
       "      <th>10588</th>\n",
       "      <td>20190508</td>\n",
       "      <td>44300</td>\n",
       "      <td>44850</td>\n",
       "      <td>44200</td>\n",
       "      <td>44250</td>\n",
       "      <td>10398754</td>\n",
       "      <td>462087000000</td>\n",
       "      <td>5969782000</td>\n",
       "      <td>264162853000000</td>\n",
       "      <td>3420231</td>\n",
       "      <td>...</td>\n",
       "      <td>30.769231</td>\n",
       "      <td>54.932739</td>\n",
       "      <td>24.549909</td>\n",
       "      <td>41.483461</td>\n",
       "      <td>-26.307435</td>\n",
       "      <td>-0.014113</td>\n",
       "      <td>650.0</td>\n",
       "      <td>-460.317460</td>\n",
       "      <td>0.451613</td>\n",
       "      <td>-114.854640</td>\n",
       "    </tr>\n",
       "    <tr>\n",
       "      <th>10589</th>\n",
       "      <td>20190509</td>\n",
       "      <td>43900</td>\n",
       "      <td>44250</td>\n",
       "      <td>42450</td>\n",
       "      <td>42450</td>\n",
       "      <td>23029718</td>\n",
       "      <td>993612000000</td>\n",
       "      <td>5969782000</td>\n",
       "      <td>253417245000000</td>\n",
       "      <td>3417828</td>\n",
       "      <td>...</td>\n",
       "      <td>6.493506</td>\n",
       "      <td>31.986130</td>\n",
       "      <td>12.274955</td>\n",
       "      <td>26.879208</td>\n",
       "      <td>-8.688388</td>\n",
       "      <td>-0.025350</td>\n",
       "      <td>1800.0</td>\n",
       "      <td>-435.012210</td>\n",
       "      <td>0.474359</td>\n",
       "      <td>-220.025349</td>\n",
       "    </tr>\n",
       "    <tr>\n",
       "      <th>10590</th>\n",
       "      <td>20190510</td>\n",
       "      <td>42600</td>\n",
       "      <td>43450</td>\n",
       "      <td>42450</td>\n",
       "      <td>42900</td>\n",
       "      <td>14579512</td>\n",
       "      <td>624673000000</td>\n",
       "      <td>5969782000</td>\n",
       "      <td>256103671000000</td>\n",
       "      <td>3415182</td>\n",
       "      <td>...</td>\n",
       "      <td>5.319149</td>\n",
       "      <td>14.193962</td>\n",
       "      <td>12.387477</td>\n",
       "      <td>19.633343</td>\n",
       "      <td>7.539683</td>\n",
       "      <td>-0.029019</td>\n",
       "      <td>1000.0</td>\n",
       "      <td>-451.892552</td>\n",
       "      <td>0.544118</td>\n",
       "      <td>-183.472920</td>\n",
       "    </tr>\n",
       "    <tr>\n",
       "      <th>10591</th>\n",
       "      <td>20190513</td>\n",
       "      <td>42500</td>\n",
       "      <td>43200</td>\n",
       "      <td>42350</td>\n",
       "      <td>42650</td>\n",
       "      <td>7635079</td>\n",
       "      <td>326874000000</td>\n",
       "      <td>5969782000</td>\n",
       "      <td>254611225000000</td>\n",
       "      <td>3414755</td>\n",
       "      <td>...</td>\n",
       "      <td>7.317073</td>\n",
       "      <td>6.376576</td>\n",
       "      <td>11.278484</td>\n",
       "      <td>15.455913</td>\n",
       "      <td>2.612994</td>\n",
       "      <td>-0.031157</td>\n",
       "      <td>850.0</td>\n",
       "      <td>-513.858364</td>\n",
       "      <td>0.548148</td>\n",
       "      <td>-155.871597</td>\n",
       "    </tr>\n",
       "  </tbody>\n",
       "</table>\n",
       "<p>5 rows × 72 columns</p>\n",
       "</div>"
      ],
      "text/plain": [
       "             날짜     시가     고가     저가     종가       거래량          거래대금  \\\n",
       "10587  20190507  45250  45300  44400  44850  12014907  538125000000   \n",
       "10588  20190508  44300  44850  44200  44250  10398754  462087000000   \n",
       "10589  20190509  43900  44250  42450  42450  23029718  993612000000   \n",
       "10590  20190510  42600  43450  42450  42900  14579512  624673000000   \n",
       "10591  20190513  42500  43200  42350  42650   7635079  326874000000   \n",
       "\n",
       "            상장주식수             시가총액  외국인현보유수량     ...      Slow %K_5,3  \\\n",
       "10587  5969782000  267744722000000   3420515     ...        58.695652   \n",
       "10588  5969782000  264162853000000   3420231     ...        30.769231   \n",
       "10589  5969782000  253417245000000   3417828     ...         6.493506   \n",
       "10590  5969782000  256103671000000   3415182     ...         5.319149   \n",
       "10591  5969782000  254611225000000   3414755     ...         7.317073   \n",
       "\n",
       "       Slow %D_3  Slow(Simple) %K_5,3  Slow(Simple) %D_3  StochOsc_5,3  \\\n",
       "10587  74.154787            46.718866          58.417012    -32.210526   \n",
       "10588  54.932739            24.549909          41.483461    -26.307435   \n",
       "10589  31.986130            12.274955          26.879208     -8.688388   \n",
       "10590  14.193962            12.387477          19.633343      7.539683   \n",
       "10591   6.376576            11.278484          15.455913      2.612994   \n",
       "\n",
       "       TRIX기울기_종가,14  True Range  TSF Oscillator_종가,14,28    VHF_14  \\\n",
       "10587      -0.010055       900.0              -648.076923  0.448276   \n",
       "10588      -0.014113       650.0              -460.317460  0.451613   \n",
       "10589      -0.025350      1800.0              -435.012210  0.474359   \n",
       "10590      -0.029019      1000.0              -451.892552  0.544118   \n",
       "10591      -0.031157       850.0              -513.858364  0.548148   \n",
       "\n",
       "           CCI_14  \n",
       "10587  -82.619974  \n",
       "10588 -114.854640  \n",
       "10589 -220.025349  \n",
       "10590 -183.472920  \n",
       "10591 -155.871597  \n",
       "\n",
       "[5 rows x 72 columns]"
      ]
     },
     "execution_count": 18,
     "metadata": {},
     "output_type": "execute_result"
    }
   ],
   "source": [
    "data.tail()"
   ]
  },
  {
   "cell_type": "code",
   "execution_count": 19,
   "metadata": {
    "scrolled": true
   },
   "outputs": [
    {
     "data": {
      "text/html": [
       "<div>\n",
       "<style scoped>\n",
       "    .dataframe tbody tr th:only-of-type {\n",
       "        vertical-align: middle;\n",
       "    }\n",
       "\n",
       "    .dataframe tbody tr th {\n",
       "        vertical-align: top;\n",
       "    }\n",
       "\n",
       "    .dataframe thead th {\n",
       "        text-align: right;\n",
       "    }\n",
       "</style>\n",
       "<table border=\"1\" class=\"dataframe\">\n",
       "  <thead>\n",
       "    <tr style=\"text-align: right;\">\n",
       "      <th></th>\n",
       "      <th>날짜</th>\n",
       "      <th>시가</th>\n",
       "      <th>고가</th>\n",
       "      <th>저가</th>\n",
       "      <th>종가</th>\n",
       "      <th>거래량</th>\n",
       "      <th>거래대금</th>\n",
       "      <th>상장주식수</th>\n",
       "      <th>시가총액</th>\n",
       "      <th>외국인현보유수량</th>\n",
       "      <th>기관순매수</th>\n",
       "      <th>A Ratio_20</th>\n",
       "      <th>B Ratio_20</th>\n",
       "      <th>Aroon_20 Up</th>\n",
       "      <th>Down</th>\n",
       "      <th>Aroon Osillator_20</th>\n",
       "      <th>ATR_14</th>\n",
       "      <th>BB-RSI_종가_10</th>\n",
       "      <th>BB-RSI_20_2.00 상한</th>\n",
       "      <th>BB-RSI 하한</th>\n",
       "    </tr>\n",
       "  </thead>\n",
       "  <tbody>\n",
       "    <tr>\n",
       "      <th>10587</th>\n",
       "      <td>20190507</td>\n",
       "      <td>45250</td>\n",
       "      <td>45300</td>\n",
       "      <td>44400</td>\n",
       "      <td>44850</td>\n",
       "      <td>12014907</td>\n",
       "      <td>538125000000</td>\n",
       "      <td>5969782000</td>\n",
       "      <td>267744722000000</td>\n",
       "      <td>3420515</td>\n",
       "      <td>-2607527</td>\n",
       "      <td>72.058824</td>\n",
       "      <td>68.750000</td>\n",
       "      <td>40.0</td>\n",
       "      <td>75.0</td>\n",
       "      <td>-35.0</td>\n",
       "      <td>942.201170</td>\n",
       "      <td>39.963797</td>\n",
       "      <td>72.874397</td>\n",
       "      <td>28.213772</td>\n",
       "    </tr>\n",
       "    <tr>\n",
       "      <th>10588</th>\n",
       "      <td>20190508</td>\n",
       "      <td>44300</td>\n",
       "      <td>44850</td>\n",
       "      <td>44200</td>\n",
       "      <td>44250</td>\n",
       "      <td>10398754</td>\n",
       "      <td>462087000000</td>\n",
       "      <td>5969782000</td>\n",
       "      <td>264162853000000</td>\n",
       "      <td>3420231</td>\n",
       "      <td>-1335229</td>\n",
       "      <td>85.869565</td>\n",
       "      <td>65.217391</td>\n",
       "      <td>35.0</td>\n",
       "      <td>70.0</td>\n",
       "      <td>-35.0</td>\n",
       "      <td>921.329658</td>\n",
       "      <td>34.397001</td>\n",
       "      <td>71.813864</td>\n",
       "      <td>26.462042</td>\n",
       "    </tr>\n",
       "    <tr>\n",
       "      <th>10589</th>\n",
       "      <td>20190509</td>\n",
       "      <td>43900</td>\n",
       "      <td>44250</td>\n",
       "      <td>42450</td>\n",
       "      <td>42450</td>\n",
       "      <td>23029718</td>\n",
       "      <td>993612000000</td>\n",
       "      <td>5969782000</td>\n",
       "      <td>253417245000000</td>\n",
       "      <td>3417828</td>\n",
       "      <td>-3556441</td>\n",
       "      <td>78.817734</td>\n",
       "      <td>55.128205</td>\n",
       "      <td>30.0</td>\n",
       "      <td>100.0</td>\n",
       "      <td>-70.0</td>\n",
       "      <td>984.091825</td>\n",
       "      <td>23.490087</td>\n",
       "      <td>71.573206</td>\n",
       "      <td>22.799745</td>\n",
       "    </tr>\n",
       "    <tr>\n",
       "      <th>10590</th>\n",
       "      <td>20190510</td>\n",
       "      <td>42600</td>\n",
       "      <td>43450</td>\n",
       "      <td>42450</td>\n",
       "      <td>42900</td>\n",
       "      <td>14579512</td>\n",
       "      <td>624673000000</td>\n",
       "      <td>5969782000</td>\n",
       "      <td>256103671000000</td>\n",
       "      <td>3415182</td>\n",
       "      <td>201245</td>\n",
       "      <td>85.929648</td>\n",
       "      <td>66.666667</td>\n",
       "      <td>25.0</td>\n",
       "      <td>95.0</td>\n",
       "      <td>-70.0</td>\n",
       "      <td>985.228124</td>\n",
       "      <td>29.683579</td>\n",
       "      <td>69.907123</td>\n",
       "      <td>21.132387</td>\n",
       "    </tr>\n",
       "    <tr>\n",
       "      <th>10591</th>\n",
       "      <td>20190513</td>\n",
       "      <td>42500</td>\n",
       "      <td>43200</td>\n",
       "      <td>42350</td>\n",
       "      <td>42650</td>\n",
       "      <td>7635079</td>\n",
       "      <td>326874000000</td>\n",
       "      <td>5969782000</td>\n",
       "      <td>254611225000000</td>\n",
       "      <td>3414755</td>\n",
       "      <td>-1078227</td>\n",
       "      <td>95.811518</td>\n",
       "      <td>68.468468</td>\n",
       "      <td>20.0</td>\n",
       "      <td>100.0</td>\n",
       "      <td>-80.0</td>\n",
       "      <td>975.568972</td>\n",
       "      <td>28.270903</td>\n",
       "      <td>69.179279</td>\n",
       "      <td>19.125097</td>\n",
       "    </tr>\n",
       "  </tbody>\n",
       "</table>\n",
       "</div>"
      ],
      "text/plain": [
       "             날짜     시가     고가     저가     종가       거래량          거래대금  \\\n",
       "10587  20190507  45250  45300  44400  44850  12014907  538125000000   \n",
       "10588  20190508  44300  44850  44200  44250  10398754  462087000000   \n",
       "10589  20190509  43900  44250  42450  42450  23029718  993612000000   \n",
       "10590  20190510  42600  43450  42450  42900  14579512  624673000000   \n",
       "10591  20190513  42500  43200  42350  42650   7635079  326874000000   \n",
       "\n",
       "            상장주식수             시가총액  외국인현보유수량    기관순매수  A Ratio_20  B Ratio_20  \\\n",
       "10587  5969782000  267744722000000   3420515 -2607527   72.058824   68.750000   \n",
       "10588  5969782000  264162853000000   3420231 -1335229   85.869565   65.217391   \n",
       "10589  5969782000  253417245000000   3417828 -3556441   78.817734   55.128205   \n",
       "10590  5969782000  256103671000000   3415182   201245   85.929648   66.666667   \n",
       "10591  5969782000  254611225000000   3414755 -1078227   95.811518   68.468468   \n",
       "\n",
       "       Aroon_20 Up   Down  Aroon Osillator_20      ATR_14  BB-RSI_종가_10  \\\n",
       "10587         40.0   75.0               -35.0  942.201170     39.963797   \n",
       "10588         35.0   70.0               -35.0  921.329658     34.397001   \n",
       "10589         30.0  100.0               -70.0  984.091825     23.490087   \n",
       "10590         25.0   95.0               -70.0  985.228124     29.683579   \n",
       "10591         20.0  100.0               -80.0  975.568972     28.270903   \n",
       "\n",
       "       BB-RSI_20_2.00 상한  BB-RSI 하한  \n",
       "10587          72.874397  28.213772  \n",
       "10588          71.813864  26.462042  \n",
       "10589          71.573206  22.799745  \n",
       "10590          69.907123  21.132387  \n",
       "10591          69.179279  19.125097  "
      ]
     },
     "execution_count": 19,
     "metadata": {},
     "output_type": "execute_result"
    }
   ],
   "source": [
    "data[data.columns[:20]].tail()"
   ]
  },
  {
   "cell_type": "code",
   "execution_count": 20,
   "metadata": {
    "scrolled": true
   },
   "outputs": [
    {
     "data": {
      "text/html": [
       "<div>\n",
       "<style scoped>\n",
       "    .dataframe tbody tr th:only-of-type {\n",
       "        vertical-align: middle;\n",
       "    }\n",
       "\n",
       "    .dataframe tbody tr th {\n",
       "        vertical-align: top;\n",
       "    }\n",
       "\n",
       "    .dataframe thead th {\n",
       "        text-align: right;\n",
       "    }\n",
       "</style>\n",
       "<table border=\"1\" class=\"dataframe\">\n",
       "  <thead>\n",
       "    <tr style=\"text-align: right;\">\n",
       "      <th></th>\n",
       "      <th>ADXR(simple)_14,14,14</th>\n",
       "      <th>Energy+_14</th>\n",
       "      <th>Energy-_14</th>\n",
       "      <th>High Low Envelope_1</th>\n",
       "      <th>High Low Oscillator_3</th>\n",
       "      <th>Inertia_20,14,10</th>\n",
       "      <th>Klinger Oscillator</th>\n",
       "      <th>Linear Trend Oscillator_10,20</th>\n",
       "      <th>LRS_종가,14</th>\n",
       "      <th>Mass Index_20,9</th>\n",
       "      <th>Morris Mixed Momentum</th>\n",
       "      <th>New BPDL HiLo Index MA_14,7</th>\n",
       "      <th>Open Difference_15</th>\n",
       "      <th>QStick_14</th>\n",
       "      <th>Random Walk Index_15,3</th>\n",
       "      <th>RCI_5</th>\n",
       "      <th>RCI_9</th>\n",
       "      <th>RCI_13</th>\n",
       "      <th>RCI_18</th>\n",
       "      <th>Relative Volatility Index_단순,14,10</th>\n",
       "    </tr>\n",
       "  </thead>\n",
       "  <tbody>\n",
       "    <tr>\n",
       "      <th>10587</th>\n",
       "      <td>25.134440</td>\n",
       "      <td>73.333333</td>\n",
       "      <td>124.137931</td>\n",
       "      <td>-894.039735</td>\n",
       "      <td>0.158226</td>\n",
       "      <td>45.535831</td>\n",
       "      <td>2.691733e+10</td>\n",
       "      <td>-131.086677</td>\n",
       "      <td>-90.219780</td>\n",
       "      <td>20.067505</td>\n",
       "      <td>650.0</td>\n",
       "      <td>49.635023</td>\n",
       "      <td>-150.0</td>\n",
       "      <td>-121.428571</td>\n",
       "      <td>5.046623</td>\n",
       "      <td>-90.0</td>\n",
       "      <td>34.166667</td>\n",
       "      <td>-20.879121</td>\n",
       "      <td>-63.364293</td>\n",
       "      <td>36.851714</td>\n",
       "    </tr>\n",
       "    <tr>\n",
       "      <th>10588</th>\n",
       "      <td>26.381428</td>\n",
       "      <td>86.428571</td>\n",
       "      <td>141.666667</td>\n",
       "      <td>-869.565217</td>\n",
       "      <td>0.079113</td>\n",
       "      <td>44.261038</td>\n",
       "      <td>2.248699e+10</td>\n",
       "      <td>-3.652005</td>\n",
       "      <td>-72.857143</td>\n",
       "      <td>19.974943</td>\n",
       "      <td>-300.0</td>\n",
       "      <td>49.275455</td>\n",
       "      <td>-200.0</td>\n",
       "      <td>-114.285714</td>\n",
       "      <td>3.644783</td>\n",
       "      <td>-90.0</td>\n",
       "      <td>0.833333</td>\n",
       "      <td>-18.681319</td>\n",
       "      <td>-65.221878</td>\n",
       "      <td>32.716130</td>\n",
       "    </tr>\n",
       "    <tr>\n",
       "      <th>10589</th>\n",
       "      <td>28.700663</td>\n",
       "      <td>74.846626</td>\n",
       "      <td>166.355140</td>\n",
       "      <td>-7322.033898</td>\n",
       "      <td>0.039556</td>\n",
       "      <td>42.783992</td>\n",
       "      <td>1.818713e+10</td>\n",
       "      <td>51.359870</td>\n",
       "      <td>-100.329670</td>\n",
       "      <td>20.098280</td>\n",
       "      <td>-2300.0</td>\n",
       "      <td>48.479864</td>\n",
       "      <td>-250.0</td>\n",
       "      <td>-200.000000</td>\n",
       "      <td>9.291133</td>\n",
       "      <td>-100.0</td>\n",
       "      <td>-42.500000</td>\n",
       "      <td>-29.670330</td>\n",
       "      <td>-66.253870</td>\n",
       "      <td>30.288857</td>\n",
       "    </tr>\n",
       "    <tr>\n",
       "      <th>10590</th>\n",
       "      <td>31.088953</td>\n",
       "      <td>104.545455</td>\n",
       "      <td>136.842105</td>\n",
       "      <td>1060.070671</td>\n",
       "      <td>0.519778</td>\n",
       "      <td>41.158096</td>\n",
       "      <td>5.125751e+09</td>\n",
       "      <td>-24.198273</td>\n",
       "      <td>-142.527473</td>\n",
       "      <td>20.232892</td>\n",
       "      <td>-3650.0</td>\n",
       "      <td>47.926786</td>\n",
       "      <td>-250.0</td>\n",
       "      <td>-64.285714</td>\n",
       "      <td>5.028535</td>\n",
       "      <td>-90.0</td>\n",
       "      <td>-74.166667</td>\n",
       "      <td>-44.230769</td>\n",
       "      <td>-66.253870</td>\n",
       "      <td>39.190877</td>\n",
       "    </tr>\n",
       "    <tr>\n",
       "      <th>10591</th>\n",
       "      <td>33.463108</td>\n",
       "      <td>117.600000</td>\n",
       "      <td>128.571429</td>\n",
       "      <td>-495.337995</td>\n",
       "      <td>0.436360</td>\n",
       "      <td>39.549144</td>\n",
       "      <td>7.834797e+09</td>\n",
       "      <td>35.475047</td>\n",
       "      <td>-189.890110</td>\n",
       "      <td>20.346773</td>\n",
       "      <td>-5600.0</td>\n",
       "      <td>47.384954</td>\n",
       "      <td>-250.0</td>\n",
       "      <td>-21.428571</td>\n",
       "      <td>4.537736</td>\n",
       "      <td>-70.0</td>\n",
       "      <td>-93.333333</td>\n",
       "      <td>-51.923077</td>\n",
       "      <td>-68.421053</td>\n",
       "      <td>36.717885</td>\n",
       "    </tr>\n",
       "  </tbody>\n",
       "</table>\n",
       "</div>"
      ],
      "text/plain": [
       "       ADXR(simple)_14,14,14  Energy+_14  Energy-_14  High Low Envelope_1  \\\n",
       "10587              25.134440   73.333333  124.137931          -894.039735   \n",
       "10588              26.381428   86.428571  141.666667          -869.565217   \n",
       "10589              28.700663   74.846626  166.355140         -7322.033898   \n",
       "10590              31.088953  104.545455  136.842105          1060.070671   \n",
       "10591              33.463108  117.600000  128.571429          -495.337995   \n",
       "\n",
       "       High Low Oscillator_3  Inertia_20,14,10  Klinger Oscillator  \\\n",
       "10587               0.158226         45.535831        2.691733e+10   \n",
       "10588               0.079113         44.261038        2.248699e+10   \n",
       "10589               0.039556         42.783992        1.818713e+10   \n",
       "10590               0.519778         41.158096        5.125751e+09   \n",
       "10591               0.436360         39.549144        7.834797e+09   \n",
       "\n",
       "       Linear Trend Oscillator_10,20   LRS_종가,14  Mass Index_20,9  \\\n",
       "10587                    -131.086677  -90.219780        20.067505   \n",
       "10588                      -3.652005  -72.857143        19.974943   \n",
       "10589                      51.359870 -100.329670        20.098280   \n",
       "10590                     -24.198273 -142.527473        20.232892   \n",
       "10591                      35.475047 -189.890110        20.346773   \n",
       "\n",
       "       Morris Mixed Momentum  New BPDL HiLo Index MA_14,7  Open Difference_15  \\\n",
       "10587                  650.0                    49.635023              -150.0   \n",
       "10588                 -300.0                    49.275455              -200.0   \n",
       "10589                -2300.0                    48.479864              -250.0   \n",
       "10590                -3650.0                    47.926786              -250.0   \n",
       "10591                -5600.0                    47.384954              -250.0   \n",
       "\n",
       "        QStick_14  Random Walk Index_15,3  RCI_5      RCI_9     RCI_13  \\\n",
       "10587 -121.428571                5.046623  -90.0  34.166667 -20.879121   \n",
       "10588 -114.285714                3.644783  -90.0   0.833333 -18.681319   \n",
       "10589 -200.000000                9.291133 -100.0 -42.500000 -29.670330   \n",
       "10590  -64.285714                5.028535  -90.0 -74.166667 -44.230769   \n",
       "10591  -21.428571                4.537736  -70.0 -93.333333 -51.923077   \n",
       "\n",
       "          RCI_18  Relative Volatility Index_단순,14,10  \n",
       "10587 -63.364293                           36.851714  \n",
       "10588 -65.221878                           32.716130  \n",
       "10589 -66.253870                           30.288857  \n",
       "10590 -66.253870                           39.190877  \n",
       "10591 -68.421053                           36.717885  "
      ]
     },
     "execution_count": 20,
     "metadata": {},
     "output_type": "execute_result"
    }
   ],
   "source": [
    "data[columns[-40:-20]].tail()"
   ]
  },
  {
   "cell_type": "code",
   "execution_count": null,
   "metadata": {},
   "outputs": [],
   "source": []
  }
 ],
 "metadata": {
  "kernelspec": {
   "display_name": "Python 3",
   "language": "python",
   "name": "python3"
  },
  "language_info": {
   "codemirror_mode": {
    "name": "ipython",
    "version": 3
   },
   "file_extension": ".py",
   "mimetype": "text/x-python",
   "name": "python",
   "nbconvert_exporter": "python",
   "pygments_lexer": "ipython3",
   "version": "3.7.1"
  }
 },
 "nbformat": 4,
 "nbformat_minor": 2
}
