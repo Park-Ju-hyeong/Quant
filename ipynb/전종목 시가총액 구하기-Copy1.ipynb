{
 "cells": [
  {
   "cell_type": "code",
   "execution_count": 1,
   "metadata": {},
   "outputs": [],
   "source": [
    "import sys\n",
    "from PyQt5.QtWidgets import *\n",
    "import win32com.client\n",
    "import ctypes\n",
    " \n",
    "################################################\n",
    "# PLUS 공통 OBJECT\n",
    "g_objCodeMgr = win32com.client.Dispatch('CpUtil.CpCodeMgr')\n",
    "g_objCpStatus = win32com.client.Dispatch('CpUtil.CpCybos')\n",
    "g_objCpTrade = win32com.client.Dispatch('CpTrade.CpTdUtil')\n",
    " \n",
    " \n",
    "################################################\n",
    "# PLUS 실행 기본 체크 함수\n",
    "def InitPlusCheck():\n",
    "    # 프로세스가 관리자 권한으로 실행 여부\n",
    "    if ctypes.windll.shell32.IsUserAnAdmin():\n",
    "        print('정상: 관리자권한으로 실행된 프로세스입니다.')\n",
    "    else:\n",
    "        print('오류: 일반권한으로 실행됨. 관리자 권한으로 실행해 주세요')\n",
    "        return False\n",
    " \n",
    "    # 연결 여부 체크\n",
    "    if (g_objCpStatus.IsConnect == 0):\n",
    "        print(\"PLUS가 정상적으로 연결되지 않음. \")\n",
    "        return False\n",
    " \n",
    "    # # 주문 관련 초기화 - 계좌 관련 코드가 있을 때만 사용\n",
    "    # if (g_objCpTrade.TradeInit(0) != 0):\n",
    "    #     print(\"주문 초기화 실패\")\n",
    "    #     return False\n",
    " \n",
    "    return True\n",
    " "
   ]
  },
  {
   "cell_type": "code",
   "execution_count": 2,
   "metadata": {},
   "outputs": [],
   "source": [
    " \n",
    "class CpMarketEye:\n",
    "    def __init__(self):\n",
    "        self.objRq = win32com.client.Dispatch(\"CpSysDib.MarketEye\")\n",
    "        self.RpFiledIndex = 0\n",
    " \n",
    " \n",
    "    def Request(self, codes, dataInfo):\n",
    "        # 0: 종목코드 4: 현재가 20: 상장주식수 67: PER 71:자본금 72: 액면가\n",
    "        rqField = [0, 4, 20, 67, 71, 72]  # 요청 필드\n",
    " \n",
    "        self.objRq.SetInputValue(0, rqField)  # 요청 필드\n",
    "        self.objRq.SetInputValue(1, codes)  # 종목코드 or 종목코드 리스트\n",
    "        self.objRq.BlockRequest()\n",
    " \n",
    "        # 현재가 통신 및 통신 에러 처리\n",
    "        rqStatus = self.objRq.GetDibStatus()\n",
    "        print(\"통신상태\", rqStatus, self.objRq.GetDibMsg1())\n",
    "        if rqStatus != 0:\n",
    "            return False\n",
    " \n",
    "        cnt = self.objRq.GetHeaderValue(2)\n",
    " \n",
    "        for i in range(cnt):\n",
    "            code = self.objRq.GetDataValue(0, i)  # 코드\n",
    "            cur = self.objRq.GetDataValue(1, i)  # 종가\n",
    "            listedStock = self.objRq.GetDataValue(2, i)  # 상장주식수\n",
    "            per = self.objRq.GetDataValue(3, i)  # per\n",
    "            base = self.objRq.GetDataValue(4, i)  # base\n",
    "            face = self.objRq.GetDataValue(5, i)  # 액면가\n",
    " \n",
    "            maketAmt = listedStock * cur\n",
    "            if g_objCodeMgr.IsBigListingStock(code) :\n",
    "                maketAmt *= 1000\n",
    "                listedStock *= 1000\n",
    "                print(code, maketAmt)\n",
    " \n",
    "            # key(종목코드) = tuple(상장주식수, 시가총액)\n",
    "            dataInfo[code] = (listedStock, maketAmt, per, base, face)\n",
    " \n",
    "        return True\n",
    " \n",
    "class CMarketTotal():\n",
    "    def __init__(self):\n",
    "        self.dataInfo = {}\n",
    " \n",
    " \n",
    "    def GetAllMarketTotal(self):\n",
    "        codeList = g_objCodeMgr.GetStockListByMarket(1)  # 거래소\n",
    "        codeList2 = g_objCodeMgr.GetStockListByMarket(2)  # 코스닥\n",
    "        allcodelist = codeList + codeList2\n",
    "        allcodelist = (\"U001\",) + codeList + codeList2\n",
    "        print('전 종목 코드 %d, 거래소 %d, 코스닥 %d' % (len(allcodelist), len(codeList), len(codeList2)))\n",
    " \n",
    "        objMarket = CpMarketEye()\n",
    "        rqCodeList = []\n",
    "        for i, code in enumerate(allcodelist):\n",
    "            rqCodeList.append(code)\n",
    "            if len(rqCodeList) == 200:\n",
    "                objMarket.Request(rqCodeList, self.dataInfo)\n",
    "                rqCodeList = []\n",
    "                continue\n",
    "        # end of for\n",
    " \n",
    "        if len(rqCodeList) > 0:\n",
    "            objMarket.Request(rqCodeList, self.dataInfo)\n",
    " \n",
    "    def PrintMarketTotal(self):\n",
    " \n",
    "        # 시가총액 순으로 소팅\n",
    "        data2 = sorted(self.dataInfo.items(), key=lambda x: x[1][1], reverse=True)\n",
    " \n",
    "        print('전종목 시가총액 순 조회 (%d 종목)' % (len(data2)))\n",
    "        for item in data2:\n",
    "            name = g_objCodeMgr.CodeToName(item[0])\n",
    "            listed = item[1][0]\n",
    "            markettot = item[1][1]\n",
    "            print('%s 상장주식수: %s, 시가총액 %s' %(name, format(listed, ','), format(markettot, ',')))\n",
    " "
   ]
  },
  {
   "cell_type": "code",
   "execution_count": 3,
   "metadata": {},
   "outputs": [
    {
     "name": "stdout",
     "output_type": "stream",
     "text": [
      "전 종목 코드 2972, 거래소 1557, 코스닥 1414\n"
     ]
    },
    {
     "ename": "com_error",
     "evalue": "(-2147352567, '예외가 발생했습니다.', (0, None, 'U-CYBOS가 서버에 접속되어 있지 않습니다.', None, 0, -2147483638), None)",
     "output_type": "error",
     "traceback": [
      "\u001b[1;31m---------------------------------------------------------------------------\u001b[0m",
      "\u001b[1;31mcom_error\u001b[0m                                 Traceback (most recent call last)",
      "\u001b[1;32m<ipython-input-3-600613a18373>\u001b[0m in \u001b[0;36m<module>\u001b[1;34m\u001b[0m\n\u001b[0;32m      1\u001b[0m \u001b[0mobjMarketTotal\u001b[0m \u001b[1;33m=\u001b[0m \u001b[0mCMarketTotal\u001b[0m\u001b[1;33m(\u001b[0m\u001b[1;33m)\u001b[0m\u001b[1;33m\u001b[0m\u001b[1;33m\u001b[0m\u001b[0m\n\u001b[1;32m----> 2\u001b[1;33m \u001b[0mobjMarketTotal\u001b[0m\u001b[1;33m.\u001b[0m\u001b[0mGetAllMarketTotal\u001b[0m\u001b[1;33m(\u001b[0m\u001b[1;33m)\u001b[0m\u001b[1;33m\u001b[0m\u001b[1;33m\u001b[0m\u001b[0m\n\u001b[0m\u001b[0;32m      3\u001b[0m \u001b[0mobjMarketTotal\u001b[0m\u001b[1;33m.\u001b[0m\u001b[0mPrintMarketTotal\u001b[0m\u001b[1;33m(\u001b[0m\u001b[1;33m)\u001b[0m\u001b[1;33m\u001b[0m\u001b[1;33m\u001b[0m\u001b[0m\n",
      "\u001b[1;32m<ipython-input-2-6390d46ae01e>\u001b[0m in \u001b[0;36mGetAllMarketTotal\u001b[1;34m(self)\u001b[0m\n\u001b[0;32m     57\u001b[0m             \u001b[0mrqCodeList\u001b[0m\u001b[1;33m.\u001b[0m\u001b[0mappend\u001b[0m\u001b[1;33m(\u001b[0m\u001b[0mcode\u001b[0m\u001b[1;33m)\u001b[0m\u001b[1;33m\u001b[0m\u001b[1;33m\u001b[0m\u001b[0m\n\u001b[0;32m     58\u001b[0m             \u001b[1;32mif\u001b[0m \u001b[0mlen\u001b[0m\u001b[1;33m(\u001b[0m\u001b[0mrqCodeList\u001b[0m\u001b[1;33m)\u001b[0m \u001b[1;33m==\u001b[0m \u001b[1;36m200\u001b[0m\u001b[1;33m:\u001b[0m\u001b[1;33m\u001b[0m\u001b[1;33m\u001b[0m\u001b[0m\n\u001b[1;32m---> 59\u001b[1;33m                 \u001b[0mobjMarket\u001b[0m\u001b[1;33m.\u001b[0m\u001b[0mRequest\u001b[0m\u001b[1;33m(\u001b[0m\u001b[0mrqCodeList\u001b[0m\u001b[1;33m,\u001b[0m \u001b[0mself\u001b[0m\u001b[1;33m.\u001b[0m\u001b[0mdataInfo\u001b[0m\u001b[1;33m)\u001b[0m\u001b[1;33m\u001b[0m\u001b[1;33m\u001b[0m\u001b[0m\n\u001b[0m\u001b[0;32m     60\u001b[0m                 \u001b[0mrqCodeList\u001b[0m \u001b[1;33m=\u001b[0m \u001b[1;33m[\u001b[0m\u001b[1;33m]\u001b[0m\u001b[1;33m\u001b[0m\u001b[1;33m\u001b[0m\u001b[0m\n\u001b[0;32m     61\u001b[0m                 \u001b[1;32mcontinue\u001b[0m\u001b[1;33m\u001b[0m\u001b[1;33m\u001b[0m\u001b[0m\n",
      "\u001b[1;32m<ipython-input-2-6390d46ae01e>\u001b[0m in \u001b[0;36mRequest\u001b[1;34m(self, codes, dataInfo)\u001b[0m\n\u001b[0;32m     11\u001b[0m         \u001b[0mself\u001b[0m\u001b[1;33m.\u001b[0m\u001b[0mobjRq\u001b[0m\u001b[1;33m.\u001b[0m\u001b[0mSetInputValue\u001b[0m\u001b[1;33m(\u001b[0m\u001b[1;36m0\u001b[0m\u001b[1;33m,\u001b[0m \u001b[0mrqField\u001b[0m\u001b[1;33m)\u001b[0m  \u001b[1;31m# 요청 필드\u001b[0m\u001b[1;33m\u001b[0m\u001b[1;33m\u001b[0m\u001b[0m\n\u001b[0;32m     12\u001b[0m         \u001b[0mself\u001b[0m\u001b[1;33m.\u001b[0m\u001b[0mobjRq\u001b[0m\u001b[1;33m.\u001b[0m\u001b[0mSetInputValue\u001b[0m\u001b[1;33m(\u001b[0m\u001b[1;36m1\u001b[0m\u001b[1;33m,\u001b[0m \u001b[0mcodes\u001b[0m\u001b[1;33m)\u001b[0m  \u001b[1;31m# 종목코드 or 종목코드 리스트\u001b[0m\u001b[1;33m\u001b[0m\u001b[1;33m\u001b[0m\u001b[0m\n\u001b[1;32m---> 13\u001b[1;33m         \u001b[0mself\u001b[0m\u001b[1;33m.\u001b[0m\u001b[0mobjRq\u001b[0m\u001b[1;33m.\u001b[0m\u001b[0mBlockRequest\u001b[0m\u001b[1;33m(\u001b[0m\u001b[1;33m)\u001b[0m\u001b[1;33m\u001b[0m\u001b[1;33m\u001b[0m\u001b[0m\n\u001b[0m\u001b[0;32m     14\u001b[0m \u001b[1;33m\u001b[0m\u001b[0m\n\u001b[0;32m     15\u001b[0m         \u001b[1;31m# 현재가 통신 및 통신 에러 처리\u001b[0m\u001b[1;33m\u001b[0m\u001b[1;33m\u001b[0m\u001b[1;33m\u001b[0m\u001b[0m\n",
      "\u001b[1;32mC:\\Anaconda3-32\\lib\\site-packages\\win32com\\client\\dynamic.py\u001b[0m in \u001b[0;36mBlockRequest\u001b[1;34m(self)\u001b[0m\n",
      "\u001b[1;31mcom_error\u001b[0m: (-2147352567, '예외가 발생했습니다.', (0, None, 'U-CYBOS가 서버에 접속되어 있지 않습니다.', None, 0, -2147483638), None)"
     ]
    }
   ],
   "source": [
    "objMarketTotal = CMarketTotal()\n",
    "objMarketTotal.GetAllMarketTotal()\n",
    "objMarketTotal.PrintMarketTotal()"
   ]
  },
  {
   "cell_type": "code",
   "execution_count": 4,
   "metadata": {},
   "outputs": [],
   "source": [
    "data2 = sorted(objMarketTotal.dataInfo.items(), key=lambda x: x[1][1], reverse=True)"
   ]
  },
  {
   "cell_type": "code",
   "execution_count": 5,
   "metadata": {},
   "outputs": [
    {
     "data": {
      "text/plain": [
       "('A005930', (5969782000, 297892121800000, 15.760000228881836, 778046, 100))"
      ]
     },
     "execution_count": 5,
     "metadata": {},
     "output_type": "execute_result"
    }
   ],
   "source": [
    "data2[0]"
   ]
  },
  {
   "cell_type": "code",
   "execution_count": 6,
   "metadata": {},
   "outputs": [],
   "source": [
    "MarketTotal = []\n",
    "\n",
    "for item in data2:\n",
    "    name = g_objCodeMgr.CodeToName(item[0])\n",
    "    listed = item[1][0]\n",
    "    markettot = item[1][1]\n",
    "    per = item[1][2]\n",
    "    eps = item[1][3]\n",
    "    face = item[1][4]\n",
    "    \n",
    "    MarketTotal.append([name, item[0], listed, markettot, per, eps, face])"
   ]
  },
  {
   "cell_type": "code",
   "execution_count": 7,
   "metadata": {},
   "outputs": [],
   "source": [
    "import pandas as pd"
   ]
  },
  {
   "cell_type": "code",
   "execution_count": 8,
   "metadata": {},
   "outputs": [
    {
     "data": {
      "text/plain": [
       "'10,000,000,000.0'"
      ]
     },
     "execution_count": 8,
     "metadata": {},
     "output_type": "execute_result"
    }
   ],
   "source": [
    "format(1e+10, \",\")"
   ]
  },
  {
   "cell_type": "code",
   "execution_count": 9,
   "metadata": {},
   "outputs": [
    {
     "data": {
      "text/plain": [
       "'1,000,000,000,000.0'"
      ]
     },
     "execution_count": 9,
     "metadata": {},
     "output_type": "execute_result"
    }
   ],
   "source": [
    "format(1e+12, \",\")"
   ]
  },
  {
   "cell_type": "code",
   "execution_count": 10,
   "metadata": {},
   "outputs": [],
   "source": [
    "pdMarketTotal = pd.DataFrame(MarketTotal)"
   ]
  },
  {
   "cell_type": "code",
   "execution_count": 11,
   "metadata": {},
   "outputs": [
    {
     "data": {
      "text/plain": [
       "2974"
      ]
     },
     "execution_count": 11,
     "metadata": {},
     "output_type": "execute_result"
    }
   ],
   "source": [
    "len(pdMarketTotal)"
   ]
  },
  {
   "cell_type": "code",
   "execution_count": 12,
   "metadata": {},
   "outputs": [],
   "source": [
    "pdMarketTotal.to_csv(\"../data/KRX_LIST.csv\", index=None)"
   ]
  },
  {
   "cell_type": "code",
   "execution_count": 13,
   "metadata": {},
   "outputs": [],
   "source": [
    "pdMarketTotal.columns = \"Name,Code,Stock,capitalization,per,base,face\".split(\",\")"
   ]
  },
  {
   "cell_type": "code",
   "execution_count": 14,
   "metadata": {},
   "outputs": [
    {
     "data": {
      "text/html": [
       "<div>\n",
       "<style scoped>\n",
       "    .dataframe tbody tr th:only-of-type {\n",
       "        vertical-align: middle;\n",
       "    }\n",
       "\n",
       "    .dataframe tbody tr th {\n",
       "        vertical-align: top;\n",
       "    }\n",
       "\n",
       "    .dataframe thead th {\n",
       "        text-align: right;\n",
       "    }\n",
       "</style>\n",
       "<table border=\"1\" class=\"dataframe\">\n",
       "  <thead>\n",
       "    <tr style=\"text-align: right;\">\n",
       "      <th></th>\n",
       "      <th>Name</th>\n",
       "      <th>Code</th>\n",
       "      <th>Stock</th>\n",
       "      <th>capitalization</th>\n",
       "      <th>per</th>\n",
       "      <th>base</th>\n",
       "      <th>face</th>\n",
       "    </tr>\n",
       "  </thead>\n",
       "  <tbody>\n",
       "    <tr>\n",
       "      <td>2973</td>\n",
       "      <td>종합주가지수</td>\n",
       "      <td>U001</td>\n",
       "      <td>0</td>\n",
       "      <td>0.0</td>\n",
       "      <td>0.0</td>\n",
       "      <td>0</td>\n",
       "      <td>0</td>\n",
       "    </tr>\n",
       "  </tbody>\n",
       "</table>\n",
       "</div>"
      ],
      "text/plain": [
       "        Name  Code  Stock  capitalization  per  base  face\n",
       "2973  종합주가지수  U001      0             0.0  0.0     0     0"
      ]
     },
     "execution_count": 14,
     "metadata": {},
     "output_type": "execute_result"
    }
   ],
   "source": [
    "pdMarketTotal.loc[pdMarketTotal.Code == \"U001\"]"
   ]
  },
  {
   "cell_type": "code",
   "execution_count": 15,
   "metadata": {},
   "outputs": [
    {
     "data": {
      "text/html": [
       "<div>\n",
       "<style scoped>\n",
       "    .dataframe tbody tr th:only-of-type {\n",
       "        vertical-align: middle;\n",
       "    }\n",
       "\n",
       "    .dataframe tbody tr th {\n",
       "        vertical-align: top;\n",
       "    }\n",
       "\n",
       "    .dataframe thead th {\n",
       "        text-align: right;\n",
       "    }\n",
       "</style>\n",
       "<table border=\"1\" class=\"dataframe\">\n",
       "  <thead>\n",
       "    <tr style=\"text-align: right;\">\n",
       "      <th></th>\n",
       "      <th>Name</th>\n",
       "      <th>Code</th>\n",
       "      <th>Stock</th>\n",
       "      <th>capitalization</th>\n",
       "      <th>per</th>\n",
       "      <th>base</th>\n",
       "      <th>face</th>\n",
       "    </tr>\n",
       "  </thead>\n",
       "  <tbody>\n",
       "    <tr>\n",
       "      <td>102</td>\n",
       "      <td>KODEX 200선물인버스2X</td>\n",
       "      <td>A252670</td>\n",
       "      <td>320900000</td>\n",
       "      <td>2.056969e+12</td>\n",
       "      <td>0.0</td>\n",
       "      <td>0</td>\n",
       "      <td>0</td>\n",
       "    </tr>\n",
       "  </tbody>\n",
       "</table>\n",
       "</div>"
      ],
      "text/plain": [
       "                 Name     Code      Stock  capitalization  per  base  face\n",
       "102  KODEX 200선물인버스2X  A252670  320900000    2.056969e+12  0.0     0     0"
      ]
     },
     "execution_count": 15,
     "metadata": {},
     "output_type": "execute_result"
    }
   ],
   "source": [
    "pdMarketTotal.loc[pdMarketTotal.Name == \"KODEX 200선물인버스2X\"]"
   ]
  },
  {
   "cell_type": "code",
   "execution_count": 16,
   "metadata": {},
   "outputs": [
    {
     "data": {
      "text/html": [
       "<div>\n",
       "<style scoped>\n",
       "    .dataframe tbody tr th:only-of-type {\n",
       "        vertical-align: middle;\n",
       "    }\n",
       "\n",
       "    .dataframe tbody tr th {\n",
       "        vertical-align: top;\n",
       "    }\n",
       "\n",
       "    .dataframe thead th {\n",
       "        text-align: right;\n",
       "    }\n",
       "</style>\n",
       "<table border=\"1\" class=\"dataframe\">\n",
       "  <thead>\n",
       "    <tr style=\"text-align: right;\">\n",
       "      <th></th>\n",
       "      <th>Name</th>\n",
       "      <th>Code</th>\n",
       "      <th>Stock</th>\n",
       "      <th>capitalization</th>\n",
       "      <th>per</th>\n",
       "      <th>base</th>\n",
       "      <th>face</th>\n",
       "    </tr>\n",
       "  </thead>\n",
       "  <tbody>\n",
       "    <tr>\n",
       "      <td>1471</td>\n",
       "      <td>KODEX 미국S&amp;P500선물(H)</td>\n",
       "      <td>A219480</td>\n",
       "      <td>5750000</td>\n",
       "      <td>8.052875e+10</td>\n",
       "      <td>0.0</td>\n",
       "      <td>0</td>\n",
       "      <td>0</td>\n",
       "    </tr>\n",
       "  </tbody>\n",
       "</table>\n",
       "</div>"
      ],
      "text/plain": [
       "                     Name     Code    Stock  capitalization  per  base  face\n",
       "1471  KODEX 미국S&P500선물(H)  A219480  5750000    8.052875e+10  0.0     0     0"
      ]
     },
     "execution_count": 16,
     "metadata": {},
     "output_type": "execute_result"
    }
   ],
   "source": [
    "pdMarketTotal.loc[pdMarketTotal.Name == \"KODEX 미국S&P500선물(H)\"]"
   ]
  },
  {
   "cell_type": "code",
   "execution_count": 17,
   "metadata": {},
   "outputs": [
    {
     "data": {
      "text/html": [
       "<div>\n",
       "<style scoped>\n",
       "    .dataframe tbody tr th:only-of-type {\n",
       "        vertical-align: middle;\n",
       "    }\n",
       "\n",
       "    .dataframe tbody tr th {\n",
       "        vertical-align: top;\n",
       "    }\n",
       "\n",
       "    .dataframe thead th {\n",
       "        text-align: right;\n",
       "    }\n",
       "</style>\n",
       "<table border=\"1\" class=\"dataframe\">\n",
       "  <thead>\n",
       "    <tr style=\"text-align: right;\">\n",
       "      <th></th>\n",
       "      <th>Name</th>\n",
       "      <th>Code</th>\n",
       "      <th>Stock</th>\n",
       "      <th>capitalization</th>\n",
       "      <th>per</th>\n",
       "      <th>base</th>\n",
       "      <th>face</th>\n",
       "    </tr>\n",
       "  </thead>\n",
       "  <tbody>\n",
       "    <tr>\n",
       "      <td>1471</td>\n",
       "      <td>KODEX 미국S&amp;P500선물(H)</td>\n",
       "      <td>A219480</td>\n",
       "      <td>5750000</td>\n",
       "      <td>8.052875e+10</td>\n",
       "      <td>0.0</td>\n",
       "      <td>0</td>\n",
       "      <td>0</td>\n",
       "    </tr>\n",
       "  </tbody>\n",
       "</table>\n",
       "</div>"
      ],
      "text/plain": [
       "                     Name     Code    Stock  capitalization  per  base  face\n",
       "1471  KODEX 미국S&P500선물(H)  A219480  5750000    8.052875e+10  0.0     0     0"
      ]
     },
     "execution_count": 17,
     "metadata": {},
     "output_type": "execute_result"
    }
   ],
   "source": [
    "pdMarketTotal.loc[pdMarketTotal.Name == \"KODEX 미국S&P500선물(H)\"]"
   ]
  },
  {
   "cell_type": "code",
   "execution_count": 18,
   "metadata": {},
   "outputs": [
    {
     "data": {
      "text/html": [
       "<div>\n",
       "<style scoped>\n",
       "    .dataframe tbody tr th:only-of-type {\n",
       "        vertical-align: middle;\n",
       "    }\n",
       "\n",
       "    .dataframe tbody tr th {\n",
       "        vertical-align: top;\n",
       "    }\n",
       "\n",
       "    .dataframe thead th {\n",
       "        text-align: right;\n",
       "    }\n",
       "</style>\n",
       "<table border=\"1\" class=\"dataframe\">\n",
       "  <thead>\n",
       "    <tr style=\"text-align: right;\">\n",
       "      <th></th>\n",
       "      <th>Name</th>\n",
       "      <th>Code</th>\n",
       "      <th>Stock</th>\n",
       "      <th>capitalization</th>\n",
       "      <th>per</th>\n",
       "      <th>base</th>\n",
       "      <th>face</th>\n",
       "    </tr>\n",
       "  </thead>\n",
       "  <tbody>\n",
       "    <tr>\n",
       "      <td>1234</td>\n",
       "      <td>잉글우드랩</td>\n",
       "      <td>A950140</td>\n",
       "      <td>19867866</td>\n",
       "      <td>1.043063e+11</td>\n",
       "      <td>46.049999</td>\n",
       "      <td>0</td>\n",
       "      <td>0</td>\n",
       "    </tr>\n",
       "  </tbody>\n",
       "</table>\n",
       "</div>"
      ],
      "text/plain": [
       "       Name     Code     Stock  capitalization        per  base  face\n",
       "1234  잉글우드랩  A950140  19867866    1.043063e+11  46.049999     0     0"
      ]
     },
     "execution_count": 18,
     "metadata": {},
     "output_type": "execute_result"
    }
   ],
   "source": [
    "pdMarketTotal.loc[pdMarketTotal.Code == \"A950140\"]"
   ]
  },
  {
   "cell_type": "code",
   "execution_count": 19,
   "metadata": {},
   "outputs": [
    {
     "data": {
      "text/html": [
       "<div>\n",
       "<style scoped>\n",
       "    .dataframe tbody tr th:only-of-type {\n",
       "        vertical-align: middle;\n",
       "    }\n",
       "\n",
       "    .dataframe tbody tr th {\n",
       "        vertical-align: top;\n",
       "    }\n",
       "\n",
       "    .dataframe thead th {\n",
       "        text-align: right;\n",
       "    }\n",
       "</style>\n",
       "<table border=\"1\" class=\"dataframe\">\n",
       "  <thead>\n",
       "    <tr style=\"text-align: right;\">\n",
       "      <th></th>\n",
       "      <th>Name</th>\n",
       "      <th>Code</th>\n",
       "      <th>Stock</th>\n",
       "      <th>capitalization</th>\n",
       "      <th>per</th>\n",
       "      <th>base</th>\n",
       "      <th>face</th>\n",
       "    </tr>\n",
       "  </thead>\n",
       "  <tbody>\n",
       "    <tr>\n",
       "      <td>623</td>\n",
       "      <td>엘브이엠씨홀딩스</td>\n",
       "      <td>A900140</td>\n",
       "      <td>51120439</td>\n",
       "      <td>2.510014e+11</td>\n",
       "      <td>0.0</td>\n",
       "      <td>12</td>\n",
       "      <td>0</td>\n",
       "    </tr>\n",
       "  </tbody>\n",
       "</table>\n",
       "</div>"
      ],
      "text/plain": [
       "         Name     Code     Stock  capitalization  per  base  face\n",
       "623  엘브이엠씨홀딩스  A900140  51120439    2.510014e+11  0.0    12     0"
      ]
     },
     "execution_count": 19,
     "metadata": {},
     "output_type": "execute_result"
    }
   ],
   "source": [
    "pdMarketTotal.loc[pdMarketTotal.Code == \"A900140\"]"
   ]
  },
  {
   "cell_type": "code",
   "execution_count": 20,
   "metadata": {},
   "outputs": [
    {
     "data": {
      "text/html": [
       "<div>\n",
       "<style scoped>\n",
       "    .dataframe tbody tr th:only-of-type {\n",
       "        vertical-align: middle;\n",
       "    }\n",
       "\n",
       "    .dataframe tbody tr th {\n",
       "        vertical-align: top;\n",
       "    }\n",
       "\n",
       "    .dataframe thead th {\n",
       "        text-align: right;\n",
       "    }\n",
       "</style>\n",
       "<table border=\"1\" class=\"dataframe\">\n",
       "  <thead>\n",
       "    <tr style=\"text-align: right;\">\n",
       "      <th></th>\n",
       "      <th>Name</th>\n",
       "      <th>Code</th>\n",
       "      <th>Stock</th>\n",
       "      <th>capitalization</th>\n",
       "      <th>per</th>\n",
       "      <th>base</th>\n",
       "      <th>face</th>\n",
       "    </tr>\n",
       "  </thead>\n",
       "  <tbody>\n",
       "    <tr>\n",
       "      <td>0</td>\n",
       "      <td>삼성전자</td>\n",
       "      <td>A005930</td>\n",
       "      <td>5969782000</td>\n",
       "      <td>2.978921e+14</td>\n",
       "      <td>15.76</td>\n",
       "      <td>778046</td>\n",
       "      <td>100</td>\n",
       "    </tr>\n",
       "  </tbody>\n",
       "</table>\n",
       "</div>"
      ],
      "text/plain": [
       "   Name     Code       Stock  capitalization    per    base  face\n",
       "0  삼성전자  A005930  5969782000    2.978921e+14  15.76  778046   100"
      ]
     },
     "execution_count": 20,
     "metadata": {},
     "output_type": "execute_result"
    }
   ],
   "source": [
    "pdMarketTotal.loc[pdMarketTotal.Code == \"A005930\"]"
   ]
  },
  {
   "cell_type": "code",
   "execution_count": 21,
   "metadata": {},
   "outputs": [
    {
     "data": {
      "text/html": [
       "<div>\n",
       "<style scoped>\n",
       "    .dataframe tbody tr th:only-of-type {\n",
       "        vertical-align: middle;\n",
       "    }\n",
       "\n",
       "    .dataframe tbody tr th {\n",
       "        vertical-align: top;\n",
       "    }\n",
       "\n",
       "    .dataframe thead th {\n",
       "        text-align: right;\n",
       "    }\n",
       "</style>\n",
       "<table border=\"1\" class=\"dataframe\">\n",
       "  <thead>\n",
       "    <tr style=\"text-align: right;\">\n",
       "      <th></th>\n",
       "      <th>Name</th>\n",
       "      <th>Code</th>\n",
       "      <th>Stock</th>\n",
       "      <th>capitalization</th>\n",
       "      <th>per</th>\n",
       "      <th>base</th>\n",
       "      <th>face</th>\n",
       "    </tr>\n",
       "  </thead>\n",
       "  <tbody>\n",
       "    <tr>\n",
       "      <td>1</td>\n",
       "      <td>SK하이닉스</td>\n",
       "      <td>A000660</td>\n",
       "      <td>728002365</td>\n",
       "      <td>5.984179e+13</td>\n",
       "      <td>29.709999</td>\n",
       "      <td>3657652</td>\n",
       "      <td>5000</td>\n",
       "    </tr>\n",
       "  </tbody>\n",
       "</table>\n",
       "</div>"
      ],
      "text/plain": [
       "     Name     Code      Stock  capitalization        per     base  face\n",
       "1  SK하이닉스  A000660  728002365    5.984179e+13  29.709999  3657652  5000"
      ]
     },
     "execution_count": 21,
     "metadata": {},
     "output_type": "execute_result"
    }
   ],
   "source": [
    "pdMarketTotal.loc[pdMarketTotal.Code == \"A000660\"]"
   ]
  },
  {
   "cell_type": "code",
   "execution_count": 22,
   "metadata": {
    "scrolled": true
   },
   "outputs": [],
   "source": [
    "# pdMarketTotal_not_etf = pdMarketTotal.loc[(\n",
    "#     (pdMarketTotal[\"Name\"].apply(lambda x: x.find(\"KODEX\") < 0)) &\n",
    "#     (pdMarketTotal[\"Name\"].apply(lambda x: x.find(\"TIGER\") < 0)) &\n",
    "#     (pdMarketTotal[\"Name\"].apply(lambda x: x.find(\"KBSTAR\") < 0)) &\n",
    "#     (pdMarketTotal[\"Name\"].apply(lambda x: x.find(\"HANARO\") < 0)) &\n",
    "#     (pdMarketTotal[\"Name\"].apply(lambda x: x.find(\"ARIRANG\") < 0)) &\n",
    "#     (pdMarketTotal[\"Name\"].apply(lambda x: x.find(\"KINDEX\") < 0)) &\n",
    "#     (pdMarketTotal[\"Name\"].apply(lambda x: x.find(\"KOSEF\") < 0)) &\n",
    "#     (pdMarketTotal[\"Name\"].apply(lambda x: x.find(\"SMART\") < 0)) &\n",
    "#     (pdMarketTotal[\"Name\"].apply(lambda x: x.find(\"TREX\") < 0)) &\n",
    "#     (pdMarketTotal[\"Name\"].apply(lambda x: x.find(\"OTM\") < 0)) &\n",
    "#     (pdMarketTotal[\"Name\"].apply(lambda x: x.find(\"ATM\") < 0)) &\n",
    "#     (pdMarketTotal[\"Name\"].apply(lambda x: x.find(\"ETN\") < 0)) &\n",
    "#     (pdMarketTotal[\"Name\"].apply(lambda x: x.find(\"ETF\") < 0)) \n",
    "# )]"
   ]
  },
  {
   "cell_type": "code",
   "execution_count": 23,
   "metadata": {},
   "outputs": [],
   "source": [
    "pdMarketTotal = pdMarketTotal[pdMarketTotal.Code.apply(lambda x: not x.endswith(\"K\"))]\n",
    "pdMarketTotal = pdMarketTotal[pdMarketTotal.Code.apply(lambda x: not x.startswith(\"Q\"))]"
   ]
  },
  {
   "cell_type": "code",
   "execution_count": 24,
   "metadata": {},
   "outputs": [],
   "source": [
    "KOSPI = pdMarketTotal.loc[(\n",
    "    (pdMarketTotal.Stock == 0)\n",
    "), \"Name,Code,Stock,capitalization\".split(\",\")]"
   ]
  },
  {
   "cell_type": "code",
   "execution_count": 25,
   "metadata": {},
   "outputs": [],
   "source": [
    "KOSPI[\"type\"] = \"index\""
   ]
  },
  {
   "cell_type": "code",
   "execution_count": 26,
   "metadata": {},
   "outputs": [],
   "source": [
    "STOCK = pdMarketTotal.loc[(\n",
    "    ((pdMarketTotal.face > 0) & \n",
    "     (pdMarketTotal.base > 0) & \n",
    "     (pdMarketTotal.per > 0) & \n",
    "     (pdMarketTotal.Stock > 1e+7) &\n",
    "     (pdMarketTotal.capitalization > 1e+12))\n",
    "), \"Name,Code,Stock,capitalization\".split(\",\")]"
   ]
  },
  {
   "cell_type": "code",
   "execution_count": 27,
   "metadata": {},
   "outputs": [],
   "source": [
    "STOCK[\"type\"] = \"stock\""
   ]
  },
  {
   "cell_type": "code",
   "execution_count": 28,
   "metadata": {},
   "outputs": [],
   "source": [
    "ETF = pdMarketTotal.loc[(\n",
    "    ((pdMarketTotal.face == 0) & \n",
    "     (pdMarketTotal.base == 0) & \n",
    "     (pdMarketTotal.per == 0) & \n",
    "     (pdMarketTotal.capitalization > 1e+10))\n",
    "), \"Name,Code,Stock,capitalization\".split(\",\")]"
   ]
  },
  {
   "cell_type": "code",
   "execution_count": 29,
   "metadata": {},
   "outputs": [],
   "source": [
    "ETF[\"type\"] = 'etf'"
   ]
  },
  {
   "cell_type": "code",
   "execution_count": 30,
   "metadata": {},
   "outputs": [],
   "source": [
    "concat = pd.concat([KOSPI, STOCK, ETF])"
   ]
  },
  {
   "cell_type": "code",
   "execution_count": 31,
   "metadata": {},
   "outputs": [
    {
     "data": {
      "text/html": [
       "<div>\n",
       "<style scoped>\n",
       "    .dataframe tbody tr th:only-of-type {\n",
       "        vertical-align: middle;\n",
       "    }\n",
       "\n",
       "    .dataframe tbody tr th {\n",
       "        vertical-align: top;\n",
       "    }\n",
       "\n",
       "    .dataframe thead th {\n",
       "        text-align: right;\n",
       "    }\n",
       "</style>\n",
       "<table border=\"1\" class=\"dataframe\">\n",
       "  <thead>\n",
       "    <tr style=\"text-align: right;\">\n",
       "      <th></th>\n",
       "      <th>Name</th>\n",
       "      <th>Code</th>\n",
       "      <th>Stock</th>\n",
       "      <th>capitalization</th>\n",
       "      <th>type</th>\n",
       "    </tr>\n",
       "  </thead>\n",
       "  <tbody>\n",
       "    <tr>\n",
       "      <td>2973</td>\n",
       "      <td>종합주가지수</td>\n",
       "      <td>U001</td>\n",
       "      <td>0</td>\n",
       "      <td>0.000000e+00</td>\n",
       "      <td>index</td>\n",
       "    </tr>\n",
       "    <tr>\n",
       "      <td>0</td>\n",
       "      <td>삼성전자</td>\n",
       "      <td>A005930</td>\n",
       "      <td>5969782000</td>\n",
       "      <td>2.978921e+14</td>\n",
       "      <td>stock</td>\n",
       "    </tr>\n",
       "    <tr>\n",
       "      <td>1</td>\n",
       "      <td>SK하이닉스</td>\n",
       "      <td>A000660</td>\n",
       "      <td>728002365</td>\n",
       "      <td>5.984179e+13</td>\n",
       "      <td>stock</td>\n",
       "    </tr>\n",
       "    <tr>\n",
       "      <td>2</td>\n",
       "      <td>삼성바이오로직스</td>\n",
       "      <td>A207940</td>\n",
       "      <td>66165000</td>\n",
       "      <td>3.956667e+13</td>\n",
       "      <td>stock</td>\n",
       "    </tr>\n",
       "    <tr>\n",
       "      <td>4</td>\n",
       "      <td>NAVER</td>\n",
       "      <td>A035420</td>\n",
       "      <td>164263395</td>\n",
       "      <td>3.490597e+13</td>\n",
       "      <td>stock</td>\n",
       "    </tr>\n",
       "    <tr>\n",
       "      <td>...</td>\n",
       "      <td>...</td>\n",
       "      <td>...</td>\n",
       "      <td>...</td>\n",
       "      <td>...</td>\n",
       "      <td>...</td>\n",
       "    </tr>\n",
       "    <tr>\n",
       "      <td>2611</td>\n",
       "      <td>KODEX 헬스케어</td>\n",
       "      <td>A266420</td>\n",
       "      <td>700000</td>\n",
       "      <td>1.038100e+10</td>\n",
       "      <td>etf</td>\n",
       "    </tr>\n",
       "    <tr>\n",
       "      <td>2615</td>\n",
       "      <td>HANARO e커머스</td>\n",
       "      <td>A322400</td>\n",
       "      <td>950000</td>\n",
       "      <td>1.026950e+10</td>\n",
       "      <td>etf</td>\n",
       "    </tr>\n",
       "    <tr>\n",
       "      <td>2618</td>\n",
       "      <td>KODEX TRF5050</td>\n",
       "      <td>A329660</td>\n",
       "      <td>1000000</td>\n",
       "      <td>1.023000e+10</td>\n",
       "      <td>etf</td>\n",
       "    </tr>\n",
       "    <tr>\n",
       "      <td>2619</td>\n",
       "      <td>KODEX TRF7030</td>\n",
       "      <td>A329670</td>\n",
       "      <td>1000000</td>\n",
       "      <td>1.021000e+10</td>\n",
       "      <td>etf</td>\n",
       "    </tr>\n",
       "    <tr>\n",
       "      <td>2620</td>\n",
       "      <td>TIGER 글로벌자원생산기업(합성 H)</td>\n",
       "      <td>A276000</td>\n",
       "      <td>1100000</td>\n",
       "      <td>1.019700e+10</td>\n",
       "      <td>etf</td>\n",
       "    </tr>\n",
       "  </tbody>\n",
       "</table>\n",
       "<p>384 rows × 5 columns</p>\n",
       "</div>"
      ],
      "text/plain": [
       "                       Name     Code       Stock  capitalization   type\n",
       "2973                 종합주가지수     U001           0    0.000000e+00  index\n",
       "0                      삼성전자  A005930  5969782000    2.978921e+14  stock\n",
       "1                    SK하이닉스  A000660   728002365    5.984179e+13  stock\n",
       "2                  삼성바이오로직스  A207940    66165000    3.956667e+13  stock\n",
       "4                     NAVER  A035420   164263395    3.490597e+13  stock\n",
       "...                     ...      ...         ...             ...    ...\n",
       "2611             KODEX 헬스케어  A266420      700000    1.038100e+10    etf\n",
       "2615            HANARO e커머스  A322400      950000    1.026950e+10    etf\n",
       "2618          KODEX TRF5050  A329660     1000000    1.023000e+10    etf\n",
       "2619          KODEX TRF7030  A329670     1000000    1.021000e+10    etf\n",
       "2620  TIGER 글로벌자원생산기업(합성 H)  A276000     1100000    1.019700e+10    etf\n",
       "\n",
       "[384 rows x 5 columns]"
      ]
     },
     "execution_count": 31,
     "metadata": {},
     "output_type": "execute_result"
    }
   ],
   "source": [
    "concat"
   ]
  },
  {
   "cell_type": "code",
   "execution_count": 40,
   "metadata": {},
   "outputs": [],
   "source": [
    "concat.to_csv(\"../data/SELECT_LIST.csv\", index=None)"
   ]
  }
 ],
 "metadata": {
  "kernelspec": {
   "display_name": "Python 3",
   "language": "python",
   "name": "python3"
  },
  "language_info": {
   "codemirror_mode": {
    "name": "ipython",
    "version": 3
   },
   "file_extension": ".py",
   "mimetype": "text/x-python",
   "name": "python",
   "nbconvert_exporter": "python",
   "pygments_lexer": "ipython3",
   "version": "3.7.4"
  }
 },
 "nbformat": 4,
 "nbformat_minor": 2
}
