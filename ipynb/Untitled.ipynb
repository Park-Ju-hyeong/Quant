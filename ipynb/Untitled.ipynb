{
 "cells": [
  {
   "cell_type": "code",
   "execution_count": 1,
   "metadata": {},
   "outputs": [],
   "source": [
    "import numpy as np\n",
    "import pandas as pd\n",
    "\n",
    "from datetime import datetime"
   ]
  },
  {
   "cell_type": "code",
   "execution_count": 2,
   "metadata": {},
   "outputs": [],
   "source": [
    "def splitDate(date):\n",
    "    date = str(date)\n",
    "    Y = int(date[:4])\n",
    "    M = int(date[4:6])\n",
    "    D = int(date[6:])\n",
    "    return (Y, M, D)"
   ]
  },
  {
   "cell_type": "code",
   "execution_count": 3,
   "metadata": {},
   "outputs": [],
   "source": [
    "def getWeek(date):\n",
    "    return datetime(*date).weekday()"
   ]
  },
  {
   "cell_type": "code",
   "execution_count": 4,
   "metadata": {},
   "outputs": [],
   "source": [
    "read_csv = pd.read_csv(\"/Users/jooh8/Documents/GitHub/Quant/data/A000660/Index_A000660.txt\", sep=\" \", low_memory=False)"
   ]
  },
  {
   "cell_type": "code",
   "execution_count": 5,
   "metadata": {
    "scrolled": true
   },
   "outputs": [],
   "source": [
    "read_csv[\"DoW\"] = read_csv[\"날짜\"].apply(lambda x: getWeek(splitDate(x)))"
   ]
  },
  {
   "cell_type": "code",
   "execution_count": 6,
   "metadata": {},
   "outputs": [],
   "source": [
    "weekList = []\n",
    "preW = 0\n",
    "week = 0\n",
    "\n",
    "for W in read_csv[\"DoW\"]:\n",
    "    if W < preW:\n",
    "        week += 1\n",
    "    weekList.append(week)\n",
    "    preW = W"
   ]
  },
  {
   "cell_type": "code",
   "execution_count": 7,
   "metadata": {},
   "outputs": [],
   "source": [
    "read_csv[\"WEEK\"] = weekList"
   ]
  },
  {
   "cell_type": "code",
   "execution_count": 8,
   "metadata": {},
   "outputs": [],
   "source": [
    "for period in range(10):\n",
    "    \n",
    "    read_csv[\"고가_{}\".format(period)] = read_csv[\"고가\"].shift(periods=period).fillna(0)"
   ]
  },
  {
   "cell_type": "code",
   "execution_count": 9,
   "metadata": {},
   "outputs": [],
   "source": [
    "for period in range(10):\n",
    "    \n",
    "    read_csv[\"최고가_{}\".format(period)] = read_csv[[\"고가_{}\".format(i) for i in range(period + 1)]].apply(np.max, 1)"
   ]
  },
  {
   "cell_type": "code",
   "execution_count": 10,
   "metadata": {
    "scrolled": true
   },
   "outputs": [],
   "source": [
    "for period in range(10):\n",
    "    \n",
    "    read_csv[\"Target_{}\".format(period)] = read_csv[\"시가\"] * 1.05 < read_csv[\"고가_{}\".format(period)]"
   ]
  },
  {
   "cell_type": "code",
   "execution_count": 11,
   "metadata": {},
   "outputs": [],
   "source": [
    "columns = list(read_csv.columns)"
   ]
  },
  {
   "cell_type": "code",
   "execution_count": 12,
   "metadata": {
    "scrolled": true
   },
   "outputs": [
    {
     "data": {
      "text/plain": [
       "['날짜',\n",
       " '시가',\n",
       " '고가',\n",
       " '저가',\n",
       " '종가',\n",
       " '거래량',\n",
       " '거래대금',\n",
       " '상장주식수',\n",
       " '시가총액',\n",
       " '외국인현보유수량',\n",
       " '기관순매수',\n",
       " 'A Ratio_20',\n",
       " 'B Ratio_20',\n",
       " 'Aroon_20 Up',\n",
       " 'Down',\n",
       " 'Aroon Osillator_20',\n",
       " 'ATR_14',\n",
       " 'BB-RSI_종가_10',\n",
       " 'BB-RSI_20_2.00 상한',\n",
       " 'BB-RSI 하한',\n",
       " 'BPDL RSI_14',\n",
       " 'BPDL Stochatic_14',\n",
       " 'Chande Momentum Oscillator_10',\n",
       " \"Chaikin's Volatility_14,14\",\n",
       " 'CompuTrac Volatility_10',\n",
       " '+DI_14',\n",
       " '-DI_14',\n",
       " 'ADX_14',\n",
       " 'ADXR_14',\n",
       " '+DI(simple)_14',\n",
       " '-DI(simple)_14',\n",
       " 'ADX(simple)_14,14',\n",
       " 'ADXR(simple)_14,14,14',\n",
       " 'Energy+_14',\n",
       " 'Energy-_14',\n",
       " 'High Low Envelope_1',\n",
       " 'High Low Oscillator_3',\n",
       " 'Inertia_20,14,10',\n",
       " 'Klinger Oscillator',\n",
       " 'Linear Trend Oscillator_10,20',\n",
       " 'LRS_종가,14',\n",
       " 'Mass Index_20,9',\n",
       " 'Morris Mixed Momentum',\n",
       " 'New BPDL HiLo Index MA_14,7',\n",
       " 'Open Difference_15',\n",
       " 'QStick_14',\n",
       " 'Random Walk Index_15,3',\n",
       " 'RCI_5',\n",
       " 'RCI_9',\n",
       " 'RCI_13',\n",
       " 'RCI_18',\n",
       " 'Relative Volatility Index_단순,14,10',\n",
       " 'Reverse 단기_12',\n",
       " ' 장기_24',\n",
       " 'RSI_종가,14',\n",
       " 'RSI(simple)_종가,14',\n",
       " 'Sigma_종가,20',\n",
       " 'SMI_5,3,3',\n",
       " 'Standard Deviation_14,2.00',\n",
       " 'Standard Error_종가,14',\n",
       " 'Fast %K_5',\n",
       " 'Fast %D_3',\n",
       " 'Slow %K_5,3',\n",
       " 'Slow %D_3',\n",
       " 'Slow(Simple) %K_5,3',\n",
       " 'Slow(Simple) %D_3',\n",
       " 'StochOsc_5,3',\n",
       " 'TRIX기울기_종가,14',\n",
       " 'True Range',\n",
       " 'TSF Oscillator_종가,14,28',\n",
       " 'VHF_14',\n",
       " 'CCI_14',\n",
       " 'DoW',\n",
       " 'WEEK',\n",
       " '고가_0',\n",
       " '고가_1',\n",
       " '고가_2',\n",
       " '고가_3',\n",
       " '고가_4',\n",
       " '고가_5',\n",
       " '고가_6',\n",
       " '고가_7',\n",
       " '고가_8',\n",
       " '고가_9',\n",
       " '최고가_0',\n",
       " '최고가_1',\n",
       " '최고가_2',\n",
       " '최고가_3',\n",
       " '최고가_4',\n",
       " '최고가_5',\n",
       " '최고가_6',\n",
       " '최고가_7',\n",
       " '최고가_8',\n",
       " '최고가_9',\n",
       " 'Target_0',\n",
       " 'Target_1',\n",
       " 'Target_2',\n",
       " 'Target_3',\n",
       " 'Target_4',\n",
       " 'Target_5',\n",
       " 'Target_6',\n",
       " 'Target_7',\n",
       " 'Target_8',\n",
       " 'Target_9']"
      ]
     },
     "execution_count": 12,
     "metadata": {},
     "output_type": "execute_result"
    }
   ],
   "source": [
    "columns"
   ]
  },
  {
   "cell_type": "code",
   "execution_count": 13,
   "metadata": {
    "scrolled": true
   },
   "outputs": [
    {
     "name": "stdout",
     "output_type": "stream",
     "text": [
      "['A Ratio_20', 'B Ratio_20', 'Aroon_20 Up', 'Down', 'Aroon Osillator_20', 'ATR_14', 'BB-RSI_종가_10', 'BB-RSI_20_2.00 상한', 'BB-RSI 하한', 'BPDL RSI_14', 'BPDL Stochatic_14', 'Chande Momentum Oscillator_10', \"Chaikin's Volatility_14,14\", 'CompuTrac Volatility_10', '+DI_14', '-DI_14', 'ADX_14', 'ADXR_14', '+DI(simple)_14', '-DI(simple)_14', 'ADX(simple)_14,14', 'ADXR(simple)_14,14,14', 'Energy+_14', 'Energy-_14', 'High Low Envelope_1', 'High Low Oscillator_3', 'Inertia_20,14,10', 'Klinger Oscillator', 'Linear Trend Oscillator_10,20', 'LRS_종가,14', 'Mass Index_20,9', 'Morris Mixed Momentum', 'New BPDL HiLo Index MA_14,7', 'Open Difference_15', 'QStick_14', 'Random Walk Index_15,3', 'RCI_5', 'RCI_9', 'RCI_13', 'RCI_18', 'Relative Volatility Index_단순,14,10', 'Reverse 단기_12', ' 장기_24', 'RSI_종가,14', 'RSI(simple)_종가,14', 'Sigma_종가,20', 'SMI_5,3,3', 'Standard Deviation_14,2.00', 'Standard Error_종가,14', 'Fast %K_5', 'Fast %D_3', 'Slow %K_5,3', 'Slow %D_3', 'Slow(Simple) %K_5,3', 'Slow(Simple) %D_3', 'StochOsc_5,3', 'TRIX기울기_종가,14', 'True Range', 'TSF Oscillator_종가,14,28', 'VHF_14', 'CCI_14']\n"
     ]
    }
   ],
   "source": [
    "momentums = columns[11:-32]\n",
    "print(momentums)"
   ]
  },
  {
   "cell_type": "code",
   "execution_count": 14,
   "metadata": {},
   "outputs": [
    {
     "name": "stdout",
     "output_type": "stream",
     "text": [
      "['Target_0', 'Target_1', 'Target_2', 'Target_3', 'Target_4', 'Target_5', 'Target_6', 'Target_7', 'Target_8', 'Target_9']\n"
     ]
    }
   ],
   "source": [
    "targets = columns[-10:]\n",
    "print(targets)"
   ]
  },
  {
   "cell_type": "code",
   "execution_count": 15,
   "metadata": {
    "scrolled": true
   },
   "outputs": [],
   "source": [
    "X_train = read_csv[-2000:-100][momentums]\n",
    "Y_train = read_csv[-2000:-100][targets]"
   ]
  },
  {
   "cell_type": "code",
   "execution_count": 16,
   "metadata": {},
   "outputs": [
    {
     "data": {
      "text/plain": [
       "Target_0     32\n",
       "Target_1     72\n",
       "Target_2    189\n",
       "Target_3    282\n",
       "Target_4    345\n",
       "Target_5    366\n",
       "Target_6    402\n",
       "Target_7    409\n",
       "Target_8    438\n",
       "Target_9    458\n",
       "dtype: int64"
      ]
     },
     "execution_count": 16,
     "metadata": {},
     "output_type": "execute_result"
    }
   ],
   "source": [
    "Y_train.apply(np.sum, 0)"
   ]
  },
  {
   "cell_type": "code",
   "execution_count": 17,
   "metadata": {
    "scrolled": true
   },
   "outputs": [],
   "source": [
    "X_test = read_csv[-100:][momentums]\n",
    "Y_test = read_csv[-100:][targets]"
   ]
  },
  {
   "cell_type": "code",
   "execution_count": 18,
   "metadata": {},
   "outputs": [
    {
     "data": {
      "text/plain": [
       "Target_0     2\n",
       "Target_1     1\n",
       "Target_2    10\n",
       "Target_3    16\n",
       "Target_4    23\n",
       "Target_5    22\n",
       "Target_6    22\n",
       "Target_7    23\n",
       "Target_8    21\n",
       "Target_9    27\n",
       "dtype: int64"
      ]
     },
     "execution_count": 18,
     "metadata": {},
     "output_type": "execute_result"
    }
   ],
   "source": [
    "Y_test.apply(np.sum, 0)"
   ]
  },
  {
   "cell_type": "code",
   "execution_count": 19,
   "metadata": {},
   "outputs": [],
   "source": [
    "from sklearn.multioutput import MultiOutputClassifier\n",
    "from sklearn.ensemble import RandomForestClassifier\n",
    "from sklearn.metrics import confusion_matrix, classification_report\n",
    "from sklearn import preprocessing\n",
    "import numpy as np"
   ]
  },
  {
   "cell_type": "code",
   "execution_count": 20,
   "metadata": {},
   "outputs": [
    {
     "name": "stderr",
     "output_type": "stream",
     "text": [
      "C:\\Users\\jooh8\\Anaconda3\\lib\\site-packages\\sklearn\\preprocessing\\data.py:625: DataConversionWarning: Data with input dtype object were all converted to float64 by StandardScaler.\n",
      "  return self.partial_fit(X, y)\n"
     ]
    }
   ],
   "source": [
    "scaler = preprocessing.StandardScaler().fit(X_train)"
   ]
  },
  {
   "cell_type": "code",
   "execution_count": 21,
   "metadata": {},
   "outputs": [],
   "source": [
    "forest = RandomForestClassifier(n_estimators=500, random_state=1, max_depth=5)"
   ]
  },
  {
   "cell_type": "code",
   "execution_count": 22,
   "metadata": {},
   "outputs": [],
   "source": [
    "multi_target_forest = MultiOutputClassifier(forest, n_jobs=-1)"
   ]
  },
  {
   "cell_type": "code",
   "execution_count": 23,
   "metadata": {},
   "outputs": [
    {
     "name": "stderr",
     "output_type": "stream",
     "text": [
      "C:\\Users\\jooh8\\Anaconda3\\lib\\site-packages\\ipykernel_launcher.py:1: DataConversionWarning: Data with input dtype object were all converted to float64 by StandardScaler.\n",
      "  \"\"\"Entry point for launching an IPython kernel.\n"
     ]
    },
    {
     "data": {
      "text/plain": [
       "MultiOutputClassifier(estimator=RandomForestClassifier(bootstrap=True, class_weight=None, criterion='gini',\n",
       "            max_depth=5, max_features='auto', max_leaf_nodes=None,\n",
       "            min_impurity_decrease=0.0, min_impurity_split=None,\n",
       "            min_samples_leaf=1, min_samples_split=2,\n",
       "            min_weight_fraction_leaf=0.0, n_estimators=500, n_jobs=None,\n",
       "            oob_score=False, random_state=1, verbose=0, warm_start=False),\n",
       "           n_jobs=-1)"
      ]
     },
     "execution_count": 23,
     "metadata": {},
     "output_type": "execute_result"
    }
   ],
   "source": [
    "multi_target_forest.fit(scaler.transform(X_train), Y_train)"
   ]
  },
  {
   "cell_type": "code",
   "execution_count": 24,
   "metadata": {
    "scrolled": false
   },
   "outputs": [
    {
     "name": "stderr",
     "output_type": "stream",
     "text": [
      "C:\\Users\\jooh8\\Anaconda3\\lib\\site-packages\\ipykernel_launcher.py:1: DataConversionWarning: Data with input dtype object were all converted to float64 by StandardScaler.\n",
      "  \"\"\"Entry point for launching an IPython kernel.\n"
     ]
    }
   ],
   "source": [
    "predict = multi_target_forest.predict(scaler.transform(X_train))"
   ]
  },
  {
   "cell_type": "code",
   "execution_count": 25,
   "metadata": {
    "scrolled": true
   },
   "outputs": [],
   "source": [
    "corr = predict == Y_train"
   ]
  },
  {
   "cell_type": "code",
   "execution_count": 26,
   "metadata": {},
   "outputs": [
    {
     "data": {
      "text/plain": [
       "Target_0    0.994211\n",
       "Target_1    0.971579\n",
       "Target_2    0.941579\n",
       "Target_3    0.931579\n",
       "Target_4    0.935789\n",
       "Target_5    0.935263\n",
       "Target_6    0.940526\n",
       "Target_7    0.947368\n",
       "Target_8    0.952632\n",
       "Target_9    0.953158\n",
       "dtype: float64"
      ]
     },
     "execution_count": 26,
     "metadata": {},
     "output_type": "execute_result"
    }
   ],
   "source": [
    "corr.apply(np.mean, 0)"
   ]
  },
  {
   "cell_type": "code",
   "execution_count": 27,
   "metadata": {},
   "outputs": [
    {
     "data": {
      "text/plain": [
       "0.9503684210526316"
      ]
     },
     "execution_count": 27,
     "metadata": {},
     "output_type": "execute_result"
    }
   ],
   "source": [
    "np.mean(corr.apply(np.mean, 0))"
   ]
  },
  {
   "cell_type": "code",
   "execution_count": 28,
   "metadata": {
    "scrolled": true
   },
   "outputs": [
    {
     "name": "stderr",
     "output_type": "stream",
     "text": [
      "C:\\Users\\jooh8\\Anaconda3\\lib\\site-packages\\ipykernel_launcher.py:1: DataConversionWarning: Data with input dtype object were all converted to float64 by StandardScaler.\n",
      "  \"\"\"Entry point for launching an IPython kernel.\n"
     ]
    }
   ],
   "source": [
    "predict = multi_target_forest.predict(scaler.transform(X_test))"
   ]
  },
  {
   "cell_type": "code",
   "execution_count": 29,
   "metadata": {
    "scrolled": true
   },
   "outputs": [],
   "source": [
    "corr = predict == Y_test"
   ]
  },
  {
   "cell_type": "code",
   "execution_count": 30,
   "metadata": {},
   "outputs": [
    {
     "data": {
      "text/plain": [
       "Target_0    0.98\n",
       "Target_1    0.99\n",
       "Target_2    0.88\n",
       "Target_3    0.96\n",
       "Target_4    0.87\n",
       "Target_5    0.91\n",
       "Target_6    0.91\n",
       "Target_7    0.95\n",
       "Target_8    0.96\n",
       "Target_9    0.96\n",
       "dtype: float64"
      ]
     },
     "execution_count": 30,
     "metadata": {},
     "output_type": "execute_result"
    }
   ],
   "source": [
    "corr.apply(np.mean, 0)"
   ]
  },
  {
   "cell_type": "code",
   "execution_count": 31,
   "metadata": {},
   "outputs": [
    {
     "data": {
      "text/plain": [
       "0.937"
      ]
     },
     "execution_count": 31,
     "metadata": {},
     "output_type": "execute_result"
    }
   ],
   "source": [
    "np.mean(corr.apply(np.mean, 0))"
   ]
  },
  {
   "cell_type": "code",
   "execution_count": 32,
   "metadata": {},
   "outputs": [],
   "source": [
    "cm = confusion_matrix(np.array(Y_test[\"Target_9\"]), predict[:, 9])"
   ]
  },
  {
   "cell_type": "code",
   "execution_count": 33,
   "metadata": {},
   "outputs": [],
   "source": [
    "Sensitivity = cm[1, 1] / np.sum(cm[:, 1])\n",
    "Accuracy = np.sum(cm.diagonal()) / np.sum(cm)"
   ]
  },
  {
   "cell_type": "code",
   "execution_count": 34,
   "metadata": {},
   "outputs": [
    {
     "data": {
      "text/plain": [
       "(0.896551724137931, 0.96)"
      ]
     },
     "execution_count": 34,
     "metadata": {},
     "output_type": "execute_result"
    }
   ],
   "source": [
    "Sensitivity, Accuracy"
   ]
  },
  {
   "cell_type": "code",
   "execution_count": 35,
   "metadata": {},
   "outputs": [
    {
     "data": {
      "text/plain": [
       "'(0.8666666666666667, 0.95)'"
      ]
     },
     "execution_count": 35,
     "metadata": {},
     "output_type": "execute_result"
    }
   ],
   "source": [
    "\"\"\"(0.8666666666666667, 0.95)\"\"\""
   ]
  }
 ],
 "metadata": {
  "kernelspec": {
   "display_name": "Python 3",
   "language": "python",
   "name": "python3"
  },
  "language_info": {
   "codemirror_mode": {
    "name": "ipython",
    "version": 3
   },
   "file_extension": ".py",
   "mimetype": "text/x-python",
   "name": "python",
   "nbconvert_exporter": "python",
   "pygments_lexer": "ipython3",
   "version": "3.7.1"
  }
 },
 "nbformat": 4,
 "nbformat_minor": 2
}
