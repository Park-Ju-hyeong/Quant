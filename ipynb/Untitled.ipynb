{
 "cells": [
  {
   "cell_type": "code",
   "execution_count": 1,
   "metadata": {},
   "outputs": [],
   "source": [
    "import codecs\n",
    "import ctypes\n",
    "import os\n",
    "import subprocess\n",
    "import pandas as pd"
   ]
  },
  {
   "cell_type": "code",
   "execution_count": 2,
   "metadata": {},
   "outputs": [],
   "source": [
    "from tqdm import tqdm"
   ]
  },
  {
   "cell_type": "code",
   "execution_count": 3,
   "metadata": {},
   "outputs": [],
   "source": [
    "import codecs\n",
    "import time\n",
    "import logging, logging.config\n",
    "from datetime import datetime, timedelta"
   ]
  },
  {
   "cell_type": "code",
   "execution_count": 4,
   "metadata": {},
   "outputs": [],
   "source": [
    "import subprocess\n",
    "import time\n",
    "import win32com.client\n",
    "import pandas as pd"
   ]
  },
  {
   "cell_type": "code",
   "execution_count": 5,
   "metadata": {},
   "outputs": [],
   "source": [
    "import numpy as np\n",
    "import pandas as pd"
   ]
  },
  {
   "cell_type": "code",
   "execution_count": 6,
   "metadata": {},
   "outputs": [],
   "source": [
    "objCpCybos = win32com.client.Dispatch(\"CpUtil.CpCybos\")\n",
    "objStockOrder = win32com.client.Dispatch(\"CpTrade.CpTd0311\")\n",
    "objTrade =  win32com.client.Dispatch(\"CpTrade.CpTdUtil\")\n",
    "objRq = win32com.client.Dispatch(\"CpTrade.CpTd6033\")\n",
    "objTdNew = win32com.client.Dispatch('CpTrade.CpTdNew5331A') "
   ]
  },
  {
   "cell_type": "code",
   "execution_count": 7,
   "metadata": {},
   "outputs": [],
   "source": [
    "objSeries = win32com.client.Dispatch(\"CpIndexes.CpSeries\")\n",
    "objIndex = win32com.client.Dispatch(\"CpIndexes.CpIndex\")"
   ]
  },
  {
   "cell_type": "code",
   "execution_count": 8,
   "metadata": {},
   "outputs": [
    {
     "data": {
      "text/plain": [
       "'\\n0 - 가격지표\\n1 - 대신개발지표\\n2 - 추세지표\\n3 - 변동성지표\\n4 - 거래량지표\\n5 - 기간활용지표\\n6 - 투자자별지표\\n'"
      ]
     },
     "execution_count": 8,
     "metadata": {},
     "output_type": "execute_result"
    }
   ],
   "source": [
    "\"\"\"\n",
    "0 - 가격지표\n",
    "1 - 대신개발지표\n",
    "2 - 추세지표\n",
    "3 - 변동성지표\n",
    "4 - 거래량지표\n",
    "5 - 기간활용지표\n",
    "6 - 투자자별지표\n",
    "\"\"\""
   ]
  },
  {
   "cell_type": "code",
   "execution_count": 9,
   "metadata": {
    "scrolled": true
   },
   "outputs": [],
   "source": [
    "# objIndex.GetChartIndexCodeListByIndex(3)"
   ]
  },
  {
   "cell_type": "code",
   "execution_count": 10,
   "metadata": {},
   "outputs": [],
   "source": [
    "IndexList = [\n",
    "#     '이격도',\n",
    "    'AB Ratio',\n",
    "#     'ADX',\n",
    "#     'ADXR',\n",
    "    'Aroon',\n",
    "    'Aroon Osillator',\n",
    "    'ATR',\n",
    "    'BB-RSI',\n",
    "    'BPDL RSI',\n",
    "    'BPDL Stochatic',\n",
    "    'Chande Momentum Oscillator',\n",
    "    \"Chaikin's Volatility\",\n",
    "    'CompuTrac Volatility',\n",
    "    'DMI',\n",
    "    'DMI(simple)',\n",
    "    'Energy',\n",
    "    'High Low Envelope',\n",
    "    'High Low Oscillator',\n",
    "    'Inertia',\n",
    "    'Klinger Oscillator',\n",
    "    'Linear Trend Oscillator',\n",
    "    'LRS',\n",
    "    'Mass Index',\n",
    "    'Morris Mixed Momentum',\n",
    "    'New BPDL HiLo Index MA',\n",
    "    'Open Difference',\n",
    "    'QStick',\n",
    "    'Random Walk Index',\n",
    "    'RCI',\n",
    "    'Relative Volatility Index',\n",
    "    'Reverse',\n",
    "    'RSI',\n",
    "    'RSI(simple)',\n",
    "#     'RSI(stochastic)',\n",
    "    'R-Squared',\n",
    "    'Sigma',\n",
    "    'SMI',\n",
    "    'Standard Deviation',\n",
    "    'Standard Error',\n",
    "    'Stochastic Fast',\n",
    "    'Stochastic Slow',\n",
    "    'Stochastic(simple)',\n",
    "    'Stochastic Oscillator',\n",
    "    'TRIX기울기',\n",
    "    'True Range',\n",
    "    'TSF Oscillator',\n",
    "    'VHF'\n",
    "]"
   ]
  },
  {
   "cell_type": "code",
   "execution_count": 11,
   "metadata": {},
   "outputs": [],
   "source": [
    "data = pd.read_table(\"/Users/jooh8/Documents/GitHub/Quant/data/A005930/DAY_A005930.txt\", delimiter=\" \")"
   ]
  },
  {
   "cell_type": "code",
   "execution_count": 12,
   "metadata": {
    "scrolled": true
   },
   "outputs": [],
   "source": [
    "tolist = data[\"종가 시가 고가 저가 거래량\".split(\" \")].values.tolist()"
   ]
  },
  {
   "cell_type": "code",
   "execution_count": 13,
   "metadata": {},
   "outputs": [
    {
     "name": "stdout",
     "output_type": "stream",
     "text": [
      "10592\n"
     ]
    }
   ],
   "source": [
    "print(len(tolist))"
   ]
  },
  {
   "cell_type": "code",
   "execution_count": 14,
   "metadata": {},
   "outputs": [],
   "source": [
    "for close, open, high, low, vol in tolist:\n",
    "\n",
    "    objSeries.Add(close, open, high, low, vol)\n",
    "    \n",
    "objIndex.series = objSeries"
   ]
  },
  {
   "cell_type": "code",
   "execution_count": 15,
   "metadata": {},
   "outputs": [
    {
     "name": "stderr",
     "output_type": "stream",
     "text": [
      "\r",
      "  0%|                                         | 0/43 [00:00<?, ?it/s]"
     ]
    },
    {
     "name": "stdout",
     "output_type": "stream",
     "text": [
      "AB Ratio\n",
      "################################################################################\n"
     ]
    },
    {
     "name": "stderr",
     "output_type": "stream",
     "text": [
      "\r",
      "  2%|▊                                | 1/43 [00:00<00:05,  7.35it/s]"
     ]
    },
    {
     "name": "stdout",
     "output_type": "stream",
     "text": [
      "Aroon\n",
      "################################################################################\n"
     ]
    },
    {
     "name": "stderr",
     "output_type": "stream",
     "text": [
      "\r",
      "  5%|█▌                               | 2/43 [00:00<00:05,  7.59it/s]"
     ]
    },
    {
     "name": "stdout",
     "output_type": "stream",
     "text": [
      "Aroon Osillator\n",
      "################################################################################\n",
      "ATR\n",
      "################################################################################\n"
     ]
    },
    {
     "name": "stderr",
     "output_type": "stream",
     "text": [
      "\r",
      "  9%|███                              | 4/43 [00:00<00:04,  8.05it/s]"
     ]
    },
    {
     "name": "stdout",
     "output_type": "stream",
     "text": [
      "BB-RSI\n",
      "################################################################################\n"
     ]
    },
    {
     "name": "stderr",
     "output_type": "stream",
     "text": [
      "\r",
      " 12%|███▊                             | 5/43 [00:00<00:05,  7.47it/s]"
     ]
    },
    {
     "name": "stdout",
     "output_type": "stream",
     "text": [
      "BPDL RSI\n",
      "################################################################################\n"
     ]
    },
    {
     "name": "stderr",
     "output_type": "stream",
     "text": [
      "\r",
      " 14%|████▌                            | 6/43 [00:00<00:04,  7.62it/s]"
     ]
    },
    {
     "name": "stdout",
     "output_type": "stream",
     "text": [
      "BPDL Stochatic\n",
      "################################################################################\n"
     ]
    },
    {
     "name": "stderr",
     "output_type": "stream",
     "text": [
      "\r",
      " 16%|█████▎                           | 7/43 [00:00<00:04,  7.79it/s]"
     ]
    },
    {
     "name": "stdout",
     "output_type": "stream",
     "text": [
      "Chande Momentum Oscillator\n",
      "################################################################################\n",
      "Chaikin's Volatility\n",
      "################################################################################\n"
     ]
    },
    {
     "name": "stderr",
     "output_type": "stream",
     "text": [
      "\r",
      " 21%|██████▉                          | 9/43 [00:01<00:03,  8.57it/s]"
     ]
    },
    {
     "name": "stdout",
     "output_type": "stream",
     "text": [
      "CompuTrac Volatility\n",
      "################################################################################\n",
      "DMI\n",
      "################################################################################\n"
     ]
    },
    {
     "name": "stderr",
     "output_type": "stream",
     "text": [
      "\r",
      " 26%|████████▏                       | 11/43 [00:01<00:03,  8.06it/s]"
     ]
    },
    {
     "name": "stdout",
     "output_type": "stream",
     "text": [
      "DMI(simple)\n",
      "################################################################################\n"
     ]
    },
    {
     "name": "stderr",
     "output_type": "stream",
     "text": [
      "\r",
      " 28%|████████▉                       | 12/43 [00:01<00:04,  6.91it/s]"
     ]
    },
    {
     "name": "stdout",
     "output_type": "stream",
     "text": [
      "Energy\n",
      "################################################################################\n"
     ]
    },
    {
     "name": "stderr",
     "output_type": "stream",
     "text": [
      "\r",
      " 30%|█████████▋                      | 13/43 [00:01<00:04,  7.27it/s]"
     ]
    },
    {
     "name": "stdout",
     "output_type": "stream",
     "text": [
      "High Low Envelope\n",
      "################################################################################\n",
      "High Low Oscillator\n",
      "################################################################################\n"
     ]
    },
    {
     "name": "stderr",
     "output_type": "stream",
     "text": [
      "\r",
      " 35%|███████████▏                    | 15/43 [00:01<00:03,  8.14it/s]"
     ]
    },
    {
     "name": "stdout",
     "output_type": "stream",
     "text": [
      "Inertia\n",
      "################################################################################\n"
     ]
    },
    {
     "name": "stderr",
     "output_type": "stream",
     "text": [
      "\r",
      " 37%|███████████▉                    | 16/43 [00:01<00:03,  7.98it/s]"
     ]
    },
    {
     "name": "stdout",
     "output_type": "stream",
     "text": [
      "Klinger Oscillator\n",
      "################################################################################\n"
     ]
    },
    {
     "name": "stderr",
     "output_type": "stream",
     "text": [
      "\r",
      " 40%|████████████▋                   | 17/43 [00:02<00:03,  8.02it/s]"
     ]
    },
    {
     "name": "stdout",
     "output_type": "stream",
     "text": [
      "Linear Trend Oscillator\n",
      "################################################################################\n",
      "LRS\n",
      "################################################################################\n"
     ]
    },
    {
     "name": "stderr",
     "output_type": "stream",
     "text": [
      "\r",
      " 44%|██████████████▏                 | 19/43 [00:02<00:02,  8.40it/s]"
     ]
    },
    {
     "name": "stdout",
     "output_type": "stream",
     "text": [
      "Mass Index\n",
      "################################################################################\n"
     ]
    },
    {
     "name": "stderr",
     "output_type": "stream",
     "text": [
      "\r",
      " 47%|██████████████▉                 | 20/43 [00:02<00:02,  8.27it/s]"
     ]
    },
    {
     "name": "stdout",
     "output_type": "stream",
     "text": [
      "Morris Mixed Momentum\n",
      "################################################################################\n",
      "New BPDL HiLo Index MA\n",
      "################################################################################\n"
     ]
    },
    {
     "name": "stderr",
     "output_type": "stream",
     "text": [
      "\r",
      " 51%|████████████████▎               | 22/43 [00:02<00:02,  8.98it/s]"
     ]
    },
    {
     "name": "stdout",
     "output_type": "stream",
     "text": [
      "Open Difference\n",
      "################################################################################\n",
      "QStick\n",
      "################################################################################\n"
     ]
    },
    {
     "name": "stderr",
     "output_type": "stream",
     "text": [
      "\r",
      " 56%|█████████████████▊              | 24/43 [00:02<00:02,  9.11it/s]"
     ]
    },
    {
     "name": "stdout",
     "output_type": "stream",
     "text": [
      "Random Walk Index\n",
      "################################################################################\n",
      "RCI\n",
      "################################################################################\n"
     ]
    },
    {
     "name": "stderr",
     "output_type": "stream",
     "text": [
      "\r",
      " 60%|███████████████████▎            | 26/43 [00:03<00:02,  7.90it/s]"
     ]
    },
    {
     "name": "stdout",
     "output_type": "stream",
     "text": [
      "Relative Volatility Index\n",
      "################################################################################\n"
     ]
    },
    {
     "name": "stderr",
     "output_type": "stream",
     "text": [
      "\r",
      " 63%|████████████████████            | 27/43 [00:03<00:02,  7.89it/s]"
     ]
    },
    {
     "name": "stdout",
     "output_type": "stream",
     "text": [
      "Reverse\n",
      "################################################################################\n"
     ]
    },
    {
     "name": "stderr",
     "output_type": "stream",
     "text": [
      "\r",
      " 65%|████████████████████▊           | 28/43 [00:03<00:01,  7.94it/s]"
     ]
    },
    {
     "name": "stdout",
     "output_type": "stream",
     "text": [
      "RSI\n",
      "################################################################################\n"
     ]
    },
    {
     "name": "stderr",
     "output_type": "stream",
     "text": [
      "\r",
      " 67%|█████████████████████▌          | 29/43 [00:03<00:01,  7.98it/s]"
     ]
    },
    {
     "name": "stdout",
     "output_type": "stream",
     "text": [
      "RSI(simple)\n",
      "################################################################################\n"
     ]
    },
    {
     "name": "stderr",
     "output_type": "stream",
     "text": [
      "\r",
      " 70%|██████████████████████▎         | 30/43 [00:03<00:01,  8.06it/s]"
     ]
    },
    {
     "name": "stdout",
     "output_type": "stream",
     "text": [
      "R-Squared\n",
      "################################################################################\n",
      "Sigma\n",
      "################################################################################\n"
     ]
    },
    {
     "name": "stderr",
     "output_type": "stream",
     "text": [
      "\r",
      " 74%|███████████████████████▊        | 32/43 [00:03<00:01,  8.71it/s]"
     ]
    },
    {
     "name": "stdout",
     "output_type": "stream",
     "text": [
      "SMI\n",
      "################################################################################\n"
     ]
    },
    {
     "name": "stderr",
     "output_type": "stream",
     "text": [
      "\r",
      " 77%|████████████████████████▌       | 33/43 [00:03<00:01,  8.55it/s]"
     ]
    },
    {
     "name": "stdout",
     "output_type": "stream",
     "text": [
      "Standard Deviation\n",
      "################################################################################\n"
     ]
    },
    {
     "name": "stderr",
     "output_type": "stream",
     "text": [
      "\r",
      " 79%|█████████████████████████▎      | 34/43 [00:04<00:01,  8.32it/s]"
     ]
    },
    {
     "name": "stdout",
     "output_type": "stream",
     "text": [
      "Standard Error\n",
      "################################################################################\n"
     ]
    },
    {
     "name": "stderr",
     "output_type": "stream",
     "text": [
      "\r",
      " 81%|██████████████████████████      | 35/43 [00:04<00:00,  8.22it/s]"
     ]
    },
    {
     "name": "stdout",
     "output_type": "stream",
     "text": [
      "Stochastic Fast\n",
      "################################################################################\n"
     ]
    },
    {
     "name": "stderr",
     "output_type": "stream",
     "text": [
      "\r",
      " 84%|██████████████████████████▊     | 36/43 [00:04<00:00,  8.21it/s]"
     ]
    },
    {
     "name": "stdout",
     "output_type": "stream",
     "text": [
      "Stochastic Slow\n",
      "################################################################################\n"
     ]
    },
    {
     "name": "stderr",
     "output_type": "stream",
     "text": [
      "\r",
      " 86%|███████████████████████████▌    | 37/43 [00:04<00:00,  8.19it/s]"
     ]
    },
    {
     "name": "stdout",
     "output_type": "stream",
     "text": [
      "Stochastic(simple)\n",
      "################################################################################\n"
     ]
    },
    {
     "name": "stderr",
     "output_type": "stream",
     "text": [
      "\r",
      " 88%|████████████████████████████▎   | 38/43 [00:04<00:00,  8.19it/s]"
     ]
    },
    {
     "name": "stdout",
     "output_type": "stream",
     "text": [
      "Stochastic Oscillator\n",
      "################################################################################\n",
      "TRIX기울기\n",
      "################################################################################\n"
     ]
    },
    {
     "name": "stderr",
     "output_type": "stream",
     "text": [
      "\r",
      " 93%|█████████████████████████████▊  | 40/43 [00:04<00:00,  8.56it/s]"
     ]
    },
    {
     "name": "stdout",
     "output_type": "stream",
     "text": [
      "True Range\n",
      "################################################################################\n",
      "TSF Oscillator\n",
      "################################################################################\n"
     ]
    },
    {
     "name": "stderr",
     "output_type": "stream",
     "text": [
      "\r",
      " 98%|███████████████████████████████▎| 42/43 [00:04<00:00,  9.20it/s]"
     ]
    },
    {
     "name": "stdout",
     "output_type": "stream",
     "text": [
      "VHF\n",
      "################################################################################\n"
     ]
    },
    {
     "name": "stderr",
     "output_type": "stream",
     "text": [
      "100%|████████████████████████████████| 43/43 [00:05<00:00,  8.81it/s]\n"
     ]
    }
   ],
   "source": [
    "for INDEXNAME in tqdm(IndexList):\n",
    "    \n",
    "    print(INDEXNAME)\n",
    "    print(\"#\"*80)\n",
    "    \n",
    "    objIndex.put_IndexKind(INDEXNAME)     # 계산할 지표: MACD\n",
    "    objIndex.put_IndexDefault(INDEXNAME)  # MACD 지표 기본 변수 자동 세팅\n",
    "\n",
    "    indexID = objIndex.GetChartIndexByName(INDEXNAME)\n",
    "    indexName = objIndex.GetLineResults(indexID)\n",
    "\n",
    "    # print(indexID)\n",
    "    # print(indexName)\n",
    "    # print(objIndex.get_Term1(), objIndex.get_Term2(), objIndex.get_Signal())\n",
    "\n",
    "    # 지표 데이터 계산 하기\n",
    "    objIndex.Calculate()\n",
    "    cntofIndex = objIndex.ItemCount\n",
    "\n",
    "    # print(cntofIndex)\n",
    "\n",
    "    creonIndex = {}\n",
    "    for index in range(cntofIndex):\n",
    "        cnt = objIndex.GetCount(index)\n",
    "        creonIndex[indexName[index]] = []\n",
    "        for j in range(cnt) :\n",
    "            value = objIndex.GetResult(index, j)\n",
    "            creonIndex[indexName[index]].append(value)\n",
    "\n",
    "    for k, v in creonIndex.items():\n",
    "        data[k] = v"
   ]
  },
  {
   "cell_type": "code",
   "execution_count": 18,
   "metadata": {},
   "outputs": [
    {
     "data": {
      "text/plain": [
       "Index(['날짜', '시가', '고가', '저가', '종가', '거래량', '거래대금', '상장주식수', '시가총액',\n",
       "       '외국인현보유수량', '기관순매수', 'A Ratio_20', 'B Ratio_20', 'Aroon_20 Up', 'Down',\n",
       "       'Aroon Osillator_20', 'ATR_14', 'Signal_9', 'BB-RSI_종가_10',\n",
       "       'BB-RSI_20_2.00 상한', 'BB-RSI 하한', 'BPDL RSI_14', 'BPDL Stochatic_14',\n",
       "       'Chande Momentum Oscillator_10', 'Chaikin's Volatility_14,14',\n",
       "       'CompuTrac Volatility_10', '+DI_14', '-DI_14', 'ADX_14', 'ADXR_14',\n",
       "       '+DI(simple)_14', '-DI(simple)_14', 'ADX(simple)_14,14',\n",
       "       'ADXR(simple)_14,14,14', 'Energy+_14', 'Energy-_14',\n",
       "       'High Low Envelope_1', 'High Low Oscillator_3', 'Inertia_20,14,10',\n",
       "       'Klinger Oscillator', 'Signal_13', 'Linear Trend Oscillator_10,20',\n",
       "       'LRS_종가,14', 'Mass Index_20,9', 'Morris Mixed Momentum',\n",
       "       'New BPDL HiLo Index MA_14,7', 'Open Difference_15', 'QStick_14',\n",
       "       'Random Walk Index_15,3', 'RCI_5', 'RCI_9', 'RCI_13', 'RCI_18',\n",
       "       'Relative Volatility Index_단순,14,10', 'Signal_단순,9', 'Reverse 단기_12',\n",
       "       ' 장기_24', 'RSI_종가,14', 'RSI(simple)_종가,14', 'Sigma_종가,20', 'SMI_5,3,3',\n",
       "       'Signal_3', 'Standard Deviation_14,2.00', 'Standard Error_종가,14',\n",
       "       'Fast %K_5', 'Fast %D_3', 'Slow %K_5,3', 'Slow %D_3',\n",
       "       'Slow(Simple) %K_5,3', 'Slow(Simple) %D_3', 'StochOsc_5,3',\n",
       "       'TRIX기울기_종가,14', 'True Range', 'TSF Oscillator_종가,14,28', 'VHF_14'],\n",
       "      dtype='object')"
      ]
     },
     "execution_count": 18,
     "metadata": {},
     "output_type": "execute_result"
    }
   ],
   "source": [
    "data.columns"
   ]
  },
  {
   "cell_type": "code",
   "execution_count": 17,
   "metadata": {},
   "outputs": [
    {
     "data": {
      "text/html": [
       "<div>\n",
       "<style scoped>\n",
       "    .dataframe tbody tr th:only-of-type {\n",
       "        vertical-align: middle;\n",
       "    }\n",
       "\n",
       "    .dataframe tbody tr th {\n",
       "        vertical-align: top;\n",
       "    }\n",
       "\n",
       "    .dataframe thead th {\n",
       "        text-align: right;\n",
       "    }\n",
       "</style>\n",
       "<table border=\"1\" class=\"dataframe\">\n",
       "  <thead>\n",
       "    <tr style=\"text-align: right;\">\n",
       "      <th></th>\n",
       "      <th>날짜</th>\n",
       "      <th>시가</th>\n",
       "      <th>고가</th>\n",
       "      <th>저가</th>\n",
       "      <th>종가</th>\n",
       "      <th>거래량</th>\n",
       "      <th>거래대금</th>\n",
       "      <th>상장주식수</th>\n",
       "      <th>시가총액</th>\n",
       "      <th>외국인현보유수량</th>\n",
       "      <th>...</th>\n",
       "      <th>Fast %D_3</th>\n",
       "      <th>Slow %K_5,3</th>\n",
       "      <th>Slow %D_3</th>\n",
       "      <th>Slow(Simple) %K_5,3</th>\n",
       "      <th>Slow(Simple) %D_3</th>\n",
       "      <th>StochOsc_5,3</th>\n",
       "      <th>TRIX기울기_종가,14</th>\n",
       "      <th>True Range</th>\n",
       "      <th>TSF Oscillator_종가,14,28</th>\n",
       "      <th>VHF_14</th>\n",
       "    </tr>\n",
       "  </thead>\n",
       "  <tbody>\n",
       "    <tr>\n",
       "      <th>10587</th>\n",
       "      <td>20190507</td>\n",
       "      <td>45250</td>\n",
       "      <td>45300</td>\n",
       "      <td>44400</td>\n",
       "      <td>44850</td>\n",
       "      <td>12014907</td>\n",
       "      <td>538125000000</td>\n",
       "      <td>5969782000</td>\n",
       "      <td>267744722000000</td>\n",
       "      <td>3420515</td>\n",
       "      <td>...</td>\n",
       "      <td>55.894737</td>\n",
       "      <td>58.695652</td>\n",
       "      <td>74.154787</td>\n",
       "      <td>46.718866</td>\n",
       "      <td>58.417012</td>\n",
       "      <td>-32.210526</td>\n",
       "      <td>-0.010055</td>\n",
       "      <td>900.0</td>\n",
       "      <td>-648.076923</td>\n",
       "      <td>0.448276</td>\n",
       "    </tr>\n",
       "    <tr>\n",
       "      <th>10588</th>\n",
       "      <td>20190508</td>\n",
       "      <td>44300</td>\n",
       "      <td>44850</td>\n",
       "      <td>44200</td>\n",
       "      <td>44250</td>\n",
       "      <td>10398754</td>\n",
       "      <td>462087000000</td>\n",
       "      <td>5969782000</td>\n",
       "      <td>264162853000000</td>\n",
       "      <td>3420231</td>\n",
       "      <td>...</td>\n",
       "      <td>28.688388</td>\n",
       "      <td>30.769231</td>\n",
       "      <td>54.932739</td>\n",
       "      <td>24.549909</td>\n",
       "      <td>41.483461</td>\n",
       "      <td>-26.307435</td>\n",
       "      <td>-0.014113</td>\n",
       "      <td>650.0</td>\n",
       "      <td>-460.317460</td>\n",
       "      <td>0.451613</td>\n",
       "    </tr>\n",
       "    <tr>\n",
       "      <th>10589</th>\n",
       "      <td>20190509</td>\n",
       "      <td>43900</td>\n",
       "      <td>44250</td>\n",
       "      <td>42450</td>\n",
       "      <td>42450</td>\n",
       "      <td>23029718</td>\n",
       "      <td>993612000000</td>\n",
       "      <td>5969782000</td>\n",
       "      <td>253417245000000</td>\n",
       "      <td>3417828</td>\n",
       "      <td>...</td>\n",
       "      <td>8.688388</td>\n",
       "      <td>6.493506</td>\n",
       "      <td>31.986130</td>\n",
       "      <td>12.274955</td>\n",
       "      <td>26.879208</td>\n",
       "      <td>-8.688388</td>\n",
       "      <td>-0.025350</td>\n",
       "      <td>1800.0</td>\n",
       "      <td>-435.012210</td>\n",
       "      <td>0.474359</td>\n",
       "    </tr>\n",
       "    <tr>\n",
       "      <th>10590</th>\n",
       "      <td>20190510</td>\n",
       "      <td>42600</td>\n",
       "      <td>43450</td>\n",
       "      <td>42450</td>\n",
       "      <td>42900</td>\n",
       "      <td>14579512</td>\n",
       "      <td>624673000000</td>\n",
       "      <td>5969782000</td>\n",
       "      <td>256103671000000</td>\n",
       "      <td>3415182</td>\n",
       "      <td>...</td>\n",
       "      <td>4.960317</td>\n",
       "      <td>5.319149</td>\n",
       "      <td>14.193962</td>\n",
       "      <td>12.387477</td>\n",
       "      <td>19.633343</td>\n",
       "      <td>7.539683</td>\n",
       "      <td>-0.029019</td>\n",
       "      <td>1000.0</td>\n",
       "      <td>-451.892552</td>\n",
       "      <td>0.544118</td>\n",
       "    </tr>\n",
       "    <tr>\n",
       "      <th>10591</th>\n",
       "      <td>20190513</td>\n",
       "      <td>42500</td>\n",
       "      <td>43200</td>\n",
       "      <td>42350</td>\n",
       "      <td>42650</td>\n",
       "      <td>7635079</td>\n",
       "      <td>326874000000</td>\n",
       "      <td>5969782000</td>\n",
       "      <td>254611225000000</td>\n",
       "      <td>3414755</td>\n",
       "      <td>...</td>\n",
       "      <td>7.556497</td>\n",
       "      <td>7.317073</td>\n",
       "      <td>6.376576</td>\n",
       "      <td>11.278484</td>\n",
       "      <td>15.455913</td>\n",
       "      <td>2.612994</td>\n",
       "      <td>-0.031157</td>\n",
       "      <td>850.0</td>\n",
       "      <td>-513.858364</td>\n",
       "      <td>0.548148</td>\n",
       "    </tr>\n",
       "  </tbody>\n",
       "</table>\n",
       "<p>5 rows × 75 columns</p>\n",
       "</div>"
      ],
      "text/plain": [
       "             날짜     시가     고가     저가     종가       거래량          거래대금  \\\n",
       "10587  20190507  45250  45300  44400  44850  12014907  538125000000   \n",
       "10588  20190508  44300  44850  44200  44250  10398754  462087000000   \n",
       "10589  20190509  43900  44250  42450  42450  23029718  993612000000   \n",
       "10590  20190510  42600  43450  42450  42900  14579512  624673000000   \n",
       "10591  20190513  42500  43200  42350  42650   7635079  326874000000   \n",
       "\n",
       "            상장주식수             시가총액  외국인현보유수량    ...     Fast %D_3  \\\n",
       "10587  5969782000  267744722000000   3420515    ...     55.894737   \n",
       "10588  5969782000  264162853000000   3420231    ...     28.688388   \n",
       "10589  5969782000  253417245000000   3417828    ...      8.688388   \n",
       "10590  5969782000  256103671000000   3415182    ...      4.960317   \n",
       "10591  5969782000  254611225000000   3414755    ...      7.556497   \n",
       "\n",
       "       Slow %K_5,3  Slow %D_3  Slow(Simple) %K_5,3  Slow(Simple) %D_3  \\\n",
       "10587    58.695652  74.154787            46.718866          58.417012   \n",
       "10588    30.769231  54.932739            24.549909          41.483461   \n",
       "10589     6.493506  31.986130            12.274955          26.879208   \n",
       "10590     5.319149  14.193962            12.387477          19.633343   \n",
       "10591     7.317073   6.376576            11.278484          15.455913   \n",
       "\n",
       "       StochOsc_5,3  TRIX기울기_종가,14  True Range  TSF Oscillator_종가,14,28  \\\n",
       "10587    -32.210526      -0.010055       900.0              -648.076923   \n",
       "10588    -26.307435      -0.014113       650.0              -460.317460   \n",
       "10589     -8.688388      -0.025350      1800.0              -435.012210   \n",
       "10590      7.539683      -0.029019      1000.0              -451.892552   \n",
       "10591      2.612994      -0.031157       850.0              -513.858364   \n",
       "\n",
       "         VHF_14  \n",
       "10587  0.448276  \n",
       "10588  0.451613  \n",
       "10589  0.474359  \n",
       "10590  0.544118  \n",
       "10591  0.548148  \n",
       "\n",
       "[5 rows x 75 columns]"
      ]
     },
     "execution_count": 17,
     "metadata": {},
     "output_type": "execute_result"
    }
   ],
   "source": [
    "data.tail()"
   ]
  },
  {
   "cell_type": "code",
   "execution_count": 16,
   "metadata": {
    "scrolled": true
   },
   "outputs": [
    {
     "data": {
      "text/html": [
       "<div>\n",
       "<style scoped>\n",
       "    .dataframe tbody tr th:only-of-type {\n",
       "        vertical-align: middle;\n",
       "    }\n",
       "\n",
       "    .dataframe tbody tr th {\n",
       "        vertical-align: top;\n",
       "    }\n",
       "\n",
       "    .dataframe thead th {\n",
       "        text-align: right;\n",
       "    }\n",
       "</style>\n",
       "<table border=\"1\" class=\"dataframe\">\n",
       "  <thead>\n",
       "    <tr style=\"text-align: right;\">\n",
       "      <th></th>\n",
       "      <th>StochOsc_5,3</th>\n",
       "      <th>TRIX기울기_종가,14</th>\n",
       "      <th>True Range</th>\n",
       "      <th>TSF Oscillator_종가,14,28</th>\n",
       "      <th>VHF_14</th>\n",
       "    </tr>\n",
       "  </thead>\n",
       "  <tbody>\n",
       "    <tr>\n",
       "      <th>10587</th>\n",
       "      <td>-32.210526</td>\n",
       "      <td>-0.010055</td>\n",
       "      <td>900.0</td>\n",
       "      <td>-648.076923</td>\n",
       "      <td>0.448276</td>\n",
       "    </tr>\n",
       "    <tr>\n",
       "      <th>10588</th>\n",
       "      <td>-26.307435</td>\n",
       "      <td>-0.014113</td>\n",
       "      <td>650.0</td>\n",
       "      <td>-460.317460</td>\n",
       "      <td>0.451613</td>\n",
       "    </tr>\n",
       "    <tr>\n",
       "      <th>10589</th>\n",
       "      <td>-8.688388</td>\n",
       "      <td>-0.025350</td>\n",
       "      <td>1800.0</td>\n",
       "      <td>-435.012210</td>\n",
       "      <td>0.474359</td>\n",
       "    </tr>\n",
       "    <tr>\n",
       "      <th>10590</th>\n",
       "      <td>7.539683</td>\n",
       "      <td>-0.029019</td>\n",
       "      <td>1000.0</td>\n",
       "      <td>-451.892552</td>\n",
       "      <td>0.544118</td>\n",
       "    </tr>\n",
       "    <tr>\n",
       "      <th>10591</th>\n",
       "      <td>2.612994</td>\n",
       "      <td>-0.031157</td>\n",
       "      <td>850.0</td>\n",
       "      <td>-513.858364</td>\n",
       "      <td>0.548148</td>\n",
       "    </tr>\n",
       "  </tbody>\n",
       "</table>\n",
       "</div>"
      ],
      "text/plain": [
       "       StochOsc_5,3  TRIX기울기_종가,14  True Range  TSF Oscillator_종가,14,28  \\\n",
       "10587    -32.210526      -0.010055       900.0              -648.076923   \n",
       "10588    -26.307435      -0.014113       650.0              -460.317460   \n",
       "10589     -8.688388      -0.025350      1800.0              -435.012210   \n",
       "10590      7.539683      -0.029019      1000.0              -451.892552   \n",
       "10591      2.612994      -0.031157       850.0              -513.858364   \n",
       "\n",
       "         VHF_14  \n",
       "10587  0.448276  \n",
       "10588  0.451613  \n",
       "10589  0.474359  \n",
       "10590  0.544118  \n",
       "10591  0.548148  "
      ]
     },
     "execution_count": 16,
     "metadata": {},
     "output_type": "execute_result"
    }
   ],
   "source": [
    "data[data.columns[-5:]].tail()"
   ]
  },
  {
   "cell_type": "code",
   "execution_count": null,
   "metadata": {},
   "outputs": [],
   "source": []
  }
 ],
 "metadata": {
  "kernelspec": {
   "display_name": "Python 3",
   "language": "python",
   "name": "python3"
  },
  "language_info": {
   "codemirror_mode": {
    "name": "ipython",
    "version": 3
   },
   "file_extension": ".py",
   "mimetype": "text/x-python",
   "name": "python",
   "nbconvert_exporter": "python",
   "pygments_lexer": "ipython3",
   "version": "3.7.1"
  }
 },
 "nbformat": 4,
 "nbformat_minor": 2
}
