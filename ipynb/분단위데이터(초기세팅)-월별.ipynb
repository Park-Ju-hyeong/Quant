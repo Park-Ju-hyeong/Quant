{
 "cells": [
  {
   "cell_type": "code",
   "execution_count": 1,
   "metadata": {},
   "outputs": [],
   "source": [
    "import win32com.client\n",
    "import time\n",
    "import shutil\n",
    "import os\n",
    "import codecs\n",
    "import pandas as pd\n",
    "import numpy as np\n",
    "from datetime import datetime\n",
    "from tqdm import tqdm\n",
    "from pywinauto import application\n",
    "from pywinauto import timings"
   ]
  },
  {
   "cell_type": "code",
   "execution_count": 2,
   "metadata": {},
   "outputs": [],
   "source": [
    "# 0: 날짜(ulong)\n",
    "# 1:시간(long) - hhmm\n",
    "# 2:시가(long or float)\n",
    "# 3:고가(long or float)\n",
    "# 4:저가(long or float)\n",
    "# 5:종가(long or float)\n",
    "# 6:전일대비(long or float) - 주) 대비부호(37)과 반드시 같이 요청해야 함\n",
    "# 8:거래량(ulong or ulonglong) 주) 정밀도 만원 단위\n",
    "# 9:거래대금(ulonglong)\n",
    "# 10:누적체결매도수량(ulong or ulonglong) - 호가비교방식 누적체결매도수량\n",
    "# 11:누적체결매수수량(ulong or ulonglong) - 호가비교방식 누적체결매수수량\n",
    "#  (주) 10, 11 필드는 분,틱 요청일 때만 제공\n",
    "# 12:상장주식수(ulonglong)\n",
    "# 13:시가총액(ulonglong)\n",
    "# 14:외국인주문한도수량(ulong)\n",
    "# 15:외국인주문가능수량(ulong)\n",
    "# 16:외국인현보유수량(ulong)\n",
    "# 17:외국인현보유비율(float)\n",
    "# 18:수정주가일자(ulong) - YYYYMMDD\n",
    "# 19:수정주가비율(float)\n",
    "# 20:기관순매수(long)\n",
    "# 21:기관누적순매수(long)\n",
    "# 22:등락주선(long)\n",
    "# 23:등락비율(float)\n",
    "# 24:예탁금(ulonglong)\n",
    "# 25:주식회전율(float)\n",
    "# 26:거래성립률(float)\n",
    "# 37:대비부호(char) - 수신값은 GetHeaderValue 8 대비부호와 동일"
   ]
  },
  {
   "cell_type": "code",
   "execution_count": 3,
   "metadata": {},
   "outputs": [],
   "source": [
    "# In[ ]:\n",
    "\n",
    "\n",
    "class CREON(object):\n",
    "    \"\"\"대신증권 크레온 API\"\"\"\n",
    "    \n",
    "    def __init__(self):\n",
    "        # 연결 여부 체크\n",
    "        self.objCpCybos = win32com.client.Dispatch(\"CpUtil.CpCybos\")\n",
    "        bConnect = self.objCpCybos.IsConnect\n",
    "        if (bConnect == 0):\n",
    "            print(\"PLUS가 정상적으로 연결되지 않음. \")\n",
    "            try:\n",
    "                os.system(\"/Users/juhy9/Documents/GitHub/System/Quant/src/sudo/sudo_creon_plus_login.bat\")\n",
    "                time.sleep(100)\n",
    "            except:\n",
    "                exit()\n",
    "     \n",
    "    def setMethod(self, code, char, from_yyyymmdd=None, to_yyyymmdd=None, count=None):\n",
    "        \"\"\"\n",
    "        count는 보통 상식의 데이터 개수가 아니다.\n",
    "        여기서는 한번 요청 시 가져와지는 데이터의 개수이다.\n",
    "        한번 요청 시 최대 2856개 가능하다.\n",
    "        \n",
    "        원하는 데이터 개수가 있으면 to_yyyymmdd 로 가져온 다음에 잘라서 사용한다.\n",
    "        하루에 분단위 데이터가 381개이다. (* 마지막 10분은 동시호가)\n",
    "        \n",
    "        \"\"\"\n",
    "        # object 구하기\n",
    "        self.objStockChart = win32com.client.Dispatch(\"CpSysDib.StockChart\")\n",
    "        self.objStockChart.SetInputValue(0, code)  # 종목코드\n",
    "        \n",
    "        if to_yyyymmdd:\n",
    "            self.objStockChart.SetInputValue(1, ord('1'))  # 요청 구분 '1': 기간, '2': 개수\n",
    "            self.objStockChart.SetInputValue(2, from_yyyymmdd)  # To 날짜\n",
    "            self.objStockChart.SetInputValue(3, to_yyyymmdd)  # From 날짜\n",
    "        elif count:\n",
    "            self.objStockChart.SetInputValue(1, ord('2'))  # 개수로 받기\n",
    "            self.objStockChart.SetInputValue(4, count)  # 조회 개수\n",
    "        else: raise print(\"기간을 입력해주세요.\")\n",
    "        \n",
    "        if char == \"m\":\n",
    "            # 날짜, 시간,시가,고가,저가,종가,거래량\n",
    "            self.colnames = \"날짜, 시간, 시가, 고가, 저가, 종가, 거래량\".split(\", \")\n",
    "            self.objStockChart.SetInputValue(5, [0, 1, 2, 3, 4, 5, 8])\n",
    "        else:\n",
    "            # 날짜,시가,고가,저가,종가,거래량, 거래대금, 상장주식수, 시가총액, 외국인현보유수량, 기관순매수\n",
    "            self.colnames = \"날짜, 시가, 고가, 저가, 종가, 거래량, 거래대금, 상장주식수, 시가총액, 외국인현보유수량, 기관순매수\".split(\", \")\n",
    "            self.objStockChart.SetInputValue(5, [0, 2, 3, 4, 5, 8, 9, 12, 13, 16, 20])\n",
    "            \n",
    "        self.objStockChart.SetInputValue(6, ord(char))  # '차트 주기 - 분/틱\n",
    "        self.objStockChart.SetInputValue(7, 1)  # 분틱차트 주기\n",
    "        \n",
    "        self.objStockChart.SetInputValue(9, ord('1'))  # 수정주가 사용\n",
    "        \n",
    "        \n",
    "        \n",
    "        self.data = {i: [] for i in self.colnames}\n",
    "        \n",
    "    def checkRequest(self):\n",
    "        \n",
    "        self.objStockChart.BlockRequest()\n",
    "        \n",
    "        rqStatus = self.objStockChart.GetDibStatus()\n",
    "        \n",
    "        if rqStatus != 0: \n",
    "            \n",
    "            return False\n",
    "        \n",
    "#         else:\n",
    "#             print(\"통신상태 양호, 누적 개수 {}\".format(len(self.data[\"date\"])))\n",
    "        \n",
    "        self.count = self.objStockChart.GetHeaderValue(3)\n",
    "        \n",
    "        if self.count <= 1: \n",
    "            \n",
    "            return False\n",
    "        \n",
    "        return int(self.count)\n",
    "    \n",
    "    def checkRemainTime(self):\n",
    "        \n",
    "        # 연속 요청 가능 여부 체크\n",
    "        remainTime = self.objCpCybos.LimitRequestRemainTime / 1000.\n",
    "        remainCount = self.objCpCybos.GetLimitRemainCount(1)  # 시세 제한\n",
    "        \n",
    "        if remainCount <= 0:\n",
    "            print(\"15초당 60건으로 제한합니다.\")\n",
    "            time.sleep(remainTime)\n",
    "            \n",
    "    \n",
    "    def getStockPriceMin(self):\n",
    "        \n",
    "        while 1:\n",
    "        \n",
    "            self.checkRemainTime()\n",
    "            rows = self.checkRequest()\n",
    "\n",
    "            if rows:\n",
    "\n",
    "                for i in range(rows):\n",
    "                    \n",
    "                    for idx, col in enumerate(self.colnames):\n",
    "                    \n",
    "                        self.data[col].append(self.objStockChart.GetDataValue(idx, i))\n",
    "            else:\n",
    "\n",
    "                break\n",
    "                \n",
    "    \n",
    "        return self.data"
   ]
  },
  {
   "cell_type": "code",
   "execution_count": 4,
   "metadata": {},
   "outputs": [],
   "source": [
    "# In[ ]:\n",
    "\n",
    "KOSPI200_LIST = pd.read_csv(\"/Users/juhy9/Documents/GitHub/Quant/data/KOSPI200_LIST.csv\")\n",
    "KOSPI200_LIST = KOSPI200_LIST.values.tolist()"
   ]
  },
  {
   "cell_type": "code",
   "execution_count": 5,
   "metadata": {},
   "outputs": [
    {
     "data": {
      "text/plain": [
       "[['삼성전자', 'A005930', 5969782, 288340470600000.0],\n",
       " ['SK하이닉스', 'A000660', 728002365, 59259392511000.0],\n",
       " ['삼성바이오로직스', 'A207940', 66165000, 35662935000000.0],\n",
       " ['삼성전자우', 'A005935', 822886700, 34396664060000.0],\n",
       " ['셀트리온', 'A068270', 128346619, 27658696394500.0],\n",
       " ['NAVER', 'A035420', 164263395, 27267723570000.0],\n",
       " ['LG화학', 'A051910', 70592343, 22236588045000.0],\n",
       " ['현대차', 'A005380', 213668187, 20896748688600.0],\n",
       " ['LG생활건강', 'A051900', 15618197, 18694981809000.0],\n",
       " ['삼성물산', 'A028260', 189690043, 17489421964600.0],\n",
       " ['삼성SDI', 'A006400', 68764530, 16606633995000.0],\n",
       " ['현대모비스', 'A012330', 95054694, 16539516756000.0],\n",
       " ['POSCO', 'A005490', 87186835, 15780817135000.0],\n",
       " ['SK텔레콤', 'A017670', 80745711, 15341685090000.0],\n",
       " ['엔씨소프트', 'A036570', 21954022, 14292068322000.0],\n",
       " ['신한지주', 'A055550', 482432493, 13749326050500.0],\n",
       " ['카카오', 'A035720', 86957175, 13695755062500.0],\n",
       " ['KB금융', 'A105560', 415807920, 13534547796000.0],\n",
       " ['한국전력', 'A015760', 641964077, 13128165374650.0],\n",
       " ['SK', 'A034730', 70360297, 12313051975000.0],\n",
       " ['기아차', 'A000270', 405363347, 11958218736500.0],\n",
       " ['삼성에스디에스', 'A018260', 77377800, 11761425600000.0],\n",
       " ['KT&G', 'A033780', 137292497, 10626439267800.0],\n",
       " ['LG', 'A003550', 172557131, 10129103589700.0],\n",
       " ['아모레퍼시픽', 'A090430', 58458490, 10025631035000.0],\n",
       " ['삼성생명', 'A032830', 200000000, 9880000000000.0],\n",
       " ['SK이노베이션', 'A096770', 92465564, 8904433813200.0],\n",
       " ['삼성화재', 'A000810', 47374837, 8859094519000.0],\n",
       " ['LG전자', 'A066570', 163647814, 8706063704800.0],\n",
       " ['넷마블', 'A251270', 85789284, 8149981980000.0],\n",
       " ['삼성전기', 'A009150', 74693696, 7432022752000.0],\n",
       " ['S-Oil', 'A010950', 112582792, 7419205992800.0],\n",
       " ['하나금융지주', 'A086790', 300242062, 7385954725200.0],\n",
       " ['고려아연', 'A010130', 18870000, 7217775000000.0],\n",
       " ['롯데케미칼', 'A011170', 34275419, 6169575420000.0],\n",
       " ['KODEX 200', 'A069500', 242150000, 5988369500000.0],\n",
       " ['한국조선해양', 'A009540', 70773116, 5718467772800.0],\n",
       " ['우리금융지주', 'A316140', 722267683, 5705914695700.0],\n",
       " ['KT', 'A030200', 261111808, 5535570329600.0],\n",
       " ['LG유플러스', 'A032640', 436611361, 5086522355650.0],\n",
       " ['강원랜드', 'A035250', 213940500, 5006207700000.0],\n",
       " ['한진칼', 'A180640', 59170458, 4999903701000.0],\n",
       " ['아모레G', 'A002790', 82458180, 4947490800000.0],\n",
       " ['한온시스템', 'A018880', 533800000, 4692102000000.0],\n",
       " ['코웨이', 'A021240', 73799619, 4612476187500.0],\n",
       " ['오리온', 'A271560', 39536132, 4507119048000.0],\n",
       " ['기업은행', 'A024110', 577156979, 4472966587250.0],\n",
       " ['LG디스플레이', 'A034220', 357815700, 3953863485000.0],\n",
       " ['맥쿼리인프라', 'A088980', 349044336, 3891844346400.0],\n",
       " ['현대글로비스', 'A086280', 37500000, 3750000000000.0],\n",
       " ['현대중공업지주', 'A267250', 16286617, 3697062059000.0],\n",
       " ['GS', 'A078930', 92915378, 3632991279800.0],\n",
       " ['CJ제일제당', 'A097950', 15054186, 3447408594000.0],\n",
       " ['현대건설', 'A000720', 111355765, 3446460926750.0],\n",
       " ['KODEX 레버리지', 'A122630', 365600000, 3363520000000.0],\n",
       " ['삼성카드', 'A029780', 115858891, 3354114894450.0],\n",
       " ['미래에셋대우', 'A006800', 658316408, 3311331532240.0],\n",
       " ['유한양행', 'A000100', 66856810, 3192412677500.0],\n",
       " ['에스원', 'A012750', 37999178, 3153931774000.0],\n",
       " ['TIGER 200', 'A102110', 126750000, 3137696250000.0],\n",
       " ['이마트', 'A139480', 27875819, 3108153818500.0],\n",
       " ['한미약품', 'A128940', 11843029, 3061422996500.0],\n",
       " ['CJ대한통운', 'A000120', 22812344, 2988417064000.0],\n",
       " ['호텔신라', 'A008770', 39248121, 2849413584600.0],\n",
       " ['포스코케미칼', 'A003670', 60988220, 2787161654000.0],\n",
       " ['LG이노텍', 'A011070', 23667107, 2780885072500.0],\n",
       " ['롯데지주', 'A004990', 104909237, 2711903776450.0],\n",
       " ['삼성중공업', 'A010140', 630000000, 2696400000000.0],\n",
       " ['한국타이어앤테크놀로지', 'A161390', 123875069, 2650926476600.0],\n",
       " ['DB손해보험', 'A005830', 70800000, 2647920000000.0],\n",
       " ['대림산업', 'A000210', 34800000, 2616960000000.0],\n",
       " ['현대제철', 'A004020', 133445785, 2588848229000.0],\n",
       " ['한국금융지주', 'A071050', 55725992, 2529960036800.0],\n",
       " ['삼성증권', 'A016360', 89300000, 2482540000000.0],\n",
       " ['한국가스공사', 'A036460', 92313000, 2473988400000.0],\n",
       " ['NH투자증권', 'A005940', 281408887, 2434186872550.0],\n",
       " ['롯데쇼핑', 'A023530', 28288755, 2413030801500.0],\n",
       " ['BGF리테일', 'A282330', 17283906, 2402462934000.0],\n",
       " ['GS리테일', 'A007070', 77000000, 2402400000000.0],\n",
       " ['쌍용양회', 'A003410', 503859595, 2393333076250.0],\n",
       " ['현대차2우B', 'A005387', 36485451, 2298583413000.0],\n",
       " ['신세계', 'A004170', 9845181, 2289004582500.0],\n",
       " ['더존비즈온', 'A012510', 29672700, 2281830630000.0],\n",
       " ['삼성엔지니어링', 'A028050', 196000000, 2234400000000.0],\n",
       " ['두산밥캣', 'A241560', 100249166, 2225531485200.0],\n",
       " ['한화솔루션', 'A009830', 161479290, 2188044379500.0],\n",
       " ['한국항공우주', 'A047810', 97475107, 2144452354000.0],\n",
       " ['현대해상', 'A001450', 89400000, 2118780000000.0],\n",
       " ['CJ', 'A001040', 29176998, 2094908456400.0],\n",
       " ['금호석유', 'A011780', 30467691, 2023054682400.0],\n",
       " ['하이트진로', 'A000080', 70133611, 2019847996800.0],\n",
       " ['휠라홀딩스', 'A081660', 60752222, 1944071104000.0],\n",
       " ['오뚜기', 'A007310', 3605237, 1917986084000.0],\n",
       " ['제일기획', 'A030000', 115041225, 1869419906250.0],\n",
       " ['녹십자', 'A006280', 11686538, 1864002811000.0],\n",
       " ['대한항공', 'A003490', 94844634, 1854212594700.0],\n",
       " ['GS건설', 'A006360', 80097804, 1814215260600.0],\n",
       " ['한미사이언스', 'A008930', 66011149, 1795503252800.0],\n",
       " ['농심', 'A004370', 6082642, 1767007501000.0],\n",
       " ['KODEX 200선물인버스2X', 'A252670', 232700000, 1751067500000.0],\n",
       " ['TIGER 단기통안채', 'A157450', 16463000, 1653379090000.0],\n",
       " ['KODEX 단기채권', 'A153130', 15262000, 1559547470000.0],\n",
       " ['KODEX 코스닥150 레버리지', 'A233740', 194700000, 1280152500000.0],\n",
       " ['KODEX 종합채권(AA-이상)액티브', 'A273130', 10918000, 1198086730000.0],\n",
       " ['KODEX MSCI Korea TR', 'A278540', 139800000, 1093935000000.0],\n",
       " ['KODEX 200TR', 'A278530', 135750000, 1057492500000.0],\n",
       " ['TIGER TOP10', 'A292150', 130400000, 1056240000000.0],\n",
       " ['KODEX 삼성그룹', 'A102780', 168200000, 1013405000000.0],\n",
       " ['KODEX 인버스', 'A114800', 115300000, 837078000000.0],\n",
       " ['KODEX 단기채권PLUS', 'A214980', 7309000, 747418340000.0],\n",
       " ['TIGER MSCI Korea TR', 'A310970', 72500000, 711587500000.0],\n",
       " ['KODEX WTI원유선물(H)', 'A261220', 72200000, 583015000000.0],\n",
       " ['KODEX 코스닥 150', 'A229200', 57300000, 539193000000.0],\n",
       " ['KODEX Top5PlusTR', 'A315930', 40700000, 470695500000.0],\n",
       " ['KODEX 코스피', 'A226490', 21900000, 410296500000.0],\n",
       " ['KODEX 코스닥150선물인버스', 'A251340', 46500000, 364095000000.0],\n",
       " ['TIGER 단기채권액티브', 'A272580', 7128000, 358182000000.0],\n",
       " ['KODEX 선진국MSCI World', 'A251350', 25700000, 334485500000.0],\n",
       " ['TIGER 200 IT', 'A139260', 16480000, 327375200000.0],\n",
       " ['TIGER 코스닥150', 'A232080', 33640000, 317561600000.0],\n",
       " ['TIGER 원유선물Enhanced(H)', 'A130680', 135050000, 245791000000.0],\n",
       " ['TIGER 차이나CSI300레버리지(합성)', 'A204480', 11500000, 201825000000.0],\n",
       " ['TIGER 차이나CSI300', 'A192090', 21600000, 184248000000.0],\n",
       " ['TIGER 미국나스닥100', 'A133690', 3900000, 172692000000.0],\n",
       " ['TIGER 중국소비테마', 'A150460', 26010000, 155929950000.0],\n",
       " ['KODEX 골드선물(H)', 'A132030', 12100000, 148104000000.0],\n",
       " ['TIGER 헬스케어', 'A143860', 4600000, 144049000000.0],\n",
       " ['TIGER 글로벌4차산업혁신기술(합성 H)', 'A275980', 12600000, 140490000000.0],\n",
       " ['TIGER 경기방어', 'A139280', 14160000, 136644000000.0],\n",
       " ['TIGER 미국S&P500선물(H)', 'A143850', 3950000, 126360500000.0],\n",
       " ['KODEX 배당가치', 'A325020', 14500000, 120857500000.0],\n",
       " ['KODEX 단기변동금리부채권액티브', 'A273140', 1141000, 116330655000.0],\n",
       " ['TIGER 200선물레버리지', 'A267770', 16400000, 113324000000.0],\n",
       " ['TIGER 코스피', 'A277630', 5800000, 108025000000.0],\n",
       " ['TIGER 코스닥150 레버리지', 'A233160', 13850000, 96811500000.0],\n",
       " ['TIGER 200선물인버스2X', 'A252710', 12300000, 95140500000.0],\n",
       " ['TIGER 미국S&P500레버리지(합성 H)', 'A225040', 6800000, 91936000000.0],\n",
       " ['KODEX KRX300', 'A292190', 7700000, 87780000000.0],\n",
       " ['KODEX 은선물(H)', 'A144600', 25400000, 86233000000.0],\n",
       " ['KODEX 국고채3년', 'A114260', 1440000, 83131200000.0],\n",
       " ['KODEX Fn성장', 'A325010', 7700000, 81658500000.0],\n",
       " ['KODEX 미국S&P500선물(H)', 'A219480', 5700000, 74727000000.0],\n",
       " ['TIGER 부동산인프라고배당', 'A329200', 16650000, 72760500000.0],\n",
       " ['TIGER 차이나HSCEI', 'A245360', 5700000, 69682500000.0],\n",
       " ['TIGER 2차전지테마', 'A305540', 10000000, 64600000000.0],\n",
       " ['TIGER 유로스탁스50(합성 H)', 'A195930', 6300000, 61362000000.0],\n",
       " ['KODEX 미국달러선물', 'A261240', 5530000, 59419850000.0],\n",
       " ['KODEX MSCI Korea', 'A156080', 4900000, 58114000000.0],\n",
       " ['KODEX 2차전지산업', 'A305720', 8400000, 57036000000.0],\n",
       " ['TIGER 미국MSCI리츠(합성 H)', 'A182480', 5000000, 56050000000.0],\n",
       " ['KODEX 중국본토 A50', 'A169950', 3300000, 55935000000.0],\n",
       " ['KODEX 미디어&엔터테인먼트', 'A266360', 4600000, 53498000000.0],\n",
       " ['KODEX 은행', 'A091170', 10250000, 51916250000.0],\n",
       " ['TIGER 인버스', 'A123310', 6500000, 51642500000.0],\n",
       " ['TIGER 미국채10년선물', 'A305080', 4000000, 51500000000.0],\n",
       " ['TIGER 중장기국채', 'A302190', 920000, 49325800000.0],\n",
       " ['KODEX 고배당', 'A279530', 7500000, 49050000000.0],\n",
       " ['KODEX 코스피대형주', 'A337140', 5300000, 46295500000.0],\n",
       " ['KODEX 중국본토CSI300', 'A283580', 4600000, 45885000000.0],\n",
       " ['TIGER 국채3년', 'A114820', 390000, 43492800000.0],\n",
       " ['KODEX 200exTOP', 'A337150', 5000000, 42400000000.0],\n",
       " ['TIGER 레버리지', 'A123320', 4900000, 42262500000.0],\n",
       " ['TIGER 차이나CSI300인버스(합성)', 'A217780', 3800000, 41990000000.0],\n",
       " ['KODEX IT', 'A266370', 3600000, 41886000000.0],\n",
       " ['TIGER 소프트웨어', 'A157490', 4560000, 39922800000.0],\n",
       " ['KODEX 반도체', 'A091160', 1850000, 39654750000.0],\n",
       " ['KODEX 증권', 'A102970', 8000000, 38480000000.0],\n",
       " ['KODEX 미국달러선물레버리지', 'A261250', 3420000, 36747900000.0],\n",
       " ['TIGER KRX300', 'A292160', 3200000, 36480000000.0],\n",
       " ['KODEX 국채선물10년인버스', 'A176950', 768000, 34944000000.0],\n",
       " ['KODEX 미국S&P고배당커버드콜(합성 H)', 'A276970', 4200000, 32907000000.0],\n",
       " ['KODEX China H', 'A099140', 1600000, 32336000000.0],\n",
       " ['KODEX 200가치저변동', 'A223190', 4600000, 31349000000.0],\n",
       " ['KODEX China H 레버리지(H)', 'A204450', 5400000, 31185000000.0],\n",
       " ['TIGER 반도체', 'A091230', 1380000, 30235800000.0],\n",
       " ['종합주가지수', 'U001', 0, 0.0],\n",
       " ['KOSPI200선물지수', 'U179', 0, 0.0],\n",
       " ['KOSPI200지수', 'U180', 0, 0.0]]"
      ]
     },
     "execution_count": 5,
     "metadata": {},
     "output_type": "execute_result"
    }
   ],
   "source": [
    "KOSPI200_LIST"
   ]
  },
  {
   "cell_type": "code",
   "execution_count": 6,
   "metadata": {},
   "outputs": [],
   "source": [
    "creon = CREON()"
   ]
  },
  {
   "cell_type": "code",
   "execution_count": null,
   "metadata": {},
   "outputs": [
    {
     "name": "stdout",
     "output_type": "stream",
     "text": [
      "2017 01\n"
     ]
    },
    {
     "name": "stderr",
     "output_type": "stream",
     "text": [
      "100%|████████████████████████████████████████████████████████| 178/178 [00:00<00:00, 330.78it/s]\n"
     ]
    },
    {
     "name": "stdout",
     "output_type": "stream",
     "text": [
      "2017 02\n"
     ]
    },
    {
     "name": "stderr",
     "output_type": "stream",
     "text": [
      " 68%|█████████████████████████████████████▍                 | 121/178 [00:00<00:00, 1209.74it/s]"
     ]
    },
    {
     "name": "stdout",
     "output_type": "stream",
     "text": [
      "15초당 60건으로 제한합니다.\n"
     ]
    },
    {
     "name": "stderr",
     "output_type": "stream",
     "text": [
      "100%|████████████████████████████████████████████████████████| 178/178 [00:01<00:00, 124.45it/s]\n"
     ]
    },
    {
     "name": "stdout",
     "output_type": "stream",
     "text": [
      "2017 03\n"
     ]
    },
    {
     "name": "stderr",
     "output_type": "stream",
     "text": [
      "100%|████████████████████████████████████████████████████████| 178/178 [00:00<00:00, 359.51it/s]\n"
     ]
    },
    {
     "name": "stdout",
     "output_type": "stream",
     "text": [
      "2017 04\n"
     ]
    },
    {
     "name": "stderr",
     "output_type": "stream",
     "text": [
      " 68%|█████████████████████████████████████▍                 | 121/178 [00:00<00:00, 1197.75it/s]"
     ]
    },
    {
     "name": "stdout",
     "output_type": "stream",
     "text": [
      "15초당 60건으로 제한합니다.\n"
     ]
    },
    {
     "name": "stderr",
     "output_type": "stream",
     "text": [
      "100%|█████████████████████████████████████████████████████████| 178/178 [00:14<00:00, 12.20it/s]\n"
     ]
    },
    {
     "name": "stdout",
     "output_type": "stream",
     "text": [
      "2017 05\n"
     ]
    },
    {
     "name": "stderr",
     "output_type": "stream",
     "text": [
      "100%|████████████████████████████████████████████████████████| 178/178 [00:00<00:00, 348.26it/s]\n"
     ]
    },
    {
     "name": "stdout",
     "output_type": "stream",
     "text": [
      "2017 06\n"
     ]
    },
    {
     "name": "stderr",
     "output_type": "stream",
     "text": [
      " 69%|█████████████████████████████████████▋                 | 122/178 [00:00<00:00, 1069.94it/s]"
     ]
    },
    {
     "name": "stdout",
     "output_type": "stream",
     "text": [
      "15초당 60건으로 제한합니다.\n"
     ]
    },
    {
     "name": "stderr",
     "output_type": "stream",
     "text": [
      "100%|█████████████████████████████████████████████████████████| 178/178 [00:14<00:00, 12.21it/s]\n"
     ]
    },
    {
     "name": "stdout",
     "output_type": "stream",
     "text": [
      "2017 07\n"
     ]
    },
    {
     "name": "stderr",
     "output_type": "stream",
     "text": [
      "100%|████████████████████████████████████████████████████████| 178/178 [00:00<00:00, 345.55it/s]\n"
     ]
    },
    {
     "name": "stdout",
     "output_type": "stream",
     "text": [
      "2017 08\n"
     ]
    },
    {
     "name": "stderr",
     "output_type": "stream",
     "text": [
      " 67%|█████████████████████████████████████                  | 120/178 [00:00<00:00, 1121.24it/s]"
     ]
    },
    {
     "name": "stdout",
     "output_type": "stream",
     "text": [
      "15초당 60건으로 제한합니다.\n"
     ]
    },
    {
     "name": "stderr",
     "output_type": "stream",
     "text": [
      "100%|█████████████████████████████████████████████████████████| 178/178 [00:14<00:00, 12.22it/s]\n"
     ]
    },
    {
     "name": "stdout",
     "output_type": "stream",
     "text": [
      "2017 09\n"
     ]
    },
    {
     "name": "stderr",
     "output_type": "stream",
     "text": [
      "100%|████████████████████████████████████████████████████████| 178/178 [00:00<00:00, 352.40it/s]\n"
     ]
    },
    {
     "name": "stdout",
     "output_type": "stream",
     "text": [
      "2017 10\n"
     ]
    },
    {
     "name": "stderr",
     "output_type": "stream",
     "text": [
      " 68%|█████████████████████████████████████▍                 | 121/178 [00:00<00:00, 1197.76it/s]"
     ]
    },
    {
     "name": "stdout",
     "output_type": "stream",
     "text": [
      "15초당 60건으로 제한합니다.\n"
     ]
    },
    {
     "name": "stderr",
     "output_type": "stream",
     "text": [
      "100%|█████████████████████████████████████████████████████████| 178/178 [00:14<00:00, 12.21it/s]\n"
     ]
    },
    {
     "name": "stdout",
     "output_type": "stream",
     "text": [
      "2017 11\n"
     ]
    },
    {
     "name": "stderr",
     "output_type": "stream",
     "text": [
      "100%|████████████████████████████████████████████████████████| 178/178 [00:00<00:00, 353.79it/s]\n"
     ]
    },
    {
     "name": "stdout",
     "output_type": "stream",
     "text": [
      "2017 12\n"
     ]
    },
    {
     "name": "stderr",
     "output_type": "stream",
     "text": [
      " 69%|█████████████████████████████████████▋                 | 122/178 [00:00<00:00, 1033.52it/s]"
     ]
    },
    {
     "name": "stdout",
     "output_type": "stream",
     "text": [
      "15초당 60건으로 제한합니다.\n"
     ]
    },
    {
     "name": "stderr",
     "output_type": "stream",
     "text": [
      "100%|█████████████████████████████████████████████████████████| 178/178 [00:14<00:00, 12.20it/s]\n"
     ]
    },
    {
     "name": "stdout",
     "output_type": "stream",
     "text": [
      "2018 01\n"
     ]
    },
    {
     "name": "stderr",
     "output_type": "stream",
     "text": [
      "100%|████████████████████████████████████████████████████████| 178/178 [00:00<00:00, 347.57it/s]\n"
     ]
    },
    {
     "name": "stdout",
     "output_type": "stream",
     "text": [
      "2018 02\n"
     ]
    },
    {
     "name": "stderr",
     "output_type": "stream",
     "text": [
      "\r",
      "  0%|                                                                   | 0/178 [00:00<?, ?it/s]"
     ]
    },
    {
     "name": "stdout",
     "output_type": "stream",
     "text": [
      "15초당 60건으로 제한합니다.\n"
     ]
    },
    {
     "name": "stderr",
     "output_type": "stream",
     "text": [
      "100%|█████████████████████████████████████████████████████████| 178/178 [00:14<00:00, 12.22it/s]\n"
     ]
    },
    {
     "name": "stdout",
     "output_type": "stream",
     "text": [
      "2018 03\n"
     ]
    },
    {
     "name": "stderr",
     "output_type": "stream",
     "text": [
      "100%|████████████████████████████████████████████████████████| 178/178 [00:00<00:00, 342.89it/s]\n"
     ]
    },
    {
     "name": "stdout",
     "output_type": "stream",
     "text": [
      "2018 04\n"
     ]
    },
    {
     "name": "stderr",
     "output_type": "stream",
     "text": [
      "\r",
      "  0%|                                                                   | 0/178 [00:00<?, ?it/s]"
     ]
    },
    {
     "name": "stdout",
     "output_type": "stream",
     "text": [
      "15초당 60건으로 제한합니다.\n"
     ]
    },
    {
     "name": "stderr",
     "output_type": "stream",
     "text": [
      "100%|█████████████████████████████████████████████████████████| 178/178 [00:48<00:00,  3.69it/s]\n"
     ]
    },
    {
     "name": "stdout",
     "output_type": "stream",
     "text": [
      "2018 05\n"
     ]
    },
    {
     "name": "stderr",
     "output_type": "stream",
     "text": [
      " 66%|████████████████████████████████████▊                   | 117/178 [00:00<00:00, 879.50it/s]"
     ]
    }
   ],
   "source": [
    "for yyyy in \"2017 2018 2019\".split(\" \"):\n",
    "    \n",
    "    for mm in \"1 2 3 4 5 6 7 8 9 10 11 12\".split(\" \"):\n",
    "        \n",
    "        mm = mm.zfill(2)\n",
    "        \n",
    "        print(yyyy, mm)\n",
    "\n",
    "        for name, code, no, cap in tqdm(KOSPI200_LIST):\n",
    "\n",
    "            savedir = \"/Users/juhy9/Documents/GitHub/Quant/data/{}\".format(code)\n",
    "            savefile = \"{}/MIN_{}_{}_{}.txt\".format(savedir, yyyy, mm, code)\n",
    "\n",
    "            if not os.path.isdir(savedir):\n",
    "                os.makedirs(savedir)\n",
    "\n",
    "            if os.path.isfile(savefile):\n",
    "                \n",
    "                continue\n",
    "                # os.remove(savefile)\n",
    "                #read_table = pd.read_table(savefile, delimiter=\" \")\n",
    "                read_table = pd.DataFrame([])\n",
    "                \n",
    "            else:\n",
    "                read_table = pd.DataFrame([])\n",
    "\n",
    "            creon.setMethod(code=code,\n",
    "                            char=\"m\",\n",
    "                            from_yyyymmdd=int(\"{}{}31\".format(yyyy, mm)),\n",
    "                            to_yyyymmdd=int(\"{}{}01\".format(yyyy, mm)))\n",
    "\n",
    "            getStockPrice = creon.getStockPriceMin()\n",
    "            \n",
    "            DataFrame = pd.DataFrame(getStockPrice)\n",
    "            DataFrame = DataFrame.iloc[::-1].reset_index(drop=True)\n",
    "\n",
    "            if len(read_table) > 0:\n",
    "                read_table = read_table.loc[~read_table.날짜.isin(DataFrame.날짜)].reset_index(drop=True)\n",
    "\n",
    "            concat = pd.concat([read_table, DataFrame], 0).reset_index(drop=True)\n",
    "            concat.to_csv(savefile, sep=\" \", index=None)\n"
   ]
  },
  {
   "cell_type": "code",
   "execution_count": null,
   "metadata": {},
   "outputs": [],
   "source": [
    "for yyyy in \"2020\".split(\" \"):\n",
    "    \n",
    "    for mm in \"1 2 3 4\".split(\" \"):\n",
    "        \n",
    "        mm = mm.zfill(2)\n",
    "        \n",
    "        print(yyyy, mm)\n",
    "\n",
    "        for name, code, no, cap in tqdm(KOSPI200_LIST):\n",
    "\n",
    "            savedir = \"/Users/juhy9/Documents/GitHub/Quant/data/{}\".format(code)\n",
    "            savefile = \"{}/MIN_{}_{}_{}.txt\".format(savedir, yyyy, mm, code)\n",
    "\n",
    "            if not os.path.isdir(savedir):\n",
    "                os.makedirs(savedir)\n",
    "\n",
    "            if os.path.isfile(savefile):\n",
    "                continue\n",
    "                os.remove(savefile)\n",
    "                #read_table = pd.read_table(savefile, delimiter=\" \")\n",
    "                read_table = pd.DataFrame([])\n",
    "            else:\n",
    "                read_table = pd.DataFrame([])\n",
    "\n",
    "            creon.setMethod(code=code,\n",
    "                            char=\"m\",\n",
    "                            from_yyyymmdd=int(\"{}{}31\".format(yyyy, mm)),\n",
    "                            to_yyyymmdd=int(\"{}{}01\".format(yyyy, mm)))\n",
    "\n",
    "            getStockPrice = creon.getStockPriceMin()\n",
    "            \n",
    "            DataFrame = pd.DataFrame(getStockPrice)\n",
    "            DataFrame = DataFrame.iloc[::-1].reset_index(drop=True)\n",
    "\n",
    "            if len(read_table) > 0:\n",
    "                read_table = read_table.loc[~read_table.날짜.isin(DataFrame.날짜)].reset_index(drop=True)\n",
    "\n",
    "            concat = pd.concat([read_table, DataFrame], 0).reset_index(drop=True)\n",
    "            concat.to_csv(savefile, sep=\" \", index=None)\n"
   ]
  }
 ],
 "metadata": {
  "kernelspec": {
   "display_name": "Python 3",
   "language": "python",
   "name": "python3"
  },
  "language_info": {
   "codemirror_mode": {
    "name": "ipython",
    "version": 3
   },
   "file_extension": ".py",
   "mimetype": "text/x-python",
   "name": "python",
   "nbconvert_exporter": "python",
   "pygments_lexer": "ipython3",
   "version": "3.7.4"
  }
 },
 "nbformat": 4,
 "nbformat_minor": 2
}
