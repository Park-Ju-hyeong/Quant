{
 "cells": [
  {
   "cell_type": "code",
   "execution_count": 1,
   "metadata": {},
   "outputs": [],
   "source": [
    "import win32com.client\n",
    "import time\n",
    "import shutil\n",
    "import os\n",
    "import codecs\n",
    "import pandas as pd\n",
    "import numpy as np\n",
    "from datetime import datetime\n",
    "from tqdm import tqdm\n",
    "from pywinauto import application\n",
    "from pywinauto import timings"
   ]
  },
  {
   "cell_type": "code",
   "execution_count": 2,
   "metadata": {},
   "outputs": [],
   "source": [
    "# 0: 날짜(ulong)\n",
    "# 1:시간(long) - hhmm\n",
    "# 2:시가(long or float)\n",
    "# 3:고가(long or float)\n",
    "# 4:저가(long or float)\n",
    "# 5:종가(long or float)\n",
    "# 6:전일대비(long or float) - 주) 대비부호(37)과 반드시 같이 요청해야 함\n",
    "# 8:거래량(ulong or ulonglong) 주) 정밀도 만원 단위\n",
    "# 9:거래대금(ulonglong)\n",
    "# 10:누적체결매도수량(ulong or ulonglong) - 호가비교방식 누적체결매도수량\n",
    "# 11:누적체결매수수량(ulong or ulonglong) - 호가비교방식 누적체결매수수량\n",
    "#  (주) 10, 11 필드는 분,틱 요청일 때만 제공\n",
    "# 12:상장주식수(ulonglong)\n",
    "# 13:시가총액(ulonglong)\n",
    "# 14:외국인주문한도수량(ulong)\n",
    "# 15:외국인주문가능수량(ulong)\n",
    "# 16:외국인현보유수량(ulong)\n",
    "# 17:외국인현보유비율(float)\n",
    "# 18:수정주가일자(ulong) - YYYYMMDD\n",
    "# 19:수정주가비율(float)\n",
    "# 20:기관순매수(long)\n",
    "# 21:기관누적순매수(long)\n",
    "# 22:등락주선(long)\n",
    "# 23:등락비율(float)\n",
    "# 24:예탁금(ulonglong)\n",
    "# 25:주식회전율(float)\n",
    "# 26:거래성립률(float)\n",
    "# 37:대비부호(char) - 수신값은 GetHeaderValue 8 대비부호와 동일"
   ]
  },
  {
   "cell_type": "code",
   "execution_count": 3,
   "metadata": {},
   "outputs": [],
   "source": [
    "# In[ ]:\n",
    "\n",
    "\n",
    "class CREON(object):\n",
    "    \"\"\"대신증권 크레온 API\"\"\"\n",
    "    \n",
    "    def __init__(self):\n",
    "        # 연결 여부 체크\n",
    "        self.objCpCybos = win32com.client.Dispatch(\"CpUtil.CpCybos\")\n",
    "        bConnect = self.objCpCybos.IsConnect\n",
    "        if (bConnect == 0):\n",
    "            print(\"PLUS가 정상적으로 연결되지 않음. \")\n",
    "            try:\n",
    "                os.system(\"/Users/juhy9/Documents/GitHub/System/Quant/src/sudo/sudo_creon_plus_login.bat\")\n",
    "                time.sleep(100)\n",
    "            except:\n",
    "                exit()\n",
    "     \n",
    "    def setMethod(self, code, char, from_yyyymmdd=None, to_yyyymmdd=None, count=None):\n",
    "        \"\"\"\n",
    "        count는 보통 상식의 데이터 개수가 아니다.\n",
    "        여기서는 한번 요청 시 가져와지는 데이터의 개수이다.\n",
    "        한번 요청 시 최대 2856개 가능하다.\n",
    "        \n",
    "        원하는 데이터 개수가 있으면 to_yyyymmdd 로 가져온 다음에 잘라서 사용한다.\n",
    "        하루에 분단위 데이터가 381개이다. (* 마지막 10분은 동시호가)\n",
    "        \n",
    "        \"\"\"\n",
    "        # object 구하기\n",
    "        self.objStockChart = win32com.client.Dispatch(\"CpSysDib.StockChart\")\n",
    "        self.objStockChart.SetInputValue(0, code)  # 종목코드\n",
    "        \n",
    "        if to_yyyymmdd:\n",
    "            self.objStockChart.SetInputValue(1, ord('1'))  # 요청 구분 '1': 기간, '2': 개수\n",
    "            self.objStockChart.SetInputValue(2, from_yyyymmdd)  # To 날짜\n",
    "            self.objStockChart.SetInputValue(3, to_yyyymmdd)  # From 날짜\n",
    "        elif count:\n",
    "            self.objStockChart.SetInputValue(1, ord('2'))  # 개수로 받기\n",
    "            self.objStockChart.SetInputValue(4, count)  # 조회 개수\n",
    "        else: raise print(\"기간을 입력해주세요.\")\n",
    "        \n",
    "        if char == \"m\":\n",
    "            # 날짜, 시간,시가,고가,저가,종가,거래량\n",
    "            self.colnames = \"날짜, 시간, 시가, 고가, 저가, 종가, 거래량\".split(\", \")\n",
    "            self.objStockChart.SetInputValue(5, [0, 1, 2, 3, 4, 5, 8])\n",
    "        else:\n",
    "            # 날짜,시가,고가,저가,종가,거래량, 거래대금, 상장주식수, 시가총액, 외국인현보유수량, 기관순매수\n",
    "            self.colnames = \"날짜, 시가, 고가, 저가, 종가, 거래량, 거래대금, 상장주식수, 시가총액, 외국인현보유수량, 기관순매수\".split(\", \")\n",
    "            self.objStockChart.SetInputValue(5, [0, 2, 3, 4, 5, 8, 9, 12, 13, 16, 20])\n",
    "            \n",
    "        self.objStockChart.SetInputValue(6, ord(char))  # '차트 주기 - 분/틱\n",
    "        self.objStockChart.SetInputValue(7, 1)  # 분틱차트 주기\n",
    "        \n",
    "        self.objStockChart.SetInputValue(9, ord('1'))  # 수정주가 사용\n",
    "        \n",
    "        \n",
    "        \n",
    "        self.data = {i: [] for i in self.colnames}\n",
    "        \n",
    "    def checkRequest(self):\n",
    "        \n",
    "        self.objStockChart.BlockRequest()\n",
    "        \n",
    "        rqStatus = self.objStockChart.GetDibStatus()\n",
    "        \n",
    "        if rqStatus != 0: \n",
    "            \n",
    "            return False\n",
    "        \n",
    "#         else:\n",
    "#             print(\"통신상태 양호, 누적 개수 {}\".format(len(self.data[\"date\"])))\n",
    "        \n",
    "        self.count = self.objStockChart.GetHeaderValue(3)\n",
    "        \n",
    "        if self.count <= 1: \n",
    "            \n",
    "            return False\n",
    "        \n",
    "        return int(self.count)\n",
    "    \n",
    "    def checkRemainTime(self):\n",
    "        \n",
    "        # 연속 요청 가능 여부 체크\n",
    "        remainTime = self.objCpCybos.LimitRequestRemainTime / 1000.\n",
    "        remainCount = self.objCpCybos.GetLimitRemainCount(1)  # 시세 제한\n",
    "        \n",
    "        if remainCount <= 0:\n",
    "            print(\"15초당 60건으로 제한합니다.\")\n",
    "            time.sleep(remainTime)\n",
    "            \n",
    "    \n",
    "    def getStockPriceMin(self):\n",
    "        \n",
    "        while 1:\n",
    "        \n",
    "            self.checkRemainTime()\n",
    "            rows = self.checkRequest()\n",
    "\n",
    "            if rows:\n",
    "\n",
    "                for i in range(rows):\n",
    "                    \n",
    "                    for idx, col in enumerate(self.colnames):\n",
    "                    \n",
    "                        self.data[col].append(self.objStockChart.GetDataValue(idx, i))\n",
    "            else:\n",
    "\n",
    "                break\n",
    "                \n",
    "    \n",
    "        return self.data"
   ]
  },
  {
   "cell_type": "code",
   "execution_count": 4,
   "metadata": {},
   "outputs": [],
   "source": [
    "# In[ ]:\n",
    "\n",
    "KRX10JO_ETF_LIST = pd.read_csv(\"/Users/juhy9/Documents/GitHub/Quant/data/KRX10JO_ETF_LIST.csv\")\n",
    "KRX10JO_ETF_LIST = KRX10JO_ETF_LIST.values.tolist()"
   ]
  },
  {
   "cell_type": "code",
   "execution_count": 5,
   "metadata": {
    "scrolled": true
   },
   "outputs": [],
   "source": [
    "# for yyyy in \"2017 2018 2019\".split(\" \"):\n",
    "    \n",
    "#     for mm in \"1 2 3 4 5 6 7 8 9 10 11 12\".split(\" \"):\n",
    "        \n",
    "#         mm = mm.zfill(2)\n",
    "        \n",
    "#         print(yyyy, mm)\n",
    "\n",
    "#         for name, code, no, cap in tqdm(KRX10JO_ETF_LIST):\n",
    "\n",
    "#             creon = CREON()\n",
    "\n",
    "#             savedir = \"/Users/juhy9/Documents/GitHub/Quant/data/{}\".format(code)\n",
    "#             savefile = \"{}/MIN_{}_{}_{}.txt\".format(savedir, yyyy, mm, code)\n",
    "\n",
    "#             if not os.path.isdir(savedir):\n",
    "\n",
    "#                 os.makedirs(savedir)\n",
    "\n",
    "#             today = datetime.now().strftime(\"%Y%m%d\")\n",
    "\n",
    "#             creon.setMethod(code=code,\n",
    "#                             char=\"m\",\n",
    "#                             from_yyyymmdd=int(\"{}{}31\".format(yyyy, mm)),\n",
    "#                             to_yyyymmdd=int(\"{}{}01\".format(yyyy, mm)))\n",
    "\n",
    "#             getStockPrice = creon.getStockPriceMin()\n",
    "\n",
    "#             DataFrame = pd.DataFrame(getStockPrice)\n",
    "\n",
    "#             tolist = DataFrame.values.tolist()\n",
    "            \n",
    "#             if len(tolist) > 0:\n",
    "\n",
    "#                 with codecs.open(savefile, \"w\", encoding='utf8') as f:\n",
    "#                     msg = \" \".join(creon.colnames)\n",
    "#                     f.write(msg)\n",
    "#                     f.write(\"\\n\")\n",
    "\n",
    "#                     for to in reversed(tolist):\n",
    "#                         msg = \" \".join([str(i) for i in to])\n",
    "#                         f.write(msg)\n",
    "#                         f.write(\"\\n\")"
   ]
  },
  {
   "cell_type": "code",
   "execution_count": 6,
   "metadata": {},
   "outputs": [],
   "source": [
    "creon = CREON()"
   ]
  },
  {
   "cell_type": "code",
   "execution_count": 7,
   "metadata": {},
   "outputs": [
    {
     "name": "stdout",
     "output_type": "stream",
     "text": [
      "2017 01\n"
     ]
    },
    {
     "name": "stderr",
     "output_type": "stream",
     "text": [
      " 15%|█████▋                                | 34/228 [00:00<00:03, 53.18it/s]"
     ]
    },
    {
     "name": "stdout",
     "output_type": "stream",
     "text": [
      "15초당 60건으로 제한합니다.\n"
     ]
    },
    {
     "name": "stderr",
     "output_type": "stream",
     "text": [
      " 41%|███████████████▌                      | 93/228 [00:16<00:07, 18.82it/s]"
     ]
    },
    {
     "name": "stdout",
     "output_type": "stream",
     "text": [
      "15초당 60건으로 제한합니다.\n"
     ]
    },
    {
     "name": "stderr",
     "output_type": "stream",
     "text": [
      " 66%|████████████████████████▎            | 150/228 [00:31<00:05, 13.32it/s]"
     ]
    },
    {
     "name": "stdout",
     "output_type": "stream",
     "text": [
      "15초당 60건으로 제한합니다.\n"
     ]
    },
    {
     "name": "stderr",
     "output_type": "stream",
     "text": [
      " 93%|██████████████████████████████████▏  | 211/228 [00:46<00:00, 17.18it/s]"
     ]
    },
    {
     "name": "stdout",
     "output_type": "stream",
     "text": [
      "15초당 60건으로 제한합니다.\n"
     ]
    },
    {
     "name": "stderr",
     "output_type": "stream",
     "text": [
      "100%|█████████████████████████████████████| 228/228 [01:00<00:00,  3.78it/s]\n"
     ]
    },
    {
     "name": "stdout",
     "output_type": "stream",
     "text": [
      "2017 02\n"
     ]
    },
    {
     "name": "stderr",
     "output_type": "stream",
     "text": [
      " 18%|███████                               | 42/228 [00:00<00:03, 57.60it/s]"
     ]
    },
    {
     "name": "stdout",
     "output_type": "stream",
     "text": [
      "15초당 60건으로 제한합니다.\n"
     ]
    },
    {
     "name": "stderr",
     "output_type": "stream",
     "text": [
      " 45%|████████████████▌                    | 102/228 [00:15<00:05, 21.78it/s]"
     ]
    },
    {
     "name": "stdout",
     "output_type": "stream",
     "text": [
      "15초당 60건으로 제한합니다.\n"
     ]
    },
    {
     "name": "stderr",
     "output_type": "stream",
     "text": [
      " 71%|██████████████████████████▍          | 163/228 [00:30<00:02, 21.72it/s]"
     ]
    },
    {
     "name": "stdout",
     "output_type": "stream",
     "text": [
      "15초당 60건으로 제한합니다.\n"
     ]
    },
    {
     "name": "stderr",
     "output_type": "stream",
     "text": [
      " 97%|███████████████████████████████████▊ | 221/228 [00:45<00:00, 17.64it/s]"
     ]
    },
    {
     "name": "stdout",
     "output_type": "stream",
     "text": [
      "15초당 60건으로 제한합니다.\n"
     ]
    },
    {
     "name": "stderr",
     "output_type": "stream",
     "text": [
      "100%|█████████████████████████████████████| 228/228 [00:59<00:00,  3.80it/s]\n"
     ]
    },
    {
     "name": "stdout",
     "output_type": "stream",
     "text": [
      "2017 03\n"
     ]
    },
    {
     "name": "stderr",
     "output_type": "stream",
     "text": [
      " 24%|█████████                             | 54/228 [00:00<00:03, 55.74it/s]"
     ]
    },
    {
     "name": "stdout",
     "output_type": "stream",
     "text": [
      "15초당 60건으로 제한합니다.\n"
     ]
    },
    {
     "name": "stderr",
     "output_type": "stream",
     "text": [
      " 50%|██████████████████▌                  | 114/228 [00:15<00:05, 21.77it/s]"
     ]
    },
    {
     "name": "stdout",
     "output_type": "stream",
     "text": [
      "15초당 60건으로 제한합니다.\n"
     ]
    },
    {
     "name": "stderr",
     "output_type": "stream",
     "text": [
      " 78%|████████████████████████████▋        | 177/228 [00:31<00:02, 21.76it/s]"
     ]
    },
    {
     "name": "stdout",
     "output_type": "stream",
     "text": [
      "15초당 60건으로 제한합니다.\n"
     ]
    },
    {
     "name": "stderr",
     "output_type": "stream",
     "text": [
      "100%|█████████████████████████████████████| 228/228 [00:45<00:00,  4.97it/s]\n"
     ]
    },
    {
     "name": "stdout",
     "output_type": "stream",
     "text": [
      "2017 04\n"
     ]
    },
    {
     "name": "stderr",
     "output_type": "stream",
     "text": [
      "  3%|█                                      | 6/228 [00:00<00:03, 58.81it/s]"
     ]
    },
    {
     "name": "stdout",
     "output_type": "stream",
     "text": [
      "15초당 60건으로 제한합니다.\n"
     ]
    },
    {
     "name": "stderr",
     "output_type": "stream",
     "text": [
      " 29%|███████████                           | 66/228 [00:15<00:07, 21.65it/s]"
     ]
    },
    {
     "name": "stdout",
     "output_type": "stream",
     "text": [
      "15초당 60건으로 제한합니다.\n"
     ]
    },
    {
     "name": "stderr",
     "output_type": "stream",
     "text": [
      " 55%|████████████████████▍                | 126/228 [00:30<00:04, 21.57it/s]"
     ]
    },
    {
     "name": "stdout",
     "output_type": "stream",
     "text": [
      "15초당 60건으로 제한합니다.\n"
     ]
    },
    {
     "name": "stderr",
     "output_type": "stream",
     "text": [
      " 83%|██████████████████████████████▊      | 190/228 [00:45<00:01, 22.06it/s]"
     ]
    },
    {
     "name": "stdout",
     "output_type": "stream",
     "text": [
      "15초당 60건으로 제한합니다.\n"
     ]
    },
    {
     "name": "stderr",
     "output_type": "stream",
     "text": [
      "100%|█████████████████████████████████████| 228/228 [01:00<00:00,  3.80it/s]\n"
     ]
    },
    {
     "name": "stdout",
     "output_type": "stream",
     "text": [
      "2017 05\n"
     ]
    },
    {
     "name": "stderr",
     "output_type": "stream",
     "text": [
      "  9%|███▌                                  | 21/228 [00:00<00:07, 27.08it/s]"
     ]
    },
    {
     "name": "stdout",
     "output_type": "stream",
     "text": [
      "15초당 60건으로 제한합니다.\n"
     ]
    },
    {
     "name": "stderr",
     "output_type": "stream",
     "text": [
      " 36%|█████████████▌                        | 81/228 [00:16<00:05, 25.47it/s]"
     ]
    },
    {
     "name": "stdout",
     "output_type": "stream",
     "text": [
      "15초당 60건으로 제한합니다.\n"
     ]
    },
    {
     "name": "stderr",
     "output_type": "stream",
     "text": [
      " 61%|██████████████████████▋              | 140/228 [00:31<00:03, 25.71it/s]"
     ]
    },
    {
     "name": "stdout",
     "output_type": "stream",
     "text": [
      "15초당 60건으로 제한합니다.\n"
     ]
    },
    {
     "name": "stderr",
     "output_type": "stream",
     "text": [
      " 87%|████████████████████████████████▏    | 198/228 [00:46<00:01, 29.11it/s]"
     ]
    },
    {
     "name": "stdout",
     "output_type": "stream",
     "text": [
      "15초당 60건으로 제한합니다.\n"
     ]
    },
    {
     "name": "stderr",
     "output_type": "stream",
     "text": [
      "100%|█████████████████████████████████████| 228/228 [00:59<00:00,  3.80it/s]\n"
     ]
    },
    {
     "name": "stdout",
     "output_type": "stream",
     "text": [
      "2017 06\n"
     ]
    },
    {
     "name": "stderr",
     "output_type": "stream",
     "text": [
      " 15%|█████▋                                | 34/228 [00:03<00:16, 11.50it/s]"
     ]
    },
    {
     "name": "stdout",
     "output_type": "stream",
     "text": [
      "15초당 60건으로 제한합니다.\n"
     ]
    },
    {
     "name": "stderr",
     "output_type": "stream",
     "text": [
      " 42%|███████████████▊                      | 95/228 [00:20<00:10, 12.51it/s]"
     ]
    },
    {
     "name": "stdout",
     "output_type": "stream",
     "text": [
      "15초당 60건으로 제한합니다.\n"
     ]
    },
    {
     "name": "stderr",
     "output_type": "stream",
     "text": [
      " 68%|█████████████████████████▏           | 155/228 [00:35<00:05, 12.52it/s]"
     ]
    },
    {
     "name": "stdout",
     "output_type": "stream",
     "text": [
      "15초당 60건으로 제한합니다.\n"
     ]
    },
    {
     "name": "stderr",
     "output_type": "stream",
     "text": [
      " 94%|██████████████████████████████████▉  | 215/228 [00:47<00:00, 31.34it/s]"
     ]
    },
    {
     "name": "stdout",
     "output_type": "stream",
     "text": [
      "15초당 60건으로 제한합니다.\n"
     ]
    },
    {
     "name": "stderr",
     "output_type": "stream",
     "text": [
      "100%|█████████████████████████████████████| 228/228 [01:00<00:00,  3.79it/s]\n"
     ]
    },
    {
     "name": "stdout",
     "output_type": "stream",
     "text": [
      "2017 07\n"
     ]
    },
    {
     "name": "stderr",
     "output_type": "stream",
     "text": [
      " 21%|███████▊                              | 47/228 [00:04<00:16, 10.84it/s]"
     ]
    },
    {
     "name": "stdout",
     "output_type": "stream",
     "text": [
      "15초당 60건으로 제한합니다.\n"
     ]
    },
    {
     "name": "stderr",
     "output_type": "stream",
     "text": [
      " 46%|█████████████████▏                   | 106/228 [00:20<00:10, 11.98it/s]"
     ]
    },
    {
     "name": "stdout",
     "output_type": "stream",
     "text": [
      "15초당 60건으로 제한합니다.\n"
     ]
    },
    {
     "name": "stderr",
     "output_type": "stream",
     "text": [
      " 73%|███████████████████████████          | 167/228 [00:35<00:04, 13.89it/s]"
     ]
    },
    {
     "name": "stdout",
     "output_type": "stream",
     "text": [
      "15초당 60건으로 제한합니다.\n"
     ]
    },
    {
     "name": "stderr",
     "output_type": "stream",
     "text": [
      " 97%|███████████████████████████████████▊ | 221/228 [00:47<00:00, 29.99it/s]"
     ]
    },
    {
     "name": "stdout",
     "output_type": "stream",
     "text": [
      "15초당 60건으로 제한합니다.\n"
     ]
    },
    {
     "name": "stderr",
     "output_type": "stream",
     "text": [
      "100%|█████████████████████████████████████| 228/228 [01:00<00:00,  3.80it/s]\n"
     ]
    },
    {
     "name": "stdout",
     "output_type": "stream",
     "text": [
      "2017 08\n"
     ]
    },
    {
     "name": "stderr",
     "output_type": "stream",
     "text": [
      " 25%|█████████▋                            | 58/228 [00:05<00:16, 10.25it/s]"
     ]
    },
    {
     "name": "stdout",
     "output_type": "stream",
     "text": [
      "15초당 60건으로 제한합니다.\n"
     ]
    },
    {
     "name": "stderr",
     "output_type": "stream",
     "text": [
      " 52%|███████████████████▏                 | 118/228 [00:20<00:10, 10.42it/s]"
     ]
    },
    {
     "name": "stdout",
     "output_type": "stream",
     "text": [
      "15초당 60건으로 제한합니다.\n"
     ]
    },
    {
     "name": "stderr",
     "output_type": "stream",
     "text": [
      " 78%|████████████████████████████▉        | 178/228 [00:34<00:03, 13.44it/s]"
     ]
    },
    {
     "name": "stdout",
     "output_type": "stream",
     "text": [
      "15초당 60건으로 제한합니다.\n"
     ]
    },
    {
     "name": "stderr",
     "output_type": "stream",
     "text": [
      "100%|█████████████████████████████████████| 228/228 [00:46<00:00,  4.89it/s]\n"
     ]
    },
    {
     "name": "stdout",
     "output_type": "stream",
     "text": [
      "2017 09\n"
     ]
    },
    {
     "name": "stderr",
     "output_type": "stream",
     "text": [
      "  4%|█▋                                    | 10/228 [00:00<00:21, 10.14it/s]"
     ]
    },
    {
     "name": "stdout",
     "output_type": "stream",
     "text": [
      "15초당 60건으로 제한합니다.\n"
     ]
    },
    {
     "name": "stderr",
     "output_type": "stream",
     "text": [
      " 31%|███████████▋                          | 70/228 [00:19<00:15, 10.47it/s]"
     ]
    },
    {
     "name": "stdout",
     "output_type": "stream",
     "text": [
      "15초당 60건으로 제한합니다.\n"
     ]
    },
    {
     "name": "stderr",
     "output_type": "stream",
     "text": [
      " 57%|█████████████████████▎               | 131/228 [00:34<00:09, 10.27it/s]"
     ]
    },
    {
     "name": "stdout",
     "output_type": "stream",
     "text": [
      "15초당 60건으로 제한합니다.\n"
     ]
    },
    {
     "name": "stderr",
     "output_type": "stream",
     "text": [
      " 83%|██████████████████████████████▊      | 190/228 [00:47<00:02, 16.48it/s]"
     ]
    },
    {
     "name": "stdout",
     "output_type": "stream",
     "text": [
      "15초당 60건으로 제한합니다.\n"
     ]
    },
    {
     "name": "stderr",
     "output_type": "stream",
     "text": [
      "100%|█████████████████████████████████████| 228/228 [00:59<00:00,  3.83it/s]\n"
     ]
    },
    {
     "name": "stdout",
     "output_type": "stream",
     "text": [
      "2017 10\n"
     ]
    },
    {
     "name": "stderr",
     "output_type": "stream",
     "text": [
      " 10%|███▋                                  | 22/228 [00:01<00:16, 12.51it/s]"
     ]
    },
    {
     "name": "stdout",
     "output_type": "stream",
     "text": [
      "15초당 60건으로 제한합니다.\n"
     ]
    },
    {
     "name": "stderr",
     "output_type": "stream",
     "text": [
      " 36%|█████████████▊                        | 83/228 [00:18<00:11, 12.89it/s]"
     ]
    },
    {
     "name": "stdout",
     "output_type": "stream",
     "text": [
      "15초당 60건으로 제한합니다.\n"
     ]
    },
    {
     "name": "stderr",
     "output_type": "stream",
     "text": [
      " 62%|██████████████████████▉              | 141/228 [00:33<00:06, 13.28it/s]"
     ]
    },
    {
     "name": "stdout",
     "output_type": "stream",
     "text": [
      "15초당 60건으로 제한합니다.\n"
     ]
    },
    {
     "name": "stderr",
     "output_type": "stream",
     "text": [
      " 88%|████████████████████████████████▍    | 200/228 [00:47<00:01, 22.82it/s]"
     ]
    },
    {
     "name": "stdout",
     "output_type": "stream",
     "text": [
      "15초당 60건으로 제한합니다.\n"
     ]
    },
    {
     "name": "stderr",
     "output_type": "stream",
     "text": [
      "100%|█████████████████████████████████████| 228/228 [00:59<00:00,  3.82it/s]\n"
     ]
    },
    {
     "name": "stdout",
     "output_type": "stream",
     "text": [
      "2017 11\n"
     ]
    },
    {
     "name": "stderr",
     "output_type": "stream",
     "text": [
      "  7%|██▊                                   | 17/228 [00:11<02:19,  1.52it/s]"
     ]
    },
    {
     "name": "stdout",
     "output_type": "stream",
     "text": [
      "15초당 60건으로 제한합니다.\n"
     ]
    },
    {
     "name": "stderr",
     "output_type": "stream",
     "text": [
      " 85%|███████████████████████████████▍     | 194/228 [01:59<00:12,  2.73it/s]"
     ]
    },
    {
     "name": "stdout",
     "output_type": "stream",
     "text": [
      "15초당 60건으로 제한합니다.\n"
     ]
    },
    {
     "name": "stderr",
     "output_type": "stream",
     "text": [
      "100%|████████████████████████████████████▊| 227/228 [02:10<00:00,  2.99it/s]"
     ]
    },
    {
     "name": "stdout",
     "output_type": "stream",
     "text": [
      "15초당 60건으로 제한합니다.\n"
     ]
    },
    {
     "name": "stderr",
     "output_type": "stream",
     "text": [
      "100%|█████████████████████████████████████| 228/228 [02:15<00:00,  1.68it/s]\n"
     ]
    },
    {
     "name": "stdout",
     "output_type": "stream",
     "text": [
      "2017 12\n"
     ]
    },
    {
     "name": "stderr",
     "output_type": "stream",
     "text": [
      "100%|█████████████████████████████████████| 228/228 [06:58<00:00,  1.84s/it]\n"
     ]
    },
    {
     "name": "stdout",
     "output_type": "stream",
     "text": [
      "2018 01\n"
     ]
    },
    {
     "name": "stderr",
     "output_type": "stream",
     "text": [
      "100%|█████████████████████████████████████| 228/228 [07:52<00:00,  2.07s/it]\n"
     ]
    },
    {
     "name": "stdout",
     "output_type": "stream",
     "text": [
      "2018 02\n"
     ]
    },
    {
     "name": "stderr",
     "output_type": "stream",
     "text": [
      "100%|█████████████████████████████████████| 228/228 [06:10<00:00,  1.63s/it]\n"
     ]
    },
    {
     "name": "stdout",
     "output_type": "stream",
     "text": [
      "2018 03\n"
     ]
    },
    {
     "name": "stderr",
     "output_type": "stream",
     "text": [
      "100%|█████████████████████████████████████| 228/228 [07:05<00:00,  1.87s/it]\n"
     ]
    },
    {
     "name": "stdout",
     "output_type": "stream",
     "text": [
      "2018 04\n"
     ]
    },
    {
     "name": "stderr",
     "output_type": "stream",
     "text": [
      "100%|█████████████████████████████████████| 228/228 [07:08<00:00,  1.88s/it]\n"
     ]
    },
    {
     "name": "stdout",
     "output_type": "stream",
     "text": [
      "2018 05\n"
     ]
    },
    {
     "name": "stderr",
     "output_type": "stream",
     "text": [
      "100%|█████████████████████████████████████| 228/228 [06:45<00:00,  1.78s/it]\n"
     ]
    },
    {
     "name": "stdout",
     "output_type": "stream",
     "text": [
      "2018 06\n"
     ]
    },
    {
     "name": "stderr",
     "output_type": "stream",
     "text": [
      "100%|█████████████████████████████████████| 228/228 [06:27<00:00,  1.70s/it]\n"
     ]
    },
    {
     "name": "stdout",
     "output_type": "stream",
     "text": [
      "2018 07\n"
     ]
    },
    {
     "name": "stderr",
     "output_type": "stream",
     "text": [
      "100%|█████████████████████████████████████| 228/228 [07:23<00:00,  1.95s/it]\n"
     ]
    },
    {
     "name": "stdout",
     "output_type": "stream",
     "text": [
      "2018 08\n"
     ]
    },
    {
     "name": "stderr",
     "output_type": "stream",
     "text": [
      "100%|█████████████████████████████████████| 228/228 [07:26<00:00,  1.96s/it]\n"
     ]
    },
    {
     "name": "stdout",
     "output_type": "stream",
     "text": [
      "2018 09\n"
     ]
    },
    {
     "name": "stderr",
     "output_type": "stream",
     "text": [
      "100%|█████████████████████████████████████| 228/228 [05:49<00:00,  1.53s/it]\n"
     ]
    },
    {
     "name": "stdout",
     "output_type": "stream",
     "text": [
      "2018 10\n"
     ]
    },
    {
     "name": "stderr",
     "output_type": "stream",
     "text": [
      "100%|█████████████████████████████████████| 228/228 [07:11<00:00,  1.89s/it]\n"
     ]
    },
    {
     "name": "stdout",
     "output_type": "stream",
     "text": [
      "2018 11\n"
     ]
    },
    {
     "name": "stderr",
     "output_type": "stream",
     "text": [
      "100%|█████████████████████████████████████| 228/228 [07:26<00:00,  1.96s/it]\n"
     ]
    },
    {
     "name": "stdout",
     "output_type": "stream",
     "text": [
      "2018 12\n"
     ]
    },
    {
     "name": "stderr",
     "output_type": "stream",
     "text": [
      "100%|█████████████████████████████████████| 228/228 [06:32<00:00,  1.72s/it]\n"
     ]
    },
    {
     "name": "stdout",
     "output_type": "stream",
     "text": [
      "2019 01\n"
     ]
    },
    {
     "name": "stderr",
     "output_type": "stream",
     "text": [
      "100%|█████████████████████████████████████| 228/228 [07:32<00:00,  1.98s/it]\n"
     ]
    },
    {
     "name": "stdout",
     "output_type": "stream",
     "text": [
      "2019 02\n"
     ]
    },
    {
     "name": "stderr",
     "output_type": "stream",
     "text": [
      "100%|█████████████████████████████████████| 228/228 [05:52<00:00,  1.55s/it]\n"
     ]
    },
    {
     "name": "stdout",
     "output_type": "stream",
     "text": [
      "2019 03\n"
     ]
    },
    {
     "name": "stderr",
     "output_type": "stream",
     "text": [
      "100%|█████████████████████████████████████| 228/228 [06:59<00:00,  1.84s/it]\n"
     ]
    },
    {
     "name": "stdout",
     "output_type": "stream",
     "text": [
      "2019 04\n"
     ]
    },
    {
     "name": "stderr",
     "output_type": "stream",
     "text": [
      "100%|█████████████████████████████████████| 228/228 [07:41<00:00,  2.02s/it]\n"
     ]
    },
    {
     "name": "stdout",
     "output_type": "stream",
     "text": [
      "2019 05\n"
     ]
    },
    {
     "name": "stderr",
     "output_type": "stream",
     "text": [
      "100%|█████████████████████████████████████| 228/228 [07:22<00:00,  1.94s/it]\n"
     ]
    },
    {
     "name": "stdout",
     "output_type": "stream",
     "text": [
      "2019 06\n"
     ]
    },
    {
     "name": "stderr",
     "output_type": "stream",
     "text": [
      "100%|█████████████████████████████████████| 228/228 [06:38<00:00,  1.75s/it]\n"
     ]
    },
    {
     "name": "stdout",
     "output_type": "stream",
     "text": [
      "2019 07\n"
     ]
    },
    {
     "name": "stderr",
     "output_type": "stream",
     "text": [
      "100%|█████████████████████████████████████| 228/228 [07:56<00:00,  2.09s/it]\n"
     ]
    },
    {
     "name": "stdout",
     "output_type": "stream",
     "text": [
      "2019 08\n"
     ]
    },
    {
     "name": "stderr",
     "output_type": "stream",
     "text": [
      "100%|█████████████████████████████████████| 228/228 [07:22<00:00,  1.94s/it]\n"
     ]
    },
    {
     "name": "stdout",
     "output_type": "stream",
     "text": [
      "2019 09\n"
     ]
    },
    {
     "name": "stderr",
     "output_type": "stream",
     "text": [
      "100%|█████████████████████████████████████| 228/228 [06:30<00:00,  1.71s/it]\n"
     ]
    },
    {
     "name": "stdout",
     "output_type": "stream",
     "text": [
      "2019 10\n"
     ]
    },
    {
     "name": "stderr",
     "output_type": "stream",
     "text": [
      "100%|█████████████████████████████████████| 228/228 [07:27<00:00,  1.96s/it]\n"
     ]
    },
    {
     "name": "stdout",
     "output_type": "stream",
     "text": [
      "2019 11\n"
     ]
    },
    {
     "name": "stderr",
     "output_type": "stream",
     "text": [
      "100%|█████████████████████████████████████| 228/228 [07:14<00:00,  1.91s/it]\n"
     ]
    },
    {
     "name": "stdout",
     "output_type": "stream",
     "text": [
      "2019 12\n"
     ]
    },
    {
     "name": "stderr",
     "output_type": "stream",
     "text": [
      " 71%|██████████████████████████▍          | 163/228 [01:22<00:30,  2.16it/s]"
     ]
    },
    {
     "name": "stdout",
     "output_type": "stream",
     "text": [
      "15초당 60건으로 제한합니다.\n"
     ]
    },
    {
     "name": "stderr",
     "output_type": "stream",
     "text": [
      " 85%|███████████████████████████████▎     | 193/228 [01:37<00:13,  2.59it/s]"
     ]
    },
    {
     "name": "stdout",
     "output_type": "stream",
     "text": [
      "15초당 60건으로 제한합니다.\n"
     ]
    },
    {
     "name": "stderr",
     "output_type": "stream",
     "text": [
      " 98%|████████████████████████████████████▎| 224/228 [01:48<00:00,  4.28it/s]"
     ]
    },
    {
     "name": "stdout",
     "output_type": "stream",
     "text": [
      "15초당 60건으로 제한합니다.\n"
     ]
    },
    {
     "name": "stderr",
     "output_type": "stream",
     "text": [
      "100%|█████████████████████████████████████| 228/228 [01:56<00:00,  1.96it/s]\n"
     ]
    }
   ],
   "source": [
    "for yyyy in \"2017 2018 2019\".split(\" \"):\n",
    "    \n",
    "    for mm in \"1 2 3 4 5 6 7 8 9 10 11 12\".split(\" \"):\n",
    "        \n",
    "        mm = mm.zfill(2)\n",
    "        \n",
    "        print(yyyy, mm)\n",
    "\n",
    "        for name, code, no, cap in tqdm(KRX10JO_ETF_LIST):\n",
    "\n",
    "            savedir = \"/Users/juhy9/Documents/GitHub/Quant/data/{}\".format(code)\n",
    "            savefile = \"{}/MIN_{}_{}_{}.txt\".format(savedir, yyyy, mm, code)\n",
    "\n",
    "            if not os.path.isdir(savedir):\n",
    "                os.makedirs(savedir)\n",
    "\n",
    "            if os.path.isfile(savefile):\n",
    "                read_table = pd.read_table(savefile, delimiter=\" \")\n",
    "            else:\n",
    "                read_table = pd.DataFrame([])\n",
    "\n",
    "            creon.setMethod(code=code,\n",
    "                            char=\"m\",\n",
    "                            from_yyyymmdd=int(\"{}{}31\".format(yyyy, mm)),\n",
    "                            to_yyyymmdd=int(\"{}{}01\".format(yyyy, mm)))\n",
    "\n",
    "            getStockPrice = creon.getStockPriceMin()\n",
    "\n",
    "            DataFrame = pd.DataFrame(getStockPrice)\n",
    "            DataFrame = DataFrame.iloc[::-1].reset_index(drop=True)\n",
    "\n",
    "            if len(read_table) > 0:\n",
    "                read_table = read_table.loc[~read_table.날짜.isin(DataFrame.날짜)].reset_index(drop=True)\n",
    "\n",
    "            concat = pd.concat([read_table, DataFrame], 0).reset_index(drop=True)\n",
    "            concat.to_csv(savefile, sep=\" \", index=None)\n"
   ]
  }
 ],
 "metadata": {
  "kernelspec": {
   "display_name": "Python 3",
   "language": "python",
   "name": "python3"
  },
  "language_info": {
   "codemirror_mode": {
    "name": "ipython",
    "version": 3
   },
   "file_extension": ".py",
   "mimetype": "text/x-python",
   "name": "python",
   "nbconvert_exporter": "python",
   "pygments_lexer": "ipython3",
   "version": "3.7.4"
  }
 },
 "nbformat": 4,
 "nbformat_minor": 2
}
