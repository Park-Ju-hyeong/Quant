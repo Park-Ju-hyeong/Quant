{
 "cells": [
  {
   "cell_type": "code",
   "execution_count": 1,
   "metadata": {},
   "outputs": [],
   "source": [
    "import win32com.client\n",
    "import time\n",
    "import shutil\n",
    "import os\n",
    "import codecs\n",
    "import pandas as pd\n",
    "import numpy as np\n",
    "from datetime import datetime\n",
    "from tqdm import tqdm\n",
    "from pywinauto import application\n",
    "from pywinauto import timings"
   ]
  },
  {
   "cell_type": "code",
   "execution_count": 2,
   "metadata": {},
   "outputs": [],
   "source": [
    "# 0: 날짜(ulong)\n",
    "# 1:시간(long) - hhmm\n",
    "# 2:시가(long or float)\n",
    "# 3:고가(long or float)\n",
    "# 4:저가(long or float)\n",
    "# 5:종가(long or float)\n",
    "# 6:전일대비(long or float) - 주) 대비부호(37)과 반드시 같이 요청해야 함\n",
    "# 8:거래량(ulong or ulonglong) 주) 정밀도 만원 단위\n",
    "# 9:거래대금(ulonglong)\n",
    "# 10:누적체결매도수량(ulong or ulonglong) - 호가비교방식 누적체결매도수량\n",
    "# 11:누적체결매수수량(ulong or ulonglong) - 호가비교방식 누적체결매수수량\n",
    "#  (주) 10, 11 필드는 분,틱 요청일 때만 제공\n",
    "# 12:상장주식수(ulonglong)\n",
    "# 13:시가총액(ulonglong)\n",
    "# 14:외국인주문한도수량(ulong)\n",
    "# 15:외국인주문가능수량(ulong)\n",
    "# 16:외국인현보유수량(ulong)\n",
    "# 17:외국인현보유비율(float)\n",
    "# 18:수정주가일자(ulong) - YYYYMMDD\n",
    "# 19:수정주가비율(float)\n",
    "# 20:기관순매수(long)\n",
    "# 21:기관누적순매수(long)\n",
    "# 22:등락주선(long)\n",
    "# 23:등락비율(float)\n",
    "# 24:예탁금(ulonglong)\n",
    "# 25:주식회전율(float)\n",
    "# 26:거래성립률(float)\n",
    "# 37:대비부호(char) - 수신값은 GetHeaderValue 8 대비부호와 동일"
   ]
  },
  {
   "cell_type": "code",
   "execution_count": 3,
   "metadata": {},
   "outputs": [],
   "source": [
    "# In[ ]:\n",
    "\n",
    "\n",
    "class CREON(object):\n",
    "    \"\"\"대신증권 크레온 API\"\"\"\n",
    "    \n",
    "    def __init__(self):\n",
    "        # 연결 여부 체크\n",
    "        self.objCpCybos = win32com.client.Dispatch(\"CpUtil.CpCybos\")\n",
    "        bConnect = self.objCpCybos.IsConnect\n",
    "        if (bConnect == 0):\n",
    "            print(\"PLUS가 정상적으로 연결되지 않음. \")\n",
    "            try:\n",
    "                os.system(\"/Users/juhy9/Documents/GitHub/System/Quant/src/sudo/sudo_creon_plus_login.bat\")\n",
    "                time.sleep(100)\n",
    "            except:\n",
    "                exit()\n",
    "     \n",
    "    def setMethod(self, code, char, from_yyyymmdd=None, to_yyyymmdd=None, count=None):\n",
    "        \"\"\"\n",
    "        count는 보통 상식의 데이터 개수가 아니다.\n",
    "        여기서는 한번 요청 시 가져와지는 데이터의 개수이다.\n",
    "        한번 요청 시 최대 2856개 가능하다.\n",
    "        \n",
    "        원하는 데이터 개수가 있으면 to_yyyymmdd 로 가져온 다음에 잘라서 사용한다.\n",
    "        하루에 분단위 데이터가 381개이다. (* 마지막 10분은 동시호가)\n",
    "        \n",
    "        \"\"\"\n",
    "        # object 구하기\n",
    "        self.objStockChart = win32com.client.Dispatch(\"CpSysDib.StockChart\")\n",
    "        self.objStockChart.SetInputValue(0, code)  # 종목코드\n",
    "        \n",
    "        if to_yyyymmdd:\n",
    "            self.objStockChart.SetInputValue(1, ord('1'))  # 요청 구분 '1': 기간, '2': 개수\n",
    "            self.objStockChart.SetInputValue(2, from_yyyymmdd)  # To 날짜\n",
    "            self.objStockChart.SetInputValue(3, to_yyyymmdd)  # From 날짜\n",
    "        elif count:\n",
    "            self.objStockChart.SetInputValue(1, ord('2'))  # 개수로 받기\n",
    "            self.objStockChart.SetInputValue(4, count)  # 조회 개수\n",
    "        else: raise print(\"기간을 입력해주세요.\")\n",
    "        \n",
    "        if char == \"m\":\n",
    "            # 날짜, 시간,시가,고가,저가,종가,거래량\n",
    "            self.colnames = \"날짜, 시간, 시가, 고가, 저가, 종가, 거래량\".split(\", \")\n",
    "            self.objStockChart.SetInputValue(5, [0, 1, 2, 3, 4, 5, 8])\n",
    "        else:\n",
    "            # 날짜,시가,고가,저가,종가,거래량, 거래대금, 상장주식수, 시가총액, 외국인현보유수량, 기관순매수\n",
    "            self.colnames = \"날짜, 시가, 고가, 저가, 종가, 거래량, 거래대금, 상장주식수, 시가총액, 외국인현보유수량, 기관순매수\".split(\", \")\n",
    "            self.objStockChart.SetInputValue(5, [0, 2, 3, 4, 5, 8, 9, 12, 13, 16, 20])\n",
    "            \n",
    "        self.objStockChart.SetInputValue(6, ord(char))  # '차트 주기 - 분/틱\n",
    "        self.objStockChart.SetInputValue(7, 1)  # 분틱차트 주기\n",
    "        \n",
    "        self.objStockChart.SetInputValue(9, ord('1'))  # 수정주가 사용\n",
    "        \n",
    "        \n",
    "        \n",
    "        self.data = {i: [] for i in self.colnames}\n",
    "        \n",
    "    def checkRequest(self):\n",
    "        \n",
    "        self.objStockChart.BlockRequest()\n",
    "        \n",
    "        rqStatus = self.objStockChart.GetDibStatus()\n",
    "        \n",
    "        if rqStatus != 0: \n",
    "            \n",
    "            return False\n",
    "        \n",
    "#         else:\n",
    "#             print(\"통신상태 양호, 누적 개수 {}\".format(len(self.data[\"date\"])))\n",
    "        \n",
    "        self.count = self.objStockChart.GetHeaderValue(3)\n",
    "        \n",
    "        if self.count <= 1: \n",
    "            \n",
    "            return False\n",
    "        \n",
    "        return int(self.count)\n",
    "    \n",
    "    def checkRemainTime(self):\n",
    "        \n",
    "        # 연속 요청 가능 여부 체크\n",
    "        remainTime = self.objCpCybos.LimitRequestRemainTime / 1000.\n",
    "        remainCount = self.objCpCybos.GetLimitRemainCount(1)  # 시세 제한\n",
    "        \n",
    "        if remainCount <= 0:\n",
    "            print(\"15초당 60건으로 제한합니다.\")\n",
    "            time.sleep(remainTime)\n",
    "            \n",
    "    \n",
    "    def getStockPriceMin(self):\n",
    "        \n",
    "        while 1:\n",
    "        \n",
    "            self.checkRemainTime()\n",
    "            rows = self.checkRequest()\n",
    "\n",
    "            if rows:\n",
    "\n",
    "                for i in range(rows):\n",
    "                    \n",
    "                    for idx, col in enumerate(self.colnames):\n",
    "                    \n",
    "                        self.data[col].append(self.objStockChart.GetDataValue(idx, i))\n",
    "            else:\n",
    "\n",
    "                break\n",
    "                \n",
    "    \n",
    "        return self.data"
   ]
  },
  {
   "cell_type": "code",
   "execution_count": 4,
   "metadata": {},
   "outputs": [
    {
     "data": {
      "text/html": [
       "<div>\n",
       "<style scoped>\n",
       "    .dataframe tbody tr th:only-of-type {\n",
       "        vertical-align: middle;\n",
       "    }\n",
       "\n",
       "    .dataframe tbody tr th {\n",
       "        vertical-align: top;\n",
       "    }\n",
       "\n",
       "    .dataframe thead th {\n",
       "        text-align: right;\n",
       "    }\n",
       "</style>\n",
       "<table border=\"1\" class=\"dataframe\">\n",
       "  <thead>\n",
       "    <tr style=\"text-align: right;\">\n",
       "      <th></th>\n",
       "      <th>종목코드</th>\n",
       "      <th>상장주식수20억이상</th>\n",
       "      <th>증권전산업종코드</th>\n",
       "      <th>소속부</th>\n",
       "      <th>감리구분</th>\n",
       "      <th>주식상태</th>\n",
       "      <th>자본금규모구분</th>\n",
       "      <th>KOSPI200종목여부</th>\n",
       "      <th>부구분코드</th>\n",
       "      <th>종목명</th>\n",
       "      <th>...</th>\n",
       "      <th>분기경상이익</th>\n",
       "      <th>분기당기순이익</th>\n",
       "      <th>분개매출액영업이익률</th>\n",
       "      <th>분기매출액경상이익률</th>\n",
       "      <th>분기ROE</th>\n",
       "      <th>분기이자보상비율</th>\n",
       "      <th>분기유보율</th>\n",
       "      <th>분기부채비율</th>\n",
       "      <th>시가총액</th>\n",
       "      <th>PBR</th>\n",
       "    </tr>\n",
       "  </thead>\n",
       "  <tbody>\n",
       "    <tr>\n",
       "      <td>0</td>\n",
       "      <td>U001</td>\n",
       "      <td>1</td>\n",
       "      <td>0</td>\n",
       "      <td>구분없음</td>\n",
       "      <td>정상</td>\n",
       "      <td>정상</td>\n",
       "      <td>제외</td>\n",
       "      <td>미채용</td>\n",
       "      <td>구분없음</td>\n",
       "      <td>KOSPI지수</td>\n",
       "      <td>...</td>\n",
       "      <td>0</td>\n",
       "      <td>0</td>\n",
       "      <td>0.00</td>\n",
       "      <td>0.00</td>\n",
       "      <td>0.00</td>\n",
       "      <td>0.000000</td>\n",
       "      <td>0.000000</td>\n",
       "      <td>0.000000</td>\n",
       "      <td>0.000000e+00</td>\n",
       "      <td>0.000000</td>\n",
       "    </tr>\n",
       "    <tr>\n",
       "      <td>1</td>\n",
       "      <td>A000020</td>\n",
       "      <td>1</td>\n",
       "      <td>9</td>\n",
       "      <td>거래소</td>\n",
       "      <td>정상</td>\n",
       "      <td>정상</td>\n",
       "      <td>소</td>\n",
       "      <td>미채용</td>\n",
       "      <td>주권</td>\n",
       "      <td>동화약품</td>\n",
       "      <td>...</td>\n",
       "      <td>10338000000</td>\n",
       "      <td>8978000000</td>\n",
       "      <td>6.53</td>\n",
       "      <td>7.56</td>\n",
       "      <td>5.87</td>\n",
       "      <td>77.690002</td>\n",
       "      <td>1023.140015</td>\n",
       "      <td>24.780001</td>\n",
       "      <td>6.968902e+11</td>\n",
       "      <td>2.239476</td>\n",
       "    </tr>\n",
       "    <tr>\n",
       "      <td>2</td>\n",
       "      <td>A000040</td>\n",
       "      <td>1</td>\n",
       "      <td>15</td>\n",
       "      <td>거래소</td>\n",
       "      <td>정상</td>\n",
       "      <td>정상</td>\n",
       "      <td>소</td>\n",
       "      <td>미채용</td>\n",
       "      <td>주권</td>\n",
       "      <td>KR모터스</td>\n",
       "      <td>...</td>\n",
       "      <td>-955000000</td>\n",
       "      <td>-1003000000</td>\n",
       "      <td>1.91</td>\n",
       "      <td>-1.60</td>\n",
       "      <td>-8.65</td>\n",
       "      <td>0.450000</td>\n",
       "      <td>0.000000</td>\n",
       "      <td>171.789993</td>\n",
       "      <td>8.460312e+10</td>\n",
       "      <td>1.413476</td>\n",
       "    </tr>\n",
       "    <tr>\n",
       "      <td>3</td>\n",
       "      <td>A000050</td>\n",
       "      <td>1</td>\n",
       "      <td>16</td>\n",
       "      <td>거래소</td>\n",
       "      <td>정상</td>\n",
       "      <td>정상</td>\n",
       "      <td>소</td>\n",
       "      <td>미채용</td>\n",
       "      <td>주권</td>\n",
       "      <td>경방</td>\n",
       "      <td>...</td>\n",
       "      <td>7357000000</td>\n",
       "      <td>2422000000</td>\n",
       "      <td>4.07</td>\n",
       "      <td>4.59</td>\n",
       "      <td>0.66</td>\n",
       "      <td>1.650000</td>\n",
       "      <td>5385.709961</td>\n",
       "      <td>96.529999</td>\n",
       "      <td>2.892311e+11</td>\n",
       "      <td>0.392471</td>\n",
       "    </tr>\n",
       "    <tr>\n",
       "      <td>4</td>\n",
       "      <td>A000060</td>\n",
       "      <td>1</td>\n",
       "      <td>25</td>\n",
       "      <td>거래소</td>\n",
       "      <td>정상</td>\n",
       "      <td>정상</td>\n",
       "      <td>중</td>\n",
       "      <td>미채용</td>\n",
       "      <td>주권</td>\n",
       "      <td>메리츠화재</td>\n",
       "      <td>...</td>\n",
       "      <td>146244000000</td>\n",
       "      <td>103620000000</td>\n",
       "      <td>5.08</td>\n",
       "      <td>5.08</td>\n",
       "      <td>16.82</td>\n",
       "      <td>0.000000</td>\n",
       "      <td>4296.419922</td>\n",
       "      <td>880.669983</td>\n",
       "      <td>1.438052e+12</td>\n",
       "      <td>0.586980</td>\n",
       "    </tr>\n",
       "    <tr>\n",
       "      <td>...</td>\n",
       "      <td>...</td>\n",
       "      <td>...</td>\n",
       "      <td>...</td>\n",
       "      <td>...</td>\n",
       "      <td>...</td>\n",
       "      <td>...</td>\n",
       "      <td>...</td>\n",
       "      <td>...</td>\n",
       "      <td>...</td>\n",
       "      <td>...</td>\n",
       "      <td>...</td>\n",
       "      <td>...</td>\n",
       "      <td>...</td>\n",
       "      <td>...</td>\n",
       "      <td>...</td>\n",
       "      <td>...</td>\n",
       "      <td>...</td>\n",
       "      <td>...</td>\n",
       "      <td>...</td>\n",
       "      <td>...</td>\n",
       "      <td>...</td>\n",
       "    </tr>\n",
       "    <tr>\n",
       "      <td>1557</td>\n",
       "      <td>Q590013</td>\n",
       "      <td>1</td>\n",
       "      <td>0</td>\n",
       "      <td>거래소</td>\n",
       "      <td>정상</td>\n",
       "      <td>정상</td>\n",
       "      <td>제외</td>\n",
       "      <td>미채용</td>\n",
       "      <td>None</td>\n",
       "      <td>미래에셋 미국 리</td>\n",
       "      <td>...</td>\n",
       "      <td>0</td>\n",
       "      <td>0</td>\n",
       "      <td>0.00</td>\n",
       "      <td>0.00</td>\n",
       "      <td>0.00</td>\n",
       "      <td>0.000000</td>\n",
       "      <td>0.000000</td>\n",
       "      <td>0.000000</td>\n",
       "      <td>1.940000e+10</td>\n",
       "      <td>0.000000</td>\n",
       "    </tr>\n",
       "    <tr>\n",
       "      <td>1558</td>\n",
       "      <td>Q590016</td>\n",
       "      <td>1</td>\n",
       "      <td>0</td>\n",
       "      <td>거래소</td>\n",
       "      <td>정상</td>\n",
       "      <td>정상</td>\n",
       "      <td>제외</td>\n",
       "      <td>미채용</td>\n",
       "      <td>None</td>\n",
       "      <td>미래에셋 미국 헬</td>\n",
       "      <td>...</td>\n",
       "      <td>0</td>\n",
       "      <td>0</td>\n",
       "      <td>0.00</td>\n",
       "      <td>0.00</td>\n",
       "      <td>0.00</td>\n",
       "      <td>0.000000</td>\n",
       "      <td>0.000000</td>\n",
       "      <td>0.000000</td>\n",
       "      <td>2.954000e+10</td>\n",
       "      <td>0.000000</td>\n",
       "    </tr>\n",
       "    <tr>\n",
       "      <td>1559</td>\n",
       "      <td>Q590017</td>\n",
       "      <td>1</td>\n",
       "      <td>0</td>\n",
       "      <td>거래소</td>\n",
       "      <td>정상</td>\n",
       "      <td>정상</td>\n",
       "      <td>제외</td>\n",
       "      <td>미채용</td>\n",
       "      <td>None</td>\n",
       "      <td>미래에셋 미국 고</td>\n",
       "      <td>...</td>\n",
       "      <td>0</td>\n",
       "      <td>0</td>\n",
       "      <td>0.00</td>\n",
       "      <td>0.00</td>\n",
       "      <td>0.00</td>\n",
       "      <td>0.000000</td>\n",
       "      <td>0.000000</td>\n",
       "      <td>0.000000</td>\n",
       "      <td>2.796000e+10</td>\n",
       "      <td>0.000000</td>\n",
       "    </tr>\n",
       "    <tr>\n",
       "      <td>1560</td>\n",
       "      <td>Q590018</td>\n",
       "      <td>1</td>\n",
       "      <td>0</td>\n",
       "      <td>거래소</td>\n",
       "      <td>정상</td>\n",
       "      <td>정상</td>\n",
       "      <td>제외</td>\n",
       "      <td>미채용</td>\n",
       "      <td>None</td>\n",
       "      <td>미래에셋 중국 심</td>\n",
       "      <td>...</td>\n",
       "      <td>0</td>\n",
       "      <td>0</td>\n",
       "      <td>0.00</td>\n",
       "      <td>0.00</td>\n",
       "      <td>0.00</td>\n",
       "      <td>0.000000</td>\n",
       "      <td>0.000000</td>\n",
       "      <td>0.000000</td>\n",
       "      <td>3.501000e+10</td>\n",
       "      <td>0.000000</td>\n",
       "    </tr>\n",
       "    <tr>\n",
       "      <td>1561</td>\n",
       "      <td>Q700001</td>\n",
       "      <td>1</td>\n",
       "      <td>0</td>\n",
       "      <td>거래소</td>\n",
       "      <td>정상</td>\n",
       "      <td>정상</td>\n",
       "      <td>제외</td>\n",
       "      <td>미채용</td>\n",
       "      <td>None</td>\n",
       "      <td>하나 코스피 변동</td>\n",
       "      <td>...</td>\n",
       "      <td>0</td>\n",
       "      <td>0</td>\n",
       "      <td>0.00</td>\n",
       "      <td>0.00</td>\n",
       "      <td>0.00</td>\n",
       "      <td>0.000000</td>\n",
       "      <td>0.000000</td>\n",
       "      <td>0.000000</td>\n",
       "      <td>2.035000e+11</td>\n",
       "      <td>0.000000</td>\n",
       "    </tr>\n",
       "  </tbody>\n",
       "</table>\n",
       "<p>1562 rows × 70 columns</p>\n",
       "</div>"
      ],
      "text/plain": [
       "         종목코드  상장주식수20억이상  증권전산업종코드   소속부 감리구분 주식상태 자본금규모구분 KOSPI200종목여부  \\\n",
       "0        U001           1         0  구분없음   정상   정상      제외          미채용   \n",
       "1     A000020           1         9   거래소   정상   정상       소          미채용   \n",
       "2     A000040           1        15   거래소   정상   정상       소          미채용   \n",
       "3     A000050           1        16   거래소   정상   정상       소          미채용   \n",
       "4     A000060           1        25   거래소   정상   정상       중          미채용   \n",
       "...       ...         ...       ...   ...  ...  ...     ...          ...   \n",
       "1557  Q590013           1         0   거래소   정상   정상      제외          미채용   \n",
       "1558  Q590016           1         0   거래소   정상   정상      제외          미채용   \n",
       "1559  Q590017           1         0   거래소   정상   정상      제외          미채용   \n",
       "1560  Q590018           1         0   거래소   정상   정상      제외          미채용   \n",
       "1561  Q700001           1         0   거래소   정상   정상      제외          미채용   \n",
       "\n",
       "     부구분코드        종목명  ...        분기경상이익       분기당기순이익  분개매출액영업이익률  \\\n",
       "0     구분없음    KOSPI지수  ...             0             0        0.00   \n",
       "1       주권       동화약품  ...   10338000000    8978000000        6.53   \n",
       "2       주권      KR모터스  ...    -955000000   -1003000000        1.91   \n",
       "3       주권         경방  ...    7357000000    2422000000        4.07   \n",
       "4       주권      메리츠화재  ...  146244000000  103620000000        5.08   \n",
       "...    ...        ...  ...           ...           ...         ...   \n",
       "1557  None  미래에셋 미국 리  ...             0             0        0.00   \n",
       "1558  None  미래에셋 미국 헬  ...             0             0        0.00   \n",
       "1559  None  미래에셋 미국 고  ...             0             0        0.00   \n",
       "1560  None  미래에셋 중국 심  ...             0             0        0.00   \n",
       "1561  None  하나 코스피 변동  ...             0             0        0.00   \n",
       "\n",
       "      분기매출액경상이익률  분기ROE   분기이자보상비율        분기유보율      분기부채비율          시가총액  \\\n",
       "0           0.00   0.00   0.000000     0.000000    0.000000  0.000000e+00   \n",
       "1           7.56   5.87  77.690002  1023.140015   24.780001  6.968902e+11   \n",
       "2          -1.60  -8.65   0.450000     0.000000  171.789993  8.460312e+10   \n",
       "3           4.59   0.66   1.650000  5385.709961   96.529999  2.892311e+11   \n",
       "4           5.08  16.82   0.000000  4296.419922  880.669983  1.438052e+12   \n",
       "...          ...    ...        ...          ...         ...           ...   \n",
       "1557        0.00   0.00   0.000000     0.000000    0.000000  1.940000e+10   \n",
       "1558        0.00   0.00   0.000000     0.000000    0.000000  2.954000e+10   \n",
       "1559        0.00   0.00   0.000000     0.000000    0.000000  2.796000e+10   \n",
       "1560        0.00   0.00   0.000000     0.000000    0.000000  3.501000e+10   \n",
       "1561        0.00   0.00   0.000000     0.000000    0.000000  2.035000e+11   \n",
       "\n",
       "           PBR  \n",
       "0     0.000000  \n",
       "1     2.239476  \n",
       "2     1.413476  \n",
       "3     0.392471  \n",
       "4     0.586980  \n",
       "...        ...  \n",
       "1557  0.000000  \n",
       "1558  0.000000  \n",
       "1559  0.000000  \n",
       "1560  0.000000  \n",
       "1561  0.000000  \n",
       "\n",
       "[1562 rows x 70 columns]"
      ]
     },
     "execution_count": 4,
     "metadata": {},
     "output_type": "execute_result"
    }
   ],
   "source": [
    "KoreaStock = pd.read_csv(\"/Users/juhy9/Documents/GitHub/System/Quant/src/db/stock_info_20200902.csv\")\n",
    "KoreaStock"
   ]
  },
  {
   "cell_type": "code",
   "execution_count": 5,
   "metadata": {},
   "outputs": [],
   "source": [
    "creon = CREON()"
   ]
  },
  {
   "cell_type": "code",
   "execution_count": 8,
   "metadata": {},
   "outputs": [
    {
     "name": "stdout",
     "output_type": "stream",
     "text": [
      "2019 01\n"
     ]
    },
    {
     "name": "stderr",
     "output_type": "stream",
     "text": [
      "1551it [00:01, 1244.50it/s]\n"
     ]
    },
    {
     "name": "stdout",
     "output_type": "stream",
     "text": [
      "2019 02\n"
     ]
    },
    {
     "name": "stderr",
     "output_type": "stream",
     "text": [
      "1551it [00:00, 2098.31it/s]\n"
     ]
    },
    {
     "name": "stdout",
     "output_type": "stream",
     "text": [
      "2019 03\n"
     ]
    },
    {
     "name": "stderr",
     "output_type": "stream",
     "text": [
      "1551it [00:00, 2021.71it/s]\n"
     ]
    },
    {
     "name": "stdout",
     "output_type": "stream",
     "text": [
      "2019 04\n"
     ]
    },
    {
     "name": "stderr",
     "output_type": "stream",
     "text": [
      "1551it [00:00, 2064.78it/s]\n"
     ]
    },
    {
     "name": "stdout",
     "output_type": "stream",
     "text": [
      "2019 05\n"
     ]
    },
    {
     "name": "stderr",
     "output_type": "stream",
     "text": [
      "1551it [00:00, 2124.17it/s]\n"
     ]
    },
    {
     "name": "stdout",
     "output_type": "stream",
     "text": [
      "2019 06\n"
     ]
    },
    {
     "name": "stderr",
     "output_type": "stream",
     "text": [
      "1551it [00:00, 2029.65it/s]\n"
     ]
    },
    {
     "name": "stdout",
     "output_type": "stream",
     "text": [
      "2019 07\n"
     ]
    },
    {
     "name": "stderr",
     "output_type": "stream",
     "text": [
      "1204it [15:10,  4.74it/s] "
     ]
    },
    {
     "name": "stdout",
     "output_type": "stream",
     "text": [
      "15초당 60건으로 제한합니다.\n"
     ]
    },
    {
     "name": "stderr",
     "output_type": "stream",
     "text": [
      "1301it [15:54,  3.59it/s]"
     ]
    },
    {
     "name": "stdout",
     "output_type": "stream",
     "text": [
      "15초당 60건으로 제한합니다.\n"
     ]
    },
    {
     "name": "stderr",
     "output_type": "stream",
     "text": [
      "1367it [15:58, 11.09it/s]"
     ]
    },
    {
     "name": "stdout",
     "output_type": "stream",
     "text": [
      "15초당 60건으로 제한합니다.\n"
     ]
    },
    {
     "name": "stderr",
     "output_type": "stream",
     "text": [
      "1426it [16:31,  7.26it/s]"
     ]
    },
    {
     "name": "stdout",
     "output_type": "stream",
     "text": [
      "15초당 60건으로 제한합니다.\n"
     ]
    },
    {
     "name": "stderr",
     "output_type": "stream",
     "text": [
      "1458it [16:48,  1.37it/s]"
     ]
    },
    {
     "name": "stdout",
     "output_type": "stream",
     "text": [
      "15초당 60건으로 제한합니다.\n"
     ]
    },
    {
     "name": "stderr",
     "output_type": "stream",
     "text": [
      "1489it [17:00,  8.87it/s]"
     ]
    },
    {
     "name": "stdout",
     "output_type": "stream",
     "text": [
      "15초당 60건으로 제한합니다.\n"
     ]
    },
    {
     "name": "stderr",
     "output_type": "stream",
     "text": [
      "1523it [17:16,  6.98it/s]"
     ]
    },
    {
     "name": "stdout",
     "output_type": "stream",
     "text": [
      "15초당 60건으로 제한합니다.\n"
     ]
    },
    {
     "name": "stderr",
     "output_type": "stream",
     "text": [
      "1551it [17:28,  1.48it/s]\n"
     ]
    },
    {
     "name": "stdout",
     "output_type": "stream",
     "text": [
      "2019 08\n"
     ]
    },
    {
     "name": "stderr",
     "output_type": "stream",
     "text": [
      "4it [00:05,  1.33s/it]"
     ]
    },
    {
     "name": "stdout",
     "output_type": "stream",
     "text": [
      "15초당 60건으로 제한합니다.\n"
     ]
    },
    {
     "name": "stderr",
     "output_type": "stream",
     "text": [
      "1203it [25:19,  6.18it/s]"
     ]
    },
    {
     "name": "stdout",
     "output_type": "stream",
     "text": [
      "15초당 60건으로 제한합니다.\n"
     ]
    },
    {
     "name": "stderr",
     "output_type": "stream",
     "text": [
      "1332it [26:01,  7.96it/s]"
     ]
    },
    {
     "name": "stdout",
     "output_type": "stream",
     "text": [
      "15초당 60건으로 제한합니다.\n"
     ]
    },
    {
     "name": "stderr",
     "output_type": "stream",
     "text": [
      "1375it [26:12,  2.48it/s]"
     ]
    },
    {
     "name": "stdout",
     "output_type": "stream",
     "text": [
      "15초당 60건으로 제한합니다.\n"
     ]
    },
    {
     "name": "stderr",
     "output_type": "stream",
     "text": [
      "1406it [26:35,  4.45it/s]"
     ]
    },
    {
     "name": "stdout",
     "output_type": "stream",
     "text": [
      "15초당 60건으로 제한합니다.\n"
     ]
    },
    {
     "name": "stderr",
     "output_type": "stream",
     "text": [
      "1436it [26:41, 11.19it/s]"
     ]
    },
    {
     "name": "stdout",
     "output_type": "stream",
     "text": [
      "15초당 60건으로 제한합니다.\n"
     ]
    },
    {
     "name": "stderr",
     "output_type": "stream",
     "text": [
      "1467it [27:00,  2.42it/s]"
     ]
    },
    {
     "name": "stdout",
     "output_type": "stream",
     "text": [
      "15초당 60건으로 제한합니다.\n"
     ]
    },
    {
     "name": "stderr",
     "output_type": "stream",
     "text": [
      "1500it [27:08, 10.46it/s]"
     ]
    },
    {
     "name": "stdout",
     "output_type": "stream",
     "text": [
      "15초당 60건으로 제한합니다.\n"
     ]
    },
    {
     "name": "stderr",
     "output_type": "stream",
     "text": [
      "1532it [27:27,  4.07it/s]"
     ]
    },
    {
     "name": "stdout",
     "output_type": "stream",
     "text": [
      "15초당 60건으로 제한합니다.\n"
     ]
    },
    {
     "name": "stderr",
     "output_type": "stream",
     "text": [
      "1551it [27:37,  1.07s/it]\n"
     ]
    },
    {
     "name": "stdout",
     "output_type": "stream",
     "text": [
      "2019 09\n"
     ]
    },
    {
     "name": "stderr",
     "output_type": "stream",
     "text": [
      "1222it [21:58,  1.28it/s]"
     ]
    },
    {
     "name": "stdout",
     "output_type": "stream",
     "text": [
      "15초당 60건으로 제한합니다.\n"
     ]
    },
    {
     "name": "stderr",
     "output_type": "stream",
     "text": [
      "1280it [22:28,  3.50it/s]"
     ]
    },
    {
     "name": "stdout",
     "output_type": "stream",
     "text": [
      "15초당 60건으로 제한합니다.\n"
     ]
    },
    {
     "name": "stderr",
     "output_type": "stream",
     "text": [
      "1355it [22:36, 27.07it/s]"
     ]
    },
    {
     "name": "stdout",
     "output_type": "stream",
     "text": [
      "15초당 60건으로 제한합니다.\n"
     ]
    },
    {
     "name": "stderr",
     "output_type": "stream",
     "text": [
      "1414it [23:11,  1.46it/s]"
     ]
    },
    {
     "name": "stdout",
     "output_type": "stream",
     "text": [
      "15초당 60건으로 제한합니다.\n"
     ]
    },
    {
     "name": "stderr",
     "output_type": "stream",
     "text": [
      "1445it [23:20, 11.07it/s]"
     ]
    },
    {
     "name": "stdout",
     "output_type": "stream",
     "text": [
      "15초당 60건으로 제한합니다.\n"
     ]
    },
    {
     "name": "stderr",
     "output_type": "stream",
     "text": [
      "1478it [23:43,  5.01it/s]"
     ]
    },
    {
     "name": "stdout",
     "output_type": "stream",
     "text": [
      "15초당 60건으로 제한합니다.\n"
     ]
    },
    {
     "name": "stderr",
     "output_type": "stream",
     "text": [
      "1512it [23:51,  5.49it/s]"
     ]
    },
    {
     "name": "stdout",
     "output_type": "stream",
     "text": [
      "15초당 60건으로 제한합니다.\n"
     ]
    },
    {
     "name": "stderr",
     "output_type": "stream",
     "text": [
      "1544it [24:05,  7.77it/s]"
     ]
    },
    {
     "name": "stdout",
     "output_type": "stream",
     "text": [
      "15초당 60건으로 제한합니다.\n"
     ]
    },
    {
     "name": "stderr",
     "output_type": "stream",
     "text": [
      "1551it [24:18,  1.06it/s]\n"
     ]
    },
    {
     "name": "stdout",
     "output_type": "stream",
     "text": [
      "2019 10\n"
     ]
    },
    {
     "name": "stderr",
     "output_type": "stream",
     "text": [
      "1217it [22:30,  3.01it/s]"
     ]
    },
    {
     "name": "stdout",
     "output_type": "stream",
     "text": [
      "15초당 60건으로 제한합니다.\n"
     ]
    },
    {
     "name": "stderr",
     "output_type": "stream",
     "text": [
      "1272it [23:02,  3.73it/s]"
     ]
    },
    {
     "name": "stdout",
     "output_type": "stream",
     "text": [
      "15초당 60건으로 제한합니다.\n"
     ]
    },
    {
     "name": "stderr",
     "output_type": "stream",
     "text": [
      "1351it [23:15,  3.51it/s]"
     ]
    },
    {
     "name": "stdout",
     "output_type": "stream",
     "text": [
      "15초당 60건으로 제한합니다.\n"
     ]
    },
    {
     "name": "stderr",
     "output_type": "stream",
     "text": [
      "1381it [23:29,  1.06s/it]"
     ]
    },
    {
     "name": "stdout",
     "output_type": "stream",
     "text": [
      "15초당 60건으로 제한합니다.\n"
     ]
    },
    {
     "name": "stderr",
     "output_type": "stream",
     "text": [
      "1411it [23:46,  2.25it/s]"
     ]
    },
    {
     "name": "stdout",
     "output_type": "stream",
     "text": [
      "15초당 60건으로 제한합니다.\n"
     ]
    },
    {
     "name": "stderr",
     "output_type": "stream",
     "text": [
      "1440it [23:51, 12.00it/s]"
     ]
    },
    {
     "name": "stdout",
     "output_type": "stream",
     "text": [
      "15초당 60건으로 제한합니다.\n"
     ]
    },
    {
     "name": "stderr",
     "output_type": "stream",
     "text": [
      "1471it [24:13,  2.80it/s]"
     ]
    },
    {
     "name": "stdout",
     "output_type": "stream",
     "text": [
      "15초당 60건으로 제한합니다.\n"
     ]
    },
    {
     "name": "stderr",
     "output_type": "stream",
     "text": [
      "1506it [24:21, 14.44it/s]"
     ]
    },
    {
     "name": "stdout",
     "output_type": "stream",
     "text": [
      "15초당 60건으로 제한합니다.\n"
     ]
    },
    {
     "name": "stderr",
     "output_type": "stream",
     "text": [
      "1538it [24:38,  7.54it/s]"
     ]
    },
    {
     "name": "stdout",
     "output_type": "stream",
     "text": [
      "15초당 60건으로 제한합니다.\n"
     ]
    },
    {
     "name": "stderr",
     "output_type": "stream",
     "text": [
      "1551it [24:49,  1.04it/s]\n"
     ]
    },
    {
     "name": "stdout",
     "output_type": "stream",
     "text": [
      "2019 11\n"
     ]
    },
    {
     "name": "stderr",
     "output_type": "stream",
     "text": [
      "1217it [23:15,  3.31it/s]"
     ]
    },
    {
     "name": "stdout",
     "output_type": "stream",
     "text": [
      "15초당 60건으로 제한합니다.\n"
     ]
    },
    {
     "name": "stderr",
     "output_type": "stream",
     "text": [
      "1278it [23:48,  2.83it/s]"
     ]
    },
    {
     "name": "stdout",
     "output_type": "stream",
     "text": [
      "15초당 60건으로 제한합니다.\n"
     ]
    },
    {
     "name": "stderr",
     "output_type": "stream",
     "text": [
      "1368it [24:16,  3.25it/s]"
     ]
    },
    {
     "name": "stdout",
     "output_type": "stream",
     "text": [
      "15초당 60건으로 제한합니다.\n"
     ]
    },
    {
     "name": "stderr",
     "output_type": "stream",
     "text": [
      "1414it [24:43,  1.82it/s]"
     ]
    },
    {
     "name": "stdout",
     "output_type": "stream",
     "text": [
      "15초당 60건으로 제한합니다.\n"
     ]
    },
    {
     "name": "stderr",
     "output_type": "stream",
     "text": [
      "1444it [24:51, 10.45it/s]"
     ]
    },
    {
     "name": "stdout",
     "output_type": "stream",
     "text": [
      "15초당 60건으로 제한합니다.\n"
     ]
    },
    {
     "name": "stderr",
     "output_type": "stream",
     "text": [
      "1475it [25:15,  4.92it/s]"
     ]
    },
    {
     "name": "stdout",
     "output_type": "stream",
     "text": [
      "15초당 60건으로 제한합니다.\n"
     ]
    },
    {
     "name": "stderr",
     "output_type": "stream",
     "text": [
      "1507it [25:22, 14.48it/s]"
     ]
    },
    {
     "name": "stdout",
     "output_type": "stream",
     "text": [
      "15초당 60건으로 제한합니다.\n"
     ]
    },
    {
     "name": "stderr",
     "output_type": "stream",
     "text": [
      "1541it [25:39, 10.23it/s]"
     ]
    },
    {
     "name": "stdout",
     "output_type": "stream",
     "text": [
      "15초당 60건으로 제한합니다.\n"
     ]
    },
    {
     "name": "stderr",
     "output_type": "stream",
     "text": [
      "1551it [25:50,  1.00it/s]\n"
     ]
    },
    {
     "name": "stdout",
     "output_type": "stream",
     "text": [
      "2019 12\n"
     ]
    },
    {
     "name": "stderr",
     "output_type": "stream",
     "text": [
      "1222it [23:09,  1.18it/s]"
     ]
    },
    {
     "name": "stdout",
     "output_type": "stream",
     "text": [
      "15초당 60건으로 제한합니다.\n"
     ]
    },
    {
     "name": "stderr",
     "output_type": "stream",
     "text": [
      "1366it [24:12,  5.34it/s]"
     ]
    },
    {
     "name": "stdout",
     "output_type": "stream",
     "text": [
      "15초당 60건으로 제한합니다.\n"
     ]
    },
    {
     "name": "stderr",
     "output_type": "stream",
     "text": [
      "1421it [24:36,  5.09it/s]"
     ]
    },
    {
     "name": "stdout",
     "output_type": "stream",
     "text": [
      "15초당 60건으로 제한합니다.\n"
     ]
    },
    {
     "name": "stderr",
     "output_type": "stream",
     "text": [
      "1454it [24:47,  4.70it/s]"
     ]
    },
    {
     "name": "stdout",
     "output_type": "stream",
     "text": [
      "15초당 60건으로 제한합니다.\n"
     ]
    },
    {
     "name": "stderr",
     "output_type": "stream",
     "text": [
      "1486it [25:06, 13.07it/s]"
     ]
    },
    {
     "name": "stdout",
     "output_type": "stream",
     "text": [
      "15초당 60건으로 제한합니다.\n"
     ]
    },
    {
     "name": "stderr",
     "output_type": "stream",
     "text": [
      "1519it [25:18,  6.52it/s]"
     ]
    },
    {
     "name": "stdout",
     "output_type": "stream",
     "text": [
      "15초당 60건으로 제한합니다.\n"
     ]
    },
    {
     "name": "stderr",
     "output_type": "stream",
     "text": [
      "1551it [25:32,  1.01it/s]\n"
     ]
    }
   ],
   "source": [
    "for yyyy in \"2017 2018 2019\".split(\" \"):\n",
    "    \n",
    "    for mm in \"1 2 3 4 5 6 7 8 9 10 11 12\".split(\" \"):\n",
    "        \n",
    "        mm = mm.zfill(2)\n",
    "        \n",
    "        print(yyyy, mm)\n",
    "\n",
    "        for idx, row in tqdm(KoreaStock.iterrows()):\n",
    "\n",
    "            code = row[\"종목코드\"]\n",
    "\n",
    "            savedir = \"/Users/juhy9/Documents/GitHub/Quant/data/{}\".format(code)\n",
    "            savefile = \"{}/MIN_{}_{}_{}.txt\".format(savedir, yyyy, mm, code)\n",
    "\n",
    "            if not os.path.isdir(savedir):\n",
    "                os.makedirs(savedir)\n",
    "\n",
    "            if os.path.isfile(savefile):\n",
    "                \n",
    "                continue\n",
    "                # os.remove(savefile)\n",
    "                #read_table = pd.read_table(savefile, delimiter=\" \")\n",
    "                # read_table = pd.DataFrame([])\n",
    "                \n",
    "            else:\n",
    "                read_table = pd.DataFrame([])\n",
    "\n",
    "            creon.setMethod(code=code,\n",
    "                            char=\"m\",\n",
    "                            from_yyyymmdd=int(\"{}{}31\".format(yyyy, mm)),\n",
    "                            to_yyyymmdd=int(\"{}{}01\".format(yyyy, mm)))\n",
    "\n",
    "            getStockPrice = creon.getStockPriceMin()\n",
    "            \n",
    "            DataFrame = pd.DataFrame(getStockPrice)\n",
    "            DataFrame = DataFrame.iloc[::-1].reset_index(drop=True)\n",
    "\n",
    "            if len(read_table) > 0:\n",
    "                read_table = read_table.loc[~read_table.날짜.isin(DataFrame.날짜)].reset_index(drop=True)\n",
    "\n",
    "            concat = pd.concat([read_table, DataFrame], 0).reset_index(drop=True)\n",
    "            concat.to_csv(savefile, sep=\" \", index=None)\n"
   ]
  },
  {
   "cell_type": "code",
   "execution_count": 9,
   "metadata": {},
   "outputs": [
    {
     "name": "stdout",
     "output_type": "stream",
     "text": [
      "2020 01\n"
     ]
    },
    {
     "name": "stderr",
     "output_type": "stream",
     "text": [
      "2it [00:02,  1.08s/it]"
     ]
    },
    {
     "name": "stdout",
     "output_type": "stream",
     "text": [
      "15초당 60건으로 제한합니다.\n"
     ]
    },
    {
     "name": "stderr",
     "output_type": "stream",
     "text": [
      "1365it [26:06,  7.46it/s]"
     ]
    },
    {
     "name": "stdout",
     "output_type": "stream",
     "text": [
      "15초당 60건으로 제한합니다.\n"
     ]
    },
    {
     "name": "stderr",
     "output_type": "stream",
     "text": [
      "1416it [26:32,  3.36it/s]"
     ]
    },
    {
     "name": "stdout",
     "output_type": "stream",
     "text": [
      "15초당 60건으로 제한합니다.\n"
     ]
    },
    {
     "name": "stderr",
     "output_type": "stream",
     "text": [
      "1447it [26:40, 12.29it/s]"
     ]
    },
    {
     "name": "stdout",
     "output_type": "stream",
     "text": [
      "15초당 60건으로 제한합니다.\n"
     ]
    },
    {
     "name": "stderr",
     "output_type": "stream",
     "text": [
      "1475it [27:03,  4.06it/s]"
     ]
    },
    {
     "name": "stdout",
     "output_type": "stream",
     "text": [
      "15초당 60건으로 제한합니다.\n"
     ]
    },
    {
     "name": "stderr",
     "output_type": "stream",
     "text": [
      "1509it [27:11,  4.62it/s]"
     ]
    },
    {
     "name": "stdout",
     "output_type": "stream",
     "text": [
      "15초당 60건으로 제한합니다.\n"
     ]
    },
    {
     "name": "stderr",
     "output_type": "stream",
     "text": [
      "1542it [27:27,  8.83it/s]"
     ]
    },
    {
     "name": "stdout",
     "output_type": "stream",
     "text": [
      "15초당 60건으로 제한합니다.\n"
     ]
    },
    {
     "name": "stderr",
     "output_type": "stream",
     "text": [
      "1551it [27:38,  1.07s/it]\n"
     ]
    },
    {
     "name": "stdout",
     "output_type": "stream",
     "text": [
      "2020 02\n"
     ]
    },
    {
     "name": "stderr",
     "output_type": "stream",
     "text": [
      "1376it [27:57,  1.38it/s]"
     ]
    },
    {
     "name": "stdout",
     "output_type": "stream",
     "text": [
      "15초당 60건으로 제한합니다.\n"
     ]
    },
    {
     "name": "stderr",
     "output_type": "stream",
     "text": [
      "1423it [28:27,  5.11it/s]"
     ]
    },
    {
     "name": "stdout",
     "output_type": "stream",
     "text": [
      "15초당 60건으로 제한합니다.\n"
     ]
    },
    {
     "name": "stderr",
     "output_type": "stream",
     "text": [
      "1454it [28:39,  2.10it/s]"
     ]
    },
    {
     "name": "stdout",
     "output_type": "stream",
     "text": [
      "15초당 60건으로 제한합니다.\n"
     ]
    },
    {
     "name": "stderr",
     "output_type": "stream",
     "text": [
      "1483it [28:57,  9.35it/s]"
     ]
    },
    {
     "name": "stdout",
     "output_type": "stream",
     "text": [
      "15초당 60건으로 제한합니다.\n"
     ]
    },
    {
     "name": "stderr",
     "output_type": "stream",
     "text": [
      "1517it [29:09,  5.19it/s]"
     ]
    },
    {
     "name": "stdout",
     "output_type": "stream",
     "text": [
      "15초당 60건으로 제한합니다.\n"
     ]
    },
    {
     "name": "stderr",
     "output_type": "stream",
     "text": [
      "1549it [29:25,  8.19it/s]"
     ]
    },
    {
     "name": "stdout",
     "output_type": "stream",
     "text": [
      "15초당 60건으로 제한합니다.\n"
     ]
    },
    {
     "name": "stderr",
     "output_type": "stream",
     "text": [
      "1551it [29:34,  1.14s/it]\n"
     ]
    },
    {
     "name": "stdout",
     "output_type": "stream",
     "text": [
      "2020 03\n"
     ]
    },
    {
     "name": "stderr",
     "output_type": "stream",
     "text": [
      "1442it [32:56,  7.90it/s]"
     ]
    },
    {
     "name": "stdout",
     "output_type": "stream",
     "text": [
      "15초당 60건으로 제한합니다.\n"
     ]
    },
    {
     "name": "stderr",
     "output_type": "stream",
     "text": [
      "1492it [33:32,  1.61it/s]"
     ]
    },
    {
     "name": "stdout",
     "output_type": "stream",
     "text": [
      "15초당 60건으로 제한합니다.\n"
     ]
    },
    {
     "name": "stderr",
     "output_type": "stream",
     "text": [
      "1522it [33:49,  3.09it/s]"
     ]
    },
    {
     "name": "stdout",
     "output_type": "stream",
     "text": [
      "15초당 60건으로 제한합니다.\n"
     ]
    },
    {
     "name": "stderr",
     "output_type": "stream",
     "text": [
      "1551it [34:02,  1.32s/it]\n"
     ]
    },
    {
     "name": "stdout",
     "output_type": "stream",
     "text": [
      "2020 04\n"
     ]
    },
    {
     "name": "stderr",
     "output_type": "stream",
     "text": [
      "\r",
      "0it [00:00, ?it/s]"
     ]
    },
    {
     "name": "stdout",
     "output_type": "stream",
     "text": [
      "15초당 60건으로 제한합니다.\n"
     ]
    },
    {
     "name": "stderr",
     "output_type": "stream",
     "text": [
      "1212it [25:56,  6.47it/s]"
     ]
    },
    {
     "name": "stdout",
     "output_type": "stream",
     "text": [
      "15초당 60건으로 제한합니다.\n"
     ]
    },
    {
     "name": "stderr",
     "output_type": "stream",
     "text": [
      "1370it [27:13,  1.46it/s]"
     ]
    },
    {
     "name": "stdout",
     "output_type": "stream",
     "text": [
      "15초당 60건으로 제한합니다.\n"
     ]
    },
    {
     "name": "stderr",
     "output_type": "stream",
     "text": [
      "1409it [27:46,  1.64it/s]"
     ]
    },
    {
     "name": "stdout",
     "output_type": "stream",
     "text": [
      "15초당 60건으로 제한합니다.\n"
     ]
    },
    {
     "name": "stderr",
     "output_type": "stream",
     "text": [
      "1436it [27:54,  6.55it/s]"
     ]
    },
    {
     "name": "stdout",
     "output_type": "stream",
     "text": [
      "15초당 60건으로 제한합니다.\n"
     ]
    },
    {
     "name": "stderr",
     "output_type": "stream",
     "text": [
      "1492it [28:25,  2.15it/s]"
     ]
    },
    {
     "name": "stdout",
     "output_type": "stream",
     "text": [
      "15초당 60건으로 제한합니다.\n"
     ]
    },
    {
     "name": "stderr",
     "output_type": "stream",
     "text": [
      "1524it [28:38,  4.94it/s]"
     ]
    },
    {
     "name": "stdout",
     "output_type": "stream",
     "text": [
      "15초당 60건으로 제한합니다.\n"
     ]
    },
    {
     "name": "stderr",
     "output_type": "stream",
     "text": [
      "1551it [28:52,  1.12s/it]\n"
     ]
    }
   ],
   "source": [
    "for yyyy in \"2020\".split(\" \"):\n",
    "    \n",
    "    for mm in \"1 2 3 4 5 6 7 8 9\".split(\" \"):\n",
    "        \n",
    "        mm = mm.zfill(2)\n",
    "        \n",
    "        print(yyyy, mm)\n",
    "\n",
    "        for idx, row in tqdm(KoreaStock.iterrows()):\n",
    "\n",
    "            code = row[\"종목코드\"]\n",
    "\n",
    "            savedir = \"/Users/juhy9/Documents/GitHub/Quant/data/{}\".format(code)\n",
    "            savefile = \"{}/MIN_{}_{}_{}.txt\".format(savedir, yyyy, mm, code)\n",
    "\n",
    "            if not os.path.isdir(savedir):\n",
    "                os.makedirs(savedir)\n",
    "\n",
    "            if os.path.isfile(savefile):\n",
    "                continue\n",
    "                # os.remove(savefile)\n",
    "                # read_table = pd.read_table(savefile, delimiter=\" \")\n",
    "                # read_table = pd.DataFrame([])\n",
    "            else:\n",
    "                read_table = pd.DataFrame([])\n",
    "\n",
    "            creon.setMethod(code=code,\n",
    "                            char=\"m\",\n",
    "                            from_yyyymmdd=int(\"{}{}31\".format(yyyy, mm)),\n",
    "                            to_yyyymmdd=int(\"{}{}01\".format(yyyy, mm)))\n",
    "\n",
    "            getStockPrice = creon.getStockPriceMin()\n",
    "            \n",
    "            DataFrame = pd.DataFrame(getStockPrice)\n",
    "            DataFrame = DataFrame.iloc[::-1].reset_index(drop=True)\n",
    "\n",
    "            if len(read_table) > 0:\n",
    "                read_table = read_table.loc[~read_table.날짜.isin(DataFrame.날짜)].reset_index(drop=True)\n",
    "\n",
    "            concat = pd.concat([read_table, DataFrame], 0).reset_index(drop=True)\n",
    "            concat.to_csv(savefile, sep=\" \", index=None)\n"
   ]
  },
  {
   "cell_type": "code",
   "execution_count": 6,
   "metadata": {},
   "outputs": [
    {
     "name": "stdout",
     "output_type": "stream",
     "text": [
      "2020 08\n"
     ]
    },
    {
     "name": "stderr",
     "output_type": "stream",
     "text": [
      "1380it [45:02,  2.56it/s]"
     ]
    },
    {
     "name": "stdout",
     "output_type": "stream",
     "text": [
      "15초당 60건으로 제한합니다.\n"
     ]
    },
    {
     "name": "stderr",
     "output_type": "stream",
     "text": [
      "1420it [45:32,  2.19it/s]"
     ]
    },
    {
     "name": "stdout",
     "output_type": "stream",
     "text": [
      "15초당 60건으로 제한합니다.\n"
     ]
    },
    {
     "name": "stderr",
     "output_type": "stream",
     "text": [
      "1449it [45:40,  6.10it/s]"
     ]
    },
    {
     "name": "stdout",
     "output_type": "stream",
     "text": [
      "15초당 60건으로 제한합니다.\n"
     ]
    },
    {
     "name": "stderr",
     "output_type": "stream",
     "text": [
      "1501it [46:16,  4.10it/s]"
     ]
    },
    {
     "name": "stdout",
     "output_type": "stream",
     "text": [
      "15초당 60건으로 제한합니다.\n"
     ]
    },
    {
     "name": "stderr",
     "output_type": "stream",
     "text": [
      "1532it [46:25,  5.40it/s]"
     ]
    },
    {
     "name": "stdout",
     "output_type": "stream",
     "text": [
      "15초당 60건으로 제한합니다.\n"
     ]
    },
    {
     "name": "stderr",
     "output_type": "stream",
     "text": [
      "1561it [46:43,  7.38it/s]"
     ]
    },
    {
     "name": "stdout",
     "output_type": "stream",
     "text": [
      "15초당 60건으로 제한합니다.\n"
     ]
    },
    {
     "name": "stderr",
     "output_type": "stream",
     "text": [
      "1562it [46:50,  1.80s/it]\n"
     ]
    },
    {
     "name": "stdout",
     "output_type": "stream",
     "text": [
      "2020 09\n"
     ]
    },
    {
     "name": "stderr",
     "output_type": "stream",
     "text": [
      "28it [00:05,  5.63it/s]"
     ]
    },
    {
     "name": "stdout",
     "output_type": "stream",
     "text": [
      "15초당 60건으로 제한합니다.\n"
     ]
    },
    {
     "name": "stderr",
     "output_type": "stream",
     "text": [
      "59it [00:19,  4.84it/s]"
     ]
    },
    {
     "name": "stdout",
     "output_type": "stream",
     "text": [
      "15초당 60건으로 제한합니다.\n"
     ]
    },
    {
     "name": "stderr",
     "output_type": "stream",
     "text": [
      "89it [00:35,  5.18it/s]"
     ]
    },
    {
     "name": "stdout",
     "output_type": "stream",
     "text": [
      "15초당 60건으로 제한합니다.\n"
     ]
    },
    {
     "name": "stderr",
     "output_type": "stream",
     "text": [
      "118it [00:49,  5.77it/s]"
     ]
    },
    {
     "name": "stdout",
     "output_type": "stream",
     "text": [
      "15초당 60건으로 제한합니다.\n"
     ]
    },
    {
     "name": "stderr",
     "output_type": "stream",
     "text": [
      "150it [01:05,  5.07it/s]"
     ]
    },
    {
     "name": "stdout",
     "output_type": "stream",
     "text": [
      "15초당 60건으로 제한합니다.\n"
     ]
    },
    {
     "name": "stderr",
     "output_type": "stream",
     "text": [
      "180it [01:20,  4.94it/s]"
     ]
    },
    {
     "name": "stdout",
     "output_type": "stream",
     "text": [
      "15초당 60건으로 제한합니다.\n"
     ]
    },
    {
     "name": "stderr",
     "output_type": "stream",
     "text": [
      "210it [01:35,  4.84it/s]"
     ]
    },
    {
     "name": "stdout",
     "output_type": "stream",
     "text": [
      "15초당 60건으로 제한합니다.\n"
     ]
    },
    {
     "name": "stderr",
     "output_type": "stream",
     "text": [
      "240it [01:50,  5.05it/s]"
     ]
    },
    {
     "name": "stdout",
     "output_type": "stream",
     "text": [
      "15초당 60건으로 제한합니다.\n"
     ]
    },
    {
     "name": "stderr",
     "output_type": "stream",
     "text": [
      "270it [02:05,  5.71it/s]"
     ]
    },
    {
     "name": "stdout",
     "output_type": "stream",
     "text": [
      "15초당 60건으로 제한합니다.\n"
     ]
    },
    {
     "name": "stderr",
     "output_type": "stream",
     "text": [
      "299it [02:20,  6.32it/s]"
     ]
    },
    {
     "name": "stdout",
     "output_type": "stream",
     "text": [
      "15초당 60건으로 제한합니다.\n"
     ]
    },
    {
     "name": "stderr",
     "output_type": "stream",
     "text": [
      "330it [02:35,  5.34it/s]"
     ]
    },
    {
     "name": "stdout",
     "output_type": "stream",
     "text": [
      "15초당 60건으로 제한합니다.\n"
     ]
    },
    {
     "name": "stderr",
     "output_type": "stream",
     "text": [
      "361it [02:50,  5.27it/s]"
     ]
    },
    {
     "name": "stdout",
     "output_type": "stream",
     "text": [
      "15초당 60건으로 제한합니다.\n"
     ]
    },
    {
     "name": "stderr",
     "output_type": "stream",
     "text": [
      "391it [03:05,  5.89it/s]"
     ]
    },
    {
     "name": "stdout",
     "output_type": "stream",
     "text": [
      "15초당 60건으로 제한합니다.\n"
     ]
    },
    {
     "name": "stderr",
     "output_type": "stream",
     "text": [
      "422it [03:21,  4.30it/s]"
     ]
    },
    {
     "name": "stdout",
     "output_type": "stream",
     "text": [
      "15초당 60건으로 제한합니다.\n"
     ]
    },
    {
     "name": "stderr",
     "output_type": "stream",
     "text": [
      "452it [03:36,  5.51it/s]"
     ]
    },
    {
     "name": "stdout",
     "output_type": "stream",
     "text": [
      "15초당 60건으로 제한합니다.\n"
     ]
    },
    {
     "name": "stderr",
     "output_type": "stream",
     "text": [
      "483it [03:51,  4.87it/s]"
     ]
    },
    {
     "name": "stdout",
     "output_type": "stream",
     "text": [
      "15초당 60건으로 제한합니다.\n"
     ]
    },
    {
     "name": "stderr",
     "output_type": "stream",
     "text": [
      "513it [04:05,  4.98it/s]"
     ]
    },
    {
     "name": "stdout",
     "output_type": "stream",
     "text": [
      "15초당 60건으로 제한합니다.\n"
     ]
    },
    {
     "name": "stderr",
     "output_type": "stream",
     "text": [
      "543it [04:21,  5.95it/s]"
     ]
    },
    {
     "name": "stdout",
     "output_type": "stream",
     "text": [
      "15초당 60건으로 제한합니다.\n"
     ]
    },
    {
     "name": "stderr",
     "output_type": "stream",
     "text": [
      "574it [04:36,  5.47it/s]"
     ]
    },
    {
     "name": "stdout",
     "output_type": "stream",
     "text": [
      "15초당 60건으로 제한합니다.\n"
     ]
    },
    {
     "name": "stderr",
     "output_type": "stream",
     "text": [
      "604it [04:51,  5.16it/s]"
     ]
    },
    {
     "name": "stdout",
     "output_type": "stream",
     "text": [
      "15초당 60건으로 제한합니다.\n"
     ]
    },
    {
     "name": "stderr",
     "output_type": "stream",
     "text": [
      "634it [05:06,  4.93it/s]"
     ]
    },
    {
     "name": "stdout",
     "output_type": "stream",
     "text": [
      "15초당 60건으로 제한합니다.\n"
     ]
    },
    {
     "name": "stderr",
     "output_type": "stream",
     "text": [
      "664it [05:21,  4.62it/s]"
     ]
    },
    {
     "name": "stdout",
     "output_type": "stream",
     "text": [
      "15초당 60건으로 제한합니다.\n"
     ]
    },
    {
     "name": "stderr",
     "output_type": "stream",
     "text": [
      "694it [05:36,  5.62it/s]"
     ]
    },
    {
     "name": "stdout",
     "output_type": "stream",
     "text": [
      "15초당 60건으로 제한합니다.\n"
     ]
    },
    {
     "name": "stderr",
     "output_type": "stream",
     "text": [
      "724it [05:51,  4.73it/s]"
     ]
    },
    {
     "name": "stdout",
     "output_type": "stream",
     "text": [
      "15초당 60건으로 제한합니다.\n"
     ]
    },
    {
     "name": "stderr",
     "output_type": "stream",
     "text": [
      "754it [06:06,  4.74it/s]"
     ]
    },
    {
     "name": "stdout",
     "output_type": "stream",
     "text": [
      "15초당 60건으로 제한합니다.\n"
     ]
    },
    {
     "name": "stderr",
     "output_type": "stream",
     "text": [
      "784it [06:20,  5.42it/s]"
     ]
    },
    {
     "name": "stdout",
     "output_type": "stream",
     "text": [
      "15초당 60건으로 제한합니다.\n"
     ]
    },
    {
     "name": "stderr",
     "output_type": "stream",
     "text": [
      "815it [06:35,  7.28it/s]"
     ]
    },
    {
     "name": "stdout",
     "output_type": "stream",
     "text": [
      "15초당 60건으로 제한합니다.\n"
     ]
    },
    {
     "name": "stderr",
     "output_type": "stream",
     "text": [
      "845it [06:50,  6.58it/s]"
     ]
    },
    {
     "name": "stdout",
     "output_type": "stream",
     "text": [
      "15초당 60건으로 제한합니다.\n"
     ]
    },
    {
     "name": "stderr",
     "output_type": "stream",
     "text": [
      "874it [07:04,  7.91it/s]"
     ]
    },
    {
     "name": "stdout",
     "output_type": "stream",
     "text": [
      "15초당 60건으로 제한합니다.\n"
     ]
    },
    {
     "name": "stderr",
     "output_type": "stream",
     "text": [
      "905it [07:20,  7.90it/s]"
     ]
    },
    {
     "name": "stdout",
     "output_type": "stream",
     "text": [
      "15초당 60건으로 제한합니다.\n"
     ]
    },
    {
     "name": "stderr",
     "output_type": "stream",
     "text": [
      "936it [07:35,  6.22it/s]"
     ]
    },
    {
     "name": "stdout",
     "output_type": "stream",
     "text": [
      "15초당 60건으로 제한합니다.\n"
     ]
    },
    {
     "name": "stderr",
     "output_type": "stream",
     "text": [
      "968it [07:50,  6.49it/s]"
     ]
    },
    {
     "name": "stdout",
     "output_type": "stream",
     "text": [
      "15초당 60건으로 제한합니다.\n"
     ]
    },
    {
     "name": "stderr",
     "output_type": "stream",
     "text": [
      "998it [08:05,  7.08it/s]"
     ]
    },
    {
     "name": "stdout",
     "output_type": "stream",
     "text": [
      "15초당 60건으로 제한합니다.\n"
     ]
    },
    {
     "name": "stderr",
     "output_type": "stream",
     "text": [
      "1028it [08:20,  8.72it/s]"
     ]
    },
    {
     "name": "stdout",
     "output_type": "stream",
     "text": [
      "15초당 60건으로 제한합니다.\n"
     ]
    },
    {
     "name": "stderr",
     "output_type": "stream",
     "text": [
      "1060it [08:35,  5.98it/s]"
     ]
    },
    {
     "name": "stdout",
     "output_type": "stream",
     "text": [
      "15초당 60건으로 제한합니다.\n"
     ]
    },
    {
     "name": "stderr",
     "output_type": "stream",
     "text": [
      "1090it [08:49,  6.56it/s]"
     ]
    },
    {
     "name": "stdout",
     "output_type": "stream",
     "text": [
      "15초당 60건으로 제한합니다.\n"
     ]
    },
    {
     "name": "stderr",
     "output_type": "stream",
     "text": [
      "1120it [09:05,  5.68it/s]"
     ]
    },
    {
     "name": "stdout",
     "output_type": "stream",
     "text": [
      "15초당 60건으로 제한합니다.\n"
     ]
    },
    {
     "name": "stderr",
     "output_type": "stream",
     "text": [
      "1151it [09:19,  7.58it/s]"
     ]
    },
    {
     "name": "stdout",
     "output_type": "stream",
     "text": [
      "15초당 60건으로 제한합니다.\n"
     ]
    },
    {
     "name": "stderr",
     "output_type": "stream",
     "text": [
      "1181it [09:35,  8.42it/s]"
     ]
    },
    {
     "name": "stdout",
     "output_type": "stream",
     "text": [
      "15초당 60건으로 제한합니다.\n"
     ]
    },
    {
     "name": "stderr",
     "output_type": "stream",
     "text": [
      "1213it [09:49,  8.33it/s]"
     ]
    },
    {
     "name": "stdout",
     "output_type": "stream",
     "text": [
      "15초당 60건으로 제한합니다.\n"
     ]
    },
    {
     "name": "stderr",
     "output_type": "stream",
     "text": [
      "1246it [10:05,  7.98it/s]"
     ]
    },
    {
     "name": "stdout",
     "output_type": "stream",
     "text": [
      "15초당 60건으로 제한합니다.\n"
     ]
    },
    {
     "name": "stderr",
     "output_type": "stream",
     "text": [
      "1277it [10:20,  7.52it/s]"
     ]
    },
    {
     "name": "stdout",
     "output_type": "stream",
     "text": [
      "15초당 60건으로 제한합니다.\n"
     ]
    },
    {
     "name": "stderr",
     "output_type": "stream",
     "text": [
      "1307it [10:35,  7.14it/s]"
     ]
    },
    {
     "name": "stdout",
     "output_type": "stream",
     "text": [
      "15초당 60건으로 제한합니다.\n"
     ]
    },
    {
     "name": "stderr",
     "output_type": "stream",
     "text": [
      "1337it [10:49,  9.54it/s]"
     ]
    },
    {
     "name": "stdout",
     "output_type": "stream",
     "text": [
      "15초당 60건으로 제한합니다.\n"
     ]
    },
    {
     "name": "stderr",
     "output_type": "stream",
     "text": [
      "1368it [11:04,  9.91it/s]"
     ]
    },
    {
     "name": "stdout",
     "output_type": "stream",
     "text": [
      "15초당 60건으로 제한합니다.\n"
     ]
    },
    {
     "name": "stderr",
     "output_type": "stream",
     "text": [
      "1400it [11:19,  9.53it/s]"
     ]
    },
    {
     "name": "stdout",
     "output_type": "stream",
     "text": [
      "15초당 60건으로 제한합니다.\n"
     ]
    },
    {
     "name": "stderr",
     "output_type": "stream",
     "text": [
      "1436it [11:34, 12.91it/s]"
     ]
    },
    {
     "name": "stdout",
     "output_type": "stream",
     "text": [
      "15초당 60건으로 제한합니다.\n"
     ]
    },
    {
     "name": "stderr",
     "output_type": "stream",
     "text": [
      "1471it [11:49,  8.59it/s]"
     ]
    },
    {
     "name": "stdout",
     "output_type": "stream",
     "text": [
      "15초당 60건으로 제한합니다.\n"
     ]
    },
    {
     "name": "stderr",
     "output_type": "stream",
     "text": [
      "1509it [12:04, 14.62it/s]"
     ]
    },
    {
     "name": "stdout",
     "output_type": "stream",
     "text": [
      "15초당 60건으로 제한합니다.\n"
     ]
    },
    {
     "name": "stderr",
     "output_type": "stream",
     "text": [
      "1551it [12:19, 15.49it/s]"
     ]
    },
    {
     "name": "stdout",
     "output_type": "stream",
     "text": [
      "15초당 60건으로 제한합니다.\n"
     ]
    },
    {
     "name": "stderr",
     "output_type": "stream",
     "text": [
      "1562it [12:32,  2.08it/s]\n"
     ]
    }
   ],
   "source": [
    "for yyyy in \"2020\".split(\" \"):\n",
    "    \n",
    "    for mm in \"8 9\".split(\" \"):\n",
    "        \n",
    "        mm = mm.zfill(2)\n",
    "        \n",
    "        print(yyyy, mm)\n",
    "\n",
    "        for idx, row in tqdm(KoreaStock.iterrows()):\n",
    "\n",
    "            code = row[\"종목코드\"]\n",
    "\n",
    "            savedir = \"/Users/juhy9/Documents/GitHub/Quant/data/{}\".format(code)\n",
    "            savefile = \"{}/MIN_{}_{}_{}.txt\".format(savedir, yyyy, mm, code)\n",
    "\n",
    "            if not os.path.isdir(savedir):\n",
    "                os.makedirs(savedir)\n",
    "\n",
    "            if os.path.isfile(savefile):\n",
    "                continue\n",
    "                # os.remove(savefile)\n",
    "                # read_table = pd.read_table(savefile, delimiter=\" \")\n",
    "                # read_table = pd.DataFrame([])\n",
    "            else:\n",
    "                read_table = pd.DataFrame([])\n",
    "\n",
    "            creon.setMethod(code=code,\n",
    "                            char=\"m\",\n",
    "                            from_yyyymmdd=int(\"{}{}31\".format(yyyy, mm)),\n",
    "                            to_yyyymmdd=int(\"{}{}01\".format(yyyy, mm)))\n",
    "\n",
    "            getStockPrice = creon.getStockPriceMin()\n",
    "            \n",
    "            DataFrame = pd.DataFrame(getStockPrice)\n",
    "            DataFrame = DataFrame.iloc[::-1].reset_index(drop=True)\n",
    "\n",
    "            if len(read_table) > 0:\n",
    "                read_table = read_table.loc[~read_table.날짜.isin(DataFrame.날짜)].reset_index(drop=True)\n",
    "\n",
    "            concat = pd.concat([read_table, DataFrame], 0).reset_index(drop=True)\n",
    "            concat.to_csv(savefile, sep=\" \", index=None)\n"
   ]
  },
  {
   "cell_type": "code",
   "execution_count": null,
   "metadata": {},
   "outputs": [],
   "source": []
  }
 ],
 "metadata": {
  "kernelspec": {
   "display_name": "Python 3",
   "language": "python",
   "name": "python3"
  },
  "language_info": {
   "codemirror_mode": {
    "name": "ipython",
    "version": 3
   },
   "file_extension": ".py",
   "mimetype": "text/x-python",
   "name": "python",
   "nbconvert_exporter": "python",
   "pygments_lexer": "ipython3",
   "version": "3.7.4"
  }
 },
 "nbformat": 4,
 "nbformat_minor": 2
}
