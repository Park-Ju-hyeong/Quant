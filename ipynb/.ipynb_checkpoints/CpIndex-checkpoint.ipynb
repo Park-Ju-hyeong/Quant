{
 "cells": [
  {
   "cell_type": "code",
   "execution_count": 1,
   "metadata": {},
   "outputs": [],
   "source": [
    "import codecs\n",
    "import ctypes\n",
    "import os\n",
    "import subprocess\n",
    "import pandas as pd"
   ]
  },
  {
   "cell_type": "code",
   "execution_count": 2,
   "metadata": {},
   "outputs": [],
   "source": [
    "from tqdm import tqdm"
   ]
  },
  {
   "cell_type": "code",
   "execution_count": 3,
   "metadata": {},
   "outputs": [],
   "source": [
    "import codecs\n",
    "import time\n",
    "import logging, logging.config\n",
    "from datetime import datetime, timedelta"
   ]
  },
  {
   "cell_type": "code",
   "execution_count": 4,
   "metadata": {},
   "outputs": [],
   "source": [
    "import subprocess\n",
    "import time\n",
    "import win32com.client\n",
    "import pandas as pd"
   ]
  },
  {
   "cell_type": "code",
   "execution_count": null,
   "metadata": {},
   "outputs": [],
   "source": [
    "import numpy as np\n",
    "import pandas as pd"
   ]
  },
  {
   "cell_type": "code",
   "execution_count": null,
   "metadata": {},
   "outputs": [],
   "source": [
    "objCpCybos = win32com.client.Dispatch(\"CpUtil.CpCybos\")\n",
    "objStockOrder = win32com.client.Dispatch(\"CpTrade.CpTd0311\")\n",
    "objTrade =  win32com.client.Dispatch(\"CpTrade.CpTdUtil\")\n",
    "objRq = win32com.client.Dispatch(\"CpTrade.CpTd6033\")\n",
    "objTdNew = win32com.client.Dispatch('CpTrade.CpTdNew5331A') "
   ]
  },
  {
   "cell_type": "code",
   "execution_count": null,
   "metadata": {},
   "outputs": [],
   "source": [
    "objSeries = win32com.client.Dispatch(\"CpIndexes.CpSeries\")\n",
    "objIndex = win32com.client.Dispatch(\"CpIndexes.CpIndex\")"
   ]
  },
  {
   "cell_type": "code",
   "execution_count": null,
   "metadata": {},
   "outputs": [
    {
     "data": {
      "text/plain": [
       "'\\n0 - 가격지표\\n1 - 대신개발지표\\n2 - 추세지표\\n3 - 변동성지표\\n4 - 거래량지표\\n5 - 기간활용지표\\n6 - 투자자별지표\\n'"
      ]
     },
     "execution_count": 8,
     "metadata": {},
     "output_type": "execute_result"
    }
   ],
   "source": [
    "\"\"\"\n",
    "0 - 가격지표\n",
    "1 - 대신개발지표\n",
    "2 - 추세지표\n",
    "3 - 변동성지표\n",
    "4 - 거래량지표\n",
    "5 - 기간활용지표\n",
    "6 - 투자자별지표\n",
    "\"\"\""
   ]
  },
  {
   "cell_type": "code",
   "execution_count": null,
   "metadata": {
    "scrolled": true
   },
   "outputs": [
    {
     "data": {
      "text/plain": [
       "('Binary Wave MACD',\n",
       " 'BPDL Hilo Index',\n",
       " 'BPDL Short Trend',\n",
       " 'BPDL Trend Filter',\n",
       " 'CCI',\n",
       " 'Elder-Ray',\n",
       " 'MACD',\n",
       " 'MACD(DEMA)',\n",
       " 'MACD(TEMA)',\n",
       " 'MACD Oscillator',\n",
       " 'MAO',\n",
       " 'McCellan Oscillator',\n",
       " 'McCellan Summation',\n",
       " 'Momentum',\n",
       " 'North Price Action Line',\n",
       " 'On Balance Price',\n",
       " 'Price Change Line',\n",
       " 'Price ROC',\n",
       " 'Relative Momentum Index',\n",
       " 'Relative Vigor Indicator',\n",
       " 'Slope of Price',\n",
       " 'Smoothed ROC',\n",
       " 'SONAR',\n",
       " 'TRIX',\n",
       " 'TSF',\n",
       " 'TSI',\n",
       " 'Ultimate Oscillator',\n",
       " 'Velocith Index',\n",
       " 'Williams Accumulation Distribution')"
      ]
     },
     "execution_count": 9,
     "metadata": {},
     "output_type": "execute_result"
    }
   ],
   "source": [
    "objIndex.GetChartIndexCodeListByIndex(2)"
   ]
  },
  {
   "cell_type": "code",
   "execution_count": null,
   "metadata": {},
   "outputs": [],
   "source": [
    "IndexList = [\n",
    "#     '이격도',\n",
    "    'AB Ratio',\n",
    "#     'ADX',\n",
    "#     'ADXR',\n",
    "    'Aroon',\n",
    "    'Aroon Osillator',\n",
    "    'ATR',\n",
    "    'BB-RSI',\n",
    "    'BPDL RSI',\n",
    "    'BPDL Stochatic',\n",
    "    'Chande Momentum Oscillator',\n",
    "    \"Chaikin's Volatility\",\n",
    "    'CompuTrac Volatility',\n",
    "    'DMI',\n",
    "    'DMI(simple)',\n",
    "    'Energy',\n",
    "    'High Low Envelope',\n",
    "    'High Low Oscillator',\n",
    "    'Inertia',\n",
    "    'Klinger Oscillator',\n",
    "    'Linear Trend Oscillator',\n",
    "    'LRS',\n",
    "    'Mass Index',\n",
    "    'Morris Mixed Momentum',\n",
    "    'New BPDL HiLo Index MA',\n",
    "    'Open Difference',\n",
    "    'QStick',\n",
    "    'Random Walk Index',\n",
    "    'RCI',\n",
    "    'Relative Volatility Index',\n",
    "    'Reverse',\n",
    "    'RSI',\n",
    "    'RSI(simple)',\n",
    "#     'RSI(stochastic)',\n",
    "    'R-Squared',\n",
    "    'Sigma',\n",
    "    'SMI',\n",
    "    'Standard Deviation',\n",
    "    'Standard Error',\n",
    "    'Stochastic Fast',\n",
    "    'Stochastic Slow',\n",
    "    'Stochastic(simple)',\n",
    "    'Stochastic Oscillator',\n",
    "    'TRIX기울기',\n",
    "    'True Range',\n",
    "    'TSF Oscillator',\n",
    "    'VHF'\n",
    "    \"CCI\"\n",
    "]"
   ]
  },
  {
   "cell_type": "code",
   "execution_count": null,
   "metadata": {},
   "outputs": [],
   "source": [
    "data = pd.read_table(\"/Users/jooh8/Documents/GitHub/Quant/data/A005930/DAY_A005930.txt\", delimiter=\" \")"
   ]
  },
  {
   "cell_type": "code",
   "execution_count": null,
   "metadata": {
    "scrolled": true
   },
   "outputs": [],
   "source": [
    "tolist = data[\"종가 시가 고가 저가 거래량\".split(\" \")].values.tolist()"
   ]
  },
  {
   "cell_type": "code",
   "execution_count": null,
   "metadata": {},
   "outputs": [
    {
     "name": "stdout",
     "output_type": "stream",
     "text": [
      "10592\n"
     ]
    }
   ],
   "source": [
    "print(len(tolist))"
   ]
  },
  {
   "cell_type": "code",
   "execution_count": null,
   "metadata": {},
   "outputs": [],
   "source": [
    "for close, open, high, low, vol in tolist:\n",
    "\n",
    "    objSeries.Add(close, open, high, low, vol)\n",
    "    \n",
    "objIndex.series = objSeries"
   ]
  },
  {
   "cell_type": "code",
   "execution_count": null,
   "metadata": {
    "scrolled": true
   },
   "outputs": [
    {
     "name": "stderr",
     "output_type": "stream",
     "text": [
      "\r",
      "  0%|                                         | 0/43 [00:00<?, ?it/s]"
     ]
    },
    {
     "name": "stdout",
     "output_type": "stream",
     "text": [
      "AB Ratio\n",
      "################################################################################\n"
     ]
    },
    {
     "name": "stderr",
     "output_type": "stream",
     "text": [
      "\r",
      "  2%|▊                                | 1/43 [00:00<00:05,  7.46it/s]"
     ]
    },
    {
     "name": "stdout",
     "output_type": "stream",
     "text": [
      "Aroon\n",
      "################################################################################\n"
     ]
    },
    {
     "name": "stderr",
     "output_type": "stream",
     "text": [
      "\r",
      "  5%|█▌                               | 2/43 [00:00<00:05,  7.67it/s]"
     ]
    },
    {
     "name": "stdout",
     "output_type": "stream",
     "text": [
      "Aroon Osillator\n",
      "################################################################################\n",
      "ATR\n",
      "################################################################################\n"
     ]
    },
    {
     "name": "stderr",
     "output_type": "stream",
     "text": [
      "\r",
      "  9%|███                              | 4/43 [00:00<00:04,  8.13it/s]"
     ]
    },
    {
     "name": "stdout",
     "output_type": "stream",
     "text": [
      "BB-RSI\n",
      "################################################################################\n"
     ]
    },
    {
     "name": "stderr",
     "output_type": "stream",
     "text": [
      "\r",
      " 12%|███▊                             | 5/43 [00:00<00:05,  7.54it/s]"
     ]
    },
    {
     "name": "stdout",
     "output_type": "stream",
     "text": [
      "BPDL RSI\n",
      "################################################################################\n"
     ]
    },
    {
     "name": "stderr",
     "output_type": "stream",
     "text": [
      "\r",
      " 14%|████▌                            | 6/43 [00:00<00:04,  7.73it/s]"
     ]
    },
    {
     "name": "stdout",
     "output_type": "stream",
     "text": [
      "BPDL Stochatic\n",
      "################################################################################\n"
     ]
    },
    {
     "name": "stderr",
     "output_type": "stream",
     "text": [
      "\r",
      " 16%|█████▎                           | 7/43 [00:00<00:04,  7.86it/s]"
     ]
    },
    {
     "name": "stdout",
     "output_type": "stream",
     "text": [
      "Chande Momentum Oscillator\n",
      "################################################################################\n",
      "Chaikin's Volatility\n",
      "################################################################################\n"
     ]
    },
    {
     "name": "stderr",
     "output_type": "stream",
     "text": [
      "\r",
      " 21%|██████▉                          | 9/43 [00:01<00:03,  8.65it/s]"
     ]
    },
    {
     "name": "stdout",
     "output_type": "stream",
     "text": [
      "CompuTrac Volatility\n",
      "################################################################################\n",
      "DMI\n",
      "################################################################################\n"
     ]
    },
    {
     "name": "stderr",
     "output_type": "stream",
     "text": [
      "\r",
      " 26%|████████▏                       | 11/43 [00:01<00:03,  8.17it/s]"
     ]
    },
    {
     "name": "stdout",
     "output_type": "stream",
     "text": [
      "DMI(simple)\n",
      "################################################################################\n"
     ]
    },
    {
     "name": "stderr",
     "output_type": "stream",
     "text": [
      "\r",
      " 28%|████████▉                       | 12/43 [00:01<00:04,  6.98it/s]"
     ]
    },
    {
     "name": "stdout",
     "output_type": "stream",
     "text": [
      "Energy\n",
      "################################################################################\n"
     ]
    },
    {
     "name": "stderr",
     "output_type": "stream",
     "text": [
      "\r",
      " 30%|█████████▋                      | 13/43 [00:01<00:04,  7.34it/s]"
     ]
    },
    {
     "name": "stdout",
     "output_type": "stream",
     "text": [
      "High Low Envelope\n",
      "################################################################################\n",
      "High Low Oscillator\n",
      "################################################################################\n"
     ]
    },
    {
     "name": "stderr",
     "output_type": "stream",
     "text": [
      "\r",
      " 35%|███████████▏                    | 15/43 [00:01<00:03,  8.22it/s]"
     ]
    },
    {
     "name": "stdout",
     "output_type": "stream",
     "text": [
      "Inertia\n",
      "################################################################################\n"
     ]
    },
    {
     "name": "stderr",
     "output_type": "stream",
     "text": [
      "\r",
      " 37%|███████████▉                    | 16/43 [00:01<00:03,  8.07it/s]"
     ]
    },
    {
     "name": "stdout",
     "output_type": "stream",
     "text": [
      "Klinger Oscillator\n",
      "################################################################################\n"
     ]
    },
    {
     "name": "stderr",
     "output_type": "stream",
     "text": [
      "\r",
      " 40%|████████████▋                   | 17/43 [00:02<00:03,  8.09it/s]"
     ]
    },
    {
     "name": "stdout",
     "output_type": "stream",
     "text": [
      "Linear Trend Oscillator\n",
      "################################################################################\n",
      "LRS\n",
      "################################################################################\n"
     ]
    },
    {
     "name": "stderr",
     "output_type": "stream",
     "text": [
      "\r",
      " 44%|██████████████▏                 | 19/43 [00:02<00:02,  8.45it/s]"
     ]
    },
    {
     "name": "stdout",
     "output_type": "stream",
     "text": [
      "Mass Index\n",
      "################################################################################\n"
     ]
    },
    {
     "name": "stderr",
     "output_type": "stream",
     "text": [
      "\r",
      " 47%|██████████████▉                 | 20/43 [00:02<00:02,  8.39it/s]"
     ]
    },
    {
     "name": "stdout",
     "output_type": "stream",
     "text": [
      "Morris Mixed Momentum\n",
      "################################################################################\n",
      "New BPDL HiLo Index MA\n",
      "################################################################################\n"
     ]
    },
    {
     "name": "stderr",
     "output_type": "stream",
     "text": [
      "\r",
      " 51%|████████████████▎               | 22/43 [00:02<00:02,  9.11it/s]"
     ]
    },
    {
     "name": "stdout",
     "output_type": "stream",
     "text": [
      "Open Difference\n",
      "################################################################################\n",
      "QStick\n",
      "################################################################################\n"
     ]
    },
    {
     "name": "stderr",
     "output_type": "stream",
     "text": [
      "\r",
      " 56%|█████████████████▊              | 24/43 [00:02<00:02,  9.21it/s]"
     ]
    },
    {
     "name": "stdout",
     "output_type": "stream",
     "text": [
      "Random Walk Index\n",
      "################################################################################\n",
      "RCI\n",
      "################################################################################\n"
     ]
    },
    {
     "name": "stderr",
     "output_type": "stream",
     "text": [
      "\r",
      " 60%|███████████████████▎            | 26/43 [00:03<00:02,  7.97it/s]"
     ]
    },
    {
     "name": "stdout",
     "output_type": "stream",
     "text": [
      "Relative Volatility Index\n",
      "################################################################################\n"
     ]
    },
    {
     "name": "stderr",
     "output_type": "stream",
     "text": [
      "\r",
      " 63%|████████████████████            | 27/43 [00:03<00:02,  7.96it/s]"
     ]
    },
    {
     "name": "stdout",
     "output_type": "stream",
     "text": [
      "Reverse\n",
      "################################################################################\n"
     ]
    },
    {
     "name": "stderr",
     "output_type": "stream",
     "text": [
      "\r",
      " 65%|████████████████████▊           | 28/43 [00:03<00:01,  8.03it/s]"
     ]
    },
    {
     "name": "stdout",
     "output_type": "stream",
     "text": [
      "RSI\n",
      "################################################################################\n"
     ]
    },
    {
     "name": "stderr",
     "output_type": "stream",
     "text": [
      "\r",
      " 67%|█████████████████████▌          | 29/43 [00:03<00:01,  8.12it/s]"
     ]
    },
    {
     "name": "stdout",
     "output_type": "stream",
     "text": [
      "RSI(simple)\n",
      "################################################################################\n"
     ]
    },
    {
     "name": "stderr",
     "output_type": "stream",
     "text": [
      "\r",
      " 70%|██████████████████████▎         | 30/43 [00:03<00:01,  8.12it/s]"
     ]
    },
    {
     "name": "stdout",
     "output_type": "stream",
     "text": [
      "R-Squared\n",
      "################################################################################\n",
      "Sigma\n",
      "################################################################################\n"
     ]
    },
    {
     "name": "stderr",
     "output_type": "stream",
     "text": [
      "\r",
      " 74%|███████████████████████▊        | 32/43 [00:03<00:01,  8.77it/s]"
     ]
    },
    {
     "name": "stdout",
     "output_type": "stream",
     "text": [
      "SMI\n",
      "################################################################################\n"
     ]
    },
    {
     "name": "stderr",
     "output_type": "stream",
     "text": [
      "\r",
      " 77%|████████████████████████▌       | 33/43 [00:03<00:01,  8.59it/s]"
     ]
    },
    {
     "name": "stdout",
     "output_type": "stream",
     "text": [
      "Standard Deviation\n",
      "################################################################################\n"
     ]
    },
    {
     "name": "stderr",
     "output_type": "stream",
     "text": [
      "\r",
      " 79%|█████████████████████████▎      | 34/43 [00:04<00:01,  8.28it/s]"
     ]
    },
    {
     "name": "stdout",
     "output_type": "stream",
     "text": [
      "Standard Error\n",
      "################################################################################\n"
     ]
    },
    {
     "name": "stderr",
     "output_type": "stream",
     "text": [
      "\r",
      " 81%|██████████████████████████      | 35/43 [00:04<00:00,  8.21it/s]"
     ]
    },
    {
     "name": "stdout",
     "output_type": "stream",
     "text": [
      "Stochastic Fast\n",
      "################################################################################\n"
     ]
    },
    {
     "name": "stderr",
     "output_type": "stream",
     "text": [
      "\r",
      " 84%|██████████████████████████▊     | 36/43 [00:04<00:00,  8.23it/s]"
     ]
    },
    {
     "name": "stdout",
     "output_type": "stream",
     "text": [
      "Stochastic Slow\n",
      "################################################################################\n"
     ]
    },
    {
     "name": "stderr",
     "output_type": "stream",
     "text": [
      "\r",
      " 86%|███████████████████████████▌    | 37/43 [00:04<00:00,  8.24it/s]"
     ]
    },
    {
     "name": "stdout",
     "output_type": "stream",
     "text": [
      "Stochastic(simple)\n",
      "################################################################################\n"
     ]
    },
    {
     "name": "stderr",
     "output_type": "stream",
     "text": [
      "\r",
      " 88%|████████████████████████████▎   | 38/43 [00:04<00:00,  8.23it/s]"
     ]
    },
    {
     "name": "stdout",
     "output_type": "stream",
     "text": [
      "Stochastic Oscillator\n",
      "################################################################################\n",
      "TRIX기울기\n",
      "################################################################################\n"
     ]
    },
    {
     "name": "stderr",
     "output_type": "stream",
     "text": [
      "\r",
      " 93%|█████████████████████████████▊  | 40/43 [00:04<00:00,  8.59it/s]"
     ]
    },
    {
     "name": "stdout",
     "output_type": "stream",
     "text": [
      "True Range\n",
      "################################################################################\n",
      "TSF Oscillator\n",
      "################################################################################\n"
     ]
    },
    {
     "name": "stderr",
     "output_type": "stream",
     "text": [
      "\r",
      " 98%|███████████████████████████████▎| 42/43 [00:04<00:00,  9.27it/s]"
     ]
    },
    {
     "name": "stdout",
     "output_type": "stream",
     "text": [
      "VHFCCI\n",
      "################################################################################\n"
     ]
    }
   ],
   "source": [
    "for INDEXNAME in tqdm(IndexList):\n",
    "    \n",
    "    print(INDEXNAME)\n",
    "    print(\"#\"*80)\n",
    "    \n",
    "    objIndex.put_IndexKind(INDEXNAME)     # 계산할 지표: MACD\n",
    "    objIndex.put_IndexDefault(INDEXNAME)  # MACD 지표 기본 변수 자동 세팅\n",
    "\n",
    "    indexID = objIndex.GetChartIndexByName(INDEXNAME)\n",
    "    indexName = objIndex.GetLineResults(indexID)\n",
    "\n",
    "    # print(indexID)\n",
    "    # print(indexName)\n",
    "    # print(objIndex.get_Term1(), objIndex.get_Term2(), objIndex.get_Signal())\n",
    "\n",
    "    # 지표 데이터 계산 하기\n",
    "    objIndex.Calculate()\n",
    "    cntofIndex = objIndex.ItemCount\n",
    "\n",
    "    # print(cntofIndex)\n",
    "\n",
    "    creonIndex = {}\n",
    "    for index in range(cntofIndex):\n",
    "        cnt = objIndex.GetCount(index)\n",
    "        creonIndex[indexName[index]] = []\n",
    "        for j in range(cnt) :\n",
    "            value = objIndex.GetResult(index, j)\n",
    "            creonIndex[indexName[index]].append(value)\n",
    "\n",
    "    for k, v in creonIndex.items():\n",
    "        data[k] = v"
   ]
  },
  {
   "cell_type": "code",
   "execution_count": null,
   "metadata": {},
   "outputs": [],
   "source": [
    "columns = [i for i in data.columns if \"Signal\" not in i]"
   ]
  },
  {
   "cell_type": "code",
   "execution_count": null,
   "metadata": {},
   "outputs": [],
   "source": [
    "data = data[columns]"
   ]
  },
  {
   "cell_type": "code",
   "execution_count": null,
   "metadata": {},
   "outputs": [],
   "source": [
    "data.tail()"
   ]
  },
  {
   "cell_type": "code",
   "execution_count": null,
   "metadata": {
    "scrolled": true
   },
   "outputs": [],
   "source": [
    "data[data.columns[:20]].tail()"
   ]
  },
  {
   "cell_type": "code",
   "execution_count": null,
   "metadata": {
    "scrolled": true
   },
   "outputs": [],
   "source": [
    "data[columns[-40:-20]].tail()"
   ]
  },
  {
   "cell_type": "code",
   "execution_count": null,
   "metadata": {},
   "outputs": [],
   "source": []
  }
 ],
 "metadata": {
  "kernelspec": {
   "display_name": "Python 3",
   "language": "python",
   "name": "python3"
  },
  "language_info": {
   "codemirror_mode": {
    "name": "ipython",
    "version": 3
   },
   "file_extension": ".py",
   "mimetype": "text/x-python",
   "name": "python",
   "nbconvert_exporter": "python",
   "pygments_lexer": "ipython3",
   "version": "3.7.1"
  }
 },
 "nbformat": 4,
 "nbformat_minor": 2
}
