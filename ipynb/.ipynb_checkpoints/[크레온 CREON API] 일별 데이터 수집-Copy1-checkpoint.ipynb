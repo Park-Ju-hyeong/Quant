{
 "cells": [
  {
   "cell_type": "markdown",
   "metadata": {},
   "source": [
    "# import"
   ]
  },
  {
   "cell_type": "code",
   "execution_count": 2,
   "metadata": {},
   "outputs": [],
   "source": [
    "import win32com.client\n",
    "import pandas as pd"
   ]
  },
  {
   "cell_type": "markdown",
   "metadata": {},
   "source": [
    "# object"
   ]
  },
  {
   "cell_type": "code",
   "execution_count": 3,
   "metadata": {},
   "outputs": [],
   "source": [
    "class CREON(object):\n",
    "    \"\"\"대신증권 크레온 API\"\"\"\n",
    "    \n",
    "    def __init__(self):\n",
    "        # 연결 여부 체크\n",
    "        self.objCpCybos = win32com.client.Dispatch(\"CpUtil.CpCybos\")\n",
    "        bConnect = self.objCpCybos.IsConnect\n",
    "        if (bConnect == 0):\n",
    "            print(\"PLUS가 정상적으로 연결되지 않음. \")\n",
    "            exit()\n",
    "            \n",
    "    def SetCode(self, code):\n",
    "        \"\"\"\n",
    "        ReqeustData 함수를 호출하기 전에 실행해야 합니다.\n",
    "        ReqeustData 호출 후 오늘 날짜부터 다시 수집하고 싶다면\n",
    "        해당 함수를 다시 실행해야합니다.\n",
    "        \"\"\"\n",
    "        # 일자별 object 구하기\n",
    "        self.objStockWeek = win32com.client.Dispatch(\"DsCbo1.StockWeek\")\n",
    "        self.objStockWeek.SetInputValue(0, code)\n",
    "        \n",
    "        self.data = {\n",
    "            \"date\": [],\n",
    "            \"open\": [],\n",
    "            \"high\": [],\n",
    "            \"low\": [],\n",
    "            \"close\": [],\n",
    "            \"diff\": [],\n",
    "            \"vol\": [],\n",
    "        }\n",
    "            \n",
    "\n",
    "    def ReqeustData(self):\n",
    "        \"\"\"데이터 요청\"\"\"\n",
    "        self.objStockWeek.BlockRequest()\n",
    "\n",
    "        # 통신 결과 확인\n",
    "        rqStatus = self.objStockWeek.GetDibStatus()\n",
    "        rqRet = self.objStockWeek.GetDibMsg1()\n",
    "        \n",
    "        if rqStatus != 0: \n",
    "            return False\n",
    "        else:\n",
    "            print(\"통신상태 양호, 누적 개수 {}\".format(len(self.data[\"date\"])))\n",
    "\n",
    "        # 일자별 정보 데이터 처리\n",
    "        count = self.objStockWeek.GetHeaderValue(1)  # 데이터 개수\n",
    "        \n",
    "        \n",
    "        for i in range(count):\n",
    "            \n",
    "            self.data[\"date\"].append(self.objStockWeek.GetDataValue(0, i))\n",
    "            self.data[\"open\"].append(self.objStockWeek.GetDataValue(1, i))\n",
    "            self.data[\"high\"].append(self.objStockWeek.GetDataValue(2, i))\n",
    "            self.data[\"low\"].append(self.objStockWeek.GetDataValue(3, i))\n",
    "            self.data[\"close\"].append(self.objStockWeek.GetDataValue(4, i))\n",
    "            self.data[\"diff\"].append(self.objStockWeek.GetDataValue(5, i))\n",
    "            self.data[\"vol\"].append(self.objStockWeek.GetDataValue(6, i))\n",
    "\n",
    "        return True\n",
    "    \n",
    "    \n",
    "    def GetStockPriceDay(self, from_yyyymmdd=None, to_yyyymmdd=None, count=None):\n",
    "        \"\"\"\n",
    "        count 를 설정하면 from, to 를 입력하지 않아도 됩니다.\n",
    "        그렇지 않으면 to_yyyymmdd 를 무조건 입력해야 합니다.\n",
    "        to_yyyymmdd 와 count 둘다 있으면 count는 무시됩니다.\n",
    "        \"\"\"\n",
    "        \n",
    "        assert from_yyyymmdd or to_yyyymmdd or count, print(\"기간을 입력해 주세요.\")\n",
    "        \n",
    "        if to_yyyymmdd: \n",
    "            to_yyyymmdd = int(to_yyyymmdd)\n",
    "        if from_yyyymmdd:\n",
    "            from_yyyymmdd = int(from_yyyymmdd)\n",
    "        if from_yyyymmdd and to_yyyymmdd:\n",
    "            if to_yyyymmdd > from_yyyymmdd:\n",
    "                t1, t2 = to_yyyymmdd, from_yyyymmdd\n",
    "                to_yyyymmdd = t2\n",
    "                from_yyyymmdd = t1\n",
    "                \n",
    "        if count: \n",
    "            count = int(count)\n",
    "        else:\n",
    "            assert to_yyyymmdd, print(\"마지막 날짜를 입력해 주세요.\")\n",
    "        \n",
    "        _ = self.ReqeustData()\n",
    "        \n",
    "        while self.objStockWeek.Continue:\n",
    "            _ = self.ReqeustData()\n",
    "            \n",
    "            if count:\n",
    "                if len(self.data[\"date\"]) >= count:\n",
    "                    for k, v in self.data.items():\n",
    "                        self.data[k] = self.data[k][:count]\n",
    "                        \n",
    "                    break\n",
    "                        \n",
    "            else:\n",
    "                lastday = self.data[\"date\"][-1]\n",
    "                \n",
    "                if to_yyyymmdd >= lastday:\n",
    "                    endday = [i >= to_yyyymmdd for i in self.data[\"date\"]].index(False)\n",
    "                    \n",
    "                    if from_yyyymmdd:\n",
    "                        from_yyyymmdd = int(from_yyyymmdd)\n",
    "                        if from_yyyymmdd in self.data[\"date\"]:\n",
    "                            startday = self.data[\"date\"].index(from_yyyymmdd)\n",
    "                    else:\n",
    "                        startday = 0\n",
    "\n",
    "                    for k, v in self.data.items():\n",
    "                        self.data[k] = self.data[k][startday:endday]\n",
    "\n",
    "                    break\n",
    "                        \n",
    "                    \n",
    "        return self.data"
   ]
  },
  {
   "cell_type": "markdown",
   "metadata": {},
   "source": [
    "# run"
   ]
  },
  {
   "cell_type": "code",
   "execution_count": null,
   "metadata": {},
   "outputs": [],
   "source": [
    "creon = CREON()"
   ]
  },
  {
   "cell_type": "code",
   "execution_count": null,
   "metadata": {},
   "outputs": [],
   "source": [
    "creon.SetCode(\"A005930\")"
   ]
  },
  {
   "cell_type": "code",
   "execution_count": null,
   "metadata": {
    "scrolled": true
   },
   "outputs": [],
   "source": [
    "samsung = creon.GetStockPriceDay(to_yyyymmdd=20190123)"
   ]
  },
  {
   "cell_type": "code",
   "execution_count": null,
   "metadata": {
    "scrolled": false
   },
   "outputs": [],
   "source": [
    "pd.DataFrame(samsung)"
   ]
  }
 ],
 "metadata": {
  "kernelspec": {
   "display_name": "Python 3",
   "language": "python",
   "name": "python3"
  },
  "language_info": {
   "codemirror_mode": {
    "name": "ipython",
    "version": 3
   },
   "file_extension": ".py",
   "mimetype": "text/x-python",
   "name": "python",
   "nbconvert_exporter": "python",
   "pygments_lexer": "ipython3",
   "version": "3.7.1"
  }
 },
 "nbformat": 4,
 "nbformat_minor": 2
}
