{
 "cells": [
  {
   "cell_type": "code",
   "execution_count": 1,
   "metadata": {},
   "outputs": [],
   "source": [
    "import numpy as np\n",
    "import pandas as pd\n",
    "from tqdm import tqdm\n",
    "from datetime import datetime"
   ]
  },
  {
   "cell_type": "code",
   "execution_count": 2,
   "metadata": {},
   "outputs": [],
   "source": [
    "def splitDate(date):\n",
    "    date = str(date)\n",
    "    Y = int(date[:4])\n",
    "    M = int(date[4:6])\n",
    "    D = int(date[6:])\n",
    "    return (Y, M, D)"
   ]
  },
  {
   "cell_type": "code",
   "execution_count": 3,
   "metadata": {},
   "outputs": [],
   "source": [
    "def getWeek(date):\n",
    "    return datetime(*date).weekday()"
   ]
  },
  {
   "cell_type": "code",
   "execution_count": 4,
   "metadata": {},
   "outputs": [],
   "source": [
    "read_csv = pd.read_csv(\"/Users/jooh8/Documents/GitHub/Quant/data/A001040/Index_A001040.txt\", sep=\" \", low_memory=False)"
   ]
  },
  {
   "cell_type": "code",
   "execution_count": 5,
   "metadata": {
    "scrolled": true
   },
   "outputs": [],
   "source": [
    "read_csv[\"DoW\"] = read_csv[\"날짜\"].apply(lambda x: getWeek(splitDate(x)))"
   ]
  },
  {
   "cell_type": "code",
   "execution_count": 6,
   "metadata": {},
   "outputs": [],
   "source": [
    "weekList = []\n",
    "preW = 0\n",
    "week = 0\n",
    "\n",
    "for W in reversed(read_csv[\"DoW\"]):\n",
    "    if W > preW:\n",
    "        week += 1\n",
    "    weekList.append(week)\n",
    "    preW = W\n",
    "    \n",
    "weekList.reverse()"
   ]
  },
  {
   "cell_type": "code",
   "execution_count": 7,
   "metadata": {},
   "outputs": [],
   "source": [
    "read_csv[\"WEEK\"] = weekList"
   ]
  },
  {
   "cell_type": "code",
   "execution_count": 8,
   "metadata": {},
   "outputs": [],
   "source": [
    "for period in range(10):\n",
    "    \n",
    "    read_csv[\"고가_{}\".format(period)] = read_csv[\"고가\"].shift(periods=-period)#.fillna(0)"
   ]
  },
  {
   "cell_type": "code",
   "execution_count": 9,
   "metadata": {
    "scrolled": true
   },
   "outputs": [],
   "source": [
    "read_csv = read_csv.dropna()"
   ]
  },
  {
   "cell_type": "code",
   "execution_count": 10,
   "metadata": {},
   "outputs": [],
   "source": [
    "for period in range(10):\n",
    "    \n",
    "    read_csv[\"최고가_{}\".format(period)] = read_csv[[\"고가_{}\".format(i) for i in range(period + 1)]].apply(np.max, 1)"
   ]
  },
  {
   "cell_type": "code",
   "execution_count": 11,
   "metadata": {
    "scrolled": true
   },
   "outputs": [],
   "source": [
    "for period in range(10):\n",
    "    \n",
    "    read_csv[\"Target_{}\".format(period)] = read_csv[\"시가\"] * 1.05 < read_csv[\"고가_{}\".format(period)]"
   ]
  },
  {
   "cell_type": "code",
   "execution_count": 12,
   "metadata": {},
   "outputs": [],
   "source": [
    "columns = list(read_csv.columns)"
   ]
  },
  {
   "cell_type": "code",
   "execution_count": 13,
   "metadata": {
    "scrolled": true
   },
   "outputs": [
    {
     "name": "stdout",
     "output_type": "stream",
     "text": [
      "['A Ratio_20', 'B Ratio_20', 'Aroon_20 Up', 'Down', 'Aroon Osillator_20', 'ATR_14', 'BB-RSI_종가_10', 'BB-RSI_20_2.00 상한', 'BB-RSI 하한', 'BPDL RSI_14', 'BPDL Stochatic_14', 'Chande Momentum Oscillator_10', \"Chaikin's Volatility_14,14\", 'CompuTrac Volatility_10', '+DI_14', '-DI_14', 'ADX_14', 'ADXR_14', '+DI(simple)_14', '-DI(simple)_14', 'ADX(simple)_14,14', 'ADXR(simple)_14,14,14', 'Energy+_14', 'Energy-_14', 'High Low Envelope_1', 'High Low Oscillator_3', 'Inertia_20,14,10', 'Klinger Oscillator', 'Linear Trend Oscillator_10,20', 'LRS_종가,14', 'Mass Index_20,9', 'Morris Mixed Momentum', 'New BPDL HiLo Index MA_14,7', 'Open Difference_15', 'QStick_14', 'Random Walk Index_15,3', 'RCI_5', 'RCI_9', 'RCI_13', 'RCI_18', 'Relative Volatility Index_단순,14,10', 'Reverse 단기_12', ' 장기_24', 'RSI_종가,14', 'RSI(simple)_종가,14', 'Sigma_종가,20', 'SMI_5,3,3', 'Standard Deviation_14,2.00', 'Standard Error_종가,14', 'Fast %K_5', 'Fast %D_3', 'Slow %K_5,3', 'Slow %D_3', 'Slow(Simple) %K_5,3', 'Slow(Simple) %D_3', 'StochOsc_5,3', 'TRIX기울기_종가,14', 'True Range', 'TSF Oscillator_종가,14,28', 'VHF_14', 'CCI_14']\n"
     ]
    }
   ],
   "source": [
    "momentums = columns[11:-32]\n",
    "print(momentums)"
   ]
  },
  {
   "cell_type": "code",
   "execution_count": 14,
   "metadata": {},
   "outputs": [
    {
     "name": "stdout",
     "output_type": "stream",
     "text": [
      "['Target_0', 'Target_1', 'Target_2', 'Target_3', 'Target_4', 'Target_5', 'Target_6', 'Target_7', 'Target_8', 'Target_9']\n"
     ]
    }
   ],
   "source": [
    "targets = columns[-10:]\n",
    "print(targets)"
   ]
  },
  {
   "cell_type": "code",
   "execution_count": 15,
   "metadata": {},
   "outputs": [
    {
     "name": "stderr",
     "output_type": "stream",
     "text": [
      "100%|███████████████████████████████████████████████████████| 97/97 [00:01<00:00, 52.94it/s]\n"
     ]
    }
   ],
   "source": [
    "DATASET = []\n",
    "\n",
    "for idx in tqdm(range(3, 100)):\n",
    "    \n",
    "    X_train = read_csv.loc[(read_csv[\"WEEK\"] > idx+3) & (read_csv[\"WEEK\"] < idx+303), momentums]\n",
    "    Y_train = read_csv.loc[(read_csv[\"WEEK\"] > idx+3) & (read_csv[\"WEEK\"] < idx+303), targets]\n",
    "    \n",
    "    TESTSET = []\n",
    "\n",
    "    X_test = read_csv.loc[(read_csv[\"WEEK\"] == idx+3), momentums]\n",
    "    Y_test = read_csv.loc[(read_csv[\"WEEK\"] == idx+3), targets]\n",
    "    \n",
    "    TESTSET.append([X_test, Y_test])\n",
    "    \n",
    "    X_test = read_csv.loc[(read_csv[\"WEEK\"] == idx+2), momentums]\n",
    "    Y_test = read_csv.loc[(read_csv[\"WEEK\"] == idx+2), targets]\n",
    "    \n",
    "    TESTSET.append([X_test, Y_test])\n",
    "    \n",
    "    X_test = read_csv.loc[(read_csv[\"WEEK\"] == idx+1), momentums]\n",
    "    Y_test = read_csv.loc[(read_csv[\"WEEK\"] == idx+1), targets]\n",
    "    \n",
    "    TESTSET.append([X_test, Y_test])\n",
    "    \n",
    "    X_test = read_csv.loc[(read_csv[\"WEEK\"] == idx), momentums]\n",
    "    Y_test = read_csv.loc[(read_csv[\"WEEK\"] == idx), targets]\n",
    "    \n",
    "    TESTSET.append([X_test, Y_test])\n",
    "    \n",
    "    DATASET.append([[X_train, Y_train], TESTSET])"
   ]
  },
  {
   "cell_type": "code",
   "execution_count": 16,
   "metadata": {},
   "outputs": [
    {
     "data": {
      "text/html": [
       "<div>\n",
       "<style scoped>\n",
       "    .dataframe tbody tr th:only-of-type {\n",
       "        vertical-align: middle;\n",
       "    }\n",
       "\n",
       "    .dataframe tbody tr th {\n",
       "        vertical-align: top;\n",
       "    }\n",
       "\n",
       "    .dataframe thead th {\n",
       "        text-align: right;\n",
       "    }\n",
       "</style>\n",
       "<table border=\"1\" class=\"dataframe\">\n",
       "  <thead>\n",
       "    <tr style=\"text-align: right;\">\n",
       "      <th></th>\n",
       "      <th>A Ratio_20</th>\n",
       "      <th>B Ratio_20</th>\n",
       "      <th>Aroon_20 Up</th>\n",
       "      <th>Down</th>\n",
       "      <th>Aroon Osillator_20</th>\n",
       "      <th>ATR_14</th>\n",
       "      <th>BB-RSI_종가_10</th>\n",
       "      <th>BB-RSI_20_2.00 상한</th>\n",
       "      <th>BB-RSI 하한</th>\n",
       "      <th>BPDL RSI_14</th>\n",
       "      <th>...</th>\n",
       "      <th>Slow %K_5,3</th>\n",
       "      <th>Slow %D_3</th>\n",
       "      <th>Slow(Simple) %K_5,3</th>\n",
       "      <th>Slow(Simple) %D_3</th>\n",
       "      <th>StochOsc_5,3</th>\n",
       "      <th>TRIX기울기_종가,14</th>\n",
       "      <th>True Range</th>\n",
       "      <th>TSF Oscillator_종가,14,28</th>\n",
       "      <th>VHF_14</th>\n",
       "      <th>CCI_14</th>\n",
       "    </tr>\n",
       "  </thead>\n",
       "  <tbody>\n",
       "    <tr>\n",
       "      <th>10583</th>\n",
       "      <td>53.52112676056338</td>\n",
       "      <td>51.388888888888886</td>\n",
       "      <td>60.0</td>\n",
       "      <td>95.0</td>\n",
       "      <td>-35.0</td>\n",
       "      <td>2808.826290658188</td>\n",
       "      <td>30.46640738388426</td>\n",
       "      <td>69.2686665714376</td>\n",
       "      <td>22.678225965199076</td>\n",
       "      <td>23.52941176470588</td>\n",
       "      <td>...</td>\n",
       "      <td>25.64102564102564</td>\n",
       "      <td>15.870240870241409</td>\n",
       "      <td>29.320959052662182</td>\n",
       "      <td>23.153381835458184</td>\n",
       "      <td>12.82051282051307</td>\n",
       "      <td>-0.028804454378838662</td>\n",
       "      <td>2500.0</td>\n",
       "      <td>-4114.774114773783</td>\n",
       "      <td>0.5588235294117647</td>\n",
       "      <td>-108.79801734820101</td>\n",
       "    </tr>\n",
       "    <tr>\n",
       "      <th>10584</th>\n",
       "      <td>52.054794520547944</td>\n",
       "      <td>65.67164179104478</td>\n",
       "      <td>55.00000000000001</td>\n",
       "      <td>90.0</td>\n",
       "      <td>-34.99999999999999</td>\n",
       "      <td>2893.9101270397464</td>\n",
       "      <td>30.46640738388426</td>\n",
       "      <td>68.9538713787536</td>\n",
       "      <td>20.837456409348448</td>\n",
       "      <td>24.242424242424242</td>\n",
       "      <td>...</td>\n",
       "      <td>36.84210526315789</td>\n",
       "      <td>25.373164846849594</td>\n",
       "      <td>35.49381285966443</td>\n",
       "      <td>29.323597347561307</td>\n",
       "      <td>4.700854700854947</td>\n",
       "      <td>-0.025870116779402277</td>\n",
       "      <td>4000.0</td>\n",
       "      <td>-4081.8070818062406</td>\n",
       "      <td>0.5757575757575758</td>\n",
       "      <td>-61.93098384728174</td>\n",
       "    </tr>\n",
       "    <tr>\n",
       "      <th>10585</th>\n",
       "      <td>51.35135135135135</td>\n",
       "      <td>67.16417910447761</td>\n",
       "      <td>50.0</td>\n",
       "      <td>85.0</td>\n",
       "      <td>-35.0</td>\n",
       "      <td>2972.9165465369074</td>\n",
       "      <td>40.49094156748819</td>\n",
       "      <td>67.39155346939413</td>\n",
       "      <td>20.66091870713412</td>\n",
       "      <td>36.66666666666667</td>\n",
       "      <td>...</td>\n",
       "      <td>48.64864864864865</td>\n",
       "      <td>37.04392651761127</td>\n",
       "      <td>51.080239763165544</td>\n",
       "      <td>40.20191855536343</td>\n",
       "      <td>17.735042735042974</td>\n",
       "      <td>-0.019614564700260045</td>\n",
       "      <td>4000.0</td>\n",
       "      <td>-4034.1880341881915</td>\n",
       "      <td>0.6333333333333333</td>\n",
       "      <td>-57.41573033707692</td>\n",
       "    </tr>\n",
       "    <tr>\n",
       "      <th>10586</th>\n",
       "      <td>55.55555555555556</td>\n",
       "      <td>69.6969696969697</td>\n",
       "      <td>45.0</td>\n",
       "      <td>80.0</td>\n",
       "      <td>-35.0</td>\n",
       "      <td>2939.1367932128423</td>\n",
       "      <td>36.58408098493811</td>\n",
       "      <td>65.63518730664528</td>\n",
       "      <td>20.287743200054134</td>\n",
       "      <td>25.0</td>\n",
       "      <td>...</td>\n",
       "      <td>52.77777777777778</td>\n",
       "      <td>46.08951056319532</td>\n",
       "      <td>50.54011988158277</td>\n",
       "      <td>45.371019218473094</td>\n",
       "      <td>-2.7777777777775228</td>\n",
       "      <td>-0.01615423995331164</td>\n",
       "      <td>2500.0</td>\n",
       "      <td>-3495.115995115644</td>\n",
       "      <td>0.6785714285714286</td>\n",
       "      <td>-47.45762711864214</td>\n",
       "    </tr>\n",
       "  </tbody>\n",
       "</table>\n",
       "<p>4 rows × 61 columns</p>\n",
       "</div>"
      ],
      "text/plain": [
       "               A Ratio_20          B Ratio_20        Aroon_20 Up  Down  \\\n",
       "10583   53.52112676056338  51.388888888888886               60.0  95.0   \n",
       "10584  52.054794520547944   65.67164179104478  55.00000000000001  90.0   \n",
       "10585   51.35135135135135   67.16417910447761               50.0  85.0   \n",
       "10586   55.55555555555556    69.6969696969697               45.0  80.0   \n",
       "\n",
       "       Aroon Osillator_20              ATR_14       BB-RSI_종가_10  \\\n",
       "10583               -35.0   2808.826290658188  30.46640738388426   \n",
       "10584  -34.99999999999999  2893.9101270397464  30.46640738388426   \n",
       "10585               -35.0  2972.9165465369074  40.49094156748819   \n",
       "10586               -35.0  2939.1367932128423  36.58408098493811   \n",
       "\n",
       "       BB-RSI_20_2.00 상한           BB-RSI 하한         BPDL RSI_14  \\\n",
       "10583   69.2686665714376  22.678225965199076   23.52941176470588   \n",
       "10584   68.9538713787536  20.837456409348448  24.242424242424242   \n",
       "10585  67.39155346939413   20.66091870713412   36.66666666666667   \n",
       "10586  65.63518730664528  20.287743200054134                25.0   \n",
       "\n",
       "              ...                 Slow %K_5,3           Slow %D_3  \\\n",
       "10583         ...           25.64102564102564  15.870240870241409   \n",
       "10584         ...           36.84210526315789  25.373164846849594   \n",
       "10585         ...           48.64864864864865   37.04392651761127   \n",
       "10586         ...           52.77777777777778   46.08951056319532   \n",
       "\n",
       "      Slow(Simple) %K_5,3   Slow(Simple) %D_3         StochOsc_5,3  \\\n",
       "10583  29.320959052662182  23.153381835458184    12.82051282051307   \n",
       "10584   35.49381285966443  29.323597347561307    4.700854700854947   \n",
       "10585  51.080239763165544   40.20191855536343   17.735042735042974   \n",
       "10586   50.54011988158277  45.371019218473094  -2.7777777777775228   \n",
       "\n",
       "               TRIX기울기_종가,14 True Range TSF Oscillator_종가,14,28  \\\n",
       "10583  -0.028804454378838662     2500.0      -4114.774114773783   \n",
       "10584  -0.025870116779402277     4000.0     -4081.8070818062406   \n",
       "10585  -0.019614564700260045     4000.0     -4034.1880341881915   \n",
       "10586   -0.01615423995331164     2500.0      -3495.115995115644   \n",
       "\n",
       "                   VHF_14               CCI_14  \n",
       "10583  0.5588235294117647  -108.79801734820101  \n",
       "10584  0.5757575757575758   -61.93098384728174  \n",
       "10585  0.6333333333333333   -57.41573033707692  \n",
       "10586  0.6785714285714286   -47.45762711864214  \n",
       "\n",
       "[4 rows x 61 columns]"
      ]
     },
     "execution_count": 16,
     "metadata": {},
     "output_type": "execute_result"
    }
   ],
   "source": [
    "DATASET[0][1][3][0]"
   ]
  },
  {
   "cell_type": "code",
   "execution_count": 17,
   "metadata": {
    "scrolled": true
   },
   "outputs": [
    {
     "data": {
      "text/html": [
       "<div>\n",
       "<style scoped>\n",
       "    .dataframe tbody tr th:only-of-type {\n",
       "        vertical-align: middle;\n",
       "    }\n",
       "\n",
       "    .dataframe tbody tr th {\n",
       "        vertical-align: top;\n",
       "    }\n",
       "\n",
       "    .dataframe thead th {\n",
       "        text-align: right;\n",
       "    }\n",
       "</style>\n",
       "<table border=\"1\" class=\"dataframe\">\n",
       "  <thead>\n",
       "    <tr style=\"text-align: right;\">\n",
       "      <th></th>\n",
       "      <th>Target_0</th>\n",
       "      <th>Target_1</th>\n",
       "      <th>Target_2</th>\n",
       "      <th>Target_3</th>\n",
       "      <th>Target_4</th>\n",
       "      <th>Target_5</th>\n",
       "      <th>Target_6</th>\n",
       "      <th>Target_7</th>\n",
       "      <th>Target_8</th>\n",
       "      <th>Target_9</th>\n",
       "    </tr>\n",
       "  </thead>\n",
       "  <tbody>\n",
       "    <tr>\n",
       "      <th>10583</th>\n",
       "      <td>False</td>\n",
       "      <td>False</td>\n",
       "      <td>False</td>\n",
       "      <td>False</td>\n",
       "      <td>False</td>\n",
       "      <td>False</td>\n",
       "      <td>False</td>\n",
       "      <td>False</td>\n",
       "      <td>False</td>\n",
       "      <td>False</td>\n",
       "    </tr>\n",
       "    <tr>\n",
       "      <th>10584</th>\n",
       "      <td>False</td>\n",
       "      <td>False</td>\n",
       "      <td>False</td>\n",
       "      <td>False</td>\n",
       "      <td>False</td>\n",
       "      <td>False</td>\n",
       "      <td>False</td>\n",
       "      <td>False</td>\n",
       "      <td>False</td>\n",
       "      <td>False</td>\n",
       "    </tr>\n",
       "    <tr>\n",
       "      <th>10585</th>\n",
       "      <td>False</td>\n",
       "      <td>False</td>\n",
       "      <td>False</td>\n",
       "      <td>False</td>\n",
       "      <td>False</td>\n",
       "      <td>False</td>\n",
       "      <td>False</td>\n",
       "      <td>False</td>\n",
       "      <td>False</td>\n",
       "      <td>False</td>\n",
       "    </tr>\n",
       "    <tr>\n",
       "      <th>10586</th>\n",
       "      <td>False</td>\n",
       "      <td>False</td>\n",
       "      <td>False</td>\n",
       "      <td>False</td>\n",
       "      <td>False</td>\n",
       "      <td>False</td>\n",
       "      <td>False</td>\n",
       "      <td>False</td>\n",
       "      <td>False</td>\n",
       "      <td>False</td>\n",
       "    </tr>\n",
       "  </tbody>\n",
       "</table>\n",
       "</div>"
      ],
      "text/plain": [
       "       Target_0  Target_1  Target_2  Target_3  Target_4  Target_5  Target_6  \\\n",
       "10583     False     False     False     False     False     False     False   \n",
       "10584     False     False     False     False     False     False     False   \n",
       "10585     False     False     False     False     False     False     False   \n",
       "10586     False     False     False     False     False     False     False   \n",
       "\n",
       "       Target_7  Target_8  Target_9  \n",
       "10583     False     False     False  \n",
       "10584     False     False     False  \n",
       "10585     False     False     False  \n",
       "10586     False     False     False  "
      ]
     },
     "execution_count": 17,
     "metadata": {},
     "output_type": "execute_result"
    }
   ],
   "source": [
    "DATASET[0][1][3][1]"
   ]
  },
  {
   "cell_type": "code",
   "execution_count": null,
   "metadata": {},
   "outputs": [],
   "source": [
    "from sklearn.multioutput import MultiOutputClassifier\n",
    "from sklearn.ensemble import RandomForestClassifier\n",
    "from sklearn.metrics import confusion_matrix, classification_report\n",
    "from sklearn import preprocessing\n",
    "import numpy as np"
   ]
  },
  {
   "cell_type": "code",
   "execution_count": null,
   "metadata": {},
   "outputs": [],
   "source": [
    "CMResult = {}"
   ]
  },
  {
   "cell_type": "code",
   "execution_count": null,
   "metadata": {},
   "outputs": [],
   "source": [
    "for data in tqdm(DATASET):\n",
    "    \n",
    "    X_train = data[0][0].astype(float)\n",
    "    Y_train = data[0][1].astype(float)\n",
    "    \n",
    "    for week, test in enumerate(data[1]):\n",
    "        \n",
    "        X_test = test[0].astype(float).astype(float)\n",
    "        Y_test = test[1].astype(float)\n",
    "\n",
    "        scaler = preprocessing.StandardScaler().fit(X_train)\n",
    "        forest = RandomForestClassifier(n_estimators=500, random_state=1, max_depth=5)\n",
    "        multi_target_forest = MultiOutputClassifier(forest, n_jobs=-1)\n",
    "        multi_target_forest.fit(scaler.transform(X_train), Y_train)\n",
    "        predict = multi_target_forest.predict(scaler.transform(X_train))\n",
    "\n",
    "        # corr = predict == Y_train\n",
    "        # corr.apply(np.mean, 0)\n",
    "        # np.mean(corr.apply(np.mean, 0))\n",
    "\n",
    "        predict = multi_target_forest.predict(scaler.transform(X_test))\n",
    "\n",
    "        # corr = predict == Y_test\n",
    "        # corr.apply(np.mean, 0)\n",
    "        # np.mean(corr.apply(np.mean, 0))\n",
    "        \n",
    "        for period in range(10):\n",
    "\n",
    "            cm = confusion_matrix(np.array(Y_test[\"Target_{}\".format(period)]), predict[:, period])\n",
    "            if len(cm) == 1:\n",
    "                \n",
    "                tmp = int(list(set(predict[:, period]))[0])\n",
    "                values = int(cm)\n",
    "                \n",
    "                if tmp == 0:\n",
    "                    cm = np.zeros((2, 2))\n",
    "                    cm[0, 0] = values\n",
    "                    \n",
    "                else:\n",
    "                    cm = np.ones((2, 2))\n",
    "                    cm[1, 1] = values\n",
    "\n",
    "    #         Sensitivity = cm[1, 1] / np.sum(cm[:, 1])\n",
    "    #         Accuracy = np.sum(cm.diagonal()) / np.sum(cm)\n",
    "    \n",
    "            key = \"week{}_period{}\".format(week+1, period)    \n",
    "            \n",
    "            if key not in CMResult:\n",
    "                CMResult[key] = []\n",
    "\n",
    "            CMResult[key].append(cm)"
   ]
  },
  {
   "cell_type": "code",
   "execution_count": null,
   "metadata": {},
   "outputs": [],
   "source": [
    "print(CMResult.keys())"
   ]
  }
 ],
 "metadata": {
  "kernelspec": {
   "display_name": "Python 3",
   "language": "python",
   "name": "python3"
  },
  "language_info": {
   "codemirror_mode": {
    "name": "ipython",
    "version": 3
   },
   "file_extension": ".py",
   "mimetype": "text/x-python",
   "name": "python",
   "nbconvert_exporter": "python",
   "pygments_lexer": "ipython3",
   "version": "3.7.1"
  }
 },
 "nbformat": 4,
 "nbformat_minor": 2
}
