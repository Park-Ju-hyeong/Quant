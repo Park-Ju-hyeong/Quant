{
 "cells": [
  {
   "cell_type": "code",
   "execution_count": 1,
   "metadata": {},
   "outputs": [],
   "source": [
    "import win32com.client"
   ]
  },
  {
   "cell_type": "code",
   "execution_count": 2,
   "metadata": {},
   "outputs": [],
   "source": [
    "import time"
   ]
  },
  {
   "cell_type": "code",
   "execution_count": 3,
   "metadata": {},
   "outputs": [],
   "source": [
    "# 연결 여부 체크\n",
    "objCpCybos = win32com.client.Dispatch(\"CpUtil.CpCybos\")\n",
    "bConnect = objCpCybos.IsConnect\n",
    "\n",
    "if bConnect == 0:\n",
    "    print(\"PLUS가 정상적으로 연결되지 않음. \")"
   ]
  },
  {
   "cell_type": "code",
   "execution_count": 4,
   "metadata": {},
   "outputs": [],
   "source": [
    "# 주문 초기화\n",
    "objTrade =  win32com.client.Dispatch(\"CpTrade.CpTdUtil\")\n",
    "initCheck = objTrade.TradeInit(0)\n",
    "\n",
    "if initCheck != 0:\n",
    "    print(\"주문 초기화 실패\")\n"
   ]
  },
  {
   "cell_type": "code",
   "execution_count": 5,
   "metadata": {},
   "outputs": [
    {
     "name": "stdout",
     "output_type": "stream",
     "text": [
      "782245342 01\n"
     ]
    }
   ],
   "source": [
    "# 주식 매수 주문\n",
    "acc = objTrade.AccountNumber[0] #계좌번호\n",
    "accFlag = objTrade.GoodsList(acc, 1)  # 주식상품 구분\n",
    "print(acc, accFlag[0])"
   ]
  },
  {
   "cell_type": "code",
   "execution_count": null,
   "metadata": {},
   "outputs": [],
   "source": [
    "for i in range(5):\n",
    "    \n",
    "    objStockOrder = win32com.client.Dispatch(\"CpTrade.CpTd0311\")\n",
    "    objStockOrder.SetInputValue(0, \"2\")   # 2: 매수\n",
    "    objStockOrder.SetInputValue(1, acc )   #  계좌번호\n",
    "    objStockOrder.SetInputValue(2, accFlag[0])   # 상품구분 - 주식 상품 중 첫번째\n",
    "    objStockOrder.SetInputValue(3, \"A012170\")   # 종목코드 - A003540 - 대신증권 종목\n",
    "#     objStockOrder.SetInputValue(3, \"A182360\")   # 종목코드 - A003540 - 대신증권 종목\n",
    "    objStockOrder.SetInputValue(4, 1)   # 매수수량 10주\n",
    "    objStockOrder.SetInputValue(5, 0)   # 주문단가  - 14,100원\n",
    "    objStockOrder.SetInputValue(7, \"0\")   # 주문 조건 구분 코드, 0: 기본 1: IOC 2:FOK\n",
    "    objStockOrder.SetInputValue(8, \"03\")   # 주문호가 구분코드 - 01: 보통\n",
    "\n",
    "    # 매수 주문 요청\n",
    "    objStockOrder.BlockRequest()\n",
    "\n",
    "    rqStatus = objStockOrder.GetDibStatus()\n",
    "    rqStatus\n",
    "\n",
    "    rqRet = objStockOrder.GetDibMsg1()\n",
    "    rqRet\n",
    "\n",
    "    print(\"통신상태\", rqStatus, rqRet)\n",
    "    \n",
    "    time.sleep(1)"
   ]
  },
  {
   "cell_type": "code",
   "execution_count": null,
   "metadata": {},
   "outputs": [],
   "source": []
  },
  {
   "cell_type": "code",
   "execution_count": null,
   "metadata": {},
   "outputs": [],
   "source": []
  },
  {
   "cell_type": "code",
   "execution_count": null,
   "metadata": {},
   "outputs": [],
   "source": []
  },
  {
   "cell_type": "code",
   "execution_count": 6,
   "metadata": {},
   "outputs": [],
   "source": [
    "class Cp6033:\n",
    "    \n",
    "    def __init__(self):\n",
    "        # 통신 OBJECT 기본 세팅\n",
    "        self.objTrade = win32com.client.Dispatch(\"CpTrade.CpTdUtil\")\n",
    "        initCheck = self.objTrade.TradeInit(0)\n",
    "        if (initCheck != 0):\n",
    "            print(\"주문 초기화 실패\")\n",
    "            return\n",
    "\n",
    "        # 주식 매수 주문\n",
    "        acc = self.objTrade.AccountNumber[0]  # 계좌번호\n",
    "        accFlag = self.objTrade.GoodsList(acc, 1)  # 주식상품 구분\n",
    "        print(acc, accFlag[0])\n",
    "\n",
    "        self.objRq = win32com.client.Dispatch(\"CpTrade.CpTd6033\")\n",
    "        self.objRq.SetInputValue(0, acc)  # 계좌번호\n",
    "        self.objRq.SetInputValue(1, accFlag[0])  # 상품구분 - 주식 상품 중 첫번째\n",
    "        self.objRq.SetInputValue(2, 50)  #  요청 건수(최대 50)\n",
    "\n",
    "    # 실제적인 6033 통신 처리\n",
    "    def rq6033(self):\n",
    "        self.objRq.BlockRequest()\n",
    "\n",
    "        # 통신 및 통신 에러 처리\n",
    "        rqStatus = self.objRq.GetDibStatus()\n",
    "        rqRet = self.objRq.GetDibMsg1()\n",
    "        print(\"통신상태\", rqStatus, rqRet)\n",
    "        if rqStatus != 0:\n",
    "            return False\n",
    "\n",
    "        cnt = self.objRq.GetHeaderValue(7)\n",
    "        print(cnt)\n",
    "\n",
    "        print(\"종목코드 종목명 신용구분 체결잔고수량 체결장부단가 평가금액 평가손익\")\n",
    "        for i in range(cnt):\n",
    "            code = self.objRq.GetDataValue(12, i)  # 종목코드\n",
    "            name = self.objRq.GetDataValue(0, i)  # 종목명\n",
    "            cashFlag = self.objRq.GetDataValue(1, i)  # 신용구분\n",
    "            date = self.objRq.GetDataValue(2, i)  # 대출일\n",
    "            amount = self.objRq.GetDataValue(7, i) # 체결잔고수량\n",
    "            buyPrice = self.objRq.GetDataValue(17, i) # 체결장부단가\n",
    "            evalValue = self.objRq.GetDataValue(9, i) # 평가금액(천원미만은 절사 됨)\n",
    "            evalPerc = self.objRq.GetDataValue(11, i) # 평가손익\n",
    "\n",
    "            print(code, name, cashFlag, amount, buyPrice, evalValue, evalPerc)"
   ]
  },
  {
   "cell_type": "code",
   "execution_count": 7,
   "metadata": {},
   "outputs": [
    {
     "name": "stdout",
     "output_type": "stream",
     "text": [
      "782245342 01\n"
     ]
    }
   ],
   "source": [
    "obj6033 = Cp6033()"
   ]
  },
  {
   "cell_type": "code",
   "execution_count": 8,
   "metadata": {},
   "outputs": [
    {
     "name": "stdout",
     "output_type": "stream",
     "text": [
      "통신상태 0 12247 조회완료되었습니다.(cii.cif.astbln.selcnsbaseaccpt)\n",
      "2\n",
      "종목코드 종목명 신용구분 체결잔고수량 체결장부단가 평가금액 평가손익\n",
      "A017670 SK텔레콤 32 14 262012.0714 3468000 -5.450000000000003\n",
      "A032640 LG유플러스 32 400 15000.69 5762000 -3.9599999999999937\n"
     ]
    }
   ],
   "source": [
    "obj6033.rq6033()"
   ]
  },
  {
   "cell_type": "code",
   "execution_count": 10,
   "metadata": {},
   "outputs": [
    {
     "data": {
      "text/plain": [
       "0"
      ]
     },
     "execution_count": 10,
     "metadata": {},
     "output_type": "execute_result"
    }
   ],
   "source": [
    "# 관심종목 객체 구하기\n",
    "objRq = win32com.client.Dispatch(\"CpSysDib.MarketEye\")\n",
    "# 요청 필드 세팅 - 종목코드, 종목명, 시간, 대비부호, 대비, 현재가, 거래량\n",
    "rqField = [0, 1, 2, 3, 4, 10, 17]\n",
    "objRq.SetInputValue(0, rqField) # 요청 필드\n",
    "objRq.SetInputValue(1, [\"A005930\", \"A000660\"])  # 종목코드 or 종목코드 리스트\n",
    "objRq.BlockRequest()"
   ]
  },
  {
   "cell_type": "code",
   "execution_count": 74,
   "metadata": {},
   "outputs": [
    {
     "name": "stdout",
     "output_type": "stream",
     "text": [
      "통신상태 0 0027 조회가 완료되었습니다.(market.eye)\n",
      "A005930 956 53 -450 44000 1771541 삼성전자\n",
      "A000660 956 53 -1300 66800 886698 SK하이닉스\n"
     ]
    }
   ],
   "source": [
    "# 현재가 통신 및 통신 에러 처리\n",
    "rqStatus = objRq.GetDibStatus()\n",
    "rqRet = objRq.GetDibMsg1()\n",
    "print(\"통신상태\", rqStatus, rqRet)\n",
    "\n",
    "if rqStatus != 0:\n",
    "    raise\n",
    "\n",
    "cnt  = objRq.GetHeaderValue(2)\n",
    "\n",
    "for i in range(cnt):\n",
    "    rpCode = objRq.GetDataValue(0, i)  # 코드\n",
    "    rpName = objRq.GetDataValue(1, i)  # 종목명\n",
    "    rpTime= objRq.GetDataValue(2, i)  # 시간\n",
    "    rpDiffFlag = objRq.GetDataValue(3, i)  # 대비부호\n",
    "    rpDiff = objRq.GetDataValue(4, i)  # 대비\n",
    "    rpCur = objRq.GetDataValue(5, i)  # 현재가\n",
    "    rpVol = objRq.GetDataValue(6, i)  # 거래량\n",
    "    print(rpCode, rpName, rpTime,  rpDiffFlag, rpDiff, rpCur, rpVol)"
   ]
  },
  {
   "cell_type": "code",
   "execution_count": null,
   "metadata": {},
   "outputs": [],
   "source": []
  }
 ],
 "metadata": {
  "kernelspec": {
   "display_name": "Python 3",
   "language": "python",
   "name": "python3"
  },
  "language_info": {
   "codemirror_mode": {
    "name": "ipython",
    "version": 3
   },
   "file_extension": ".py",
   "mimetype": "text/x-python",
   "name": "python",
   "nbconvert_exporter": "python",
   "pygments_lexer": "ipython3",
   "version": "3.7.1"
  }
 },
 "nbformat": 4,
 "nbformat_minor": 2
}
