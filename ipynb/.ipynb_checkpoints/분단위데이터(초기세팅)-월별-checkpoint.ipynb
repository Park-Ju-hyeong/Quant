{
 "cells": [
  {
   "cell_type": "code",
   "execution_count": 1,
   "metadata": {},
   "outputs": [],
   "source": [
    "import win32com.client\n",
    "import time\n",
    "import shutil\n",
    "import os\n",
    "import codecs\n",
    "import pandas as pd\n",
    "import numpy as np\n",
    "from datetime import datetime\n",
    "from tqdm import tqdm\n",
    "from pywinauto import application\n",
    "from pywinauto import timings"
   ]
  },
  {
   "cell_type": "code",
   "execution_count": 2,
   "metadata": {},
   "outputs": [],
   "source": [
    "# 0: 날짜(ulong)\n",
    "# 1:시간(long) - hhmm\n",
    "# 2:시가(long or float)\n",
    "# 3:고가(long or float)\n",
    "# 4:저가(long or float)\n",
    "# 5:종가(long or float)\n",
    "# 6:전일대비(long or float) - 주) 대비부호(37)과 반드시 같이 요청해야 함\n",
    "# 8:거래량(ulong or ulonglong) 주) 정밀도 만원 단위\n",
    "# 9:거래대금(ulonglong)\n",
    "# 10:누적체결매도수량(ulong or ulonglong) - 호가비교방식 누적체결매도수량\n",
    "# 11:누적체결매수수량(ulong or ulonglong) - 호가비교방식 누적체결매수수량\n",
    "#  (주) 10, 11 필드는 분,틱 요청일 때만 제공\n",
    "# 12:상장주식수(ulonglong)\n",
    "# 13:시가총액(ulonglong)\n",
    "# 14:외국인주문한도수량(ulong)\n",
    "# 15:외국인주문가능수량(ulong)\n",
    "# 16:외국인현보유수량(ulong)\n",
    "# 17:외국인현보유비율(float)\n",
    "# 18:수정주가일자(ulong) - YYYYMMDD\n",
    "# 19:수정주가비율(float)\n",
    "# 20:기관순매수(long)\n",
    "# 21:기관누적순매수(long)\n",
    "# 22:등락주선(long)\n",
    "# 23:등락비율(float)\n",
    "# 24:예탁금(ulonglong)\n",
    "# 25:주식회전율(float)\n",
    "# 26:거래성립률(float)\n",
    "# 37:대비부호(char) - 수신값은 GetHeaderValue 8 대비부호와 동일"
   ]
  },
  {
   "cell_type": "code",
   "execution_count": 3,
   "metadata": {},
   "outputs": [],
   "source": [
    "# In[ ]:\n",
    "\n",
    "\n",
    "class CREON(object):\n",
    "    \"\"\"대신증권 크레온 API\"\"\"\n",
    "    \n",
    "    def __init__(self):\n",
    "        # 연결 여부 체크\n",
    "        self.objCpCybos = win32com.client.Dispatch(\"CpUtil.CpCybos\")\n",
    "        bConnect = self.objCpCybos.IsConnect\n",
    "        if (bConnect == 0):\n",
    "            print(\"PLUS가 정상적으로 연결되지 않음. \")\n",
    "            try:\n",
    "                os.system(\"/Users/jooh8/Documents/GitHub/System/Quant/src/sudo/sudo_creon_plus_login.bat\")\n",
    "                time.sleep(100)\n",
    "            except:\n",
    "                exit()\n",
    "     \n",
    "    def setMethod(self, code, char, from_yyyymmdd=None, to_yyyymmdd=None, count=None):\n",
    "        \"\"\"\n",
    "        count는 보통 상식의 데이터 개수가 아니다.\n",
    "        여기서는 한번 요청 시 가져와지는 데이터의 개수이다.\n",
    "        한번 요청 시 최대 2856개 가능하다.\n",
    "        \n",
    "        원하는 데이터 개수가 있으면 to_yyyymmdd 로 가져온 다음에 잘라서 사용한다.\n",
    "        하루에 분단위 데이터가 381개이다. (* 마지막 10분은 동시호가)\n",
    "        \n",
    "        \"\"\"\n",
    "        # object 구하기\n",
    "        self.objStockChart = win32com.client.Dispatch(\"CpSysDib.StockChart\")\n",
    "        self.objStockChart.SetInputValue(0, code)  # 종목코드\n",
    "        \n",
    "        if to_yyyymmdd:\n",
    "            self.objStockChart.SetInputValue(1, ord('1'))  # 요청 구분 '1': 기간, '2': 개수\n",
    "            self.objStockChart.SetInputValue(2, from_yyyymmdd)  # To 날짜\n",
    "            self.objStockChart.SetInputValue(3, to_yyyymmdd)  # From 날짜\n",
    "        elif count:\n",
    "            self.objStockChart.SetInputValue(1, ord('2'))  # 개수로 받기\n",
    "            self.objStockChart.SetInputValue(4, count)  # 조회 개수\n",
    "        else: raise print(\"기간을 입력해주세요.\")\n",
    "        \n",
    "        if char == \"m\":\n",
    "            # 날짜, 시간,시가,고가,저가,종가,거래량\n",
    "            self.colnames = \"날짜, 시간, 시가, 고가, 저가, 종가, 거래량\".split(\", \")\n",
    "            self.objStockChart.SetInputValue(5, [0, 1, 2, 3, 4, 5, 8])\n",
    "        else:\n",
    "            # 날짜,시가,고가,저가,종가,거래량, 거래대금, 상장주식수, 시가총액, 외국인현보유수량, 기관순매수\n",
    "            self.colnames = \"날짜, 시가, 고가, 저가, 종가, 거래량, 거래대금, 상장주식수, 시가총액, 외국인현보유수량, 기관순매수\".split(\", \")\n",
    "            self.objStockChart.SetInputValue(5, [0, 2, 3, 4, 5, 8, 9, 12, 13, 16, 20])\n",
    "            \n",
    "        self.objStockChart.SetInputValue(6, ord(char))  # '차트 주기 - 분/틱\n",
    "        self.objStockChart.SetInputValue(7, 1)  # 분틱차트 주기\n",
    "        \n",
    "        self.objStockChart.SetInputValue(9, ord('1'))  # 수정주가 사용\n",
    "        \n",
    "        \n",
    "        \n",
    "        self.data = {i: [] for i in self.colnames}\n",
    "        \n",
    "    def checkRequest(self):\n",
    "        \n",
    "        self.objStockChart.BlockRequest()\n",
    "        \n",
    "        rqStatus = self.objStockChart.GetDibStatus()\n",
    "        \n",
    "        if rqStatus != 0: \n",
    "            \n",
    "            return False\n",
    "        \n",
    "#         else:\n",
    "#             print(\"통신상태 양호, 누적 개수 {}\".format(len(self.data[\"date\"])))\n",
    "        \n",
    "        self.count = self.objStockChart.GetHeaderValue(3)\n",
    "        \n",
    "        if self.count <= 1: \n",
    "            \n",
    "            return False\n",
    "        \n",
    "        return int(self.count)\n",
    "    \n",
    "    def checkRemainTime(self):\n",
    "        \n",
    "        # 연속 요청 가능 여부 체크\n",
    "        remainTime = self.objCpCybos.LimitRequestRemainTime / 1000.\n",
    "        remainCount = self.objCpCybos.GetLimitRemainCount(1)  # 시세 제한\n",
    "        \n",
    "        if remainCount <= 0:\n",
    "            print(\"15초당 60건으로 제한합니다.\")\n",
    "            time.sleep(remainTime)\n",
    "            \n",
    "    \n",
    "    def getStockPriceMin(self):\n",
    "        \n",
    "        while 1:\n",
    "        \n",
    "            self.checkRemainTime()\n",
    "            rows = self.checkRequest()\n",
    "\n",
    "            if rows:\n",
    "\n",
    "                for i in range(rows):\n",
    "                    \n",
    "                    for idx, col in enumerate(self.colnames):\n",
    "                    \n",
    "                        self.data[col].append(self.objStockChart.GetDataValue(idx, i))\n",
    "            else:\n",
    "\n",
    "                break\n",
    "                \n",
    "    \n",
    "        return self.data"
   ]
  },
  {
   "cell_type": "code",
   "execution_count": 4,
   "metadata": {},
   "outputs": [],
   "source": [
    "# In[ ]:\n",
    "\n",
    "market_capitalization = pd.read_csv(\"/Users/jooh8/Documents/GitHub/Quant/data/market_capitalization.csv\")\n",
    "market_capitalization = market_capitalization.values.tolist()"
   ]
  },
  {
   "cell_type": "code",
   "execution_count": null,
   "metadata": {
    "scrolled": false
   },
   "outputs": [
    {
     "name": "stdout",
     "output_type": "stream",
     "text": [
      "2017 01\n"
     ]
    },
    {
     "name": "stderr",
     "output_type": "stream",
     "text": [
      "\r",
      "  0%|                                         | 0/2864 [00:00<?, ?it/s]"
     ]
    },
    {
     "name": "stdout",
     "output_type": "stream",
     "text": [
      "15초당 60건으로 제한합니다.\n"
     ]
    },
    {
     "name": "stderr",
     "output_type": "stream",
     "text": [
      "  2%|▋                               | 58/2864 [00:18<06:30,  7.18it/s]"
     ]
    },
    {
     "name": "stdout",
     "output_type": "stream",
     "text": [
      "15초당 60건으로 제한합니다.\n"
     ]
    },
    {
     "name": "stderr",
     "output_type": "stream",
     "text": [
      "  4%|█▎                             | 117/2864 [00:33<01:52, 24.48it/s]"
     ]
    },
    {
     "name": "stdout",
     "output_type": "stream",
     "text": [
      "15초당 60건으로 제한합니다.\n"
     ]
    },
    {
     "name": "stderr",
     "output_type": "stream",
     "text": [
      "  6%|█▉                             | 180/2864 [00:48<01:31, 29.21it/s]"
     ]
    },
    {
     "name": "stdout",
     "output_type": "stream",
     "text": [
      "15초당 60건으로 제한합니다.\n"
     ]
    },
    {
     "name": "stderr",
     "output_type": "stream",
     "text": [
      "100%|██████████████████████████████| 2864/2864 [01:02<00:00, 45.72it/s]\n"
     ]
    },
    {
     "name": "stdout",
     "output_type": "stream",
     "text": [
      "2017 02\n"
     ]
    },
    {
     "name": "stderr",
     "output_type": "stream",
     "text": [
      "  1%|▎                               | 28/2864 [00:00<01:16, 37.20it/s]"
     ]
    },
    {
     "name": "stdout",
     "output_type": "stream",
     "text": [
      "15초당 60건으로 제한합니다.\n"
     ]
    },
    {
     "name": "stderr",
     "output_type": "stream",
     "text": [
      "  3%|▉                               | 85/2864 [00:15<01:40, 27.79it/s]"
     ]
    },
    {
     "name": "stdout",
     "output_type": "stream",
     "text": [
      "15초당 60건으로 제한합니다.\n"
     ]
    },
    {
     "name": "stderr",
     "output_type": "stream",
     "text": [
      "  5%|█▌                             | 145/2864 [00:30<01:37, 27.83it/s]"
     ]
    },
    {
     "name": "stdout",
     "output_type": "stream",
     "text": [
      "15초당 60건으로 제한합니다.\n"
     ]
    },
    {
     "name": "stderr",
     "output_type": "stream",
     "text": [
      "  7%|██▏                            | 205/2864 [00:45<01:39, 26.83it/s]"
     ]
    },
    {
     "name": "stdout",
     "output_type": "stream",
     "text": [
      "15초당 60건으로 제한합니다.\n"
     ]
    },
    {
     "name": "stderr",
     "output_type": "stream",
     "text": [
      "100%|██████████████████████████████| 2864/2864 [00:59<00:00, 48.12it/s]\n"
     ]
    },
    {
     "name": "stdout",
     "output_type": "stream",
     "text": [
      "2017 03\n"
     ]
    },
    {
     "name": "stderr",
     "output_type": "stream",
     "text": [
      "  2%|▌                               | 53/2864 [00:01<01:10, 39.87it/s]"
     ]
    },
    {
     "name": "stdout",
     "output_type": "stream",
     "text": [
      "15초당 60건으로 제한합니다.\n"
     ]
    },
    {
     "name": "stderr",
     "output_type": "stream",
     "text": [
      "  4%|█▏                             | 115/2864 [00:16<01:34, 28.97it/s]"
     ]
    },
    {
     "name": "stdout",
     "output_type": "stream",
     "text": [
      "15초당 60건으로 제한합니다.\n"
     ]
    },
    {
     "name": "stderr",
     "output_type": "stream",
     "text": [
      "  6%|█▉                             | 176/2864 [00:31<01:44, 25.65it/s]"
     ]
    },
    {
     "name": "stdout",
     "output_type": "stream",
     "text": [
      "15초당 60건으로 제한합니다.\n"
     ]
    },
    {
     "name": "stderr",
     "output_type": "stream",
     "text": [
      "100%|██████████████████████████████| 2864/2864 [00:45<00:00, 62.36it/s]\n"
     ]
    },
    {
     "name": "stdout",
     "output_type": "stream",
     "text": [
      "2017 04\n"
     ]
    },
    {
     "name": "stderr",
     "output_type": "stream",
     "text": [
      "  1%|▎                               | 24/2864 [00:00<01:13, 38.51it/s]"
     ]
    },
    {
     "name": "stdout",
     "output_type": "stream",
     "text": [
      "15초당 60건으로 제한합니다.\n"
     ]
    },
    {
     "name": "stderr",
     "output_type": "stream",
     "text": [
      "  3%|▉                               | 82/2864 [00:15<01:38, 28.13it/s]"
     ]
    },
    {
     "name": "stdout",
     "output_type": "stream",
     "text": [
      "15초당 60건으로 제한합니다.\n"
     ]
    },
    {
     "name": "stderr",
     "output_type": "stream",
     "text": [
      "  5%|█▌                             | 144/2864 [00:30<01:28, 30.58it/s]"
     ]
    },
    {
     "name": "stdout",
     "output_type": "stream",
     "text": [
      "15초당 60건으로 제한합니다.\n"
     ]
    },
    {
     "name": "stderr",
     "output_type": "stream",
     "text": [
      "  7%|██▏                            | 203/2864 [00:45<01:43, 25.73it/s]"
     ]
    },
    {
     "name": "stdout",
     "output_type": "stream",
     "text": [
      "15초당 60건으로 제한합니다.\n"
     ]
    },
    {
     "name": "stderr",
     "output_type": "stream",
     "text": [
      "100%|██████████████████████████████| 2864/2864 [00:59<00:00, 48.10it/s]\n"
     ]
    },
    {
     "name": "stdout",
     "output_type": "stream",
     "text": [
      "2017 05\n"
     ]
    },
    {
     "name": "stderr",
     "output_type": "stream",
     "text": [
      "100%|██████████████████████████████| 2864/2864 [02:14<00:00, 21.29it/s]\n"
     ]
    },
    {
     "name": "stdout",
     "output_type": "stream",
     "text": [
      "2017 06\n"
     ]
    },
    {
     "name": "stderr",
     "output_type": "stream",
     "text": [
      "  6%|█▊                           | 177/2864 [07:38<2:04:49,  2.79s/it]"
     ]
    },
    {
     "name": "stdout",
     "output_type": "stream",
     "text": [
      "15초당 60건으로 제한합니다.\n"
     ]
    },
    {
     "name": "stderr",
     "output_type": "stream",
     "text": [
      "  6%|█▊                           | 180/2864 [07:53<2:43:35,  3.66s/it]"
     ]
    },
    {
     "name": "stdout",
     "output_type": "stream",
     "text": [
      "15초당 60건으로 제한합니다.\n"
     ]
    },
    {
     "name": "stderr",
     "output_type": "stream",
     "text": [
      "  6%|█▉                           | 186/2864 [08:09<2:24:33,  3.24s/it]"
     ]
    },
    {
     "name": "stdout",
     "output_type": "stream",
     "text": [
      "15초당 60건으로 제한합니다.\n"
     ]
    },
    {
     "name": "stderr",
     "output_type": "stream",
     "text": [
      "  7%|█▉                           | 190/2864 [08:24<2:26:31,  3.29s/it]"
     ]
    },
    {
     "name": "stdout",
     "output_type": "stream",
     "text": [
      "15초당 60건으로 제한합니다.\n"
     ]
    },
    {
     "name": "stderr",
     "output_type": "stream",
     "text": [
      "  7%|█▉                           | 195/2864 [08:39<1:58:48,  2.67s/it]"
     ]
    },
    {
     "name": "stdout",
     "output_type": "stream",
     "text": [
      "15초당 60건으로 제한합니다.\n"
     ]
    },
    {
     "name": "stderr",
     "output_type": "stream",
     "text": [
      "  7%|██                           | 198/2864 [08:52<2:24:46,  3.26s/it]"
     ]
    }
   ],
   "source": [
    "for yyyy in \"2017 2018 2019\".split(\" \"):\n",
    "    \n",
    "    for mm in \"1 2 3 4 5 6 7 8 9 10 11 12\".split(\" \"):\n",
    "        \n",
    "        mm = mm.zfill(2)\n",
    "        \n",
    "        print(yyyy, mm)\n",
    "\n",
    "        for name, code, no, cap in tqdm(market_capitalization):\n",
    "\n",
    "            if cap < 1000000000000:\n",
    "\n",
    "                continue\n",
    "\n",
    "\n",
    "            creon = CREON()\n",
    "\n",
    "            savedir = \"/Users/jooh8/Documents/GitHub/Quant/data/{}\".format(code)\n",
    "            savefile = \"{}/MIN_{}_{}_{}.txt\".format(savedir, yyyy, mm, code)\n",
    "\n",
    "            if not os.path.isdir(savedir):\n",
    "\n",
    "                os.makedirs(savedir)\n",
    "\n",
    "            today = datetime.now().strftime(\"%Y%m%d\")\n",
    "\n",
    "            creon.setMethod(code=code,\n",
    "                            char=\"m\",\n",
    "                            from_yyyymmdd=int(\"{}{}31\".format(yyyy, mm)),\n",
    "                            to_yyyymmdd=int(\"{}{}01\".format(yyyy, mm)))\n",
    "\n",
    "            getStockPrice = creon.getStockPriceMin()\n",
    "\n",
    "            DataFrame = pd.DataFrame(getStockPrice)\n",
    "\n",
    "            tolist = DataFrame.values.tolist()\n",
    "\n",
    "            with codecs.open(savefile, \"w\", encoding='utf8') as f:\n",
    "                msg = \" \".join(creon.colnames)\n",
    "                f.write(msg)\n",
    "                f.write(\"\\n\")\n",
    "\n",
    "                for to in reversed(tolist):\n",
    "                    msg = \" \".join([str(i) for i in to])\n",
    "                    f.write(msg)\n",
    "                    f.write(\"\\n\")"
   ]
  }
 ],
 "metadata": {
  "kernelspec": {
   "display_name": "Python 3",
   "language": "python",
   "name": "python3"
  },
  "language_info": {
   "codemirror_mode": {
    "name": "ipython",
    "version": 3
   },
   "file_extension": ".py",
   "mimetype": "text/x-python",
   "name": "python",
   "nbconvert_exporter": "python",
   "pygments_lexer": "ipython3",
   "version": "3.7.1"
  }
 },
 "nbformat": 4,
 "nbformat_minor": 2
}
