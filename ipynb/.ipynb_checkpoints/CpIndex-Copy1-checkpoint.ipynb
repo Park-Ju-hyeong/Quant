{
 "cells": [
  {
   "cell_type": "code",
   "execution_count": null,
   "metadata": {},
   "outputs": [],
   "source": [
    "import codecs\n",
    "import ctypes\n",
    "import os\n",
    "import subprocess\n",
    "import pandas as pd"
   ]
  },
  {
   "cell_type": "code",
   "execution_count": null,
   "metadata": {},
   "outputs": [],
   "source": [
    "from tqdm import tqdm"
   ]
  },
  {
   "cell_type": "code",
   "execution_count": null,
   "metadata": {},
   "outputs": [],
   "source": [
    "import codecs\n",
    "import time\n",
    "import logging, logging.config\n",
    "from datetime import datetime, timedelta"
   ]
  },
  {
   "cell_type": "code",
   "execution_count": null,
   "metadata": {},
   "outputs": [],
   "source": [
    "import subprocess\n",
    "import time\n",
    "import win32com.client\n",
    "import pandas as pd"
   ]
  },
  {
   "cell_type": "code",
   "execution_count": null,
   "metadata": {},
   "outputs": [],
   "source": [
    "import numpy as np\n",
    "import pandas as pd"
   ]
  },
  {
   "cell_type": "code",
   "execution_count": null,
   "metadata": {},
   "outputs": [],
   "source": [
    "objCpCybos = win32com.client.Dispatch(\"CpUtil.CpCybos\")\n",
    "objStockOrder = win32com.client.Dispatch(\"CpTrade.CpTd0311\")\n",
    "objTrade =  win32com.client.Dispatch(\"CpTrade.CpTdUtil\")\n",
    "objRq = win32com.client.Dispatch(\"CpTrade.CpTd6033\")\n",
    "objTdNew = win32com.client.Dispatch('CpTrade.CpTdNew5331A') "
   ]
  },
  {
   "cell_type": "code",
   "execution_count": null,
   "metadata": {},
   "outputs": [],
   "source": [
    "objSeries = win32com.client.Dispatch(\"CpIndexes.CpSeries\")\n",
    "objIndex = win32com.client.Dispatch(\"CpIndexes.CpIndex\")"
   ]
  },
  {
   "cell_type": "code",
   "execution_count": null,
   "metadata": {},
   "outputs": [],
   "source": [
    "IndexList = [\n",
    "#     '이격도',\n",
    "    'AB Ratio',\n",
    "#     'ADX',\n",
    "#     'ADXR',\n",
    "    'Aroon',\n",
    "    'Aroon Osillator',\n",
    "    'ATR',\n",
    "    'BB-RSI',\n",
    "    'BPDL RSI',\n",
    "    'BPDL Stochatic',\n",
    "    'Chande Momentum Oscillator',\n",
    "    \"Chaikin's Volatility\",\n",
    "    'CompuTrac Volatility',\n",
    "    'DMI',\n",
    "    'DMI(simple)',\n",
    "    'Energy',\n",
    "    'High Low Envelope',\n",
    "    'High Low Oscillator',\n",
    "    'Inertia',\n",
    "    'Klinger Oscillator',\n",
    "    'Linear Trend Oscillator',\n",
    "    'LRS',\n",
    "    'Mass Index',\n",
    "    'Morris Mixed Momentum',\n",
    "    'New BPDL HiLo Index MA',\n",
    "    'Open Difference',\n",
    "    'QStick',\n",
    "    'Random Walk Index',\n",
    "    'RCI',\n",
    "    'Relative Volatility Index',\n",
    "    'Reverse',\n",
    "    'RSI',\n",
    "    'RSI(simple)',\n",
    "#     'RSI(stochastic)',\n",
    "    'R-Squared',\n",
    "    'Sigma',\n",
    "    'SMI',\n",
    "    'Standard Deviation',\n",
    "    'Standard Error',\n",
    "    'Stochastic Fast',\n",
    "    'Stochastic Slow',\n",
    "    'Stochastic(simple)',\n",
    "    'Stochastic Oscillator',\n",
    "    'TRIX기울기',\n",
    "    'True Range',\n",
    "    'TSF Oscillator',\n",
    "    'VHF',\n",
    "    \"CCI\"\n",
    "]"
   ]
  },
  {
   "cell_type": "code",
   "execution_count": null,
   "metadata": {},
   "outputs": [],
   "source": [
    "data = pd.read_table(\"/Users/jooh8/Documents/GitHub/Quant/data/A005930/DAY_A005930.txt\", delimiter=\" \")"
   ]
  },
  {
   "cell_type": "code",
   "execution_count": null,
   "metadata": {
    "scrolled": true
   },
   "outputs": [],
   "source": [
    "tolist = data[\"종가 시가 고가 저가 거래량\".split(\" \")].values.tolist()"
   ]
  },
  {
   "cell_type": "code",
   "execution_count": null,
   "metadata": {},
   "outputs": [],
   "source": [
    "for close, open, high, low, vol in tolist:\n",
    "\n",
    "    objSeries.Add(close, open, high, low, vol)\n",
    "    \n",
    "objIndex.series = objSeries"
   ]
  },
  {
   "cell_type": "code",
   "execution_count": null,
   "metadata": {
    "scrolled": true
   },
   "outputs": [],
   "source": [
    "for INDEXNAME in tqdm(IndexList):\n",
    "    \n",
    "    print(INDEXNAME)\n",
    "    \n",
    "    objIndex.put_IndexKind(INDEXNAME)     # 계산할 지표: MACD\n",
    "    objIndex.put_IndexDefault(INDEXNAME)  # MACD 지표 기본 변수 자동 세팅\n",
    "\n",
    "    indexID = objIndex.GetChartIndexByName(INDEXNAME)\n",
    "    indexName = objIndex.GetLineResults(indexID)\n",
    "    # 지표 데이터 계산 하기\n",
    "    objIndex.Calculate()\n",
    "    cntofIndex = objIndex.ItemCount\n",
    "    creonIndex = {}\n",
    "    for index in range(cntofIndex):\n",
    "        cnt = objIndex.GetCount(index)\n",
    "        creonIndex[indexName[index]] = []\n",
    "        for j in range(cnt) :\n",
    "            value = objIndex.GetResult(index, j)\n",
    "            creonIndex[indexName[index]].append(value)\n",
    "\n",
    "    for k, v in creonIndex.items():\n",
    "        data[k] = v"
   ]
  },
  {
   "cell_type": "code",
   "execution_count": null,
   "metadata": {},
   "outputs": [],
   "source": [
    "data.to"
   ]
  },
  {
   "cell_type": "code",
   "execution_count": null,
   "metadata": {},
   "outputs": [],
   "source": [
    "data.tail()"
   ]
  },
  {
   "cell_type": "code",
   "execution_count": null,
   "metadata": {
    "scrolled": true
   },
   "outputs": [],
   "source": [
    "data[data.columns[:20]].tail()"
   ]
  },
  {
   "cell_type": "code",
   "execution_count": null,
   "metadata": {
    "scrolled": true
   },
   "outputs": [],
   "source": [
    "data[columns[-40:-20]].tail()"
   ]
  },
  {
   "cell_type": "code",
   "execution_count": null,
   "metadata": {},
   "outputs": [],
   "source": []
  },
  {
   "cell_type": "code",
   "execution_count": null,
   "metadata": {},
   "outputs": [],
   "source": []
  },
  {
   "cell_type": "code",
   "execution_count": null,
   "metadata": {},
   "outputs": [],
   "source": []
  }
 ],
 "metadata": {
  "kernelspec": {
   "display_name": "Python 3",
   "language": "python",
   "name": "python3"
  },
  "language_info": {
   "codemirror_mode": {
    "name": "ipython",
    "version": 3
   },
   "file_extension": ".py",
   "mimetype": "text/x-python",
   "name": "python",
   "nbconvert_exporter": "python",
   "pygments_lexer": "ipython3",
   "version": "3.7.1"
  }
 },
 "nbformat": 4,
 "nbformat_minor": 2
}
