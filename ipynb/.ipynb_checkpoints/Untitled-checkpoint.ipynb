{
 "cells": [
  {
   "cell_type": "code",
   "execution_count": 1,
   "metadata": {},
   "outputs": [],
   "source": [
    "import numpy as np\n",
    "import pandas as pd\n",
    "from tqdm import tqdm\n",
    "from datetime import datetime"
   ]
  },
  {
   "cell_type": "code",
   "execution_count": 2,
   "metadata": {},
   "outputs": [],
   "source": [
    "def splitDate(date):\n",
    "    date = str(date)\n",
    "    Y = int(date[:4])\n",
    "    M = int(date[4:6])\n",
    "    D = int(date[6:])\n",
    "    return (Y, M, D)"
   ]
  },
  {
   "cell_type": "code",
   "execution_count": 3,
   "metadata": {},
   "outputs": [],
   "source": [
    "def getWeek(date):\n",
    "    return datetime(*date).weekday()"
   ]
  },
  {
   "cell_type": "code",
   "execution_count": 4,
   "metadata": {},
   "outputs": [],
   "source": [
    "read_csv = pd.read_csv(\"/Users/jooh8/Documents/GitHub/Quant/data/A000660/Index_A000660.txt\", sep=\" \", low_memory=False)"
   ]
  },
  {
   "cell_type": "code",
   "execution_count": 5,
   "metadata": {
    "scrolled": true
   },
   "outputs": [],
   "source": [
    "read_csv[\"DoW\"] = read_csv[\"날짜\"].apply(lambda x: getWeek(splitDate(x)))"
   ]
  },
  {
   "cell_type": "code",
   "execution_count": 6,
   "metadata": {},
   "outputs": [],
   "source": [
    "weekList = []\n",
    "preW = 0\n",
    "week = 0\n",
    "\n",
    "for W in reversed(read_csv[\"DoW\"]):\n",
    "    if W > preW:\n",
    "        week += 1\n",
    "    weekList.append(week)\n",
    "    preW = W\n",
    "    \n",
    "weekList.reverse()"
   ]
  },
  {
   "cell_type": "code",
   "execution_count": 7,
   "metadata": {},
   "outputs": [],
   "source": [
    "read_csv[\"WEEK\"] = weekList"
   ]
  },
  {
   "cell_type": "code",
   "execution_count": 8,
   "metadata": {},
   "outputs": [],
   "source": [
    "for period in range(10):\n",
    "    \n",
    "    read_csv[\"고가_{}\".format(period)] = read_csv[\"고가\"].shift(periods=-period)#.fillna(0)"
   ]
  },
  {
   "cell_type": "code",
   "execution_count": 9,
   "metadata": {
    "scrolled": true
   },
   "outputs": [],
   "source": [
    "read_csv = read_csv.dropna()"
   ]
  },
  {
   "cell_type": "code",
   "execution_count": 10,
   "metadata": {},
   "outputs": [],
   "source": [
    "for period in range(10):\n",
    "    \n",
    "    read_csv[\"최고가_{}\".format(period)] = read_csv[[\"고가_{}\".format(i) for i in range(period + 1)]].apply(np.max, 1)"
   ]
  },
  {
   "cell_type": "code",
   "execution_count": 11,
   "metadata": {
    "scrolled": true
   },
   "outputs": [],
   "source": [
    "for period in range(10):\n",
    "    \n",
    "    read_csv[\"Target_{}\".format(period)] = read_csv[\"시가\"] * 1.05 < read_csv[\"고가_{}\".format(period)]"
   ]
  },
  {
   "cell_type": "code",
   "execution_count": 12,
   "metadata": {},
   "outputs": [],
   "source": [
    "columns = list(read_csv.columns)"
   ]
  },
  {
   "cell_type": "code",
   "execution_count": 13,
   "metadata": {
    "scrolled": true
   },
   "outputs": [
    {
     "name": "stdout",
     "output_type": "stream",
     "text": [
      "['A Ratio_20', 'B Ratio_20', 'Aroon_20 Up', 'Down', 'Aroon Osillator_20', 'ATR_14', 'BB-RSI_종가_10', 'BB-RSI_20_2.00 상한', 'BB-RSI 하한', 'BPDL RSI_14', 'BPDL Stochatic_14', 'Chande Momentum Oscillator_10', \"Chaikin's Volatility_14,14\", 'CompuTrac Volatility_10', '+DI_14', '-DI_14', 'ADX_14', 'ADXR_14', '+DI(simple)_14', '-DI(simple)_14', 'ADX(simple)_14,14', 'ADXR(simple)_14,14,14', 'Energy+_14', 'Energy-_14', 'High Low Envelope_1', 'High Low Oscillator_3', 'Inertia_20,14,10', 'Klinger Oscillator', 'Linear Trend Oscillator_10,20', 'LRS_종가,14', 'Mass Index_20,9', 'Morris Mixed Momentum', 'New BPDL HiLo Index MA_14,7', 'Open Difference_15', 'QStick_14', 'Random Walk Index_15,3', 'RCI_5', 'RCI_9', 'RCI_13', 'RCI_18', 'Relative Volatility Index_단순,14,10', 'Reverse 단기_12', ' 장기_24', 'RSI_종가,14', 'RSI(simple)_종가,14', 'Sigma_종가,20', 'SMI_5,3,3', 'Standard Deviation_14,2.00', 'Standard Error_종가,14', 'Fast %K_5', 'Fast %D_3', 'Slow %K_5,3', 'Slow %D_3', 'Slow(Simple) %K_5,3', 'Slow(Simple) %D_3', 'StochOsc_5,3', 'TRIX기울기_종가,14', 'True Range', 'TSF Oscillator_종가,14,28', 'VHF_14', 'CCI_14']\n"
     ]
    }
   ],
   "source": [
    "momentums = columns[11:-32]\n",
    "print(momentums)"
   ]
  },
  {
   "cell_type": "code",
   "execution_count": 14,
   "metadata": {},
   "outputs": [
    {
     "name": "stdout",
     "output_type": "stream",
     "text": [
      "['Target_0', 'Target_1', 'Target_2', 'Target_3', 'Target_4', 'Target_5', 'Target_6', 'Target_7', 'Target_8', 'Target_9']\n"
     ]
    }
   ],
   "source": [
    "targets = columns[-10:]\n",
    "print(targets)"
   ]
  },
  {
   "cell_type": "code",
   "execution_count": 15,
   "metadata": {},
   "outputs": [
    {
     "name": "stderr",
     "output_type": "stream",
     "text": [
      "100%|███████████████████████████████████████████████████████| 97/97 [00:02<00:00, 44.16it/s]\n"
     ]
    }
   ],
   "source": [
    "DATASET = []\n",
    "\n",
    "for idx in tqdm(range(3, 100)):\n",
    "    \n",
    "    X_train = read_csv.loc[(read_csv[\"WEEK\"] > idx+3) & (read_csv[\"WEEK\"] < idx+503), momentums]\n",
    "    Y_train = read_csv.loc[(read_csv[\"WEEK\"] > idx+3) & (read_csv[\"WEEK\"] < idx+503), targets]\n",
    "    \n",
    "    TESTSET = []\n",
    "\n",
    "    X_test = read_csv.loc[(read_csv[\"WEEK\"] == idx+3), momentums]\n",
    "    Y_test = read_csv.loc[(read_csv[\"WEEK\"] == idx+3), targets]\n",
    "    \n",
    "    TESTSET.append([X_test, Y_test])\n",
    "    \n",
    "    X_test = read_csv.loc[(read_csv[\"WEEK\"] == idx+2), momentums]\n",
    "    Y_test = read_csv.loc[(read_csv[\"WEEK\"] == idx+2), targets]\n",
    "    \n",
    "    TESTSET.append([X_test, Y_test])\n",
    "    \n",
    "    X_test = read_csv.loc[(read_csv[\"WEEK\"] == idx+1), momentums]\n",
    "    Y_test = read_csv.loc[(read_csv[\"WEEK\"] == idx+1), targets]\n",
    "    \n",
    "    TESTSET.append([X_test, Y_test])\n",
    "    \n",
    "    X_test = read_csv.loc[(read_csv[\"WEEK\"] == idx), momentums]\n",
    "    Y_test = read_csv.loc[(read_csv[\"WEEK\"] == idx), targets]\n",
    "    \n",
    "    TESTSET.append([X_test, Y_test])\n",
    "    \n",
    "    DATASET.append([[X_train, Y_train], TESTSET])"
   ]
  },
  {
   "cell_type": "code",
   "execution_count": 16,
   "metadata": {},
   "outputs": [
    {
     "data": {
      "text/html": [
       "<div>\n",
       "<style scoped>\n",
       "    .dataframe tbody tr th:only-of-type {\n",
       "        vertical-align: middle;\n",
       "    }\n",
       "\n",
       "    .dataframe tbody tr th {\n",
       "        vertical-align: top;\n",
       "    }\n",
       "\n",
       "    .dataframe thead th {\n",
       "        text-align: right;\n",
       "    }\n",
       "</style>\n",
       "<table border=\"1\" class=\"dataframe\">\n",
       "  <thead>\n",
       "    <tr style=\"text-align: right;\">\n",
       "      <th></th>\n",
       "      <th>A Ratio_20</th>\n",
       "      <th>B Ratio_20</th>\n",
       "      <th>Aroon_20 Up</th>\n",
       "      <th>Down</th>\n",
       "      <th>Aroon Osillator_20</th>\n",
       "      <th>ATR_14</th>\n",
       "      <th>BB-RSI_종가_10</th>\n",
       "      <th>BB-RSI_20_2.00 상한</th>\n",
       "      <th>BB-RSI 하한</th>\n",
       "      <th>BPDL RSI_14</th>\n",
       "      <th>...</th>\n",
       "      <th>Slow %K_5,3</th>\n",
       "      <th>Slow %D_3</th>\n",
       "      <th>Slow(Simple) %K_5,3</th>\n",
       "      <th>Slow(Simple) %D_3</th>\n",
       "      <th>StochOsc_5,3</th>\n",
       "      <th>TRIX기울기_종가,14</th>\n",
       "      <th>True Range</th>\n",
       "      <th>TSF Oscillator_종가,14,28</th>\n",
       "      <th>VHF_14</th>\n",
       "      <th>CCI_14</th>\n",
       "    </tr>\n",
       "  </thead>\n",
       "  <tbody>\n",
       "    <tr>\n",
       "      <th>5604</th>\n",
       "      <td>108.0568720379147</td>\n",
       "      <td>139.89071038251367</td>\n",
       "      <td>70.0</td>\n",
       "      <td>0.0</td>\n",
       "      <td>70.0</td>\n",
       "      <td>2384.0206562523485</td>\n",
       "      <td>55.58355681401927</td>\n",
       "      <td>74.66372192483402</td>\n",
       "      <td>51.36534979012427</td>\n",
       "      <td>56.707317073170735</td>\n",
       "      <td>...</td>\n",
       "      <td>46.666666666666664</td>\n",
       "      <td>41.988231436903334</td>\n",
       "      <td>47.51175705726277</td>\n",
       "      <td>45.491084886481524</td>\n",
       "      <td>11.865211200759305</td>\n",
       "      <td>-0.01771295080341545</td>\n",
       "      <td>1900.0</td>\n",
       "      <td>-1297.8021978024044</td>\n",
       "      <td>0.22560975609756098</td>\n",
       "      <td>-15.876656472947905</td>\n",
       "    </tr>\n",
       "    <tr>\n",
       "      <th>5605</th>\n",
       "      <td>116.50485436893203</td>\n",
       "      <td>126.3959390862944</td>\n",
       "      <td>65.0</td>\n",
       "      <td>0.0</td>\n",
       "      <td>65.0</td>\n",
       "      <td>2399.447752234323</td>\n",
       "      <td>51.27040144260923</td>\n",
       "      <td>74.94323828132495</td>\n",
       "      <td>49.65296877599513</td>\n",
       "      <td>51.204819277108435</td>\n",
       "      <td>...</td>\n",
       "      <td>40.476190476190474</td>\n",
       "      <td>40.395136778115244</td>\n",
       "      <td>42.505878528631385</td>\n",
       "      <td>43.99848170755645</td>\n",
       "      <td>-2.9069767441861174</td>\n",
       "      <td>-0.02089261704175921</td>\n",
       "      <td>2600.0</td>\n",
       "      <td>-1689.6825396823406</td>\n",
       "      <td>0.22289156626506024</td>\n",
       "      <td>-39.678510998266475</td>\n",
       "    </tr>\n",
       "    <tr>\n",
       "      <th>5606</th>\n",
       "      <td>107.17703349282297</td>\n",
       "      <td>119.79695431472082</td>\n",
       "      <td>60.0</td>\n",
       "      <td>25.0</td>\n",
       "      <td>35.0</td>\n",
       "      <td>2385.201484217586</td>\n",
       "      <td>57.49980045832649</td>\n",
       "      <td>73.23524754788421</td>\n",
       "      <td>49.776308067450074</td>\n",
       "      <td>56.353591160220994</td>\n",
       "      <td>...</td>\n",
       "      <td>58.19672131147541</td>\n",
       "      <td>48.446526151443926</td>\n",
       "      <td>60.99652900790544</td>\n",
       "      <td>52.497505357730944</td>\n",
       "      <td>21.111608030212615</td>\n",
       "      <td>-0.01747649414303315</td>\n",
       "      <td>2200.0</td>\n",
       "      <td>-1878.3272283273836</td>\n",
       "      <td>0.20441988950276244</td>\n",
       "      <td>40.57971014497359</td>\n",
       "    </tr>\n",
       "    <tr>\n",
       "      <th>5607</th>\n",
       "      <td>113.0890052356021</td>\n",
       "      <td>126.11111111111111</td>\n",
       "      <td>55.00000000000001</td>\n",
       "      <td>20.0</td>\n",
       "      <td>35.00000000000001</td>\n",
       "      <td>2286.258521059187</td>\n",
       "      <td>56.093760395781935</td>\n",
       "      <td>72.7423331583389</td>\n",
       "      <td>49.25435416790536</td>\n",
       "      <td>56.353591160220994</td>\n",
       "      <td>...</td>\n",
       "      <td>63.793103448275865</td>\n",
       "      <td>54.15533841198033</td>\n",
       "      <td>68.33610234179056</td>\n",
       "      <td>60.416803849760754</td>\n",
       "      <td>11.454723954723889</td>\n",
       "      <td>-0.016168800832854546</td>\n",
       "      <td>1000.0</td>\n",
       "      <td>-1947.9242979245319</td>\n",
       "      <td>0.18232044198895028</td>\n",
       "      <td>59.74625144180584</td>\n",
       "    </tr>\n",
       "  </tbody>\n",
       "</table>\n",
       "<p>4 rows × 61 columns</p>\n",
       "</div>"
      ],
      "text/plain": [
       "              A Ratio_20          B Ratio_20        Aroon_20 Up  Down  \\\n",
       "5604   108.0568720379147  139.89071038251367               70.0   0.0   \n",
       "5605  116.50485436893203   126.3959390862944               65.0   0.0   \n",
       "5606  107.17703349282297  119.79695431472082               60.0  25.0   \n",
       "5607   113.0890052356021  126.11111111111111  55.00000000000001  20.0   \n",
       "\n",
       "     Aroon Osillator_20              ATR_14        BB-RSI_종가_10  \\\n",
       "5604               70.0  2384.0206562523485   55.58355681401927   \n",
       "5605               65.0   2399.447752234323   51.27040144260923   \n",
       "5606               35.0   2385.201484217586   57.49980045832649   \n",
       "5607  35.00000000000001   2286.258521059187  56.093760395781935   \n",
       "\n",
       "      BB-RSI_20_2.00 상한           BB-RSI 하한         BPDL RSI_14  \\\n",
       "5604  74.66372192483402   51.36534979012427  56.707317073170735   \n",
       "5605  74.94323828132495   49.65296877599513  51.204819277108435   \n",
       "5606  73.23524754788421  49.776308067450074  56.353591160220994   \n",
       "5607   72.7423331583389   49.25435416790536  56.353591160220994   \n",
       "\n",
       "             ...                  Slow %K_5,3           Slow %D_3  \\\n",
       "5604         ...           46.666666666666664  41.988231436903334   \n",
       "5605         ...           40.476190476190474  40.395136778115244   \n",
       "5606         ...            58.19672131147541  48.446526151443926   \n",
       "5607         ...           63.793103448275865   54.15533841198033   \n",
       "\n",
       "     Slow(Simple) %K_5,3   Slow(Simple) %D_3         StochOsc_5,3  \\\n",
       "5604   47.51175705726277  45.491084886481524   11.865211200759305   \n",
       "5605  42.505878528631385   43.99848170755645  -2.9069767441861174   \n",
       "5606   60.99652900790544  52.497505357730944   21.111608030212615   \n",
       "5607   68.33610234179056  60.416803849760754   11.454723954723889   \n",
       "\n",
       "              TRIX기울기_종가,14 True Range TSF Oscillator_종가,14,28  \\\n",
       "5604   -0.01771295080341545     1900.0     -1297.8021978024044   \n",
       "5605   -0.02089261704175921     2600.0     -1689.6825396823406   \n",
       "5606   -0.01747649414303315     2200.0     -1878.3272283273836   \n",
       "5607  -0.016168800832854546     1000.0     -1947.9242979245319   \n",
       "\n",
       "                   VHF_14               CCI_14  \n",
       "5604  0.22560975609756098  -15.876656472947905  \n",
       "5605  0.22289156626506024  -39.678510998266475  \n",
       "5606  0.20441988950276244    40.57971014497359  \n",
       "5607  0.18232044198895028    59.74625144180584  \n",
       "\n",
       "[4 rows x 61 columns]"
      ]
     },
     "execution_count": 16,
     "metadata": {},
     "output_type": "execute_result"
    }
   ],
   "source": [
    "DATASET[0][1][3][0]"
   ]
  },
  {
   "cell_type": "code",
   "execution_count": 17,
   "metadata": {
    "scrolled": true
   },
   "outputs": [
    {
     "data": {
      "text/html": [
       "<div>\n",
       "<style scoped>\n",
       "    .dataframe tbody tr th:only-of-type {\n",
       "        vertical-align: middle;\n",
       "    }\n",
       "\n",
       "    .dataframe tbody tr th {\n",
       "        vertical-align: top;\n",
       "    }\n",
       "\n",
       "    .dataframe thead th {\n",
       "        text-align: right;\n",
       "    }\n",
       "</style>\n",
       "<table border=\"1\" class=\"dataframe\">\n",
       "  <thead>\n",
       "    <tr style=\"text-align: right;\">\n",
       "      <th></th>\n",
       "      <th>Target_0</th>\n",
       "      <th>Target_1</th>\n",
       "      <th>Target_2</th>\n",
       "      <th>Target_3</th>\n",
       "      <th>Target_4</th>\n",
       "      <th>Target_5</th>\n",
       "      <th>Target_6</th>\n",
       "      <th>Target_7</th>\n",
       "      <th>Target_8</th>\n",
       "      <th>Target_9</th>\n",
       "    </tr>\n",
       "  </thead>\n",
       "  <tbody>\n",
       "    <tr>\n",
       "      <th>5604</th>\n",
       "      <td>False</td>\n",
       "      <td>False</td>\n",
       "      <td>False</td>\n",
       "      <td>False</td>\n",
       "      <td>False</td>\n",
       "      <td>False</td>\n",
       "      <td>False</td>\n",
       "      <td>False</td>\n",
       "      <td>False</td>\n",
       "      <td>False</td>\n",
       "    </tr>\n",
       "    <tr>\n",
       "      <th>5605</th>\n",
       "      <td>False</td>\n",
       "      <td>False</td>\n",
       "      <td>False</td>\n",
       "      <td>False</td>\n",
       "      <td>False</td>\n",
       "      <td>False</td>\n",
       "      <td>False</td>\n",
       "      <td>False</td>\n",
       "      <td>False</td>\n",
       "      <td>False</td>\n",
       "    </tr>\n",
       "    <tr>\n",
       "      <th>5606</th>\n",
       "      <td>False</td>\n",
       "      <td>False</td>\n",
       "      <td>False</td>\n",
       "      <td>False</td>\n",
       "      <td>False</td>\n",
       "      <td>False</td>\n",
       "      <td>False</td>\n",
       "      <td>False</td>\n",
       "      <td>False</td>\n",
       "      <td>False</td>\n",
       "    </tr>\n",
       "    <tr>\n",
       "      <th>5607</th>\n",
       "      <td>False</td>\n",
       "      <td>False</td>\n",
       "      <td>False</td>\n",
       "      <td>False</td>\n",
       "      <td>False</td>\n",
       "      <td>False</td>\n",
       "      <td>False</td>\n",
       "      <td>False</td>\n",
       "      <td>False</td>\n",
       "      <td>False</td>\n",
       "    </tr>\n",
       "  </tbody>\n",
       "</table>\n",
       "</div>"
      ],
      "text/plain": [
       "      Target_0  Target_1  Target_2  Target_3  Target_4  Target_5  Target_6  \\\n",
       "5604     False     False     False     False     False     False     False   \n",
       "5605     False     False     False     False     False     False     False   \n",
       "5606     False     False     False     False     False     False     False   \n",
       "5607     False     False     False     False     False     False     False   \n",
       "\n",
       "      Target_7  Target_8  Target_9  \n",
       "5604     False     False     False  \n",
       "5605     False     False     False  \n",
       "5606     False     False     False  \n",
       "5607     False     False     False  "
      ]
     },
     "execution_count": 17,
     "metadata": {},
     "output_type": "execute_result"
    }
   ],
   "source": [
    "DATASET[0][1][3][1]"
   ]
  },
  {
   "cell_type": "code",
   "execution_count": 18,
   "metadata": {},
   "outputs": [],
   "source": [
    "from sklearn.multioutput import MultiOutputClassifier\n",
    "from sklearn.ensemble import RandomForestClassifier\n",
    "from sklearn.metrics import confusion_matrix, classification_report\n",
    "from sklearn import preprocessing\n",
    "import numpy as np"
   ]
  },
  {
   "cell_type": "code",
   "execution_count": 19,
   "metadata": {},
   "outputs": [],
   "source": [
    "CMResult = {}"
   ]
  },
  {
   "cell_type": "code",
   "execution_count": 20,
   "metadata": {},
   "outputs": [
    {
     "name": "stderr",
     "output_type": "stream",
     "text": [
      "100%|███████████████████████████████████████████████████████| 97/97 [05:15<00:00,  3.25s/it]\n"
     ]
    }
   ],
   "source": [
    "for date, data in enumerate(tqdm(DATASET)):\n",
    "    \n",
    "    if date % 10 != 0:\n",
    "        continue\n",
    "    \n",
    "    X_train = data[0][0].astype(float)\n",
    "    Y_train = data[0][1].astype(float)\n",
    "    \n",
    "    for week, test in enumerate(data[1]):\n",
    "        \n",
    "        X_test = test[0].astype(float).astype(float)\n",
    "        Y_test = test[1].astype(float)\n",
    "\n",
    "        scaler = preprocessing.StandardScaler().fit(X_train)\n",
    "        forest = RandomForestClassifier(n_estimators=500, random_state=1, max_depth=5)\n",
    "        multi_target_forest = MultiOutputClassifier(forest, n_jobs=-1)\n",
    "        multi_target_forest.fit(scaler.transform(X_train), Y_train)\n",
    "        predict = multi_target_forest.predict(scaler.transform(X_train))\n",
    "\n",
    "        # corr = predict == Y_train\n",
    "        # corr.apply(np.mean, 0)\n",
    "        # np.mean(corr.apply(np.mean, 0))\n",
    "\n",
    "        predict = multi_target_forest.predict(scaler.transform(X_test))\n",
    "\n",
    "        # corr = predict == Y_test\n",
    "        # corr.apply(np.mean, 0)\n",
    "        # np.mean(corr.apply(np.mean, 0))\n",
    "        \n",
    "        for period in range(10):\n",
    "\n",
    "            cm = confusion_matrix(np.array(Y_test[\"Target_{}\".format(period)]), predict[:, period])\n",
    "            if len(cm) == 1:\n",
    "                \n",
    "                tmp = int(list(set(predict[:, period]))[0])\n",
    "                values = int(cm)\n",
    "                \n",
    "                if tmp == 0:\n",
    "                    cm = np.zeros((2, 2))\n",
    "                    cm[0, 0] = values\n",
    "                    \n",
    "                else:\n",
    "                    cm = np.ones((2, 2))\n",
    "                    cm[1, 1] = values\n",
    "\n",
    "    #         Sensitivity = cm[1, 1] / np.sum(cm[:, 1])\n",
    "    #         Accuracy = np.sum(cm.diagonal()) / np.sum(cm)\n",
    "    \n",
    "            key = \"week{}_period{}\".format(week+1, period)    \n",
    "            \n",
    "            if key not in CMResult:\n",
    "                CMResult[key] = []\n",
    "\n",
    "            CMResult[key].append(cm)"
   ]
  },
  {
   "cell_type": "code",
   "execution_count": 21,
   "metadata": {},
   "outputs": [
    {
     "data": {
      "text/plain": [
       "dict_keys(['week1_period0', 'week1_period1', 'week1_period2', 'week1_period3', 'week1_period4', 'week1_period5', 'week1_period6', 'week1_period7', 'week1_period8', 'week1_period9', 'week2_period0', 'week2_period1', 'week2_period2', 'week2_period3', 'week2_period4', 'week2_period5', 'week2_period6', 'week2_period7', 'week2_period8', 'week2_period9', 'week3_period0', 'week3_period1', 'week3_period2', 'week3_period3', 'week3_period4', 'week3_period5', 'week3_period6', 'week3_period7', 'week3_period8', 'week3_period9', 'week4_period0', 'week4_period1', 'week4_period2', 'week4_period3', 'week4_period4', 'week4_period5', 'week4_period6', 'week4_period7', 'week4_period8', 'week4_period9'])"
      ]
     },
     "execution_count": 21,
     "metadata": {},
     "output_type": "execute_result"
    }
   ],
   "source": [
    "CMResult.keys()"
   ]
  },
  {
   "cell_type": "code",
   "execution_count": 22,
   "metadata": {},
   "outputs": [
    {
     "name": "stdout",
     "output_type": "stream",
     "text": [
      "[[2 0]\n",
      " [3 0]]\n",
      "[[4 0]\n",
      " [1 0]]\n",
      "[[3 0]\n",
      " [2 0]]\n",
      "[[5. 0.]\n",
      " [0. 0.]]\n",
      "[[1 0]\n",
      " [4 0]]\n",
      "[[4 0]\n",
      " [1 0]]\n",
      "[[2 0]\n",
      " [1 0]]\n",
      "[[5. 0.]\n",
      " [0. 0.]]\n",
      "[[0 0]\n",
      " [4 1]]\n",
      "[[2 0]\n",
      " [3 0]]\n"
     ]
    }
   ],
   "source": [
    "for i in CMResult[\"week1_period9\"]:\n",
    "    print(i)"
   ]
  }
 ],
 "metadata": {
  "kernelspec": {
   "display_name": "Python 3",
   "language": "python",
   "name": "python3"
  },
  "language_info": {
   "codemirror_mode": {
    "name": "ipython",
    "version": 3
   },
   "file_extension": ".py",
   "mimetype": "text/x-python",
   "name": "python",
   "nbconvert_exporter": "python",
   "pygments_lexer": "ipython3",
   "version": "3.7.1"
  }
 },
 "nbformat": 4,
 "nbformat_minor": 2
}
