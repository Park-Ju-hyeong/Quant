{
 "cells": [
  {
   "cell_type": "code",
   "execution_count": 1,
   "metadata": {},
   "outputs": [],
   "source": [
    "import codecs\n",
    "import ctypes\n",
    "import os\n",
    "import subprocess\n",
    "import pandas as pd"
   ]
  },
  {
   "cell_type": "code",
   "execution_count": 2,
   "metadata": {},
   "outputs": [],
   "source": [
    "from tqdm import tqdm"
   ]
  },
  {
   "cell_type": "code",
   "execution_count": 3,
   "metadata": {},
   "outputs": [],
   "source": [
    "import codecs\n",
    "import time\n",
    "import logging, logging.config\n",
    "from datetime import datetime, timedelta"
   ]
  },
  {
   "cell_type": "code",
   "execution_count": 4,
   "metadata": {},
   "outputs": [],
   "source": [
    "import subprocess\n",
    "import time\n",
    "import win32com.client\n",
    "import pandas as pd"
   ]
  },
  {
   "cell_type": "code",
   "execution_count": 5,
   "metadata": {},
   "outputs": [],
   "source": [
    "import numpy as np\n",
    "import pandas as pd"
   ]
  },
  {
   "cell_type": "code",
   "execution_count": 6,
   "metadata": {},
   "outputs": [],
   "source": [
    "objCpCybos = win32com.client.Dispatch(\"CpUtil.CpCybos\")\n",
    "# objStockOrder = win32com.client.Dispatch(\"CpTrade.CpTd0311\")\n",
    "# objTrade =  win32com.client.Dispatch(\"CpTrade.CpTdUtil\")\n",
    "# objRq = win32com.client.Dispatch(\"CpTrade.CpTd6033\")\n",
    "# objTdNew = win32com.client.Dispatch('CpTrade.CpTdNew5331A') "
   ]
  },
  {
   "cell_type": "code",
   "execution_count": 7,
   "metadata": {},
   "outputs": [],
   "source": [
    "objSeries = win32com.client.Dispatch(\"CpIndexes.CpSeries\")\n",
    "objIndex = win32com.client.Dispatch(\"CpIndexes.CpIndex\")"
   ]
  },
  {
   "cell_type": "code",
   "execution_count": 8,
   "metadata": {},
   "outputs": [
    {
     "data": {
      "text/plain": [
       "'\\n0 - 가격지표\\n1 - 대신개발지표\\n2 - 추세지표\\n3 - 변동성지표\\n4 - 거래량지표\\n5 - 기간활용지표\\n6 - 투자자별지표\\n'"
      ]
     },
     "execution_count": 8,
     "metadata": {},
     "output_type": "execute_result"
    }
   ],
   "source": [
    "\"\"\"\n",
    "0 - 가격지표\n",
    "1 - 대신개발지표\n",
    "2 - 추세지표\n",
    "3 - 변동성지표\n",
    "4 - 거래량지표\n",
    "5 - 기간활용지표\n",
    "6 - 투자자별지표\n",
    "\"\"\""
   ]
  },
  {
   "cell_type": "code",
   "execution_count": 9,
   "metadata": {
    "scrolled": true
   },
   "outputs": [
    {
     "data": {
      "text/plain": [
       "('이격도',\n",
       " 'AB Ratio',\n",
       " 'ADX',\n",
       " 'ADXR',\n",
       " 'Aroon',\n",
       " 'Aroon Osillator',\n",
       " 'ATR',\n",
       " 'BB-RSI',\n",
       " 'BPDL RSI',\n",
       " 'BPDL Stochatic',\n",
       " 'Chande Momentum Oscillator',\n",
       " \"Chaikin's Volatility\",\n",
       " 'CompuTrac Volatility',\n",
       " 'DMI',\n",
       " 'DMI(simple)',\n",
       " 'Energy',\n",
       " 'High Low Envelope',\n",
       " 'High Low Oscillator',\n",
       " 'Inertia',\n",
       " 'Klinger Oscillator',\n",
       " 'Linear Trend Oscillator',\n",
       " 'LRS',\n",
       " 'Mass Index',\n",
       " 'Morris Mixed Momentum',\n",
       " 'New BPDL HiLo Index MA',\n",
       " 'Open Difference',\n",
       " 'QStick',\n",
       " 'Random Walk Index',\n",
       " 'RCI',\n",
       " 'Relative Volatility Index',\n",
       " 'Reverse',\n",
       " 'RSI',\n",
       " 'RSI(simple)',\n",
       " 'RSI(stochastic)',\n",
       " 'R-Squared',\n",
       " 'Sigma',\n",
       " 'SMI',\n",
       " 'Standard Deviation',\n",
       " 'Standard Error',\n",
       " 'Stochastic Fast',\n",
       " 'Stochastic Slow',\n",
       " 'Stochastic(simple)',\n",
       " 'Stochastic Oscillator',\n",
       " 'TRIX기울기',\n",
       " 'True Range',\n",
       " 'TSF Oscillator',\n",
       " 'VHF')"
      ]
     },
     "execution_count": 9,
     "metadata": {},
     "output_type": "execute_result"
    }
   ],
   "source": [
    "objIndex.GetChartIndexCodeListByIndex(3)"
   ]
  },
  {
   "cell_type": "code",
   "execution_count": 10,
   "metadata": {},
   "outputs": [],
   "source": [
    "data = pd.read_table(\"/Users/jooh8/Documents/GitHub/Quant/data/A005930/DAY_A005930.txt\", delimiter=\" \")"
   ]
  },
  {
   "cell_type": "code",
   "execution_count": 11,
   "metadata": {
    "scrolled": true
   },
   "outputs": [],
   "source": [
    "tolist = data[\"종가 시가 고가 저가 거래량\".split(\" \")].values.tolist()"
   ]
  },
  {
   "cell_type": "code",
   "execution_count": 12,
   "metadata": {},
   "outputs": [
    {
     "name": "stdout",
     "output_type": "stream",
     "text": [
      "10591\n"
     ]
    }
   ],
   "source": [
    "print(len(tolist))"
   ]
  },
  {
   "cell_type": "code",
   "execution_count": 13,
   "metadata": {},
   "outputs": [],
   "source": [
    "for close, open, high, low, vol in tolist:\n",
    "\n",
    "    objSeries.Add(close, open, high, low, vol)"
   ]
  },
  {
   "cell_type": "code",
   "execution_count": 17,
   "metadata": {},
   "outputs": [],
   "source": [
    "INDEXNAME = \"RSI(stochastic)\""
   ]
  },
  {
   "cell_type": "code",
   "execution_count": 18,
   "metadata": {},
   "outputs": [],
   "source": [
    "objIndex.series = objSeries\n",
    "objIndex.put_IndexKind(INDEXNAME)     # 계산할 지표: MACD\n",
    "objIndex.put_IndexDefault(INDEXNAME)  # MACD 지표 기본 변수 자동 세팅\n",
    "\n",
    "indexID = objIndex.GetChartIndexByName(INDEXNAME)\n",
    "indexName = objIndex.GetLineResults(indexID)"
   ]
  },
  {
   "cell_type": "code",
   "execution_count": 19,
   "metadata": {},
   "outputs": [
    {
     "data": {
      "text/plain": [
       "('RSI(stochastic)_14,14', 'Signal_14')"
      ]
     },
     "execution_count": 19,
     "metadata": {},
     "output_type": "execute_result"
    }
   ],
   "source": [
    "indexName"
   ]
  },
  {
   "cell_type": "code",
   "execution_count": null,
   "metadata": {},
   "outputs": [],
   "source": [
    "# print(indexName)\n",
    "# print(objIndex.get_Term1(), objIndex.get_Term2(), objIndex.get_Signal())\n",
    "\n",
    "# 지표 데이터 계산 하기\n",
    "objIndex.Calculate()"
   ]
  },
  {
   "cell_type": "code",
   "execution_count": null,
   "metadata": {},
   "outputs": [],
   "source": [
    "cntofIndex = objIndex.ItemCount\n",
    "\n",
    "creonIndex = {}\n",
    "\n",
    "for index in range(cntofIndex):\n",
    "    cnt = objIndex.GetCount(index)\n",
    "    creonIndex[indexName[index]] = []\n",
    "    for j in range(cnt) :\n",
    "        value = objIndex.GetResult(index, j)\n",
    "        creonIndex[indexName[index]].append(value)"
   ]
  },
  {
   "cell_type": "code",
   "execution_count": null,
   "metadata": {},
   "outputs": [],
   "source": [
    "for k, v in creonIndex.items():\n",
    "    data[k] = v"
   ]
  },
  {
   "cell_type": "code",
   "execution_count": null,
   "metadata": {
    "scrolled": true
   },
   "outputs": [],
   "source": [
    "data"
   ]
  }
 ],
 "metadata": {
  "kernelspec": {
   "display_name": "Python 3",
   "language": "python",
   "name": "python3"
  },
  "language_info": {
   "codemirror_mode": {
    "name": "ipython",
    "version": 3
   },
   "file_extension": ".py",
   "mimetype": "text/x-python",
   "name": "python",
   "nbconvert_exporter": "python",
   "pygments_lexer": "ipython3",
   "version": "3.7.1"
  }
 },
 "nbformat": 4,
 "nbformat_minor": 2
}
