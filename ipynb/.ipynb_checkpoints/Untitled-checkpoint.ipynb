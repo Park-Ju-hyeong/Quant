{
 "cells": [
  {
   "cell_type": "code",
   "execution_count": 1,
   "metadata": {},
   "outputs": [],
   "source": [
    "import numpy as np\n",
    "import pandas as pd"
   ]
  },
  {
   "cell_type": "code",
   "execution_count": 2,
   "metadata": {},
   "outputs": [],
   "source": [
    "read_csv = pd.read_csv(\"/Users/jooh8/Documents/GitHub/Quant/data/A005930/Index_A005930.txt\", sep=\" \", low_memory=False)"
   ]
  },
  {
   "cell_type": "code",
   "execution_count": 3,
   "metadata": {},
   "outputs": [],
   "source": [
    "for period in range(10):\n",
    "    \n",
    "    read_csv[\"고가_{}\".format(period)] = read_csv[\"고가\"].shift(periods=period).fillna(0)"
   ]
  },
  {
   "cell_type": "code",
   "execution_count": 4,
   "metadata": {},
   "outputs": [],
   "source": [
    "for period in range(10):\n",
    "    \n",
    "    read_csv[\"최고가_{}\".format(period)] = read_csv[[\"고가_{}\".format(i) for i in range(period + 1)]].apply(np.max, 1)"
   ]
  },
  {
   "cell_type": "code",
   "execution_count": 5,
   "metadata": {
    "scrolled": true
   },
   "outputs": [],
   "source": [
    "for period in range(10):\n",
    "    \n",
    "    read_csv[\"Target_{}\".format(period)] = read_csv[\"시가\"] * 1.05 < read_csv[\"고가_{}\".format(period)]"
   ]
  },
  {
   "cell_type": "code",
   "execution_count": 13,
   "metadata": {},
   "outputs": [],
   "source": [
    "columns = list(read_csv.columns)"
   ]
  },
  {
   "cell_type": "code",
   "execution_count": 16,
   "metadata": {
    "scrolled": false
   },
   "outputs": [
    {
     "data": {
      "text/plain": [
       "['고가_0',\n",
       " '고가_1',\n",
       " '고가_2',\n",
       " '고가_3',\n",
       " '고가_4',\n",
       " '고가_5',\n",
       " '고가_6',\n",
       " '고가_7',\n",
       " '고가_8',\n",
       " '고가_9',\n",
       " '최고가_0',\n",
       " '최고가_1',\n",
       " '최고가_2',\n",
       " '최고가_3',\n",
       " '최고가_4',\n",
       " '최고가_5',\n",
       " '최고가_6',\n",
       " '최고가_7',\n",
       " '최고가_8',\n",
       " '최고가_9',\n",
       " 'Target_0',\n",
       " 'Target_1',\n",
       " 'Target_2',\n",
       " 'Target_3',\n",
       " 'Target_4',\n",
       " 'Target_5',\n",
       " 'Target_6',\n",
       " 'Target_7',\n",
       " 'Target_8',\n",
       " 'Target_9']"
      ]
     },
     "execution_count": 16,
     "metadata": {},
     "output_type": "execute_result"
    }
   ],
   "source": [
    "columns[-30:]"
   ]
  },
  {
   "cell_type": "code",
   "execution_count": 12,
   "metadata": {},
   "outputs": [
    {
     "data": {
      "text/plain": [
       "Index(['날짜', '시가', '고가', '저가', '종가', '거래량', '거래대금', '상장주식수', '시가총액',\n",
       "       '외국인현보유수량',\n",
       "       ...\n",
       "       'Target_0', 'Target_1', 'Target_2', 'Target_3', 'Target_4', 'Target_5',\n",
       "       'Target_6', 'Target_7', 'Target_8', 'Target_9'],\n",
       "      dtype='object', length=102)"
      ]
     },
     "execution_count": 12,
     "metadata": {},
     "output_type": "execute_result"
    }
   ],
   "source": [
    "columns"
   ]
  }
 ],
 "metadata": {
  "kernelspec": {
   "display_name": "Python 3",
   "language": "python",
   "name": "python3"
  },
  "language_info": {
   "codemirror_mode": {
    "name": "ipython",
    "version": 3
   },
   "file_extension": ".py",
   "mimetype": "text/x-python",
   "name": "python",
   "nbconvert_exporter": "python",
   "pygments_lexer": "ipython3",
   "version": "3.7.1"
  }
 },
 "nbformat": 4,
 "nbformat_minor": 2
}
