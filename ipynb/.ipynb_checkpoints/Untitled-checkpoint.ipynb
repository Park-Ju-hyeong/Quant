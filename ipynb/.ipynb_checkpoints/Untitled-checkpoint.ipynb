{
 "cells": [
  {
   "cell_type": "code",
   "execution_count": 1,
   "metadata": {},
   "outputs": [],
   "source": [
    "import codecs\n",
    "import ctypes\n",
    "import os\n",
    "import subprocess\n",
    "import pandas as pd\n",
    "\n",
    "from tqdm import tqdm"
   ]
  },
  {
   "cell_type": "code",
   "execution_count": 2,
   "metadata": {},
   "outputs": [],
   "source": [
    "import codecs\n",
    "import time\n",
    "import logging, logging.config\n",
    "from datetime import datetime, timedelta"
   ]
  },
  {
   "cell_type": "code",
   "execution_count": 3,
   "metadata": {},
   "outputs": [],
   "source": [
    "import subprocess\n",
    "import time\n",
    "import win32com.client\n",
    "import pandas as pd"
   ]
  },
  {
   "cell_type": "code",
   "execution_count": 4,
   "metadata": {},
   "outputs": [],
   "source": [
    "objCpCybos = win32com.client.Dispatch(\"CpUtil.CpCybos\")\n",
    "objStockOrder = win32com.client.Dispatch(\"CpTrade.CpTd0311\")\n",
    "objTrade =  win32com.client.Dispatch(\"CpTrade.CpTdUtil\")\n",
    "objRq = win32com.client.Dispatch(\"CpTrade.CpTd6033\")\n",
    "objTdNew = win32com.client.Dispatch('CpTrade.CpTdNew5331A') "
   ]
  },
  {
   "cell_type": "code",
   "execution_count": 5,
   "metadata": {},
   "outputs": [],
   "source": [
    "objSeries = win32com.client.Dispatch(\"CpIndexes.CpSeries\")\n",
    "objIndex = win32com.client.Dispatch(\"CpIndexes.CpIndex\")"
   ]
  },
  {
   "cell_type": "code",
   "execution_count": 6,
   "metadata": {},
   "outputs": [],
   "source": [
    "import numpy as np"
   ]
  },
  {
   "cell_type": "code",
   "execution_count": 7,
   "metadata": {},
   "outputs": [],
   "source": [
    "close, open, high, low, vol = (50000, 40000, 60000, 30000, 1000000)"
   ]
  },
  {
   "cell_type": "code",
   "execution_count": 17,
   "metadata": {},
   "outputs": [],
   "source": [
    "for _ in range(100):\n",
    "\n",
    "    close += int(np.random.randint(-100, 100, 1))\n",
    "    open += int(np.random.randint(-100, 100, 1))\n",
    "    high += int(np.random.randint(-100, 100, 1))\n",
    "    low += int(np.random.randint(-100, 100, 1))\n",
    "    vol += int(np.random.randint(-100, 100, 1))\n",
    "\n",
    "    objSeries.Add(close, open, high, low, vol)"
   ]
  },
  {
   "cell_type": "code",
   "execution_count": 9,
   "metadata": {},
   "outputs": [],
   "source": [
    "close += int(np.random.randint(-100, 100, 1))\n",
    "open += int(np.random.randint(-100, 100, 1))\n",
    "high += int(np.random.randint(-100, 100, 1))\n",
    "low += int(np.random.randint(-100, 100, 1))\n",
    "vol += int(np.random.randint(-100, 100, 1))\n",
    "\n",
    "objSeries.Add(close, open, high, low, vol)"
   ]
  },
  {
   "cell_type": "code",
   "execution_count": 48,
   "metadata": {},
   "outputs": [],
   "source": [
    "objIndex.series = objSeries\n",
    "objIndex.put_IndexKind(\"MACD\")     # 계산할 지표: MACD\n",
    "objIndex.put_IndexDefault(\"MACD\")  # MACD 지표 기본 변수 자동 세팅"
   ]
  },
  {
   "cell_type": "code",
   "execution_count": 49,
   "metadata": {},
   "outputs": [
    {
     "name": "stdout",
     "output_type": "stream",
     "text": [
      "MACD 변수 12 26 9\n"
     ]
    }
   ],
   "source": [
    "print(\"MACD 변수\", objIndex.get_Term1(), objIndex.get_Term2(), objIndex.get_Signal())"
   ]
  },
  {
   "cell_type": "code",
   "execution_count": 50,
   "metadata": {},
   "outputs": [],
   "source": [
    "# 지표 데이터 계산 하기\n",
    "objIndex.Calculate()"
   ]
  },
  {
   "cell_type": "code",
   "execution_count": 51,
   "metadata": {},
   "outputs": [],
   "source": [
    "cntofIndex = objIndex.ItemCount"
   ]
  },
  {
   "cell_type": "code",
   "execution_count": 52,
   "metadata": {},
   "outputs": [],
   "source": [
    "indexID = objIndex.GetChartIndexByName(\"MACD\")\n",
    "indexName = objIndex.GetLineResults(indexID)"
   ]
  },
  {
   "cell_type": "code",
   "execution_count": 53,
   "metadata": {},
   "outputs": [
    {
     "data": {
      "text/plain": [
       "('MACD_12,26', 'Signal_9', 'OSCILLATOR')"
      ]
     },
     "execution_count": 53,
     "metadata": {},
     "output_type": "execute_result"
    }
   ],
   "source": [
    "indexName"
   ]
  },
  {
   "cell_type": "code",
   "execution_count": 54,
   "metadata": {
    "scrolled": true
   },
   "outputs": [
    {
     "name": "stdout",
     "output_type": "stream",
     "text": [
      "MACD_12,26 1.7976931348623157e+308\n",
      "MACD_12,26 1.7976931348623157e+308\n",
      "MACD_12,26 1.7976931348623157e+308\n",
      "MACD_12,26 1.7976931348623157e+308\n",
      "MACD_12,26 1.7976931348623157e+308\n",
      "MACD_12,26 1.7976931348623157e+308\n",
      "MACD_12,26 1.7976931348623157e+308\n",
      "MACD_12,26 1.7976931348623157e+308\n",
      "MACD_12,26 1.7976931348623157e+308\n",
      "MACD_12,26 1.7976931348623157e+308\n",
      "MACD_12,26 1.7976931348623157e+308\n",
      "MACD_12,26 1.7976931348623157e+308\n",
      "MACD_12,26 1.7976931348623157e+308\n",
      "MACD_12,26 1.7976931348623157e+308\n",
      "MACD_12,26 1.7976931348623157e+308\n",
      "MACD_12,26 1.7976931348623157e+308\n",
      "MACD_12,26 1.7976931348623157e+308\n",
      "MACD_12,26 1.7976931348623157e+308\n",
      "MACD_12,26 1.7976931348623157e+308\n",
      "MACD_12,26 1.7976931348623157e+308\n",
      "MACD_12,26 1.7976931348623157e+308\n",
      "MACD_12,26 1.7976931348623157e+308\n",
      "MACD_12,26 1.7976931348623157e+308\n",
      "MACD_12,26 1.7976931348623157e+308\n",
      "MACD_12,26 1.7976931348623157e+308\n",
      "MACD_12,26 -7.716892635260592\n",
      "MACD_12,26 -10.279028278426267\n",
      "MACD_12,26 -12.249031665203802\n",
      "MACD_12,26 -20.273974128744157\n",
      "MACD_12,26 -24.33597777819523\n",
      "MACD_12,26 -25.486140434848494\n",
      "MACD_12,26 -22.347536927270994\n",
      "MACD_12,26 -18.596807262620132\n",
      "MACD_12,26 -14.329462855697784\n",
      "MACD_12,26 -12.657560965883022\n",
      "MACD_12,26 -10.166383576812223\n",
      "MACD_12,26 -7.779661877946637\n",
      "MACD_12,26 -3.268359556866926\n",
      "MACD_12,26 5.967200490216783\n",
      "MACD_12,26 10.582329296441458\n",
      "MACD_12,26 19.103215634124354\n",
      "MACD_12,26 19.498745207703905\n",
      "MACD_12,26 18.38984393107239\n",
      "MACD_12,26 22.177572629654605\n",
      "MACD_12,26 26.16878374529915\n",
      "MACD_12,26 26.604418850205548\n",
      "MACD_12,26 31.26932477171067\n",
      "MACD_12,26 27.547876992015517\n",
      "MACD_12,26 23.041923580662115\n",
      "MACD_12,26 16.457009385667334\n",
      "MACD_12,26 15.49780869857932\n",
      "MACD_12,26 7.789058203583409\n",
      "MACD_12,26 -0.4133994002258987\n",
      "MACD_12,26 -10.105770464178931\n",
      "MACD_12,26 -21.333630751156306\n",
      "MACD_12,26 -24.303223503047775\n",
      "MACD_12,26 -20.29018963626004\n",
      "MACD_12,26 -21.780944417136197\n",
      "MACD_12,26 -19.35027144583728\n",
      "MACD_12,26 -9.567262463242514\n",
      "MACD_12,26 -0.11826952858245932\n",
      "MACD_12,26 11.354511483230453\n",
      "MACD_12,26 13.433134652215813\n",
      "MACD_12,26 9.324555828468874\n",
      "MACD_12,26 7.993623065376596\n",
      "MACD_12,26 4.945244141978037\n",
      "MACD_12,26 8.403690921171801\n",
      "MACD_12,26 11.416392062463274\n",
      "MACD_12,26 14.524161992965674\n",
      "MACD_12,26 16.47441863945278\n",
      "MACD_12,26 12.948557964882639\n",
      "MACD_12,26 6.289281847035454\n",
      "MACD_12,26 -6.019715474329132\n",
      "MACD_12,26 -12.802893256310199\n",
      "MACD_12,26 -19.16802806263877\n",
      "MACD_12,26 -25.930819970017183\n",
      "MACD_12,26 -34.04490684935445\n",
      "MACD_12,26 -36.982782246566785\n",
      "MACD_12,26 -37.66649907063402\n",
      "MACD_12,26 -37.054978074433166\n",
      "MACD_12,26 -34.47837355519732\n",
      "MACD_12,26 -27.28042558650486\n",
      "MACD_12,26 -15.82584611717175\n",
      "MACD_12,26 -3.5599978592363186\n",
      "MACD_12,26 4.973757874009607\n",
      "MACD_12,26 18.62301085163199\n",
      "MACD_12,26 26.871023744628474\n",
      "MACD_12,26 37.81324440158642\n",
      "MACD_12,26 40.05215523650986\n",
      "MACD_12,26 38.31851380818989\n",
      "MACD_12,26 31.338384326649248\n",
      "MACD_12,26 23.438415253345738\n",
      "MACD_12,26 10.440565805562073\n",
      "MACD_12,26 7.317571898543974\n",
      "MACD_12,26 5.585111465421505\n",
      "MACD_12,26 -3.813085300876992\n",
      "MACD_12,26 -17.753973533144745\n",
      "MACD_12,26 -29.90989481446013\n",
      "MACD_12,26 -44.756728925873176\n",
      "MACD_12,26 -50.29477013651194\n",
      "MACD_12,26 -57.80981928858819\n",
      "Signal_9 1.7976931348623157e+308\n",
      "Signal_9 1.7976931348623157e+308\n",
      "Signal_9 1.7976931348623157e+308\n",
      "Signal_9 1.7976931348623157e+308\n",
      "Signal_9 1.7976931348623157e+308\n",
      "Signal_9 1.7976931348623157e+308\n",
      "Signal_9 1.7976931348623157e+308\n",
      "Signal_9 1.7976931348623157e+308\n",
      "Signal_9 1.7976931348623157e+308\n",
      "Signal_9 1.7976931348623157e+308\n",
      "Signal_9 1.7976931348623157e+308\n",
      "Signal_9 1.7976931348623157e+308\n",
      "Signal_9 1.7976931348623157e+308\n",
      "Signal_9 1.7976931348623157e+308\n",
      "Signal_9 1.7976931348623157e+308\n",
      "Signal_9 1.7976931348623157e+308\n",
      "Signal_9 1.7976931348623157e+308\n",
      "Signal_9 1.7976931348623157e+308\n",
      "Signal_9 1.7976931348623157e+308\n",
      "Signal_9 1.7976931348623157e+308\n",
      "Signal_9 1.7976931348623157e+308\n",
      "Signal_9 1.7976931348623157e+308\n",
      "Signal_9 1.7976931348623157e+308\n",
      "Signal_9 1.7976931348623157e+308\n",
      "Signal_9 1.7976931348623157e+308\n",
      "Signal_9 1.7976931348623157e+308\n",
      "Signal_9 1.7976931348623157e+308\n",
      "Signal_9 1.7976931348623157e+308\n",
      "Signal_9 1.7976931348623157e+308\n",
      "Signal_9 1.7976931348623157e+308\n",
      "Signal_9 1.7976931348623157e+308\n",
      "Signal_9 1.7976931348623157e+308\n",
      "Signal_9 1.7976931348623157e+308\n",
      "Signal_9 -17.00194117998664\n",
      "Signal_9 -16.133065137165918\n",
      "Signal_9 -14.939728825095179\n",
      "Signal_9 -13.507715435665471\n",
      "Signal_9 -11.459844259905761\n",
      "Signal_9 -7.974435309881253\n",
      "Signal_9 -4.263082388616711\n",
      "Signal_9 0.410177215931502\n",
      "Signal_9 4.227890814285983\n",
      "Signal_9 7.060281437643265\n",
      "Signal_9 10.083739676045534\n",
      "Signal_9 13.300748489896257\n",
      "Signal_9 15.961482561958116\n",
      "Signal_9 19.023051003908627\n",
      "Signal_9 20.728016201530004\n",
      "Signal_9 21.190797677356425\n",
      "Signal_9 20.244040019018605\n",
      "Signal_9 19.294793754930748\n",
      "Signal_9 16.99364664466128\n",
      "Signal_9 13.512237435683844\n",
      "Signal_9 8.788635855711288\n",
      "Signal_9 2.7641825343377686\n",
      "Signal_9 -2.6492986731393406\n",
      "Signal_9 -6.17747686576348\n",
      "Signal_9 -9.298170376038023\n",
      "Signal_9 -11.308590589997873\n",
      "Signal_9 -10.960324964646802\n",
      "Signal_9 -8.791913877433933\n",
      "Signal_9 -4.762628805301055\n",
      "Signal_9 -1.1234761137976808\n",
      "Signal_9 0.9661302746556304\n",
      "Signal_9 2.3716288327998236\n",
      "Signal_9 2.8863518946354665\n",
      "Signal_9 3.9898196999427338\n",
      "Signal_9 5.475134172446841\n",
      "Signal_9 7.284939736550608\n",
      "Signal_9 9.122835517131042\n",
      "Signal_9 9.887980006681362\n",
      "Signal_9 9.16824037475218\n",
      "Signal_9 6.130649204935917\n",
      "Signal_9 2.3439407126866936\n",
      "Signal_9 -1.958453042378399\n",
      "Signal_9 -6.752926427906156\n",
      "Signal_9 -12.211322512195814\n",
      "Signal_9 -17.165614459070007\n",
      "Signal_9 -21.265791381382808\n",
      "Signal_9 -24.42362871999288\n",
      "Signal_9 -26.43457768703377\n",
      "Signal_9 -26.60374726692799\n",
      "Signal_9 -24.44816703697674\n",
      "Signal_9 -20.270533201428655\n",
      "Signal_9 -15.221674986341004\n",
      "Signal_9 -8.452737818746407\n",
      "Signal_9 -1.3879855060714306\n",
      "Signal_9 6.45226047546014\n",
      "Signal_9 13.172239427670085\n",
      "Signal_9 18.201494303774048\n",
      "Signal_9 20.828872308349087\n",
      "Signal_9 21.350780897348418\n",
      "Signal_9 19.16873787899115\n",
      "Signal_9 16.798504682901715\n",
      "Signal_9 14.555826039405673\n",
      "Signal_9 10.88204377134914\n",
      "Signal_9 5.154840310450363\n",
      "Signal_9 -1.8581067145317354\n",
      "Signal_9 -10.437831156800023\n",
      "Signal_9 -18.409218952742407\n",
      "Signal_9 -26.289339019911562\n",
      "OSCILLATOR 1.7976931348623157e+308\n",
      "OSCILLATOR 1.7976931348623157e+308\n",
      "OSCILLATOR 1.7976931348623157e+308\n",
      "OSCILLATOR 1.7976931348623157e+308\n",
      "OSCILLATOR 1.7976931348623157e+308\n",
      "OSCILLATOR 1.7976931348623157e+308\n",
      "OSCILLATOR 1.7976931348623157e+308\n",
      "OSCILLATOR 1.7976931348623157e+308\n",
      "OSCILLATOR 1.7976931348623157e+308\n",
      "OSCILLATOR 1.7976931348623157e+308\n",
      "OSCILLATOR 1.7976931348623157e+308\n",
      "OSCILLATOR 1.7976931348623157e+308\n",
      "OSCILLATOR 1.7976931348623157e+308\n",
      "OSCILLATOR 1.7976931348623157e+308\n",
      "OSCILLATOR 1.7976931348623157e+308\n",
      "OSCILLATOR 1.7976931348623157e+308\n",
      "OSCILLATOR 1.7976931348623157e+308\n",
      "OSCILLATOR 1.7976931348623157e+308\n",
      "OSCILLATOR 1.7976931348623157e+308\n",
      "OSCILLATOR 1.7976931348623157e+308\n",
      "OSCILLATOR 1.7976931348623157e+308\n",
      "OSCILLATOR 1.7976931348623157e+308\n",
      "OSCILLATOR 1.7976931348623157e+308\n",
      "OSCILLATOR 1.7976931348623157e+308\n",
      "OSCILLATOR 1.7976931348623157e+308\n",
      "OSCILLATOR 1.7976931348623157e+308\n",
      "OSCILLATOR 1.7976931348623157e+308\n",
      "OSCILLATOR 1.7976931348623157e+308\n",
      "OSCILLATOR 1.7976931348623157e+308\n",
      "OSCILLATOR 1.7976931348623157e+308\n",
      "OSCILLATOR 1.7976931348623157e+308\n",
      "OSCILLATOR 1.7976931348623157e+308\n",
      "OSCILLATOR 1.7976931348623157e+308\n",
      "OSCILLATOR 2.672478324288857\n",
      "OSCILLATOR 3.4755041712828962\n",
      "OSCILLATOR 4.773345248282956\n",
      "OSCILLATOR 5.728053557718834\n",
      "OSCILLATOR 8.191484703038835\n",
      "OSCILLATOR 13.941635800098036\n",
      "OSCILLATOR 14.845411685058169\n",
      "OSCILLATOR 18.693038418192852\n",
      "OSCILLATOR 15.270854393417922\n",
      "OSCILLATOR 11.329562493429126\n",
      "OSCILLATOR 12.093832953609072\n",
      "OSCILLATOR 12.868035255402894\n",
      "OSCILLATOR 10.642936288247432\n",
      "OSCILLATOR 12.246273767802045\n",
      "OSCILLATOR 6.819860790485514\n",
      "OSCILLATOR 1.8511259033056895\n",
      "OSCILLATOR -3.7870306333512715\n",
      "OSCILLATOR -3.796985056351428\n",
      "OSCILLATOR -9.20458844107787\n",
      "OSCILLATOR -13.925636835909742\n",
      "OSCILLATOR -18.89440631989022\n",
      "OSCILLATOR -24.097813285494077\n",
      "OSCILLATOR -21.653924829908433\n",
      "OSCILLATOR -14.112712770496557\n",
      "OSCILLATOR -12.482774041098175\n",
      "OSCILLATOR -8.041680855839406\n",
      "OSCILLATOR 1.3930625014042874\n",
      "OSCILLATOR 8.673644348851473\n",
      "OSCILLATOR 16.11714028853151\n"
     ]
    },
    {
     "name": "stdout",
     "output_type": "stream",
     "text": [
      "OSCILLATOR 14.556610766013494\n",
      "OSCILLATOR 8.358425553813245\n",
      "OSCILLATOR 5.621994232576773\n",
      "OSCILLATOR 2.0588922473425706\n",
      "OSCILLATOR 4.413871221229067\n",
      "OSCILLATOR 5.941257890016432\n",
      "OSCILLATOR 7.239222256415066\n",
      "OSCILLATOR 7.3515831223217365\n",
      "OSCILLATOR 3.060577958201277\n",
      "OSCILLATOR -2.8789585277167262\n",
      "OSCILLATOR -12.15036467926505\n",
      "OSCILLATOR -15.146833968996892\n",
      "OSCILLATOR -17.20957502026037\n",
      "OSCILLATOR -19.177893542111025\n",
      "OSCILLATOR -21.833584337158634\n",
      "OSCILLATOR -19.81716778749678\n",
      "OSCILLATOR -16.40070768925121\n",
      "OSCILLATOR -12.631349354440285\n",
      "OSCILLATOR -8.043795868163553\n",
      "OSCILLATOR -0.6766783195768724\n",
      "OSCILLATOR 8.622320919804991\n",
      "OSCILLATOR 16.710535342192337\n",
      "OSCILLATOR 20.19543286035061\n",
      "OSCILLATOR 27.075748670378395\n",
      "OSCILLATOR 28.259009250699904\n",
      "OSCILLATOR 31.360983926126277\n",
      "OSCILLATOR 26.879915808839776\n",
      "OSCILLATOR 20.117019504415843\n",
      "OSCILLATOR 10.50951201830016\n",
      "OSCILLATOR 2.08763435599732\n",
      "OSCILLATOR -8.728172073429075\n",
      "OSCILLATOR -9.48093278435774\n",
      "OSCILLATOR -8.970714573984168\n",
      "OSCILLATOR -14.695129072226132\n",
      "OSCILLATOR -22.90881384359511\n",
      "OSCILLATOR -28.051788099928395\n",
      "OSCILLATOR -34.31889776907315\n",
      "OSCILLATOR -31.885551183769536\n",
      "OSCILLATOR -31.520480268676625\n"
     ]
    }
   ],
   "source": [
    "for index in range(cntofIndex):\n",
    "    cnt = objIndex.GetCount(index)\n",
    "    for j in range(cnt) :\n",
    "        value = objIndex.GetResult(index, j)\n",
    "#         value = objIndex.GetResult(index, cnt - 1) # 지표의 가장 최근 값 - 맨 뒤 데이터\n",
    "        print(indexName[index], value)  # 지표의 최근 값 표시"
   ]
  },
  {
   "cell_type": "code",
   "execution_count": 35,
   "metadata": {
    "scrolled": true
   },
   "outputs": [
    {
     "data": {
      "text/plain": [
       "('이격도',\n",
       " 'AB Ratio',\n",
       " 'ADX',\n",
       " 'ADXR',\n",
       " 'Aroon',\n",
       " 'Aroon Osillator',\n",
       " 'ATR',\n",
       " 'BB-RSI',\n",
       " 'BPDL RSI',\n",
       " 'BPDL Stochatic',\n",
       " 'Chande Momentum Oscillator',\n",
       " \"Chaikin's Volatility\",\n",
       " 'CompuTrac Volatility',\n",
       " 'DMI',\n",
       " 'DMI(simple)',\n",
       " 'Energy',\n",
       " 'High Low Envelope',\n",
       " 'High Low Oscillator',\n",
       " 'Inertia',\n",
       " 'Klinger Oscillator',\n",
       " 'Linear Trend Oscillator',\n",
       " 'LRS',\n",
       " 'Mass Index',\n",
       " 'Morris Mixed Momentum',\n",
       " 'New BPDL HiLo Index MA',\n",
       " 'Open Difference',\n",
       " 'QStick',\n",
       " 'Random Walk Index',\n",
       " 'RCI',\n",
       " 'Relative Volatility Index',\n",
       " 'Reverse',\n",
       " 'RSI',\n",
       " 'RSI(simple)',\n",
       " 'RSI(stochastic)',\n",
       " 'R-Squared',\n",
       " 'Sigma',\n",
       " 'SMI',\n",
       " 'Standard Deviation',\n",
       " 'Standard Error',\n",
       " 'Stochastic Fast',\n",
       " 'Stochastic Slow',\n",
       " 'Stochastic(simple)',\n",
       " 'Stochastic Oscillator',\n",
       " 'TRIX기울기',\n",
       " 'True Range',\n",
       " 'TSF Oscillator',\n",
       " 'VHF')"
      ]
     },
     "execution_count": 35,
     "metadata": {},
     "output_type": "execute_result"
    }
   ],
   "source": [
    "objIndex.GetChartIndexCodeListByIndex(3)"
   ]
  },
  {
   "cell_type": "code",
   "execution_count": null,
   "metadata": {},
   "outputs": [],
   "source": []
  },
  {
   "cell_type": "code",
   "execution_count": 33,
   "metadata": {},
   "outputs": [
    {
     "data": {
      "text/plain": [
       "4272"
      ]
     },
     "execution_count": 33,
     "metadata": {},
     "output_type": "execute_result"
    }
   ],
   "source": []
  },
  {
   "cell_type": "code",
   "execution_count": null,
   "metadata": {},
   "outputs": [],
   "source": [
    "\"\"\"\n",
    "0 - 가격지표\n",
    "\n",
    "1 - 대신개발지표\n",
    "\n",
    "2 - 추세지표\n",
    "\n",
    "3 - 변동성지표\n",
    "\n",
    "4 - 거래량지표\n",
    "\n",
    "5 - 기간활용지표\n",
    "\n",
    "6 - 투자자별지표\n",
    "\"\"\""
   ]
  },
  {
   "cell_type": "code",
   "execution_count": null,
   "metadata": {},
   "outputs": [],
   "source": []
  }
 ],
 "metadata": {
  "kernelspec": {
   "display_name": "Python 3",
   "language": "python",
   "name": "python3"
  },
  "language_info": {
   "codemirror_mode": {
    "name": "ipython",
    "version": 3
   },
   "file_extension": ".py",
   "mimetype": "text/x-python",
   "name": "python",
   "nbconvert_exporter": "python",
   "pygments_lexer": "ipython3",
   "version": "3.7.1"
  }
 },
 "nbformat": 4,
 "nbformat_minor": 2
}
