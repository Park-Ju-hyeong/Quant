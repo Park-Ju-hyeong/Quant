{
 "cells": [
  {
   "cell_type": "code",
   "execution_count": 1,
   "metadata": {},
   "outputs": [],
   "source": [
    "import win32com.client"
   ]
  },
  {
   "cell_type": "code",
   "execution_count": 2,
   "metadata": {},
   "outputs": [],
   "source": [
    "# 연결 여부 체크\n",
    "objCpCybos = win32com.client.Dispatch(\"CpUtil.CpCybos\")\n",
    "bConnect = objCpCybos.IsConnect\n",
    "if (bConnect == 0):\n",
    "    print(\"PLUS가 정상적으로 연결되지 않음. \")\n",
    "    exit()"
   ]
  },
  {
   "cell_type": "code",
   "execution_count": 3,
   "metadata": {},
   "outputs": [],
   "source": [
    "# 주문 초기화\n",
    "objTrade =  win32com.client.Dispatch(\"CpTrade.CpTdUtil\")\n",
    "initCheck = objTrade.TradeInit(0)\n",
    "if (initCheck != 0):\n",
    "    print(\"주문 초기화 실패\")\n",
    "    exit()"
   ]
  },
  {
   "cell_type": "code",
   "execution_count": 4,
   "metadata": {},
   "outputs": [
    {
     "name": "stdout",
     "output_type": "stream",
     "text": [
      "782245342 01\n"
     ]
    }
   ],
   "source": [
    "# 주식 매도 주문\n",
    "acc = objTrade.AccountNumber[0] #계좌번호\n",
    "accFlag = objTrade.GoodsList(acc, 1)  # 주식상품 구분\n",
    "print(acc, accFlag[0])\n",
    "objStockOrder = win32com.client.Dispatch(\"CpTrade.CpTd0311\")\n",
    "objStockOrder.SetInputValue(0, \"1\")   #  1: 매도\n",
    "objStockOrder.SetInputValue(1, acc )   #  계좌번호\n",
    "objStockOrder.SetInputValue(2, accFlag[0])   #  상품구분 - 주식 상품 중 첫번째\n",
    "objStockOrder.SetInputValue(3, \"A003540\")   #  종목코드 - A003540 - 대신증권 종목\n",
    "objStockOrder.SetInputValue(4, 10)   #  매도수량 10주\n",
    "objStockOrder.SetInputValue(5, 14100)   #  주문단가  - 14,100원\n",
    "objStockOrder.SetInputValue(7, \"0\")   #  주문 조건 구분 코드, 0: 기본 1: IOC 2:FOK\n",
    "objStockOrder.SetInputValue(8, \"01\")   # 주문호가 구분코드 - 01: 보통"
   ]
  },
  {
   "cell_type": "code",
   "execution_count": 5,
   "metadata": {},
   "outputs": [
    {
     "name": "stdout",
     "output_type": "stream",
     "text": [
      "통신상태 -1 13047 해당종목의 잔고가 없습니다.만약 대여잔고일 경우 #0335(모바일은 \"대여매도\")에서 매도(ordss.cststkord)\n"
     ]
    }
   ],
   "source": [
    "# 매도 주문 요청\n",
    "objStockOrder.BlockRequest()\n",
    " \n",
    "rqStatus = objStockOrder.GetDibStatus()\n",
    "rqRet = objStockOrder.GetDibMsg1()\n",
    "print(\"통신상태\", rqStatus, rqRet)\n",
    "if rqStatus != 0:\n",
    "    exit()"
   ]
  }
 ],
 "metadata": {
  "kernelspec": {
   "display_name": "Python 3",
   "language": "python",
   "name": "python3"
  },
  "language_info": {
   "codemirror_mode": {
    "name": "ipython",
    "version": 3
   },
   "file_extension": ".py",
   "mimetype": "text/x-python",
   "name": "python",
   "nbconvert_exporter": "python",
   "pygments_lexer": "ipython3",
   "version": "3.6.5"
  }
 },
 "nbformat": 4,
 "nbformat_minor": 2
}
