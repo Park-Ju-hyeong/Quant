{
 "cells": [
  {
   "cell_type": "code",
   "execution_count": null,
   "metadata": {},
   "outputs": [],
   "source": [
    "import requests # 웹 페이지 소스를 얻기 위한 패키지(기본 내장 패키지이다.)\n",
    "from bs4 import BeautifulSoup # 웹 페이지 소스를 얻기 위한 패키지, 더 간단히 얻을 수 있다는 장점이 있다고 한다.\n",
    "from datetime import datetime                                # (!pip install beautifulsoup4 으로 다운받을 수 있다.)\n",
    "import pandas as pd # 데이터를 처리하기 위한 가장 기본적인 패키지\n",
    "import time # 사이트를 불러올 때, 작업 지연시간을 지정해주기 위한 패키지이다. (사이트가 늦게 켜지면 에러가 발생하기 때문)\n",
    "import urllib.request #\n",
    "from selenium.webdriver import Chrome\n",
    "import json\n",
    "import re     \n",
    "from selenium.webdriver.chrome.options import Options\n",
    "from selenium.webdriver.common.keys import Keys\n",
    "import datetime as dt"
   ]
  },
  {
   "cell_type": "code",
   "execution_count": null,
   "metadata": {},
   "outputs": [],
   "source": [
    "browser  = Chrome(executable_path=\"/Users/juhy9/Downloads/chromedriver_win32/chromedriver.exe\")\n",
    "browser.maximize_window()"
   ]
  },
  {
   "cell_type": "code",
   "execution_count": null,
   "metadata": {},
   "outputs": [],
   "source": [
    "def stock_crawler(code):\n",
    "    #code = 종목번호\n",
    "    name = code\n",
    "    base_url = 'https://finance.naver.com/item/coinfo.nhn?code='+ name + '&target=finsum_more'\n",
    "    \n",
    "    browser.get(base_url)\n",
    "    #frmae구조 안에 필요한 데이터가 있기 때문에 해당 데이터를 수집하기 위해서는 frame구조에 들어가야한다.\n",
    "    browser.switch_to_frame(browser.find_element_by_id('coinfo_cp'))\n",
    "    \n",
    "    #재무제표 \"연간\" 클릭하기\n",
    "    browser.find_elements_by_xpath('//*[@class=\"schtab\"][1]/tbody/tr/td[3]')[0].click()\n",
    "\n",
    "    html0 = browser.page_source\n",
    "    html1 = BeautifulSoup(html0,'html.parser')\n",
    "    \n",
    "    #기업명 뽑기\n",
    "    title0 = html1.find('head').find('title').text\n",
    "    print(title0.split('-')[-1])\n",
    "    \n",
    "    html22 = html1.find('table',{'class':'gHead01 all-width','summary':'주요재무정보를 제공합니다.'})\n",
    "    \n",
    "    #date scrapy\n",
    "    thead0 = html22.find('thead')\n",
    "    tr0 = thead0.find_all('tr')[1]\n",
    "    th0 = tr0.find_all('th')\n",
    "    \n",
    "    date = []\n",
    "    for i in range(len(th0)):\n",
    "        date.append(''.join(re.findall('[0-9/]',th0[i].text)))\n",
    "    \n",
    "    #columns scrapy\n",
    "    tbody0 = html22.find('tbody')\n",
    "    tr0 = tbody0.find_all('tr')\n",
    "    \n",
    "    col = []\n",
    "    for i in range(len(tr0)):\n",
    "\n",
    "        if '\\xa0' in tr0[i].find('th').text:\n",
    "            tx = re.sub('\\xa0','',tr0[i].find('th').text)\n",
    "        else:\n",
    "            tx = tr0[i].find('th').text\n",
    "\n",
    "        col.append(tx)\n",
    "    \n",
    "    #main text scrapy\n",
    "    td = []\n",
    "    for i in range(len(tr0)):\n",
    "        td0 = tr0[i].find_all('td')\n",
    "        td1 = []\n",
    "        for j in range(len(td0)):\n",
    "            if td0[j].text == '':\n",
    "                td1.append('0')\n",
    "            else:\n",
    "                td1.append(td0[j].text)\n",
    "\n",
    "        td.append(td1)\n",
    "    \n",
    "    td2 = list(map(list,zip(*td)))\n",
    "    \n",
    "    return pd.DataFrame(td2,columns = col,index = date)"
   ]
  },
  {
   "cell_type": "code",
   "execution_count": null,
   "metadata": {},
   "outputs": [],
   "source": [
    "stock_crawler(\"005930\")"
   ]
  },
  {
   "cell_type": "code",
   "execution_count": null,
   "metadata": {},
   "outputs": [],
   "source": [
    "stock_crawler(\"023530\")"
   ]
  },
  {
   "cell_type": "code",
   "execution_count": null,
   "metadata": {},
   "outputs": [],
   "source": [
    "stock_crawler(\"005930\")"
   ]
  },
  {
   "cell_type": "code",
   "execution_count": null,
   "metadata": {},
   "outputs": [],
   "source": [
    "stock_crawler(\"000660\")"
   ]
  },
  {
   "cell_type": "code",
   "execution_count": null,
   "metadata": {},
   "outputs": [],
   "source": []
  },
  {
   "cell_type": "code",
   "execution_count": null,
   "metadata": {},
   "outputs": [],
   "source": []
  },
  {
   "cell_type": "code",
   "execution_count": null,
   "metadata": {},
   "outputs": [],
   "source": [
    "import pandas as pd\n",
    "import requests\n",
    "\n",
    "URL = \"https://finance.naver.com/item/main.nhn?code=005930\"\n",
    "\n",
    "samsung_electronic = requests.get(URL)\n",
    "html = samsung_electronic.text\n",
    "\n",
    "financial_stmt = pd.read_html(samsung_electronic.text)[3]\n",
    "\n",
    "financial_stmt.set_index(('주요재무정보', '주요재무정보', '주요재무정보'), inplace=True)\n",
    "financial_stmt.index.rename('주요재무정보', inplace=True)\n",
    "financial_stmt.columns = financial_stmt.columns.droplevel(2)"
   ]
  },
  {
   "cell_type": "code",
   "execution_count": null,
   "metadata": {},
   "outputs": [],
   "source": [
    "financial_stmt"
   ]
  }
 ],
 "metadata": {
  "kernelspec": {
   "display_name": "Python 3",
   "language": "python",
   "name": "python3"
  },
  "language_info": {
   "codemirror_mode": {
    "name": "ipython",
    "version": 3
   },
   "file_extension": ".py",
   "mimetype": "text/x-python",
   "name": "python",
   "nbconvert_exporter": "python",
   "pygments_lexer": "ipython3",
   "version": "3.7.4"
  }
 },
 "nbformat": 4,
 "nbformat_minor": 2
}
